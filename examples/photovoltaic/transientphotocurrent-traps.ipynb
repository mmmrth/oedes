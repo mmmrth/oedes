{
 "cells": [
  {
   "cell_type": "markdown",
   "metadata": {},
   "source": [
    "# Transient photocurrent\n",
    "\n",
    "This example shows simulation of transient photocurrent in bulk heterojunction device under pulsed illumination. The effects of trapping are included. Previously published [reference](https://dx.doi.org/10.1063/1.3247547) is reproduced, to demonstrate agreement with known results."
   ]
  },
  {
   "cell_type": "markdown",
   "metadata": {},
   "source": [
    "Simulations similar to these shown can be invaluable for interpreting measurements, for which often analytical models do not exist, or have unrealistic assumptions."
   ]
  },
  {
   "cell_type": "code",
   "execution_count": 1,
   "metadata": {},
   "outputs": [],
   "source": [
    "%matplotlib inline\n",
    "import matplotlib.pylab as plt # for plotting\n",
    "from oedes import *\n",
    "init_notebook() # fot progress bars\n",
    "import matplotlib.ticker\n",
    "formatter=matplotlib.ticker.LogFormatterSciNotation()\n",
    "plt.rcParams['axes.formatter.use_mathtext']=True"
   ]
  },
  {
   "cell_type": "code",
   "execution_count": 2,
   "metadata": {},
   "outputs": [],
   "source": [
    "mesh = fvm.mesh1d(220e-9)"
   ]
  },
  {
   "cell_type": "markdown",
   "metadata": {},
   "source": [
    "## Optical simulation"
   ]
  },
  {
   "cell_type": "markdown",
   "metadata": {},
   "source": [
    "For electrical simulation, absorption profile is needed. The calculation uses complex optical constants of materials taken from the reference."
   ]
  },
  {
   "cell_type": "code",
   "execution_count": 3,
   "metadata": {},
   "outputs": [],
   "source": [
    "from oedes.optical import *\n",
    "from oedes.optical import test_materials\n",
    "from oedes.optical.spectra import GaussianSpectrum\n",
    "active_layer = IsotropicLayer(mesh.length, Material(ConstFunctionOfWavelength(1.75 + 0.49j)))\n",
    "layers = [\n",
    "   IsotropicLayer(1e-3,test_materials.Glass),\n",
    "    IsotropicLayer(140e-9,test_materials.ITO),\n",
    "    IsotropicLayer(40e-9,test_materials.PEDOT_PSS),    \n",
    "    active_layer,\n",
    "    IsotropicLayer(100e-9,test_materials.Al)\n",
    "]\n",
    "light = GaussianSpectrum(1., 525e-9,0.1e-9)\n",
    "optical_model=NormalIncidence(layers, light, light.xdata)\n",
    "x=np.linspace(0,active_layer.thickness)"
   ]
  },
  {
   "cell_type": "code",
   "execution_count": 4,
   "metadata": {},
   "outputs": [],
   "source": [
    "# This handles convention in the paper: normalization to 1, and reversed x axis.\n",
    "optical_model_of_active_layer = optical_model.in_layer(active_layer, x)\n",
    "generation_data = optical_model_of_active_layer.photons_absorbed()\n",
    "generation_profile = optical_model_of_active_layer.interpolated(generation_data/generation_data[0])\n",
    "A = lambda x:generation_profile(active_layer.thickness - x)"
   ]
  },
  {
   "cell_type": "code",
   "execution_count": 5,
   "metadata": {},
   "outputs": [
    {
     "data": {
      "application/json": {
       "data": {
        "__ndarray__": "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",
        "dtype": "float64",
        "shape": "213"
       }
      }
     },
     "metadata": {
      "atol": 0,
      "format": "oedes.testing.nb_store_array",
      "label": null,
      "rtol": 1e-07
     },
     "output_type": "display_data"
    },
    {
     "data": {
      "application/json": {
       "data": {
        "__ndarray__": "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",
        "dtype": "float64",
        "shape": "213"
       }
      }
     },
     "metadata": {
      "atol": 0,
      "format": "oedes.testing.nb_store_array",
      "label": null,
      "rtol": 1e-07
     },
     "output_type": "display_data"
    },
    {
     "data": {
      "image/png": "[encoded data removed]",
      "text/plain": [
       "<Figure size 432x288 with 1 Axes>"
      ]
     },
     "metadata": {},
     "output_type": "display_data"
    }
   ],
   "source": [
    "x = mesh.cells['center']\n",
    "plt.plot(x * 1e9, A(x))\n",
    "testing.store(x)\n",
    "testing.store(A(x))\n",
    "plt.xlabel('x [nm]')\n",
    "plt.ylabel('Normalized absorption');\n",
    "plt.title('Optical absorption profile');"
   ]
  },
  {
   "cell_type": "markdown",
   "metadata": {},
   "source": [
    "## Electrical simulation"
   ]
  },
  {
   "cell_type": "markdown",
   "metadata": {},
   "source": [
    "Model consists in Poisson's equation, coupled to hole and electron transport equation. Additionally, excitons and trapped eletrons are modeled. It is assumed that transport of holes and electrons is described by Frenkel-Poole model. Excitons and trapped electrons and not transported."
   ]
  },
  {
   "cell_type": "code",
   "execution_count": 6,
   "metadata": {},
   "outputs": [],
   "source": [
    "thermal = models.ConstTemperature()\n",
    "poisson = models.Poisson(mesh)\n",
    "poisson.bc = [models.AppliedVoltage(k) for k in mesh.boundaries]\n",
    "electron = models.BandTransport(poisson=poisson,thermal=thermal,name='electron',z=-1,mobility_model=models.FrenkelPooleMobility())\n",
    "hole = models.BandTransport(poisson=poisson,thermal=thermal,name='hole',z=1,mobility_model=models.FrenkelPooleMobility())\n",
    "for eq in [ electron, hole ]:\n",
    "    eq.bc = [models.FermiLevelEqualElectrode(boundary) for boundary in mesh.boundaries]"
   ]
  },
  {
   "cell_type": "markdown",
   "metadata": {},
   "source": [
    "Trapped electrons are coupled to mobile electrons by equation : \n",
    "\n",
    "$\\frac{dn_t}{dt}=C_t (N_t-n_t) n - C_{dt} N_0 N_t$\n",
    "\n",
    "where rates $C_t$ is defined by `params['electron.trap0.trate']` and $C_{dt}$ by `params['electron.trap0.rrate']`. Total densities of states $N_t$, $N_0$ are defined by `params['electron.trap0.N0']` and `params['electron.N0']`."
   ]
  },
  {
   "cell_type": "code",
   "execution_count": 7,
   "metadata": {},
   "outputs": [],
   "source": [
    "electrontrap0 = models.NontransportedSpecies(poisson=poisson, name='electron.trap0', z=-1)\n",
    "trapping = models.TrapSource(electron, electrontrap0, fill_transport=False, rrate_param=True)"
   ]
  },
  {
   "cell_type": "markdown",
   "metadata": {},
   "source": [
    "Absorbed light creates excitons according to the previously calculated normalized absorption profile `A`, with prefactor $1.63\\times10^{26}$."
   ]
  },
  {
   "cell_type": "code",
   "execution_count": 8,
   "metadata": {},
   "outputs": [],
   "source": [
    "exciton = models.NontransportedSpecies(poisson=poisson, name='exciton',z=0)\n",
    "def gen(x):\n",
    "    G0 = 1.63e26\n",
    "    return G0 * A(x)\n",
    "generation = models.SimpleGenerationTerm(exciton, gen)"
   ]
  },
  {
   "cell_type": "markdown",
   "metadata": {},
   "source": [
    "Excitons dissociate according to Onsager-Braun model, and also can decay without creating mobile charges."
   ]
  },
  {
   "cell_type": "code",
   "execution_count": 9,
   "metadata": {},
   "outputs": [],
   "source": [
    "decay = models.SimpleDecayTerm(exciton)\n",
    "recombination_dissociation = models.OnsagerBraunRecombinationDissociationTerm(\n",
    "        exciton, electron, hole)"
   ]
  },
  {
   "cell_type": "markdown",
   "metadata": {},
   "source": [
    "Finalize the model:"
   ]
  },
  {
   "cell_type": "code",
   "execution_count": 10,
   "metadata": {},
   "outputs": [],
   "source": [
    "current_calculation = models.RamoShockleyCurrentCalculation([poisson])\n",
    "equations = [ thermal, poisson, electron, hole, electrontrap0, trapping, exciton, generation, decay, recombination_dissociation, current_calculation ]"
   ]
  },
  {
   "cell_type": "code",
   "execution_count": 11,
   "metadata": {},
   "outputs": [],
   "source": [
    "model = models.CompositeModel(equations)\n",
    "model.setUp()"
   ]
  },
  {
   "cell_type": "markdown",
   "metadata": {},
   "source": [
    "Default parameters are specified below:"
   ]
  },
  {
   "cell_type": "code",
   "execution_count": 12,
   "metadata": {},
   "outputs": [],
   "source": [
    "N0 = 1e27\n",
    "default_params = {\n",
    "    'T': 300.,\n",
    "    'epsilon_r': 3.,\n",
    "    \n",
    "    # Frenkel-Poole mobilities\n",
    "    'electron.mu0': 9.9e-8,\n",
    "    'hole.mu0': 1.8e-8,\n",
    "    'electron.gamma': 1.5e-5,\n",
    "    'hole.gamma': -2.2e-4,\n",
    "    \n",
    "    # Onsager-Braun model\n",
    "    'exciton.distance': 2.8e-9,\n",
    "    'exciton.decay': 1.3e7,\n",
    "    \n",
    "    # Kinetics of trapping\n",
    "    'electron.trap0.N0': 1.3e22,\n",
    "    'electron.trap0.trate': 2.5e-16,\n",
    "    'electron.trap0.rrate': 1e4 / N0,\n",
    "    \n",
    "    # Illumination\n",
    "    'exciton.generation.I': 1.,\n",
    "    \n",
    "    # Electrode workfunctions/bandgap/DOS\n",
    "    'electron.N0': N0,\n",
    "    'hole.N0': N0,\n",
    "    'electron.energy': 0.,\n",
    "    'electrode0.workfunction': 0.5,\n",
    "    'hole.energy': -1.9,\n",
    "    'electrode1.workfunction': 1.4,\n",
    "    'npi': 0.,\n",
    "    \n",
    "    # Applied voltage\n",
    "    'electrode0.voltage': 0.,\n",
    "    'electrode1.voltage': 0.,\n",
    "}"
   ]
  },
  {
   "cell_type": "markdown",
   "metadata": {},
   "source": [
    "Simulation procedure is defined below. Firstly, steady-state is simulated for device without illumination. It serves as the initial conditions. The prevent recalculations, the solution is stored globally in `cic`. Then, the light intensity is set to nonzero and transient simulation is performed for time `t`. After that, light illumination parameter is set to 0 and transient relaxation is simulated."
   ]
  },
  {
   "cell_type": "code",
   "execution_count": 13,
   "metadata": {},
   "outputs": [],
   "source": [
    "cic = context(model)\n",
    "\n",
    "def run(I, p={}, t=100e-6, store=True):\n",
    "    params = dict(default_params)\n",
    "    params.update(p)\n",
    "    params['exciton.generation.I'] = 0.\n",
    "    cic.solve(params)\n",
    "    c = context(model, x=cic.x)\n",
    "    params['exciton.generation.I'] = I\n",
    "    c.transient(dict(params), 1. * t, 1e-9)\n",
    "    params['exciton.generation.I'] = 0.\n",
    "    c.transient(dict(params), 5. * t, 1e-9)\n",
    "    t, j = c.teval('time', 'J')\n",
    "    if store:\n",
    "        # automatic testing support\n",
    "        testing.store(t, atol=1e-12)\n",
    "        testing.store(j, atol=1e-12)\n",
    "    return c, t, j"
   ]
  },
  {
   "cell_type": "markdown",
   "metadata": {},
   "source": [
    "## Results"
   ]
  },
  {
   "cell_type": "markdown",
   "metadata": {},
   "source": [
    "### Simulations varying light intensity"
   ]
  },
  {
   "cell_type": "markdown",
   "metadata": {
    "oedes_subtest": {
     "name": "6"
    }
   },
   "source": [
    "The plots below are for varying light intensity, given in the legend. The second plot shows the same signal as the first one, but it is normalized to the steady-state value of current under illumination. The same normalization is used in the third plots, which shows the decay."
   ]
  },
  {
   "cell_type": "code",
   "execution_count": 14,
   "metadata": {},
   "outputs": [
    {
     "data": {
      "application/vnd.jupyter.widget-view+json": {
       "model_id": "",
       "version_major": 2,
       "version_minor": 0
      },
      "text/plain": [
       "HBox(children=(IntProgress(value=0, description='I', max=7), HTML(value='')))"
      ]
     },
     "metadata": {},
     "output_type": "display_data"
    },
    {
     "data": {
      "application/vnd.jupyter.widget-view+json": {
       "model_id": "",
       "version_major": 2,
       "version_minor": 0
      },
      "text/plain": [
       "HBox(children=(IntProgress(value=1, bar_style='info', description='transient', max=1), HTML(value='')))"
      ]
     },
     "metadata": {},
     "output_type": "display_data"
    },
    {
     "data": {
      "application/vnd.jupyter.widget-view+json": {
       "model_id": "",
       "version_major": 2,
       "version_minor": 0
      },
      "text/plain": [
       "HBox(children=(IntProgress(value=1, bar_style='info', description='transient', max=1), HTML(value='')))"
      ]
     },
     "metadata": {},
     "output_type": "display_data"
    },
    {
     "data": {
      "application/json": {
       "data": {
        "__ndarray__": "ldYm6AsuET6V1iboCy4hPuBBOtwRxSk+Ooww4o55NT5osStlzVNDPsvpCsdm21E++KnNHTZ+Wz6DdlbnKoxjPprWLz56vGo+hzZ0gsj0cT7wS7inBd93PucNjPTwK38+tLk2WRzQgz4AjVAJ4ZuIPuiuhFylFo4+Tpelcmw2kj7XsK3O0uuVPiw7dduuUZo+Qd6Mzyeenz5swcFxgxCjPjQwH75gJKc+/Gam+jBErD54uV6DvUqxPjbQ5OYLHrU+J08daoy6uT56ntFlnEG/PpmhNpxF5MI+kQxCMzuwxj6VtjbdaBjLPkmpiY58I9A+W2ugZa1D0z5/4xYg1CjXPrQVdEXYH9w+O4w7aGEt4T7mf3GSpuXkPlIxVmgUMOk+MsqRH2AW7j4uzzrgONfxPl+S2P0XC/U+8pizStG5+D6IfYPzgvv8Ps5sDvei9wA/6G5voDLfAz+Q3tAQ51AHP8n8BpeXdQs/aJYWMSRFED+h9HLjCHcTP/y5RMYTnhc/LUMc6+I2Gj9UKygZ9DYaP3sTNEcFNxo/ovs/dRY3Gj/wy1fRODcaP4tsh4l9Nxo/wq3m+QY4Gj8vMKXaGTkaPwo1Ipw/Oxo/wD4cH4s/Gj8rUhAlIkgaPwJ5+DBQWRo/SQMuIUF6Gj/AoUgDqakaP8zsN9DM5xo/oIIBe6c0Gz9Xex5WNpIbP2Wcm8THBBw/LgC649ORHD8uOaCjAj8dP/Sy8zP7Ex4/ehcbcawaHz/c6fFFKS8gP8VQ5KIX9yA/PewZGBr0IT9VIMfYZ0UjP5c2FwZeDSU/BuqEuzEiJz/I8AeGclcpP3hULFnHpis/UrjafAsPLj/hCWfzd0cwPxfxe+2CkjE/GxpC0+3nMj/EjclJB0c0P66ZD2EqrzU/uwa12sAfNz9ZYxnwQ5g4P4sXN388GDo/inJRUEOfOz8Cyrv6AS09P7Q6y8w0wT4/mzDYANctQD/8qfHSTWJAPw==",
        "dtype": "float64",
        "shape": "92"
       }
      }
     },
     "metadata": {
      "atol": 1e-12,
      "format": "oedes.testing.nb_store_array",
      "label": null,
      "rtol": 1e-07
     },
     "output_type": "display_data"
    },
    {
     "data": {
      "application/json": {
       "data": {
        "__ndarray__": "Squrzoh/bT9KeoUjPreFP9YuxCqLU5U/ZYkfLv0Sqz9yBc6tt9nDPwCyyngHntw/kE/5B6IZ7D8g5U5Lwob3PytAkT4WCwJA0PFB77orCkArlbKwNCQSQGqVgETj6BdAVcTJDMnjHUAgZsaM7OchQLtYL28RySRAWBsxb7uJJ0DozsPy/BsqQLan6iG0cixA2FS3e9eHLkCu7NFCRjEwQL637V7xCzFARs4ZbM3gMUCaBnBQXLgyQKSiXALRlTNAZZPCoUV4NEAMYHgQLVk1QBQ9PpydLDZAbr9lVDvmNkBCATCn0303QGiHWBHs7zdANi0qP188OEDqbHM2ymQ4QJaDwMqRazhAjuiRmqFUOEDmWmgIqCY4QACqNxWz6DdAj5tZKzSgN0AKIUbIp1E3QM1LndI6ATdAZHbAyMiyNkDkgJdakGk2QJxIVvrvJzZACvWawU/vNUBWBqVNOsA1QH6CMtiQmjVALl2QscF9NUBwx0Gd72g1QHxFm7oEWzVAwUSaOIxVNUCHbHkRwVQ1QNJCSjo5UzVAz2JQ4QFRNUBT+bTvL0o1QDRB2DkrNTVACvNqRq74NEAyGFv+DmE0QIjKmEiZKTNAWFX63x8rMUCwg57DkvcsQJXLEfAu4yZA+9alRpAYIUAfuRZyATEZQCsCxP0gTxJAo2gARIvaCkDyknk0vlwEQN+bdp/OJgBANp3htPq8+j9FxB3rod32P6s897SZ+vM/8yM4H1ez8T9gySCACbfvP3/Vywrcv+w/Ry0nQBld6j/Rh5UTkUXoP1QQ1SLgHOY/exyBcyrn4z8Eu/9InsrhP7Rk9JEjod8/Ush9tb772z/8smCRfanYP5/FX9NXqtU/4mpAHUH70j/iJCBEXpfQP8QilvrG8cw/wnr7q1MzyT9VvyhDHefFPyxBxvlZAcM/4S7hg/t2wD8RZmJem3u8PyF6HjwAmbg/6/cu70Y1tT8EA1Uq1WC0Pw==",
        "dtype": "float64",
        "shape": "92"
       }
      }
     },
     "metadata": {
      "atol": 1e-12,
      "format": "oedes.testing.nb_store_array",
      "label": null,
      "rtol": 1e-07
     },
     "output_type": "display_data"
    },
    {
     "data": {
      "application/vnd.jupyter.widget-view+json": {
       "model_id": "",
       "version_major": 2,
       "version_minor": 0
      },
      "text/plain": [
       "HBox(children=(IntProgress(value=1, bar_style='info', description='transient', max=1), HTML(value='')))"
      ]
     },
     "metadata": {},
     "output_type": "display_data"
    },
    {
     "data": {
      "application/vnd.jupyter.widget-view+json": {
       "model_id": "",
       "version_major": 2,
       "version_minor": 0
      },
      "text/plain": [
       "HBox(children=(IntProgress(value=1, bar_style='info', description='transient', max=1), HTML(value='')))"
      ]
     },
     "metadata": {},
     "output_type": "display_data"
    },
    {
     "data": {
      "application/json": {
       "data": {
        "__ndarray__": "ldYm6AsuET6V1iboCy4hPuBBOtwRxSk+Ooww4o55NT5osStlzVNDPv5DqabsQFI+BPk/j35iXz5khlMZFgRoPjQSYxudgnE+KK8QD/7/eD4Np0aYIl+BPmWJbA8QHIc+tHU75gOmjT4uIhwMdZSSPiYV4wil9JY+U04T/roinD5IrAVgwzGhPtcDBQyPDqU+AlOm+MjpqT4AO/kBUPyvPiF5INOCtLM+nAU4TV8wuD4UbBPty5K9PkRVBgDx+ME++pSeKXGrxT7ipL5dp+zJPruUTwHu3M4+5pup/N5e0j6rquKinAPWPgKN0ndyxdo+usRxjnOd4D7EZiMs4djkPjIJWeTD6Ok+hB6LyPa17z7+zpw8rybzPhRklwkT5PY+DtDZZHAj+z6uIg3pafn/PurHQBkmwAI/k8s6ruvsBT8HtywG7pgJP9apD/E24Q0/E/l/xb12ET8OCcFtFHsUP6I1XdpnJxg/LUMc6+I2Gj9UKygZ9DYaP3sTNEcFNxo/ovs/dRY3Gj/wy1fRODcaP4tsh4l9Nxo/wq3m+QY4Gj8vMKXaGTkaPwo1Ipw/Oxo/wD4cH4s/Gj8rUhAlIkgaPwJ5+DBQWRo/r8bISKx7Gj8w0wXjzbcaP7DOj2mnCRs/BzN0QGxvGz91wEFvVekbPzkY9hlbehw/yd7MUjooHT9jGF1lbv0dP3mX1F3TCx8/ycb9wIs5ID9B/ZmhOTkhPyy4T9tBvyI/t434XjTLJD8oiWyc/QInPzQiaeCCVSk/2JL/3jnBKz9EA5xGtUQuP0CXqOo1bzA/aIPyc2rGMT+C2Q+EPSczP+gkmesCkTQ/0ozOLR8DNj/oTV4WCH03PwLESbRE/jg/OzUHdG2GOj9+wrXiLBU8P6F8an9Bqj0/QeME5YBFPz/8qfHSTWJAPw==",
        "dtype": "float64",
        "shape": "86"
       }
      }
     },
     "metadata": {
      "atol": 1e-12,
      "format": "oedes.testing.nb_store_array",
      "label": null,
      "rtol": 1e-07
     },
     "output_type": "display_data"
    },
    {
     "data": {
      "application/json": {
       "data": {
        "__ndarray__": "NUqo0X0KYD9rph01L553P8soqN7AMYc/VB+ITxdynT81YtfH3Ja1P5hbAsW7K9A/Yhld2NjD4j+UCpSkNQ7xPymW0excj/s//kyDhGqjBEB4z/uSh6cMQPEYMULvYRJAnuo79Ko4FkDARWz1xcIZQEqDYjiL8RxA3OvGrJm7H0BR8fBFcxIhQEiHLpb2ISJAgIB+/mceI0A//chkLBgkQKrMQfCKFyVAyGP3n2MeJkAOJ3NbLSgnQPNykTe/KChA3iMeIvIQKUCCRqcBq9UpQAutA5cAcipAKB87gvjlKkD3MhZpxDQrQNwxnAgsYytA3gLBHCp2K0AiLA0GfXIrQEyTDBt1XStAWfx0Kgc7K0BE6foZWw0rQDjdZbpU1ipAnvKuWl+YKkAc2p52flYqQK4qiiUCFCpAmKvB7RnUKUAEHHXrb5kpQMB0HO3oZSlA6h6mkZQ6KUBQ++c+yBcpQCDTsShl/ShANZw1Z7XyKEC8q7h12/EoQHYLuPw28ChAUoMCgtXtKEBUUl12fOYoQCes/QS5zyhAlC3u3baNKEDovw70oOYnQH7gprEeiyZAo5taXRlJJEDCYbQ8SjYhQI6UT0MIkRtA1rHIF84IFUAgaHkzH6AOQEBGlJKTFwZAj3OAoXhcAECY+sM0xHj5P6mQirle2/Q/HJ1oUELI8T81rmYjCEHvP5NBbbyUI+w/JmEoq0LV6T+cbDUSgvPnP3Rqm4J3/uU/aDxMUezM4z+wMJjwvK3hP6fyVP5mZN8/IV32mvW92z8mVbglQmzYP4DykYrwbtU/Y3khQ6HC0j89xumaLWLQP8xiXfoSj8w/n1IUsLPYyD9qchfYppTFP1hBKerltsI/j8esBzc0wD8mYQXfkAS8P/U+DbJuL7g/Ln3kURXYtD+/XKYfiCSyPw==",
        "dtype": "float64",
        "shape": "86"
       }
      }
     },
     "metadata": {
      "atol": 1e-12,
      "format": "oedes.testing.nb_store_array",
      "label": null,
      "rtol": 1e-07
     },
     "output_type": "display_data"
    },
    {
     "data": {
      "application/vnd.jupyter.widget-view+json": {
       "model_id": "",
       "version_major": 2,
       "version_minor": 0
      },
      "text/plain": [
       "HBox(children=(IntProgress(value=1, bar_style='info', description='transient', max=1), HTML(value='')))"
      ]
     },
     "metadata": {},
     "output_type": "display_data"
    },
    {
     "data": {
      "application/vnd.jupyter.widget-view+json": {
       "model_id": "",
       "version_major": 2,
       "version_minor": 0
      },
      "text/plain": [
       "HBox(children=(IntProgress(value=1, bar_style='info', description='transient', max=1), HTML(value='')))"
      ]
     },
     "metadata": {},
     "output_type": "display_data"
    },
    {
     "data": {
      "application/json": {
       "data": {
        "__ndarray__": "ldYm6AsuET6V1iboCy4hPuBBOtwRxSk+Ooww4o55NT5osStlzVNDPv5DqabsQFI+Sg1oR3y3YT5i/Q7AgKJtPihOxPG8VXc+YHQwfz/LgT6UbAOMDomJPnjrR381R5E+jfCyTpuMlj7e4QvnQ9CcPjT5tulHNaI+j93Q5j7vpj6FJfBe4OSsPpt6kTS9JrI+3ths6eiltj7Uhd4ckQu8PgfNmqmfN8E+DBXZZiTrxD7ciLnlOybJPubEQZH9Ac4+ss65vYHb0T6B2GTFYlnVPowogWgE49k+rKu1cCAf4D5rrFxIOcLkPrwypHyP2eo+sFpFSRr/8D5E2AXonhP1PjQ5hQCptfk+UNq2AH/0/j6dJG+SkXECP05xVFbJzAU/+cY9XkKbCT8vR2L35vANP33kKWzxcxE/IpVwU5ZRFD9QejmWQqkXPy1DHOviNho/VCsoGfQ2Gj97EzRHBTcaP6L7P3UWNxo/8MtX0Tg3Gj+LbIeJfTcaP8Kt5vkGOBo/LzCl2hk5Gj8KNSKcPzsaP8A+HB+LPxo/K1IQJSJIGj8CefgwUFkaP6/GyEisexo/CWJpeGTAGj+IdqV2aSYbP/Rt4ZrsoRs/2yOsX0MuHD/BmmqSZ9McPzKAjT6vph0/pv/MxxTUHj/VMe//nF8gP2d1aYWwGSI/Cqac3S9dJD+c4H8W5L4mP0Tv1G86OSk/G2N1UZbKKz8uwJC1WXEuP8BClEX6lTA/UPEwKnn8MT9s16NygGszP83kb2t54jQ/qiHE8N9gNj8tNzlmQuY3P3I+mxlCcjk/J2DnhpQEOz/3T0bUBZ08P9/P1sZ8Oz4/wvG+YgDgPz/8qfHSTWJAPw==",
        "dtype": "float64",
        "shape": "80"
       }
      }
     },
     "metadata": {
      "atol": 1e-12,
      "format": "oedes.testing.nb_store_array",
      "label": null,
      "rtol": 1e-07
     },
     "output_type": "display_data"
    },
    {
     "data": {
      "application/json": {
       "data": {
        "__ndarray__": "limvq8ZwUT9d1ctKtK1pP/jpwDfQN3k/2aTZDeQBkD+KXAoZF3mnP9Wih1P9lME/Ds7yHJh32D+zDe3TG17oP36B+K/utvQ/DGn4nrOP/z+y7o1YfGQFQIeSL8MsewpAHNoRE5XjDkC0zuk6Y0sRQELtlCgQ1BJAE5eipPAjFED8gAWdk1kVQI0NmsUgixZAUWHf8wLBF0Cqvd/29fkYQJo+VuayKhpAPj0CucFBG0AIA7X1ETEcQKybVH9H8hxAKM0qiHeFHUCSkXJ9Fe8dQNi0ZlZvNh5ALOvQ7bZkHkAsvIFlN4MeQHEig34rlx5Act0T1X+iHkDcfLYxxKUeQHqQgsu2oB5A5GcGtEOTHkCOzQ1z8n0eQFc7JyX8YR5A3nlR6TNBHkDiKL5lzx0eQNiU90Ec+h1AfJ6UXDTYHUCXmoKCwrkdQAv8zNDvph1AFnH7/A6mHUALYAKdW6QdQEQSL3zioR1AdLv7STOaHUBJtC4OHYIdQDq+3i0HOx1A6MVISc6CHECk4dZgDvgaQLTG+STeUBhAGixm5nagFEDcaXpY95EQQNTZ8wV8twlAaEXb8j2vAkA8pjC1h3L6Pzjm4XsUifM/lFqAr6gC7z81s66PHVXqP5nzzqSWk+c/bOYFqoDW5T9/ttSaJGXkPy9EfsTRjuI/hQTfNJx/4D/oZwUzxy3dPxlw7XKastk//fgxpWyO1j+RFciqlL7TPwGfQrUwPtE/cqS8b10Ozj/nrvCOBCbKP/a5U2sxtsY/1atsiD2ywz8cMLpNTg7BPz3nPELzfr0/aWiymqJ3uT/xDtvPvvS1PwS3f7s05rI/KOjXuqk9sD8ftytwU9WtPw==",
        "dtype": "float64",
        "shape": "80"
       }
      }
     },
     "metadata": {
      "atol": 1e-12,
      "format": "oedes.testing.nb_store_array",
      "label": null,
      "rtol": 1e-07
     },
     "output_type": "display_data"
    },
    {
     "data": {
      "application/vnd.jupyter.widget-view+json": {
       "model_id": "",
       "version_major": 2,
       "version_minor": 0
      },
      "text/plain": [
       "HBox(children=(IntProgress(value=1, bar_style='info', description='transient', max=1), HTML(value='')))"
      ]
     },
     "metadata": {},
     "output_type": "display_data"
    },
    {
     "data": {
      "application/vnd.jupyter.widget-view+json": {
       "model_id": "",
       "version_major": 2,
       "version_minor": 0
      },
      "text/plain": [
       "HBox(children=(IntProgress(value=1, bar_style='info', description='transient', max=1), HTML(value='')))"
      ]
     },
     "metadata": {},
     "output_type": "display_data"
    },
    {
     "data": {
      "application/json": {
       "data": {
        "__ndarray__": "ldYm6AsuET6V1iboCy4hPuBBOtwRxSk+Ooww4o55NT5osStlzVNDPv5DqabsQFI+Sg1oR3y3YT4D2w1SYa1wPo4mPViDrHw+y3hJHmlZhz7sS8zGmFeRPsuBsVhTIJg+UPHiLUsxoD7sFVjOJFilPqS2gU0c6as++olXmGgdsj6BAodBvTe3PmVzaHqhVb0+8sJx+OtBwj7lTTkgUl/GPu59O3o+C8s+lBAmCHc00D4Uy49vgGLTPhQx7r2HWtc+ARiRmC+y3D5a+bs+Qk/iPt6VN1VNdOg+xF8mqtRD8D64T5b7i/v0PoiexA2qYvo+sfIbj55DAD8QbYaLfL0DPwom6b/xqQc/u7Dqu+cWDD/GD2RRF4sQP+doWa9wXxM/m7ytd7OXFj8tQxzr4jYaP1QrKBn0Nho/exM0RwU3Gj+i+z91FjcaP/DLV9E4Nxo/i2yHiX03Gj/Creb5BjgaPy8wpdoZORo/CjUinD87Gj/APhwfiz8aPytSECUiSBo/Ann4MFBZGj+vxshIrHsaPwliaXhkwBo/Ew3hy5AzGz/N95IdHLwbPxDqFygKXRw/h0DtRlEuHT+D3SQusmgeP4wJbPjRUSA/PTSr73t8Ij90F3v7iwAlP1y6+HkOmyc/HoX3GktKKj/jgZwiswwtP9Z+tYbY4C8/MvZDqbhiMT9l7wi5rNwyP69r4o3JXTQ/Y3hKpaPlNT9uV06w43M3P60UE2JICDk/Xxs/iqmiOj/h+LW3/EI8P925SJRb6T0/mxz6IgyWPz/8qfHSTWJAPw==",
        "dtype": "float64",
        "shape": "74"
       }
      }
     },
     "metadata": {
      "atol": 1e-12,
      "format": "oedes.testing.nb_store_array",
      "label": null,
      "rtol": 1e-07
     },
     "output_type": "display_data"
    },
    {
     "data": {
      "application/json": {
       "data": {
        "__ndarray__": "X9qzWFg9RD/Bz7VTvsxdP78oCJ3uQ20/zs8xE5STgj/vLODShT2bP6FMH3ZpZ7Q/qlKkCx9lzD9xwc+e+FDgP226RfnCkO0/bZZdrOzd9j/F0UuhMWf+P79evrqVUwJAj+1FMBLRBEC0brCrQs8GQAAl7LiJhQhAnh1AS6sjCkBCgGQpVb0LQJm/tSUbUQ1ABwI+HonODkBQV3qD1A8QQJNSwAxZmxBAIbCajkwIEUAo61c52VgRQJiAr8x1kRFANvkmYEK4EUAXFL9g/NQRQHTWssyv7xFAqHaC91gKEkBU+JlFByQSQECZmlQ2PBJAwCEcXTBSEkCY0wGuUGUSQCuobdgmdRJAKt2ApoOBEkDf5+Pfe4oSQNJuRGxikBJAjEcoS7qTEkDf/z3kHZUSQLr/qX+glBJAmDMCs6yTEkDFe3H9SJISQKbpAi7wjRJADIrKOSWAEkD8Lulhq1YSQER9lexu6BFAVuE2x7z0EECMsWC5n4YOQAFDRKCquglApY0m/maJBEAhQocypuP/P0KOQH0+OPc/fmZnNbIH8D9iYBghKvHnP5GAKPc4yuM/GRA2sJS04T87i+4/GobgP5wyKpXWz94/kAB8iIJ32z/qppBdEiDYP/FrCD8TIdU/FwGjba510j/1jsCh/BfQP8t+o5+3Asw/UqvYjfVVyD+jnovuZRzFP2sD0PN3ScI/WTIuFhejvz96zsJzC1S7P8q0DRKjkrc/rrCTm6tNtD/gNrRKynWxPyTYws2t+q0/7jNGfWuwqT80AtzY8fumPw==",
        "dtype": "float64",
        "shape": "74"
       }
      }
     },
     "metadata": {
      "atol": 1e-12,
      "format": "oedes.testing.nb_store_array",
      "label": null,
      "rtol": 1e-07
     },
     "output_type": "display_data"
    },
    {
     "data": {
      "application/vnd.jupyter.widget-view+json": {
       "model_id": "",
       "version_major": 2,
       "version_minor": 0
      },
      "text/plain": [
       "HBox(children=(IntProgress(value=1, bar_style='info', description='transient', max=1), HTML(value='')))"
      ]
     },
     "metadata": {},
     "output_type": "display_data"
    },
    {
     "data": {
      "application/vnd.jupyter.widget-view+json": {
       "model_id": "",
       "version_major": 2,
       "version_minor": 0
      },
      "text/plain": [
       "HBox(children=(IntProgress(value=1, bar_style='info', description='transient', max=1), HTML(value='')))"
      ]
     },
     "metadata": {},
     "output_type": "display_data"
    },
    {
     "data": {
      "application/json": {
       "data": {
        "__ndarray__": "ldYm6AsuET6V1iboCy4hPuBBOtwRxSk+Ooww4o55NT5osStlzVNDPv5DqabsQFI+Sg1oR3y3YT7wcccXxHJxPmL7dPgoboA+2hVvkMd8jD6auJLEm/KVPiITB70gg58+ndTQhMzZpT6Cnuqa7c2tPnEbGaPECbQ+XUxvd31juj5FVwq5Z/vAPixW+lMfW8U+I7kCSQBPyj5/LKa3JvTPPhb0IEYIS9M+k0x7enNm1z5sSD4JW+fcPnDGkShCkOI+g5naaa1M6T4Kmxgr+WLxPrI2O2L0/vY+1m8LwUx0/T6+lTNFAWkCP0dKSiGElQY/xzpu1n1LCz8KV5Hw80wQPxSKGDn7SRM/Jh8XA0WpFj8tQxzr4jYaP1QrKBn0Nho/exM0RwU3Gj+i+z91FjcaP/DLV9E4Nxo/i2yHiX03Gj/Creb5BjgaPy8wpdoZORo/CjUinD87Gj/APhwfiz8aPytSECUiSBo/Ann4MFBZGj+vxshIrHsaPwliaXhkwBo/o1uQCjs6Gz80Vy9nBM0bP3Z4XEXThBw/o4VOs++MHT86HdoaZlsfPzSm+HQpfCE/gPCmQd8nJD/rsuwgWegmP7vEYEGnuik/OLP7WnadLD9CF6xPm48vP5WXZxYJSDE/7zNETP/OMj8PinGpVlw0Pwj8Wc3L7zU/JPoajDSJNz+LJQtlhCg5P7e2m6zSzTo/MVdYlGJ5PD+QToM3rSs+P7ILJtBt5T8//Knx0k1iQD8=",
        "dtype": "float64",
        "shape": "70"
       }
      }
     },
     "metadata": {
      "atol": 1e-12,
      "format": "oedes.testing.nb_store_array",
      "label": null,
      "rtol": 1e-07
     },
     "output_type": "display_data"
    },
    {
     "data": {
      "application/json": {
       "data": {
        "__ndarray__": "d604r3vWOT+ARigqaQVTP7zAkKAVrmI/f5V4uvO2dz8xliApMGORP5Xs4j02DKo/m2RegPIfwj8uWjHltPTVPwxo3mF7XuU/H8J5zEDI8D/gkAVPhQT2P2jTGz79Dvo/1DyToYgo/T/jnBGjOb3/P33jgZFsEgFA+LZOAQs9AkB2z/17J1cDQGLUGbRzUARATvTKA/0cBUAmNUndjLoFQFaCGTNeLQZAcGD5eBF9BkCuLCVWdrMGQH5Xq2rF3AZA5wZGr3UHB0C0qSXUjDgHQNLE7PE7bAdAfgAI21ShB0AatBgspdYHQEozYBDwCghAY2Zk5hU9CECD2dPvJWwIQGOjAf1nlwhAi9repWC+CECUdx4R1t4IQP73ww423ghA2xVj4f3cCEA+FjpeNdsIQJ+FNwKb1QhAdTjjPrHDCEB6BaCVM40IQIeVfFsp+gdA/s0cjkKvBkAUe1Ts01gEQBT6uwSSBgFAWpfMMLAB+z8JrojcE+/0P34ZVYwede4/okixqN3n5D/rZV26JNTfPyUtfU4xMds/HtofVGUF2T9XdlVXk3rXPzY8qPP0UNU/XBqIH3ie0j8DYNS/SjrQP5VRmLmBPMw/v2PRkrWGyD+sPRLYnEXFP6iksvVnbMI/aRlA34Devz9Ik/QXuoa7P5jRKS8Evrc/6GHRoexytD9g0BLr45WxP+F5dGUtMq4/qEziO4zgqT8ts3QWQyGmP3UvEstF4aI/8NAqDPNeoT8=",
        "dtype": "float64",
        "shape": "70"
       }
      }
     },
     "metadata": {
      "atol": 1e-12,
      "format": "oedes.testing.nb_store_array",
      "label": null,
      "rtol": 1e-07
     },
     "output_type": "display_data"
    },
    {
     "data": {
      "application/vnd.jupyter.widget-view+json": {
       "model_id": "",
       "version_major": 2,
       "version_minor": 0
      },
      "text/plain": [
       "HBox(children=(IntProgress(value=1, bar_style='info', description='transient', max=1), HTML(value='')))"
      ]
     },
     "metadata": {},
     "output_type": "display_data"
    },
    {
     "data": {
      "application/vnd.jupyter.widget-view+json": {
       "model_id": "",
       "version_major": 2,
       "version_minor": 0
      },
      "text/plain": [
       "HBox(children=(IntProgress(value=1, bar_style='info', description='transient', max=1), HTML(value='')))"
      ]
     },
     "metadata": {},
     "output_type": "display_data"
    },
    {
     "data": {
      "application/json": {
       "data": {
        "__ndarray__": "ldYm6AsuET6V1iboCy4hPuBBOtwRxSk+Ooww4o55NT5osStlzVNDPv5DqabsQFI+Sg1oR3y3YT7wcccXxHJxPkIk9/9nUIE+oG8UxvTZkD4uIHynwNWbPtw6kSa1JKU+hceT0DL1rj58SZpR3By2Pg4P7CIsjb4+6p+R2YVRxD5ht/EFFhjKPnS4Qt0dV9A+aH9pVHo31D70pCFAoRDZPkLm7q4Ut98+4SJggAkN5T45E6l0QgTuPv3ZLmLmMPU+XCLAlsVz/D4ywC8I+WcCP/SVvXhuLAc/035n6tuSDD8n63E62FQRP7gR7vqrwRQ/5lcZJM6bGD8tQxzr4jYaP1QrKBn0Nho/exM0RwU3Gj+i+z91FjcaP/DLV9E4Nxo/i2yHiX03Gj/Creb5BjgaPy8wpdoZORo/CjUinD87Gj/APhwfiz8aPytSECUiSBo/Ann4MFBZGj+vxshIrHsaPwliaXhkwBo/VLOTTY8/Gz/9qJ6veN8bPz3b39Lethw/zskT4dAPHj94071+2mAgP5uwJZu+EiM/WvNwDsUFJj98MQXX2wYpP1hPrEFYFSw/Wrbl4YgwLz/xBAt69CsxP9sOgHySxTI/j3JxjhFlND8TFFWThwo2P2vzBh01tjc/i8MoWI9oOT//x7ojTCI7Px0G53Jw5Dw/PqMzGmGwPj/LGfsa+0NAP/yp8dJNYkA/",
        "dtype": "float64",
        "shape": "66"
       }
      }
     },
     "metadata": {
      "atol": 1e-12,
      "format": "oedes.testing.nb_store_array",
      "label": null,
      "rtol": 1e-07
     },
     "output_type": "display_data"
    },
    {
     "data": {
      "application/json": {
       "data": {
        "__ndarray__": "MgGlDGpILT/nXF5nqo5FPw5VLSayK1U/lIO/wWngaj9NmkLNrrSDP7i4C2ZUhZ0/cvXRs62KtD9jJPEhceLIP1cc2VU4Utk/+LC4kpQF5T97qRYMf6PrPyRfU47gNfA/FH8/1qET8j8WZFw9uMLzP+68ZQtqV/U/ouyFIKa79j8aYo9BgNj3P/SeKkSYqvg/hNIyuw48+T9oOp5iHZz5PyLqAsQz3Pk/vyfITJoQ+j8YDjA/jVD6P2d3nldrnvo/LOvHfM7y+j/eOJcsFEz7P5HXTmKGqPs/1OKpP1AG/D93CB8jpGP8P65phmXQvvw/c45fFU0W/T9MB100Ijj9Pz4Z3+9kN/0/Lm3av/I1/T8czAas1DP9Pwz3q3UpLf0/2RlMccEX/T/UDPhQQNb8P7by7uc1JPw/6NUiNYeQ+j9E4Lc9dLP3PxRD6COArPM/jBylXm0K7z8+jdJ4dgroPz7iFO8Df+E/d0UgWfAY2D/aGUhJfr3SPw2WgW0zdNA/ATiCsuK4zj/OZHXT94DMP3LqfCSz9sg/vZkPmRCmxT84g1Zbwr/CP2+DKR1JN8A/fv8rkDMDvD8lNRN4gym4PyDu9kmzz7Q/t1NC9OXlsT/dumrQDLyuP6wnGzY7V6o/d4/O0lSHpj/mYyj4+DijPx7eojElW6A/sy4+ffG9mz/OvCDP/G6XP1f1GWaX5JY/",
        "dtype": "float64",
        "shape": "66"
       }
      }
     },
     "metadata": {
      "atol": 1e-12,
      "format": "oedes.testing.nb_store_array",
      "label": null,
      "rtol": 1e-07
     },
     "output_type": "display_data"
    },
    {
     "data": {
      "application/vnd.jupyter.widget-view+json": {
       "model_id": "",
       "version_major": 2,
       "version_minor": 0
      },
      "text/plain": [
       "HBox(children=(IntProgress(value=1, bar_style='info', description='transient', max=1), HTML(value='')))"
      ]
     },
     "metadata": {},
     "output_type": "display_data"
    },
    {
     "data": {
      "application/vnd.jupyter.widget-view+json": {
       "model_id": "",
       "version_major": 2,
       "version_minor": 0
      },
      "text/plain": [
       "HBox(children=(IntProgress(value=1, bar_style='info', description='transient', max=1), HTML(value='')))"
      ]
     },
     "metadata": {},
     "output_type": "display_data"
    },
    {
     "data": {
      "application/json": {
       "data": {
        "__ndarray__": "ldYm6AsuET6V1iboCy4hPuBBOtwRxSk+Ooww4o55NT5osStlzVNDPv5DqabsQFI+Sg1oR3y3YT7wcccXxHJxPkIk9/9nUIE+bP0O9Dk/kT7uEIpuSLGfPnad78GN76k+xWGjM6k6tD4mChlnhj++PkZVNQKbZcU+MB4TaJG9zD5fAgynxKbSPmevtDkI49c+imgKuEXf3j5+0pOF577kPitlGvoTJ+4+4zqMKQNS9j5piRWNNOX+Ph+HlbVeYQQ/3FowuS4CCj9qRRZ1iTEQPxmqUnBQyhM/CaG3nsbVFz8tQxzr4jYaP1QrKBn0Nho/exM0RwU3Gj+i+z91FjcaP/DLV9E4Nxo/i2yHiX03Gj/Creb5BjgaPy8wpdoZORo/CjUinD87Gj/APhwfiz8aPytSECUiSBo/Ann4MFBZGj+vxshIrHsaPwliaXhkwBo/zfyJsnZDGz9tfBtrau4bPwcNxEO34Bw/8oo4ME+CHj9kw5CEv+IgPwYTa9xR9SM/TTBOgFIdJz8aeRq4X1EqP3Sn8cxZkS0/B52r+K1uMD8AApkD5xoyP6RHocy7zTM/Zt58p8uHNT9NT2l7/0k3PwSuYyqaFTk/vVaUekvsOj/B0Wm/RdA8P0SZksdWxD4//Knx0k1iQD8=",
        "dtype": "float64",
        "shape": "61"
       }
      }
     },
     "metadata": {
      "atol": 1e-12,
      "format": "oedes.testing.nb_store_array",
      "label": null,
      "rtol": 1e-07
     },
     "output_type": "display_data"
    },
    {
     "data": {
      "application/json": {
       "data": {
        "__ndarray__": "sVDFy6c5IT/+8ydAjFw5P7yB1Occ6Eg/HAuxqZqeXz+kWW4+7C53PzDUvMt+XZE/CaVi2rkqqD9noIYh1Ua9PyQbLV2sys0/N+dHp88K2T9AL7xm0AThP4G3dTt9JOQ/jwK1AIOp5j9UFFHmH/boP4XrnpeF7Oo/gbafwR5l7D9aDUAzA2TtP7BxbEjWBO4/HNGq6Wto7j8Q1f35A7HuP3q3MnQPBe8/8nyUgZZ17z/gRL56SvHvP5BuReygOvA/vVVKQrB/8D8MgWWWlMbwP1iMEnEADvE/CIqEI6tU8T/G3M0aG3vxPxANn1OlevE/szZN1r558T8+WYZLbXjxPyjl2URGdPE/AwSsb/Jm8T/DeMFKLj7xP8IUvvKCz/A/CEgxGmCq7z8QIpxwKCLsP1jUznEUPOc/lobO3hdJ4j9pukrE6lPcP0RaG+UhpNQ/hmPUF+KIzD9QU3VoFHvGP4UH6+MhBMQ/80bPfwvBwj/T50Y/tELBP+6AWwjp4L0/7wrBwkfKuT/TbL/jkzq2P8KX5ZguIbM/5OiN3GNvsD8Bko4HVTCsP1hqD4v0H6g/PG6tDUuZpD/Xa6HUbYqhPwWSEDdKx50/ADVfjWoumT8Ewou8WzKVP/XxNGl6vpE/2Y9Z212UjT8=",
        "dtype": "float64",
        "shape": "61"
       }
      }
     },
     "metadata": {
      "atol": 1e-12,
      "format": "oedes.testing.nb_store_array",
      "label": null,
      "rtol": 1e-07
     },
     "output_type": "display_data"
    },
    {
     "name": "stdout",
     "output_type": "stream",
     "text": [
      "\r"
     ]
    },
    {
     "data": {
      "image/png": "[encoded data removed]",
      "text/plain": [
       "<Figure size 288x648 with 3 Axes>"
      ]
     },
     "metadata": {},
     "output_type": "display_data"
    }
   ],
   "source": [
    "fig, (ax1, ax2, ax3) = plt.subplots(3, figsize=(4, 9))\n",
    "for I in progressbar([1., 1.7, 3., 4.7, 8.1, 14.9, 27.4][::-1],'I'):\n",
    "    c, t, j = run(I)\n",
    "    ax1.plot(t * 1e6, j * 0.1, label='%.1f $I_0$' % I)\n",
    "    jn = c.attime(99e-6).output()['J']\n",
    "    ax2.plot(t * 1e6, j / jn)\n",
    "    ax3.plot(t * 1e6, j / jn)\n",
    "ax3.set_yscale('log')\n",
    "for a in [ax1, ax2, ax3]:\n",
    "    a.set_xlabel(r'Time [$\\mathrm{\\mu s}$]')\n",
    "    a.set_xlim([0, 450])\n",
    "for a in [ax1]:\n",
    "    a.set_ylabel(r'Photocurrent [$\\mathrm{mA/cm^2}$]')\n",
    "for a in [ax2, ax3]:\n",
    "    a.set_ylabel('Normalized photocurrent')\n",
    "ax3.set_ylim([1e-3, 1])\n",
    "ax3.set_xlim([100, 450])\n",
    "ax3.text(350,0.5,'decay')\n",
    "ax1.legend(loc='upper right')\n",
    "fig.tight_layout();"
   ]
  },
  {
   "cell_type": "markdown",
   "metadata": {
    "oedes_subtest": {
     "name": "7a"
    }
   },
   "source": [
    "### Decay of photocurrent: influence of trap density"
   ]
  },
  {
   "cell_type": "markdown",
   "metadata": {},
   "source": [
    "The plot below shows the decay of photocurrent, in function of trap density $N_t$."
   ]
  },
  {
   "cell_type": "code",
   "execution_count": 15,
   "metadata": {},
   "outputs": [
    {
     "data": {
      "application/vnd.jupyter.widget-view+json": {
       "model_id": "",
       "version_major": 2,
       "version_minor": 0
      },
      "text/plain": [
       "HBox(children=(IntProgress(value=0, description='Nt', max=6), HTML(value='')))"
      ]
     },
     "metadata": {},
     "output_type": "display_data"
    },
    {
     "data": {
      "application/vnd.jupyter.widget-view+json": {
       "model_id": "",
       "version_major": 2,
       "version_minor": 0
      },
      "text/plain": [
       "HBox(children=(IntProgress(value=1, bar_style='info', description='transient', max=1), HTML(value='')))"
      ]
     },
     "metadata": {},
     "output_type": "display_data"
    },
    {
     "data": {
      "application/vnd.jupyter.widget-view+json": {
       "model_id": "",
       "version_major": 2,
       "version_minor": 0
      },
      "text/plain": [
       "HBox(children=(IntProgress(value=1, bar_style='info', description='transient', max=1), HTML(value='')))"
      ]
     },
     "metadata": {},
     "output_type": "display_data"
    },
    {
     "data": {
      "application/json": {
       "data": {
        "__ndarray__": "ldYm6AsuET6V1iboCy4hPuBBOtwRxSk+Ooww4o55NT5osStlzVNDPjp9d7gd2E4+arTZehnsVT4Gl3AWf11dPjZflWkABWM+jBdo7ZouaD6r7ZCmDHluPsiFbxZYJHM+R6ZNs4n7dz6nZtcdzMt9Pg/desjoRYI+OruBFi0lhj62qlNDLJiKPviT/wQguo8+sfJf0vrUkj6orsJ1KkWWPvCb2eu3QZo+Mx9BMZ3knj7FF00W2iuiPufh22KvcqU+cbYw6oCBqT47z/IfO5yuPr67xYCxdrI+otxs80hEtj4WHxE0O8e6PpDjyJJnCMA+bEqHQH4Uwz7T+7hi54vGPn/TgekHfMo+3ocI1bICzz5V7Yht4yrSPvT3bCB6Z9U+snJ8qPd72T6RJ9PSZ7vePnuxgGKrp+I+cAutYciO5j5DD/2PIQzrPg3yTbyeFvA+SnzPSRcG8z5hPgAKhWb2PtUijjkeUPo+EqWMFO3j/j7ktmLlIygCP1IwNsIlbAU/1UId3F5wCT/nENPZdYMOPxQq8a+PkhI/LJFlyPwVFz8tQxzr4jYaP1QrKBn0Nho/exM0RwU3Gj+i+z91FjcaP/DLV9E4Nxo/i2yHiX03Gj/Creb5BjgaPy8wpdoZORo/CjUinD87Gj/APhwfiz8aPytSECUiSBo/DjQ3EvhXGj/ou1RQv2waP8jaeiOYiBo/2NdDT1WuGj/tP6JFjd0aP7p6SO6wExs/QkgfxeJPGz93xjiAppIbP2WSAcqf3Rs/VuEG11o0HD/DsXBlsp0cP0c/DrnUJh0/24IJqknrHT+lB++GyiwfP4U0xLDDyCA/HeVnEYSXIj9q6wpghX8kPya+Wi6MdyY/2B8vMrZ+KD8AIYQ4HpQqP27Uezndtiw/WvRTGBDmLj+HeGEpbpAwP5FvPdI5szE/1wmpbQvbMj8SG/0NjAc0P5GkAW5uODU/7jc87G9tNj9DeDWoWaY3P3kB0uQB4zg/SWWX0k0jOj+KlWjlM2c7P4tIR9u+rjw/cUr3nBH6PT9K1KAlbEk/P0xCitGYTkA//Knx0k1iQD8=",
        "dtype": "float64",
        "shape": "100"
       }
      }
     },
     "metadata": {
      "atol": 1e-12,
      "format": "oedes.testing.nb_store_array",
      "label": null,
      "rtol": 1e-07
     },
     "output_type": "display_data"
    },
    {
     "data": {
      "application/json": {
       "data": {
        "__ndarray__": "AqNKzNiMbT/hvXqDycOFP6TVSQOTYpU/2HgoM+Avqz9hzZqqNf/DP0gCSm5+UdY/Uow1oAPI4z+92SiedzvvP2Q/SGgpA/c/IdL34Tw4AEDzxALg+zAGQJA1snc6sQ1Az9dDXP1sE0CJu6HqL7cYQNqS72MtgR5AQ5JYf59TIkD3xia2d4klQGfmZyVD1ChAxklEtJAeLECae0ONSksvQLCuwbpVHTFA0jSCbfJpMkDxlIzyzIczQG8hvQyxfTRAGcHxzg1aNUBh0BL/4Cw2QIR7uXctADdAuGX2F5TWN0DM/75iZ644QO+1QmqIgTlA8sKYkodGOkDu9IEdvPQ6QBP2p9IUhztAp+BiWh/8O0DbpeRwDlU8QKiq0ljClDxAgut+pwG/PECVO0Hp39c8QPCta+Ft4zxAfRiJnp/lPEB6Q7v3luE8QCHWAd9S2TxAq0PnGTDOPEAykKh/VcE8QNb5zRbZszxAfn59a72mPECFqW1i4Jo8QJsp1o3okDxAfuTjGDeJPECkpyTo4IM8QEDMhD2wgDxAGYfzqjB/PEBbUR9SzX48QAKrLjoUfjxAcrJk0at8PEBKMdwjnXo8QGpA4AQndDxA1SeCLHxfPED9ivz3cCA8QLBmdkjpdDtAKF6Kq9TqOUB2t18rX/42QE9Q0BtYajJAAyCln2eOKkDfo1zW8IAjQOmcpEx/hB1AAlO7Y+U/FkBJ7TqgemEQQDY3kXkbygdAzCe/m4RNAUCaoXCe7KH5P6XTxDPIp/M/8PH3WYac7z+5t9HNV9PqP/q3h9jw8uc/gWds9J8u5j+u4pwXacvkP1Vw04QYA+M/4Is508LI4D+DQ/G8IYXdP9/4s6WU6dk/vH0zKuS11j9jEJiCxODTP1qrThr0YNE/kHs+HClbzj9zeSNTt3zKPxG6w2NTF8c/B6LSZh8dxD8sh2/emIHBP7R+ksoPc74/3jM5YNF1uj+LFpkApfm2PxAXTfW77rM/QA49KhhHsT/0joZCueytPyNHB4ZC46k/4Lu0zJRepj/Lw/FGyE2jP6oqkrwCoqA/kRRKpUFUoD8=",
        "dtype": "float64",
        "shape": "100"
       }
      }
     },
     "metadata": {
      "atol": 1e-12,
      "format": "oedes.testing.nb_store_array",
      "label": null,
      "rtol": 1e-07
     },
     "output_type": "display_data"
    },
    {
     "data": {
      "application/vnd.jupyter.widget-view+json": {
       "model_id": "",
       "version_major": 2,
       "version_minor": 0
      },
      "text/plain": [
       "HBox(children=(IntProgress(value=1, bar_style='info', description='transient', max=1), HTML(value='')))"
      ]
     },
     "metadata": {},
     "output_type": "display_data"
    },
    {
     "data": {
      "application/vnd.jupyter.widget-view+json": {
       "model_id": "",
       "version_major": 2,
       "version_minor": 0
      },
      "text/plain": [
       "HBox(children=(IntProgress(value=1, bar_style='info', description='transient', max=1), HTML(value='')))"
      ]
     },
     "metadata": {},
     "output_type": "display_data"
    },
    {
     "data": {
      "application/json": {
       "data": {
        "__ndarray__": "ldYm6AsuET6V1iboCy4hPuBBOtwRxSk+Ooww4o55NT5osStlzVNDPi8vXTWmtFA+Nl7HtM7TWD6+6oKEky9hPgjUcMDy7GY+6NmrNdoDbj59O7I+I3xzPkFExag5Hnk+mx+7NJrjfz7auK5VpNaDPgiilOE0RYg+gQzRIthXjT6e+M5d3JiRPjHPqrR1/pQ+ytBGK932mD4KEhOYPaWdPnW7EdwSn6E+r0TYMooKpT4Umw7wy1CpPrBTN9T2ra4+RR9MAWmisj6+Tj+PaJq2PiaDlH+0WLs+Cr7c6It6wD6OKWWlDr7DPpsuBDN3fsc+D8DqcPTPyz6uEOVtAW7QPkt7zDWtddM+JVWvp+o41z7/CUGqqwTcPhlWo4paCeE+BivAX72t5D4pUtYr8uToPka+EXhatu0+AoXn9Tqb8T7KZmAMI8H0Phd4/+zUX/g+ps/04iCQ/D4deI3FnbkAP92YqA9smwM/f6oqYP0NBz+vzmNSUUELP5KaUt2aPxA/hPyXQRifEz+KDYMImiIYPy1DHOviNho/VCsoGfQ2Gj97EzRHBTcaP6L7P3UWNxo/8MtX0Tg3Gj+LbIeJfTcaP8Kt5vkGOBo/LzCl2hk5Gj8KNSKcPzsaP8A+HB+LPxo/K1IQJSJIGj8CefgwUFkaP/XWnPLsdBo/MHpy9nCcGj+zJntbMNEaP6UX4CzLEBs/jDjJxptaGz9dpd7i/q0bP4tC9KagDBw/YuXKX3x8HD/ax/fHtgMdP64Pq5flrB0/juIVrNaKHj8DxwnGn8IfP0G0abZ/0iA/CP26W9NbIj8LGkUXSUYkP00lpOiGSiY/TmJ7BdljKD+ZUixvSJEqP4xmZTrL0Sw/kjz6pkYkLz8Hki+YzsMwP8EtGi9c/TE/+eNkp0c+Mz8bMGV9FYY0P/F4lX9U1DU/ZELpz54oNz/SG2bRmoI4P8/ZFEn84Tk/gJO18IVGOz9+tQCyC7A8P9kHk7t1Hj4/+AVrncSRPz/8qfHSTWJAPw==",
        "dtype": "float64",
        "shape": "95"
       }
      }
     },
     "metadata": {
      "atol": 1e-12,
      "format": "oedes.testing.nb_store_array",
      "label": null,
      "rtol": 1e-07
     },
     "output_type": "display_data"
    },
    {
     "data": {
      "application/json": {
       "data": {
        "__ndarray__": "1EVKdmKGbT8yWARnsr2FP+UI7pVGW5U/2zJaCdchqz/xBvp69uzDPx52c8kenNk/MgpjoK8Z6D9qDNAkA7XzP4l9rx7Pwv0/Vad/AMVeBUBjjpPxcpwNQPKo5o121BNAbiloxUyAGUA1kk3OMHofQK1owt/nySJAnvy/VabZJUAEH5QZUd0oQN7LYt7EwCtAsNYr4KZtLkAMZ1MBImkwQOjy9t3mdDFAlOaZQHtgMkCMN5UDKjkzQHjzyCPUDDRA2vJn8D/jNEBOevSCar41QMLUfRcTnDZAHnJ0i650N0AWkkqbGj04QPaR1XyA6zhANqY7s0N6OUBmD8Dbwuc5QDGA+10WNTpApxytyNRkOkCQvzqRMno6QJv4VM4GeTpAzlTRPW5mOkDwFbhgj0c6QEbEdrwqIDpAvD5LiA7zOUBYsR8qxcI5QM9LdGXMkTlACqDc4H9iOUA+CQfI6jY5QLhyeO6eEDlAGuEKeJ7wOEC31WGRWNc4QPLjLseyxDhADIF9zxe4OEDNgcFribA4QKFHRkZTrjhAJjNYd5itOECcG/YaLqw4QFJPtpIeqjhANqR82LOjOEA4clR6gI84QP6seXhsUzhAQdvOe8C1N0CcRdc8Ol02QDDiceVn+TNABpuYvcd3MEBO1N4iUcQoQADhMaZSSCJA2U/MuZUuG0A7X6zTmvoTQOxz4v7MTQ1A8NJeVRutBUAwBalJ1HAAQCXNuoNn8fk/tgZ7IYJB9T8zYqKQ5BLyP+euh0dJzO8/u+vRJCbP7D+ZV8H51qfqP+9pQDQvwOg/IpnLomV75j/yMBOHIg3kP04KBrSiyeE/mzgI/Hxu3z9mUGFOCq7bPwQ09iusT9g/tvH/HztO1T+ZXtw3/aLSP7NP3fGLRtA/aGfQGMlizD+1Zk4GfbjIP1Uqjq54gMU/S8J+Wwiuwj/SUo5tkjXAP14Kgv0uGbw/cXmtFE9TuD+kOywsogi1PzH3WhsbKrI/N+qGNrNUrz8vcQX6u7CrPw==",
        "dtype": "float64",
        "shape": "95"
       }
      }
     },
     "metadata": {
      "atol": 1e-12,
      "format": "oedes.testing.nb_store_array",
      "label": null,
      "rtol": 1e-07
     },
     "output_type": "display_data"
    },
    {
     "data": {
      "application/vnd.jupyter.widget-view+json": {
       "model_id": "",
       "version_major": 2,
       "version_minor": 0
      },
      "text/plain": [
       "HBox(children=(IntProgress(value=1, bar_style='info', description='transient', max=1), HTML(value='')))"
      ]
     },
     "metadata": {},
     "output_type": "display_data"
    },
    {
     "data": {
      "application/vnd.jupyter.widget-view+json": {
       "model_id": "",
       "version_major": 2,
       "version_minor": 0
      },
      "text/plain": [
       "HBox(children=(IntProgress(value=1, bar_style='info', description='transient', max=1), HTML(value='')))"
      ]
     },
     "metadata": {},
     "output_type": "display_data"
    },
    {
     "data": {
      "application/json": {
       "data": {
        "__ndarray__": "ldYm6AsuET6V1iboCy4hPuBBOtwRxSk+Ooww4o55NT5osStlzVNDPsrpCsdm21E+9qnNHTZ+Wz6BdlbnKoxjPpjWLz56vGo+hTZ0gsj0cT7sS7inBd93PuINjPTwK38+sbk2WRzQgz7+jFAJ4ZuIPuSuhFylFo4+Spelcmw2kj7UsK3O0uuVPio7dduuUZo+Pt6Mzyeenz5nwcFxgxCjPiwwH75gJKc++mam+jBErD52uV6DvUqxPjfQ5OYLHrU+IU8daoy6uT5zntFlnEG/PpahNpxF5MI+jQxCMzuwxj6QtjbdaBjLPkapiY58I9A+XGugZa1D0z574xYg1CjXPq8VdEXYH9w+OIw7aGEt4T7kf3GSpuXkPk8xVmgUMOk+LcqRH2AW7j4szzrgONfxPl6S2P0XC/U+7pizStG5+D6EfYPzgvv8Ps1sDvei9wA/525voDLfAz+N3tAQ51AHP9H8BpeXdQs/YpYWMSRFED+a9HLjCHcTPyG6RMYTnhc/LUMc6+I2Gj9UKygZ9DYaP3sTNEcFNxo/ovs/dRY3Gj/wy1fRODcaP4tsh4l9Nxo/wq3m+QY4Gj8vMKXaGTkaPwo1Ipw/Oxo/wD4cH4s/Gj8rUhAlIkgaPwJ5+DBQWRo/SQMuIUF6Gj+/oUgDqakaP8/sN9DM5xo/ooIBe6c0Gz9aex5WNpIbP2mcm8THBBw/MgC649ORHD8yOaCjAj8dP/yy8zP7Ex4/iRcbcawaHz/j6fFFKS8gP8tQ5KIX9yA/RewZGBr0IT9iIMfYZ0UjP6o2FwZeDSU/HeqEuzEiJz/e8AeGclcpP49ULFnHpis/a7jafAsPLj/uCWfzd0cwPyXxe+2CkjE/KRpC0+3nMj/SjclJB0c0P72ZD2EqrzU/yAa12sAfNz9nYxnwQ5g4P5oXN388GDo/mXJRUEOfOz8Tyrv6AS09P8Y6y8w0wT4/pTDYANctQD/8qfHSTWJAPw==",
        "dtype": "float64",
        "shape": "92"
       }
      }
     },
     "metadata": {
      "atol": 1e-12,
      "format": "oedes.testing.nb_store_array",
      "label": null,
      "rtol": 1e-07
     },
     "output_type": "display_data"
    },
    {
     "data": {
      "application/json": {
       "data": {
        "__ndarray__": "Jqurzoh/bT9EeoUjPreFP9MuxCqLU5U/ZokfLv0Sqz9yBc6tt9nDP/6xyngHntw/jk/5B6IZ7D8d5U5Lwob3PylAkT4WCwJAy/FB77orCkAolbKwNCQSQGaVgETj6BdAUMTJDMnjHUAeZsaM7OchQLdYL28RySRAVRsxb7uJJ0DlzsPy/BsqQLWn6iG0cixA2FS3e9eHLkCt7NFCRjEwQLu37V7xCzFARc4ZbM3gMUCaBnBQXLgyQKSiXALRlTNAY5PCoUV4NEAKYHgQLVk1QBM9PpydLDZAbb9lVDvmNkBBATCn0303QGiHWBHs7zdANi0qP188OEDrbHM2ymQ4QJiDwMqRazhAjuiRmqFUOEDoWmgIqCY4QACqNxWz6DdAjptZKzSgN0AIIUbIp1E3QM9LndI6ATdAaHbAyMiyNkDkgJdakGk2QJ9IVvrvJzZAEPWawU/vNUBeBqVNOsA1QISCMtiQmjVAMl2QscF9NUCDx0Gd72g1QIJFm7oEWzVArkSaOIxVNUCJbHkRwVQ1QMpCSjo5UzVAxmJQ4QFRNUBU+bTvL0o1QCxB2DkrNTVAAPNqRq74NEAvGFv+DmE0QHDKmEiZKTNAUlX63x8rMUDCg57DkvcsQJnLEfAu4yZA6NalRpAYIUAmuRZyATEZQM8BxP0gTxJAtWcARIvaCkDCknk0vlwEQJ+bdp/OJgBAy53htPq8+j8pxB3rod32P4A897SZ+vM/uyM4H1ez8T8/ySCACbfvP2/Vywrcv+w/OC0nQBld6j++h5UTkUXoPz4Q1SLgHOY/ZRyBcyrn4z/xuv9InsrhP45k9JEjod8/Mch9tb772z/esmCRfanYP4LFX9NXqtU/ympAHUH70j/MJCBEXpfQP5oilvrG8cw/oXr7q1MzyT85vyhDHefFPxFBxvlZAcM/yy7hg/t2wD/mZWJem3u8P/x5HjwAmbg/yvcu70Y1tT8NA1Uq1WC0Pw==",
        "dtype": "float64",
        "shape": "92"
       }
      }
     },
     "metadata": {
      "atol": 1e-12,
      "format": "oedes.testing.nb_store_array",
      "label": null,
      "rtol": 1e-07
     },
     "output_type": "display_data"
    },
    {
     "data": {
      "application/vnd.jupyter.widget-view+json": {
       "model_id": "",
       "version_major": 2,
       "version_minor": 0
      },
      "text/plain": [
       "HBox(children=(IntProgress(value=1, bar_style='info', description='transient', max=1), HTML(value='')))"
      ]
     },
     "metadata": {},
     "output_type": "display_data"
    },
    {
     "data": {
      "application/vnd.jupyter.widget-view+json": {
       "model_id": "",
       "version_major": 2,
       "version_minor": 0
      },
      "text/plain": [
       "HBox(children=(IntProgress(value=1, bar_style='info', description='transient', max=1), HTML(value='')))"
      ]
     },
     "metadata": {},
     "output_type": "display_data"
    },
    {
     "data": {
      "application/json": {
       "data": {
        "__ndarray__": "ldYm6AsuET6V1iboCy4hPuBBOtwRxSk+Ooww4o55NT5osStlzVNDPv5DqabsQFI+qDEf5uJDYD4wLAxEAXtpPm3ro7gB73I+FmWIyE1Mez6K3BHLLOGCPszRwd1PCIk++HUkG1opkD54cKZk35uUPl6uLymlNJo+Gil4zSK0oD7Y5rykwFClPiXT6FnEB6s+y306l6/5sD78uhi3ZSy1PmZseo4mULo+8aRsyWRMwD65Xj1j2BTEPgVxZQ0FlMg+0QR9OfTxzT62IL2LVT7SPgP9AJDnWtY+ZnE7jb2g2z53YbymvRvhPmx80KAq/uQ+utCjZe1v6T5PB4o+n4PuPv5lo1PGLPI+ngSRfZyG9T45i6BKrWr5Pr/O/bWOAv4+YvIhQLrHAT9aD4wgnewEP9pSP7Yfggg/ejlJ/hOkDD/K6ALgS7sQP0iRmflflRM/8A5JQNwCFz8tQxzr4jYaP1QrKBn0Nho/exM0RwU3Gj+i+z91FjcaP/DLV9E4Nxo/i2yHiX03Gj/Creb5BjgaPy8wpdoZORo/CjUinD87Gj/APhwfiz8aPytSECUiSBo/Ann4MFBZGj+vxshIrHsaPwliaXhkwBo/+aiYtIofGz+9ymY7+p8bP6agrMsdTxw/O6GUwEs5HT9bM7Mq8W8ePwjK9KzBBSA/5JGG8B8RIT8DbIG4p1siP41cA0hc2CM/mJZq+V9zJT/H2rPF8hsnP3S+tlrnxig/0QgYeKlwKj+QPG7C9yIsP4h01ybr+y0/vr9rkaoYMD8FRljBSXcxPx0hToijAzM/MEC2zhmrND/1golLXms2P/lySOeyQjg/r5+iiPUvOj8ixMLpsTE8Py/jYq9mRj4/+QRZnFM2QD/8qfHSTWJAPw==",
        "dtype": "float64",
        "shape": "83"
       }
      }
     },
     "metadata": {
      "atol": 1e-12,
      "format": "oedes.testing.nb_store_array",
      "label": null,
      "rtol": 1e-07
     },
     "output_type": "display_data"
    },
    {
     "data": {
      "application/json": {
       "data": {
        "__ndarray__": "VdlusIFhbT/rJon5+JqFP5qJk9e0MZU/DK/fAznSqj9gRXmhhIbDPx3h+kma1Nw/mHj9sjJI8T+CA2VN9Gr/P8y4tUGq7ghAa/iSdxbyEUAyKvToiIoXQEvzligcqxxAI24jmo6eIEAOLEjYhagiQCpOW1OxgSRAxkIa/UY+JkCMfqYHvPMnQGTlyyeJrylADulI7El5K0AUgOMZZFUtQIZ/f7Z2Py9AYKuzWsyRMECZBsN01G8xQFg3D4sWKTJA8gl3UuyyMkB8NrKAmwgzQEbay9A4KTNAvsYJNKsWM0DiLyKLrNgyQG8S5VVjfjJA8SByNq8WMkC8jn57XawxQKB3vEbsSDFAKJnVH4LkMEBydF+WbX4wQPLz16uZLDBA5sO0UWrUL0DWkc3pMG0vQL6HhnRdHC9AdN9HnmvcLkAAS6zyo6kuQMv21YWXgS5A5GJvNDliLkBIr0U1VE4uQP0nucMmTC5AVLVHuApILkAAIaipNkIuQD6wJA0HMS5AkBW0Krz/LUDKnhzi638tQBDHoD01aSxAZdfxBf6JKkA9QGeZXQsoQLVZz9T4NSVA8EMSopP2IUCFwh4pdxIcQLxYxsS3shNAikz/4JRaDEAAo7w05c4FQHZFB6W84wFAugmWKG++/j8E9FLfPib7PwiyHtf3Ufg/GGwwk/np9T/bQaLzmL/zP3oo2fiSvPE/XawLT1yw7z9CsBfpFiHsP5Iv40QK2eg/66d1dk/55T/qB43IB6TjPx+DGO5C2eE/eSSGA5lm4D8S1onxlxLeP7DvYJiKYds/OY12aVHD2D8RriZ0dz/WP56Vf8nD3dM/6UByy5aj0T+iq4+EDinPP884eL+EZMs/puuRCqr5xz/10Yo223DHPw==",
        "dtype": "float64",
        "shape": "83"
       }
      }
     },
     "metadata": {
      "atol": 1e-12,
      "format": "oedes.testing.nb_store_array",
      "label": null,
      "rtol": 1e-07
     },
     "output_type": "display_data"
    },
    {
     "data": {
      "application/vnd.jupyter.widget-view+json": {
       "model_id": "",
       "version_major": 2,
       "version_minor": 0
      },
      "text/plain": [
       "HBox(children=(IntProgress(value=1, bar_style='info', description='transient', max=1), HTML(value='')))"
      ]
     },
     "metadata": {},
     "output_type": "display_data"
    },
    {
     "data": {
      "application/vnd.jupyter.widget-view+json": {
       "model_id": "",
       "version_major": 2,
       "version_minor": 0
      },
      "text/plain": [
       "HBox(children=(IntProgress(value=1, bar_style='info', description='transient', max=1), HTML(value='')))"
      ]
     },
     "metadata": {},
     "output_type": "display_data"
    },
    {
     "data": {
      "application/json": {
       "data": {
        "__ndarray__": "ldYm6AsuET6V1iboCy4hPuBBOtwRxSk+Ooww4o55NT5osStlzVNDPv5DqabsQFI+Sg1oR3y3YT6cEQdtGENxPozf+coIeH0+DDM3IYKYhz4eZ5CYpYiSPoBmwzHhK50+3NkvTviwpT6o3sEuLRyuPqlY5fLcGLQ+wFVsV3NGuj7Z9FXXQ/HAPoChjNVGj8U+4u1PQX4fyz58epEcRPnQPiP1RLUET9U+iegMOZ/12j72xNvH2QPhPmCYiZBXEuU+d/mEr6Bx6T6HIAL7mMftPuYVo1IrnfE+Ch4VVFUi9T682SDQXHH5Ppdf/n4sZP4+mOIjEQ78AT9pEmUHfycFP1KmvKewyAg/bfcCrvTyDD8pPSCNwd0QP/uFXr99nRM/sOH0qizIFj8tQxzr4jYaP1QrKBn0Nho/exM0RwU3Gj+i+z91FjcaP/DLV9E4Nxo/i2yHiX03Gj/Creb5BjgaPy8wpdoZORo/CjUinD87Gj/APhwfiz8aPytSECUiSBo/Ann4MFBZGj+vxshIrHsaPwliaXhkwBo/vpiq19RJGz9qLa4UnikcPwDEujWUXx0/yicEY8MRHz8El+y61bYgP0bZarzNSiI/9BuzcilCJD9WfdoVfYcmP8svdNJtBik/nEsDb260Kz82mn6kZY0uPzdCH+LxxzA/t0DDPZZdMj+CQ7wFAQc0P3fEp3XOwjU/1VcFgyOONz8dgOqs4WM5P4S5GsBmPDs/ygqzaPUPPT+dWPmY0N4+PwnPEutwXkA//Knx0k1iQD8=",
        "dtype": "float64",
        "shape": "73"
       }
      }
     },
     "metadata": {
      "atol": 1e-12,
      "format": "oedes.testing.nb_store_array",
      "label": null,
      "rtol": 1e-07
     },
     "output_type": "display_data"
    },
    {
     "data": {
      "application/json": {
       "data": {
        "__ndarray__": "NVg0EG/sbD8eq1HqGC2FP/1I4SetrpQ/3UKLo93aqT9uxUXpZlPCP3Y7G1hItdk/xjt1fvXW7z+CuMYgueH/P1oTptVO9gdAas0BbfUyD0CifkaNcCITQLAYe/MxQxdA9gga5N7VG0CaqUu+Iz0gQPY9pi5vmSJAsqjQfXz7JECAOiFq4kcnQL7VDP2gTilAorQJkavmKkC8wcAA1fsrQEJN6Dt0iSxAp7yMkq6VLEAxAVa8KjgsQN0cZD5HqStA6uAwdqepKkD9+nG/4q0pQCKquSEsuChAPAKms1HOJ0D4Ir5x3/4mQDvJ4zEVUyZAhGZx2GvIJUCgleAvJlglQIXfgAMN/SRAzNITWaizJED6mUgUunkkQLiAPexETSRAzAlg30IsJEDDuRvLThUkQKBDb6EBEiRAamZ54yYMJEBcV2yRTQQkQM62Vudw7yNAuIx45zC8I0BuDlyo708jQJCIQilzmCJAtG1iruOlIUAdtcHcipAgQDOaz69yYR5Av6ZfQHtdGkCyzMXFNhsVQO7PpZl6zA9AX2rxL13hB0CJuXn7IgUDQDr9EWHuCgBA6JIMiIfo+z8KRCwq5bf4P1B/0F3AHPY/IZ07Z3/g8z8xIvQhPurxPx96z9QSLfA//y8f3B4/7T9omsjPOnTqP8Y2Dfnz7Oc/pOPQZmSe5T88jMadpn7jP3lhhF1ahOE/cr4+WIxN3z82lm2CLb7bP23hpIZlWNg/rcGRrzoz1T+uddVueoHSP4LVHUCab9A/uUktquph0D8=",
        "dtype": "float64",
        "shape": "73"
       }
      }
     },
     "metadata": {
      "atol": 1e-12,
      "format": "oedes.testing.nb_store_array",
      "label": null,
      "rtol": 1e-07
     },
     "output_type": "display_data"
    },
    {
     "data": {
      "application/vnd.jupyter.widget-view+json": {
       "model_id": "",
       "version_major": 2,
       "version_minor": 0
      },
      "text/plain": [
       "HBox(children=(IntProgress(value=1, bar_style='info', description='transient', max=1), HTML(value='')))"
      ]
     },
     "metadata": {},
     "output_type": "display_data"
    },
    {
     "data": {
      "application/vnd.jupyter.widget-view+json": {
       "model_id": "",
       "version_major": 2,
       "version_minor": 0
      },
      "text/plain": [
       "HBox(children=(IntProgress(value=1, bar_style='info', description='transient', max=1), HTML(value='')))"
      ]
     },
     "metadata": {},
     "output_type": "display_data"
    },
    {
     "data": {
      "application/json": {
       "data": {
        "__ndarray__": "ldYm6AsuET6V1iboCy4hPuBBOtwRxSk+Ooww4o55NT5osStlzVNDPv5DqabsQFI+Sg1oR3y3YT7wcccXxHJxPjg/ghmxhH8+Kp6Q8E7Kij5NbVoXdeiWPrzgtFOJ8KI+So9af/f/qz5F6pjFkmizPqyP92IPB7o+aP32Ca8XwT57/KKbQQrGPjLYOr7bAMw+JToVJSGt0T7BqFuTBWLWPiB/Wupmg9w++xrft7n84T4JU8jrgSHmPrfEilPfy+o+EGbfbfKG7z58WRTm4rXyPtqwV51vePY+21J9qvz++j4gqXwa7BMAP7kmwSe3AAM/Vhs3RA9bBj+lyO96VjgKP09JdKQNrA4/21bqrg7lET/wnH1hqdQUP+qoqP0jMxg/LUMc6+I2Gj9UKygZ9DYaP3sTNEcFNxo/ovs/dRY3Gj/wy1fRODcaP4tsh4l9Nxo/wq3m+QY4Gj8vMKXaGTkaPwo1Ipw/Oxo/wD4cH4s/Gj8rUhAlIkgaPwJ5+DBQWRo/r8bISKx7Gj8JYml4ZMAaP76YqtfUSRs/i9cstZpCHD/CyMDrXpwdPx5nMIuThR8/k87gPUMZIT+PqwmEseMiP8oCMeQjHCU/Mvege4ipJz+/eC2q5nYqPzdm9TKLei0/05NlXbxYMD+Kc8WRyg0yPwCnHR3h3DM/8l1zEYXGNT9PUSeK7Mo3P2yuyi2a6Tk/ZEQ/mr0gPD9vVaJiT2w+P/yp8dJNYkA/",
        "dtype": "float64",
        "shape": "69"
       }
      }
     },
     "metadata": {
      "atol": 1e-12,
      "format": "oedes.testing.nb_store_array",
      "label": null,
      "rtol": 1e-07
     },
     "output_type": "display_data"
    },
    {
     "data": {
      "application/json": {
       "data": {
        "__ndarray__": "aY5rSuKvbD8Eq95VfvSEP9V1Xix7a5Q/aAbHEyFeqT+SKWSPsb7BPyBtZDK4T9g/rWLbLqIJ7T8OJI4GeBT8P6rTvhlpFwVAVP2cW8bNC0CZO74m3uoRQEoUWyc3ABdAUM7jBBI1HEBteh7WO7cgQNKy3jxYUiNAJ9th5uPNJUCLRsN7pPQnQN1X2xhHnClASFJBQ6+zKkBUlGOPzjkrQOmMeESKOCtAwxcGlv7QKkCOlgdCag8qQN1XEqZ95yhAvHyWDWzZJ0Dps7Hmd9YmQCZJcwdj4iVAvO0D3EUKJUA5KEt1ClQkQAS3h5qXvCNAZHlm9ZE+I0Be4hN8h9YiQD5KNguogiJA1jjuuVhBIkCyrS48hxAiQMNboDmo7SFAvOTWPL3aIUAlJsbWKNchQND0oVP10CFA+6fsu9DIIUCkHxo48LMhQPOjM409gyFAu3P3riUjIUBw/rD60YwgQI5rk9F0pR9Ar7BR+1z3HUB3wiINKaMbQOOZK/ZgERhAzOwlezVyE0ApCur60fMNQEU4nF/HFAdAmWsnUPVjAkA5GTULoPr+PyizYqfA4fo/ju+5hO+/9z8vnjNbLzD1P1ua70Vq/fI/T2f2mBwQ8T9bm1AMPrjuPy5/gBxrses/vhTH/QH+6D9QYMzWepLmPwBokWToZOQ/ERBAxC1s4j8zmHCh05/gP4X5/jeH790/2KTUzWTY2j9ld1yQhuvXP8Jh4kURHtU/",
        "dtype": "float64",
        "shape": "69"
       }
      }
     },
     "metadata": {
      "atol": 1e-12,
      "format": "oedes.testing.nb_store_array",
      "label": null,
      "rtol": 1e-07
     },
     "output_type": "display_data"
    },
    {
     "name": "stdout",
     "output_type": "stream",
     "text": [
      "\r"
     ]
    },
    {
     "data": {
      "image/png": "[encoded data removed]",
      "text/plain": [
       "<Figure size 432x288 with 1 Axes>"
      ]
     },
     "metadata": {},
     "output_type": "display_data"
    }
   ],
   "source": [
    "ax = plt.gca()\n",
    "for Nt in progressbar([6.4e21, 9.6e21, 1.3e22, 2.8e22, 8.8e22, 1.2e23],'Nt'):\n",
    "    c, t, j = run(27.4, {'electron.trap0.N0': Nt})\n",
    "    jn = c.attime(99e-6).output()['J']\n",
    "    ax.plot(t * 1e6, j / jn, label=r'$N_t$=%s $\\mathrm{m^{-3}}$' % formatter(Nt))\n",
    "ax.set_xlabel(r'Time [$\\mathrm{\\mu s}$]')\n",
    "ax.set_ylabel('Normalized photocurrent')\n",
    "ax.set_ylim([1e-3, 1])\n",
    "ax.set_xlim([100, 450])\n",
    "ax.set_yscale('log')\n",
    "ax.set_title('Decay of photocurrent: dependence on trap density')\n",
    "ax.legend(loc='upper right');"
   ]
  },
  {
   "cell_type": "markdown",
   "metadata": {
    "oedes_subtest": {
     "name": "7b"
    }
   },
   "source": [
    "### Decay of photocurrent: influence of detrapping rate\n",
    "\n",
    "The plot below shows the decay of photocurrent, calculated for different values of detrapping rate $C_{dt}$."
   ]
  },
  {
   "cell_type": "code",
   "execution_count": 16,
   "metadata": {},
   "outputs": [
    {
     "data": {
      "application/vnd.jupyter.widget-view+json": {
       "model_id": "",
       "version_major": 2,
       "version_minor": 0
      },
      "text/plain": [
       "HBox(children=(IntProgress(value=0, description='Cdt', max=5), HTML(value='')))"
      ]
     },
     "metadata": {},
     "output_type": "display_data"
    },
    {
     "data": {
      "application/vnd.jupyter.widget-view+json": {
       "model_id": "",
       "version_major": 2,
       "version_minor": 0
      },
      "text/plain": [
       "HBox(children=(IntProgress(value=1, bar_style='info', description='transient', max=1), HTML(value='')))"
      ]
     },
     "metadata": {},
     "output_type": "display_data"
    },
    {
     "data": {
      "application/vnd.jupyter.widget-view+json": {
       "model_id": "",
       "version_major": 2,
       "version_minor": 0
      },
      "text/plain": [
       "HBox(children=(IntProgress(value=1, bar_style='info', description='transient', max=1), HTML(value='')))"
      ]
     },
     "metadata": {},
     "output_type": "display_data"
    },
    {
     "data": {
      "application/json": {
       "data": {
        "__ndarray__": "ldYm6AsuET6V1iboCy4hPuBBOtwRxSk+Ooww4o55NT5osStlzVNDPv5DqabsQFI+4p3pTk9zXz5armPTQxloPmpzZ/ugl3E+GoNyLBcmeT5arE4PaX2BPpuJF5eqRoc+xP+WPyvfjT63jC5ZFrqSPq2GEXrMJZc+EvQLaMZinD5B4/AnY1uhPji1YLK+Q6U+yNp8h44pqj5Le+Ft8h+wPuyvnKXe07M+A8aUgfpJuD5Q4hHEuqS9PisO1zoa/8E+a6Py/6CzxT7yd9HGQgDKPkw9PikYCs8+fMrFXxiL0j5zj1TqfUvWPvTR6QJ0Fts+bHMPgv2X4D5ZfwKQPUvkPq9yGOdPmOg+nr60gM+F7T7pP6NzsZTxPuZT6n7V0PQ+Fw0LLr6K+D60mwEemtr8Pq6765BR7wA/eQ9+K7DeAz8kXaQ7yVQHP4vQ7x9OdAs/0ETyyfw2ED9tzRKwckUTP7MichEQHxc/LUMc6+I2Gj9UKygZ9DYaP3sTNEcFNxo/ovs/dRY3Gj/wy1fRODcaP4tsh4l9Nxo/wq3m+QY4Gj8vMKXaGTkaPwo1Ipw/Oxo/wD4cH4s/Gj8rUhAlIkgaPwJ5+DBQWRo/r8bISKx7Gj/y8F0JB68aPxl+7OkM8xo/wW+BiMBHGz9upp328bAbP5b5ysNLNhw/0Igy5eDfHD+KQ1clqrYdP/2HoMDRyB4/en8m57gUID8cZn7VxfYgP5avkhqXFCI/TgpwAlN5Iz/VaiPI6DolP8b5H2DOjic/zPPPndPHKj/zKSxq9q0uP9YAAnxbazE/wq7vO+iaMz++AQf+luQ1P0jatOaVRzg/GJw4hc7COj+2Mvm1B1U9P/eXiawG/T8//Knx0k1iQD8=",
        "dtype": "float64",
        "shape": "82"
       }
      }
     },
     "metadata": {
      "atol": 1e-12,
      "format": "oedes.testing.nb_store_array",
      "label": null,
      "rtol": 1e-07
     },
     "output_type": "display_data"
    },
    {
     "data": {
      "application/json": {
       "data": {
        "__ndarray__": "JE0/Z157bT9sI5AxMLSFP5xPnnGOUJU/0gjhKj4Pqz8/nepYC9fDP+GHNcyhuN0/RHmzVotM8T/Au0vZCn3/P0HKkavTdQlAYABDnkoSE0CU21QcNXcaQAc1JdoJ9iBA1tTV/P96JEDe0sElXrcnQAi3kAPtnSpAfAIEZK8mLUCXdDzEHVYvQN58/WmboDBA228///yDMUCNkfsE/GIyQFTxK9RURDNAKPN761ApNEBCufHBjQ01QI/CEQZg5jVAIOQJs+CmNkAZA9HvgkU3QGaQHgSnvTdAJjzej1sOOECcJ/xRpDg4QGl0kFw0PjhAih0cKvUhOEBcAEClNuo3QAsI5FfcnjdAy0wr2DBGN0D6ICZ8T+U2QH5+7tUIgTZARB+Jg/MdNkDwuTv1D8A1QOj6lo5rajVAp22aLvkeNUB0vcnNqd40QKCYXbG+qTRAlAaUat5/NEDJWfn+Rlw0QPCfLZYEQzRAw4Xm7Q42NEDy2kH1OjU0QMpBDSujMzRAiFbNF1YxNEC0+NXkSSo0QDd6YGy+FDRA8x/6L3XXM0BgkEhHGEAzQEqTthinDjJA6ZQeRzYjMEAKcvhXPiorQESmB0RDWyVAKLG7JO4oH0BE/AMMFv0VQNz5TkAhZA5Aha7TbBQ5BUAC3oNmiMb+PxbHCMLbcPc/ltcv1Wy88j/G71Dl3BvvPzzyBoO9fOo/uAyyptzt5j8FcubB/xTkP6Kq91BgxuE/KzAtw1fj3z9lTdkO2BjdP5Jv5LoH5to/qWlxxFXF2D9t6mcKAInWP1AG9YtAUtQ/3EsKLsox0j9HdY9mhjHQP8Z2Iq/brsw/cXdwoo1MyT9DZpsr4jzGP7GEZy5bfcM/xMSppeC3wj8=",
        "dtype": "float64",
        "shape": "82"
       }
      }
     },
     "metadata": {
      "atol": 1e-12,
      "format": "oedes.testing.nb_store_array",
      "label": null,
      "rtol": 1e-07
     },
     "output_type": "display_data"
    },
    {
     "data": {
      "application/vnd.jupyter.widget-view+json": {
       "model_id": "",
       "version_major": 2,
       "version_minor": 0
      },
      "text/plain": [
       "HBox(children=(IntProgress(value=1, bar_style='info', description='transient', max=1), HTML(value='')))"
      ]
     },
     "metadata": {},
     "output_type": "display_data"
    },
    {
     "data": {
      "application/vnd.jupyter.widget-view+json": {
       "model_id": "",
       "version_major": 2,
       "version_minor": 0
      },
      "text/plain": [
       "HBox(children=(IntProgress(value=1, bar_style='info', description='transient', max=1), HTML(value='')))"
      ]
     },
     "metadata": {},
     "output_type": "display_data"
    },
    {
     "data": {
      "application/json": {
       "data": {
        "__ndarray__": "ldYm6AsuET6V1iboCy4hPuBBOtwRxSk+Ooww4o55NT5osStlzVNDPsLpCsdm21E+46nNHTZ+Wz5wdlbnKoxjPnzWLz56vGo+cDZ0gsj0cT7MS7inBd93PrYNjPTwK38+lLk2WRzQgz7ajFAJ4ZuIPriuhFylFo4+MJelcmw2kj60sK3O0uuVPgE7dduuUZo+Dd6Mzyeenz5IwcFxgxCjPgcwH75gJKc+xGam+jBErD5XuV6DvUqxPg7Q5OYLHrU++E4daoy6uT5CntFlnEG/PnuhNpxF5MI+aQxCMzuwxj5ptjbdaBjLPi6piY58I9A+OWugZa1D0z5X4xYg1CjXPn8VdEXYH9w+G4w7aGEt4T7If3GSpuXkPi0xVmgUMOk+CMqRH2AW7j4WzzrgONfxPkCS2P0XC/U+0pizStG5+D5bfYPzgvv8PrVsDvei9wA/0W5voDLfAz903tAQ51AHP6/8BpeXdQs/SZYWMSRFED+A9HLjCHcTP/i5RMYTnhc/LUMc6+I2Gj9UKygZ9DYaP3sTNEcFNxo/ovs/dRY3Gj/wy1fRODcaP4tsh4l9Nxo/wq3m+QY4Gj8vMKXaGTkaPwo1Ipw/Oxo/wD4cH4s/Gj8rUhAlIkgaPwJ5+DBQWRo/SQMuIUF6Gj+/oUgDqakaP8/sN9DM5xo/pIIBe6c0Gz9cex5WNpIbP2ucm8THBBw/MgC649ORHD80OaCjAj8dP/6y8zP7Ex4/hRcbcawaHz/k6fFFKS8gP81Q5KIX9yA/QuwZGBr0IT9iIMfYZ0UjP6k2FwZeDSU/G+qEuzEiJz/c8AeGclcpP45ULFnHpis/arjafAsPLj/uCWfzd0cwPyTxe+2CkjE/KBpC0+3nMj/SjclJB0c0P7yZD2EqrzU/yQa12sAfNz9nYxnwQ5g4P5kXN388GDo/mXJRUEOfOz8Tyrv6AS09P8Q6y8w0wT4/pDDYANctQD/8qfHSTWJAPw==",
        "dtype": "float64",
        "shape": "92"
       }
      }
     },
     "metadata": {
      "atol": 1e-12,
      "format": "oedes.testing.nb_store_array",
      "label": null,
      "rtol": 1e-07
     },
     "output_type": "display_data"
    },
    {
     "data": {
      "application/json": {
       "data": {
        "__ndarray__": "pqqrzoh/bT8qeoUjPreFP8MuxCqLU5U/X4kfLv0Sqz9wBc6tt9nDP+mxyngHntw/ck/5B6IZ7D8A5U5Lwob3PxJAkT4WCwJAp/FB77orCkAOlbKwNCQSQEWVgETj6BdALMTJDMnjHUAKZsaM7OchQKJYL28RySRAPxsxb7uJJ0DSzsPy/BsqQKSn6iG0cixAxlS3e9eHLkCl7NFCRjEwQLS37V7xCzFAPc4ZbM3gMUCRBnBQXLgyQJuiXALRlTNAXJPCoUV4NEADYHgQLVk1QAw9PpydLDZAZr9lVDvmNkA8ATCn0303QGSHWBHs7zdAMi0qP188OEDpbHM2ymQ4QJiDwMqRazhAkeiRmqFUOEDpWmgIqCY4QAOqNxWz6DdAjptZKzSgN0AJIUbIp1E3QNJLndI6ATdAaHbAyMiyNkDmgJdakGk2QJpIVvrvJzZADfWawU/vNUBiBqVNOsA1QIqCMtiQmjVAIl2QscF9NUB0x0Gd72g1QIpFm7oEWzVAsESaOIxVNUCIbHkRwVQ1QMZCSjo5UzVAyGJQ4QFRNUBW+bTvL0o1QC5B2DkrNTVA+vJqRq74NEAoGFv+DmE0QHTKmEiZKTNAUlX63x8rMUC/g57DkvcsQJjLEfAu4yZA5NalRpAYIUAXuRZyATEZQEcCxP0gTxJArGcARIvaCkBeknk0vlwEQJKbdp/OJgBAyp3htPq8+j+6xB3rod32P4Q897SZ+vM/wCM4H1ez8T8vySCACbfvP2LVywrcv+w/My0nQBld6j/Bh5UTkUXoP0EQ1SLgHOY/ZxyBcyrn4z/3uv9InsrhP5pk9JEjod8/Nsh9tb772z/ismCRfanYP4fFX9NXqtU/z2pAHUH70j/OJCBEXpfQP6IilvrG8cw/pHr7q1MzyT89vyhDHefFPxVBxvlZAcM/zi7hg/t2wD/uZWJem3u8PwV6HjwAmbg/0fcu70Y1tT8PA1Uq1WC0Pw==",
        "dtype": "float64",
        "shape": "92"
       }
      }
     },
     "metadata": {
      "atol": 1e-12,
      "format": "oedes.testing.nb_store_array",
      "label": null,
      "rtol": 1e-07
     },
     "output_type": "display_data"
    },
    {
     "data": {
      "application/vnd.jupyter.widget-view+json": {
       "model_id": "",
       "version_major": 2,
       "version_minor": 0
      },
      "text/plain": [
       "HBox(children=(IntProgress(value=1, bar_style='info', description='transient', max=1), HTML(value='')))"
      ]
     },
     "metadata": {},
     "output_type": "display_data"
    },
    {
     "data": {
      "application/vnd.jupyter.widget-view+json": {
       "model_id": "",
       "version_major": 2,
       "version_minor": 0
      },
      "text/plain": [
       "HBox(children=(IntProgress(value=1, bar_style='info', description='transient', max=1), HTML(value='')))"
      ]
     },
     "metadata": {},
     "output_type": "display_data"
    },
    {
     "data": {
      "application/json": {
       "data": {
        "__ndarray__": "ldYm6AsuET6V1iboCy4hPuBBOtwRxSk+Ooww4o55NT5osStlzVNDPlgs/vnSclA+nA2aRcQ+WD6/TnqSAa9gPhnk237SI2Y+eLhfcBPWbD4HUG0ftp5yPsLyZ9fZ43c+RJcso808fj6EtwW/v8aCPhY5EagO8YY+Mdmsona3iz7sC3XHs5+QPoFMJ8QY3JM+CC5jm5Wvlz7S4mh7TUScPuSJuc2z66A+eBHRtGJhpD7SQ4IXE72oPuwc+8NkMa4+momXfOFusj4KuJSgwXa2Ptddqm6aUbs+L3zS5MeOwD4r0JY/6fXDPkXjlfVF6Mc+x1ZOsoB+zD63ufkv7fTQPu9fq5tmP9Q+QnWGzS5e2D5Wxg3vtZfdPrrLGkQJBOI+G4LJtbbM5T7KTwaatyLqPpomX0gsE+8+CeJhU5Ra8j47o1ghspP1Pr39LWOsSPk+9DAL+yKT/T43cJE/mUoBPwwjEJnqPgQ/vjFUByTIBz+kxvg1YhgMP/E3JVHRvhA/qI95LJo7FD/QHva4IvAYPy1DHOviNho/VCsoGfQ2Gj97EzRHBTcaP6L7P3UWNxo/8MtX0Tg3Gj+LbIeJfTcaP8Kt5vkGOBo/LzCl2hk5Gj8KNSKcPzsaP8A+HB+LPxo/K1IQJSJIGj8CefgwUFkaP/HuBhtAeRo/GgVE73CoGj/8rojOqeMaP1qXhnYfKhs/TJaexF9/Gz/Arp3zKuUbPwUgnXjSXhw/KT//PkbwHD+hSqlGrZ4dP0P059JPcR4/PAbI4fZyHz8oTGKuQ1sgP5TA9wCQMCE/ixxvAvRTIj9bxHdFH7ojPzGM8sj/OiU/oZUXrGvNJj+SdaCRG3AoP0pZQBgRIio/h3+x2kXiKz+NhOpWt68tP8//MthviS8/jujoVEW3MD8P6omdGq8xP+s9d03XqzI/d3bnLSOtMz+2DYXTrbI0P2JzRIYuvDU/dn4Jt2TJNj83j1EiGdo3PyOn87Mf7jg/iMuJOVoFOj9/Rafuux87P4QKAO9NPTw/kx1HnjRePT+iOLIatoI+PzNMfNRBqz8//Knx0k1iQD8=",
        "dtype": "float64",
        "shape": "100"
       }
      }
     },
     "metadata": {
      "atol": 1e-12,
      "format": "oedes.testing.nb_store_array",
      "label": null,
      "rtol": 1e-07
     },
     "output_type": "display_data"
    },
    {
     "data": {
      "application/json": {
       "data": {
        "__ndarray__": "NGNDdPuAbT/GHH7tTbiFPyNXWPuUVJU/Do0jl0oUqz/slljGpdrDPwf9DO8gw9g/kZiNohD+5j/o9nj/86HyPwvdiDIW7fs/3dnprAfoA0DWsY3HCWELQBV98p7fNRJAnosbIodKF0BZd4TPz5wcQE0dNE7b/yBAbr9BUdauI0CjJVU79FAmQMmIkc2h2ChAJb8nN3k2K0B+MBua910tQNdKZpsBTC9AouH1VtOFMECyWQls01kxQFfyI2ovLTJAbzRRCs8FM0BqHTSZU+UzQKfYDvcryTRAQvGxld2oNUAHdSENwHc2QE5aG7KBKjdAX1P3YYy6N0CQx24iuiU4QNmWvk/ZbDhAnwKdoD6SOEAwSnfVGpk4QFvPG3VPhjhACLJ7LJlgOEDQe0bsHC44QCZwlBiC8zdAlXwjxK20N0CA7nVRMHU3QEPKH8U1ODdAIk+kqEoAN0DsJhVzMM82QJPGNTHYpTZA8hbl9n6ENkBoRTHU2Wo2QNUctJY+WDZAmKco4b5LNkCV4+00NkQ2QKa88v+tQjZA3nonBOlBNkCf2FZgbEA2QBAssk9EPjZAMS5JVps3NkCqqFZf9CI2QFH5q7v65jVAih4609xONUDcmsh91xE0QGKUhqKrATJA+jgwNfpgLkC/b25xDwooQGLlK22NSyJA4E/Ap2qFG0DGjg1EpqAUQMj9M7ytWA9AYfoXUQRtCECSBPOkM8kDQHHqzSDnogBAOGhBz33M/D+qUiFkBm/5P3AwwzllyfY/Gu62p8io9D/dvKy9RevyP29CgZPqYvE/DNb9rc2k7z8LC3IcqmXsP1QbcIHdTek/BkkdiyBv5j8GMwDcH87jP9EDPxtQbOE/Qb02EeKQ3j9vzZLX4r7aPzGp8bBuWtc/2BG1flxa1D/jrcxXSLXRPyOWlzgOxM4/ksBFtNKvyj8OCOwLvB3HP57fI18B/8M/dS12SDZGwT+Dv8IHf869P6xIzXh/rrk/ccqDbwEZtj+BR+nLtvyyP/j6ooZASrA/KJGWOgPoqz/aZhW76dunP/n1MKcLW6Q/9SWinPJ+oT8=",
        "dtype": "float64",
        "shape": "100"
       }
      }
     },
     "metadata": {
      "atol": 1e-12,
      "format": "oedes.testing.nb_store_array",
      "label": null,
      "rtol": 1e-07
     },
     "output_type": "display_data"
    },
    {
     "data": {
      "application/vnd.jupyter.widget-view+json": {
       "model_id": "",
       "version_major": 2,
       "version_minor": 0
      },
      "text/plain": [
       "HBox(children=(IntProgress(value=1, bar_style='info', description='transient', max=1), HTML(value='')))"
      ]
     },
     "metadata": {},
     "output_type": "display_data"
    },
    {
     "data": {
      "application/vnd.jupyter.widget-view+json": {
       "model_id": "",
       "version_major": 2,
       "version_minor": 0
      },
      "text/plain": [
       "HBox(children=(IntProgress(value=1, bar_style='info', description='transient', max=1), HTML(value='')))"
      ]
     },
     "metadata": {},
     "output_type": "display_data"
    },
    {
     "data": {
      "application/json": {
       "data": {
        "__ndarray__": "ldYm6AsuET6V1iboCy4hPuBBOtwRxSk+Ooww4o55NT5osStlzVNDPu6XMyO8LE8+jHyuK4JMVj4OKv8vwgRePoUMHb9MiGM+nn4h56PzaD7GQCOjOJlvPsxNcEb673M+YJJFbpAHeT6uNtHfLA5/Pp4UYvef/YI+4Nh7czj0hj5qx9J7iYWLPhcrnwWqapA+bzDnWj+Ikz4PoeupkjiXPsN7juFlo5s+usDkShiBoD4WpvpL8tSjPpdB96a0Bag+HfgaBAxIrT57KE7DId6xPkLu5I3QxLU+YI38kRR4uj7a4cPprgvAPrLQp72GWsM+ziC+sRwxxz4ndkDkS6TLPh4eOF6pb9A+kMEW1LeW0z42X23Hy4DXPpJKFteAcdw+Hii2lj5G4T4gwG1p3uDkPsSyy6MwA+k+qlebvou37T6xIHgnaInxPrLQc/7OmPQ+Vu/E16Ic+D5QTP22ci38PhDanJs0dgA//i3mVexDAz+rJCaTe6EGP953qhC0wQo/ivjKigL1Dz/3lb08tWATPy5PgwLmCRg/LUMc6+I2Gj9UKygZ9DYaP3sTNEcFNxo/ovs/dRY3Gj/wy1fRODcaP4tsh4l9Nxo/wq3m+QY4Gj8vMKXaGTkaPwo1Ipw/Oxo/wD4cH4s/Gj8rUhAlIkgaPwJ5+DBQWRo/mO9ZAOJ3Gj8g7cYimqQaP4XPp4D23ho/MomcvpUjGz9xyD1JpHEbPzY+TGvTzRs/j/TD2Go5HD8ir19eQLccP94bJNnMSx0/5pMtP9z9HT/Or8fsBNkeP55LH7wK8x8//wolPRW5ID8mlrkt5LchP1Wh65SS2CI/NWFIrg0IJD89gwwdx0MlPybprdPeiiY/0uLBxofcJz+KKMjp+TcpP/l9LWB3nCo/J5F0Hk8JLD/00ZRQ3X0tPzumT4eK+S4/QKBeOeU9MD886NBbDQIxP39rvh8ByTE/bj0WoIiSMj/4yxYPcV4zPyiAW52NLDQ/GGgY2rj8ND8215ON1s41P7xroA/WojY/ygINH7V4Nz/2RBtEg1A4P+yzNc5lKjk/a6dHg5wGOj/y+kEch+U6PxTa+K2rxzs/dlpbIL6tPD8XHR7bqJg9PydPC92WiT4/MEHMlf+BPz9/ueqQ2kFAP/yp8dJNYkA/",
        "dtype": "float64",
        "shape": "108"
       }
      }
     },
     "metadata": {
      "atol": 1e-12,
      "format": "oedes.testing.nb_store_array",
      "label": null,
      "rtol": 1e-07
     },
     "output_type": "display_data"
    },
    {
     "data": {
      "application/json": {
       "data": {
        "__ndarray__": "YEmE2beBbT/qmwEV2LiFPwikphscVZU/vtkqIPQUqz9ynsr7HtvDP0bs9rO6gNY/A+4USggN5D+21sVQ7LXvP4JUYIcPW/c/MyTtw3VtAEDA/8H99WEGQDEwull6uA1ALTKngIwwE0DVhwu66fcXQFRcW3Hn+RxAyTd76hgMIUAqsoN3D6AjQJWUuSlbLiZANMuF8R2pKEA78JcBWQArQDqsv6M4Ji1ADi5gXG4VL0AbtADiO2swQENdbbw4PzFAXmJP5AoSMkBq+CG1J+oyQKMk0D6dyTNAXKLw4Z6uNEA7R6XErpE1QKILguWGZjZAlPm/5FQhN0DranLZyLo3QLemhcI/MDhApOGcE2OCOEAAVNCdt7M4QJAZAv20xzhALgc4rQrDOEA44mRT8as4QPjeQg9YiDhAzilXbLxcOEBG2MoPsSw4QOyw20dd+zdAukCGa4rLN0Bc9/EufJ83QFwUjs7LeDdADcF4G19YN0C77t2oez43QGjRI+HoKjdArcus7REdN0AABHSuHhQ3QMo97b8EDzdAauQBPpUNN0CEc4KD1Aw3QIoIvZZfCzdAiraABkIJN0A+vE/1tAI3QGOID9hL7jZAYzlt5JqyNkCGtwMH0Rk2QKy+oyzS1zRATBi5D6m4MkB30Y+aNZgvQEleZjp6BilAeT+jUm9II0BcQQCeS6gdQHGmbDc8shZApkPVHyqGEUAOQhTUVeULQMgrgtlC5wZARL9snq5uA0AqWGvJwu8AQO6pm61JHP4/1ETj5/cp+z+KFgfjLMn4Pzv0A2PMwPY/qoVD67jI9D9sRdI277DyP+udFK1vo/A/k1Nsc2557T/f8p0bGwDqP53HfqW12+Y/c11YvAoK5D8NgwcktYbhPw6j660WmN4/GUFGKqen2j996kNgdS/XP6PhFAM6I9Q/SdU771930T9mt0INXELOP6tJme2tLco/eO++WfKexj8q8i5vK4bDP4/JkM0E1cA/pjalRGf9vD8W+WlLq++4P9e275OhbLU/Xx91BGlisj9wM/MadIKvP4Zo/tti9qo/4ceJYz4Ipz8jCzyZs6KjPwYb6lkqs6A/wxPlaPZSnD8vMfOnWO+XPzF4BhFqI5Q/wGnHV47akD9V72isdQaMP7w2vZDLqYo/",
        "dtype": "float64",
        "shape": "108"
       }
      }
     },
     "metadata": {
      "atol": 1e-12,
      "format": "oedes.testing.nb_store_array",
      "label": null,
      "rtol": 1e-07
     },
     "output_type": "display_data"
    },
    {
     "data": {
      "application/vnd.jupyter.widget-view+json": {
       "model_id": "",
       "version_major": 2,
       "version_minor": 0
      },
      "text/plain": [
       "HBox(children=(IntProgress(value=1, bar_style='info', description='transient', max=1), HTML(value='')))"
      ]
     },
     "metadata": {},
     "output_type": "display_data"
    },
    {
     "data": {
      "application/vnd.jupyter.widget-view+json": {
       "model_id": "",
       "version_major": 2,
       "version_minor": 0
      },
      "text/plain": [
       "HBox(children=(IntProgress(value=1, bar_style='info', description='transient', max=1), HTML(value='')))"
      ]
     },
     "metadata": {},
     "output_type": "display_data"
    },
    {
     "data": {
      "application/json": {
       "data": {
        "__ndarray__": "ldYm6AsuET6V1iboCy4hPuBBOtwRxSk+Ooww4o55NT5osStlzVNDPvYoCch//E0+cFGCjG/5VD7EXT8C/8ZbPn404XdM0mE+IdaGQax1Zj675NBOxQ1sPnqAsgUseHE+lXK80Hm6dT6OvYUA1+B6Pibcb+5/coA+Quyb12bngz7MpoP0SOGHPr4q3qOTfIw+CI6uG+TukD6bTHfYaxmUPlzOcjrx25c+aOs93whgnD7woiOyJPGgPiLEYlb4XaQ+f8lRGMmvqD78LYlCHhiuPnyhdESvWrI+wDsiHg5Ztj7ty0+P9ie7Pmhs3yiKcsA+uBAMEmvQwz4tzcy6tLbHPmks5xAJPMw+VkfRQPrG0D7y5BxQ/PzTPmii9tdT+dc+CRkdzZH63D7/pINuho3hPoU99hrOJOU+yS30CC5A6T4VLD8HVOvtPnxkM/LWnfE+wAWlK0Kn9D6bsg18PiX4PoaR5vmsMfw+xYaPThp4AD+Sc6Jg2EkDPwkZmaPKswY/dcCNmWnwCj+SpRUNeS8QPywP6yLg0RM/thzGoyf3GD8tQxzr4jYaP1QrKBn0Nho/exM0RwU3Gj+i+z91FjcaP/DLV9E4Nxo/i2yHiX03Gj/Creb5BjgaPy8wpdoZORo/CjUinD87Gj/APhwfiz8aPytSECUiSBo/Ann4MFBZGj9G+HS/unYaP/qz9J2EoRo/Ha5fPkjZGj9oqEMcoxsbP3ccwnfzZxs/ZtGhmTi8Gz8O8yNTLB0cP4hmQBi5jBw/sXQjfhEPHT+/eTYV/KodP1dKyz/wbB4/QknWgIlrHz9D7BDMKWYgPzhST2wzRCE/VHenFpE1Ij+pjcdhiDEjPxsWCkqzNiQ/20op6V5EJT/s1p495lkmP9B7wrasdic/nhdHAyCaKD9awqpjuMMpP+15/ev38io/YyUXVWknLD/5Ul7RnmAtPxRf1zIxni4/50tYkr/fLz8JgbzId5IwP3usiiC3NjE/ZYUP1njcMT9JosGAnYMyP40k0qsMLDM/fEv1g7bVMz/AokbUlYA0P3dfcVqyLDU/T4z7fyPaNT+ahByME4k2PxTAHmbDOTc/liNoA4/sNz8Y9Pid8qE4P1zD2NGQWjk/AOQCxTkXOj9+vpmM89g6P+LEACYEoTs/OhJdof1wPD8xeaCWzUo9P4xXasTRMD4/N3VH6PQlPz8uVB9a7BZAP/yp8dJNYkA/",
        "dtype": "float64",
        "shape": "114"
       }
      }
     },
     "metadata": {
      "atol": 1e-12,
      "format": "oedes.testing.nb_store_array",
      "label": null,
      "rtol": 1e-07
     },
     "output_type": "display_data"
    },
    {
     "data": {
      "application/json": {
       "data": {
        "__ndarray__": "jpI16CmCbT/j6HK6K7mFP8NYf+1tVZU/JuF30VoVqz/meheEaNvDP+9x8oMu/tQ/gChWurMc4j+20WItfRfsP4TcuC7XaPQ/3prbjBFp/D/GyjaPzjIDQFsck2I8YQlAd70BmGNtEECz+RMAhrkUQFE4CKjUYhlADcwPbuFBHkDu+YASTqAhQCLBbql7JiRAffndpR+oJkAqHVwOehYpQLqbJDoyYStALb6nqQB7LUDHQ/nmHGAvQIH74Yd2jTBAcHnZM7lgMUDge26glzQyQPNPmcOkDjNAchVkh2nwM0AeGOpFcNc0QBpLKBZ0uzVAhP/IXfCPNkAgk8oUmEk3QCiNx2ve4TdAbCksEstWOEDedYIRk6k4QIarn0s23ThAjqw6jaH1OEDitZlbyfc4QAEITzih6ThA7HHVq4PQOEDmMBVhbrA4QHAOV6aEjDhA0LfrAHxnOEC+tFKKqkM4QHwUU/HqIjhAeftsPYMGOEB9BKN9Ie83QNa8OIvt3DdAikbwHqXPN0ACs/Emt8Y3QIulFmBZwTdAGonLu5u+N0A7eMzWJL43QD8xgiRnvTdAr8fWs/e7N0ArvVST4bk3QPBcjgFoszdATKdoFyifN0BymKLAmWM3QLYDAE4HyjZA608g7HWDNUDYUzOTG1czQMIIc0b5UjBAyLzLzUDjKUDxNY/iUSskQBkALurAch9AcqO6fO91GEAOWD8GzT4TQLRZ3mf71w5ALCmnmD6bCUBIocowQt8FQJD3FMYJKANAbna732caAUDcX2tN2f3+P2Av2394Wfw/LSWijgD++T8ga7AFdYz3P5HbPvHhAPU/tZlOhSua8j+9KbZboGjwP2h978+l2ew/Kao+WXxK6T8hSeIEQh7mPyN6naDdTeM/XtVoRnfR4D+C1twOIkLdPx6Oi0XMadk/t6Ab70IL1j/xYQcZ8hjTP+ozexxxhtA//L0a4gWRzD+xS7tOFarIPxoKClnzRcU/DRobnnZUwj/pFGVJfo6/P0gvTdIZI7s/4SoW7zBQtz8a+pcq3AG0P2KzMUCXJrE/v+EscARerT9t/vRnTxupP+QW/W2QbaU/JmcsbFRAoj/1Enz9ugOfPw9hYASqRZo/s+4lpwsslj9yVXMNPKCSP98lsnPcHY8/AD3PTo7PiT9HeegoAjqFP3fKUjspRoE/IY9QYZfBez8GwI3P0fN1P4UDKoD6EHM/",
        "dtype": "float64",
        "shape": "114"
       }
      }
     },
     "metadata": {
      "atol": 1e-12,
      "format": "oedes.testing.nb_store_array",
      "label": null,
      "rtol": 1e-07
     },
     "output_type": "display_data"
    },
    {
     "name": "stdout",
     "output_type": "stream",
     "text": [
      "\r"
     ]
    },
    {
     "data": {
      "image/png": "[encoded data removed]",
      "text/plain": [
       "<Figure size 432x288 with 1 Axes>"
      ]
     },
     "metadata": {},
     "output_type": "display_data"
    }
   ],
   "source": [
    "ax = plt.gca()\n",
    "Nt = 1.2e23\n",
    "for Cdt in progressbar([5e3, 1e4, 1.5e4, 2e4, 2.5e4],'Cdt'):\n",
    "    c, t, j = run(27.4, {'electron.trap0.rrate': Cdt / N0})\n",
    "    jn = c.attime(99e-6).output()['J']\n",
    "    ax.plot(t * 1e6, j / jn, label=r'$C_{dt}$=%s $\\mathrm{s^{-1}}$' % formatter(Cdt))\n",
    "ax.set_xlabel(r'Time [$\\mathrm{\\mu s}$]')\n",
    "ax.set_ylabel('Normalized photocurrent')\n",
    "ax.set_ylim([1e-3, 1])\n",
    "ax.set_xlim([100, 450])\n",
    "ax.set_yscale('log');\n",
    "ax.set_title('Decay of photocurrent: dependence on detrapping rate')\n",
    "ax.legend(loc='upper right');"
   ]
  },
  {
   "cell_type": "markdown",
   "metadata": {
    "oedes_subtest": {
     "name": "9a"
    }
   },
   "source": [
    "### Rise of photocurrent: influence of trapping rate"
   ]
  },
  {
   "cell_type": "markdown",
   "metadata": {},
   "source": [
    "The plot below shows the rise of photocurrent, calculated for different values of trapping rate $C_t$."
   ]
  },
  {
   "cell_type": "code",
   "execution_count": 17,
   "metadata": {},
   "outputs": [
    {
     "data": {
      "application/vnd.jupyter.widget-view+json": {
       "model_id": "",
       "version_major": 2,
       "version_minor": 0
      },
      "text/plain": [
       "HBox(children=(IntProgress(value=0, description='Ct', max=5), HTML(value='')))"
      ]
     },
     "metadata": {},
     "output_type": "display_data"
    },
    {
     "data": {
      "application/vnd.jupyter.widget-view+json": {
       "model_id": "",
       "version_major": 2,
       "version_minor": 0
      },
      "text/plain": [
       "HBox(children=(IntProgress(value=1, bar_style='info', description='transient', max=1), HTML(value='')))"
      ]
     },
     "metadata": {},
     "output_type": "display_data"
    },
    {
     "data": {
      "application/vnd.jupyter.widget-view+json": {
       "model_id": "",
       "version_major": 2,
       "version_minor": 0
      },
      "text/plain": [
       "HBox(children=(IntProgress(value=1, bar_style='info', description='transient', max=1), HTML(value='')))"
      ]
     },
     "metadata": {},
     "output_type": "display_data"
    },
    {
     "data": {
      "application/json": {
       "data": {
        "__ndarray__": "ldYm6AsuET6V1iboCy4hPuBBOtwRxSk+Ooww4o55NT5osStlzVNDPv5DqabsQFI+Sg1oR3y3YT7wcccXxHJxPkIk9/9nUIE+bP0O9Dk/kT4A6hruojahPkrgIGtXMrE+cNujqTEwwT4CWeXIHi/RPswXhliVLuE+MHdWoFAu8T7ipj5ELi4BP7y+MhYdLhE/YFGZGwkLHz9GKzyZa98nP6Sj3Ih0HzE/lMH9w7LUNz/8qfHSTWJAPwEns/hPYkA/BqR0HlJiQD8LITZEVGJAPxUbuY9YYkA/KA+/JmFiQD9P98pUcmJAP53H4rCUYkA/OGgSadliQD9vqXHZYmNAP9wrMLp1ZEA/tzCte5tmQD9tOqf+5mpAP9hNmwR+c0A/r3SDEKyEQD9cwlMoCKdAP7Zd9FfA60A/a5Q1tzB1QT/UAbh1EYhCP07OgrTaTkQ/W9ZKKoFxRj/0Ue7qxRdJP3wuRmxWhUw/dlj5q8abUD+S3XNPthhUPxwrdpnx7lk/GGO9FrTNYj97FK5H4XpkPw==",
        "dtype": "float64",
        "shape": "50"
       }
      }
     },
     "metadata": {
      "atol": 1e-12,
      "format": "oedes.testing.nb_store_array",
      "label": null,
      "rtol": 1e-07
     },
     "output_type": "display_data"
    },
    {
     "data": {
      "application/json": {
       "data": {
        "__ndarray__": "sf1PHC0btj5xk0q4MknQPsOUawZ0AeA+JL9vfr9c9D6JwoHmcAAOP4jDy1/hsSY/NshLLNwaQD95TG4KDkFUP4j01zT5+mU/1CdQgpYcdD9xABErvOZ9P7wQ3xPQmII/KGt5Z9JJhT9zwX67yE+HP/vkwGZxUog/riK0cg2ziD+3/dmwXwKJP6ox8UKVdIk/Y3Yf8+jxiT9WTv6ef1KKP2J4SxoOmYo/vLHqcejIij9ArON+weWKP3NcEuEQ5Yo/F0fc+bjjij9OyuRPwuGKP8zZW+2V24o/lJ/wtsjHij/uBewuD4uKPyW4s7xJ5Ik/7i8MhxdeiD932ejk42eFP2PaFAjG2IA/hTl/Y+Hndz9mW5+jN51wP7JeDj/pdmY/2lFEaQDAXD+gvR/F369UP/xZKvtgtlE/BMM48IOgTj9X2Q1FZbxHP8YzmdYbC0A/MsRTnFFZND9qaaeb4LUnP5ipvAp0mBg/oT+uKzqkBT+jZdIjMOrtPhSXmvvVqsw+3q0ZDw0qnz7CeNe/yAiGPg==",
        "dtype": "float64",
        "shape": "50"
       }
      }
     },
     "metadata": {
      "atol": 1e-12,
      "format": "oedes.testing.nb_store_array",
      "label": null,
      "rtol": 1e-07
     },
     "output_type": "display_data"
    },
    {
     "data": {
      "application/vnd.jupyter.widget-view+json": {
       "model_id": "",
       "version_major": 2,
       "version_minor": 0
      },
      "text/plain": [
       "HBox(children=(IntProgress(value=1, bar_style='info', description='transient', max=1), HTML(value='')))"
      ]
     },
     "metadata": {},
     "output_type": "display_data"
    },
    {
     "data": {
      "application/vnd.jupyter.widget-view+json": {
       "model_id": "",
       "version_major": 2,
       "version_minor": 0
      },
      "text/plain": [
       "HBox(children=(IntProgress(value=1, bar_style='info', description='transient', max=1), HTML(value='')))"
      ]
     },
     "metadata": {},
     "output_type": "display_data"
    },
    {
     "data": {
      "application/json": {
       "data": {
        "__ndarray__": "ldYm6AsuET6V1iboCy4hPuBBOtwRxSk+Ooww4o55NT5osStlzVNDPv5DqabsQFI+Sg1oR3y3YT7wcccXxHJxPkIk9/9nUIE+bP0O9Dk/kT4A6hruojahPkrgIGtXMrE+cNujqTEwwT4CWeXIHi/RPswXhliVLuE+MHdWoFAu8T7ipj5ELi4BP7y+MhYdLhE/LlvTxYxQID8wbAgBnIopP0DME876cDI/mu5NXjmuOT/8qfHSTWJAPwEns/hPYkA/BqR0HlJiQD8LITZEVGJAPxUbuY9YYkA/KA+/JmFiQD9P98pUcmJAP53H4rCUYkA/OGgSadliQD9vqXHZYmNAP9wrMLp1ZEA/tzCte5tmQD9tOqf+5mpAP9hNmwR+c0A/r3SDEKyEQD9cwlMoCKdAP7Zd9FfA60A/a5Q1tzB1QT/UAbh1EYhCPy5Yk7QQiEQ/0VDOo+bqRj8nnVPR7NlJP/bVyJikmk0/qA1wke1VUT9fUgbYQAdVP6pskCB5DFs/4sRlcd5XYz97FK5H4XpkPw==",
        "dtype": "float64",
        "shape": "50"
       }
      }
     },
     "metadata": {
      "atol": 1e-12,
      "format": "oedes.testing.nb_store_array",
      "label": null,
      "rtol": 1e-07
     },
     "output_type": "display_data"
    },
    {
     "data": {
      "application/json": {
       "data": {
        "__ndarray__": "HJcxa4cWtj7tyW960UTQPoDw1Tpo+N8++C8AbKRS9D7Hm5AzFuYNPyYhkFn6iyY/qruhUdbMPz/IS5t+OcFTP66OL0sG+2Q/S78VT8Oicj+6FeJ1bw97P8ytI0p0v4A/mq6Ma2tVgz8i1XbihF6FPxipSd8kboY/WicDIsXnhj/HzAGcg2SHPxZvDZT5IYg/lV5HF4YKiT/BBPe4Hr2JP+BUOKJeP4o/AvKFY96Xij+CrSVIWsaKP//YOAuqxYo/3uFd8FLEij+0RP+VXcKKP2G2QYw2vIo/LWrUYoOoij+GvhUbVGyKP0gWLD1cyIk/WAa0VRRPiD9E0F8kKYmFP+zl124jd4E/pGiA1wuCej/v/pAVzBJ0P5ZOgm20zm0/pA55lF2sZT9gFjo4YXNhP0GASY7aMV8/8ycFZad3Wz/hptuFO9FVP7LiqdwMbE0/jYkI8K+kQj8DTa7LNsM1PxQhWzSDtyY/37JUqPlDFD9MdY4Ps8P8PpyTjoPf69w+UWndEnkMsT6YHHg/ofafPg==",
        "dtype": "float64",
        "shape": "50"
       }
      }
     },
     "metadata": {
      "atol": 1e-12,
      "format": "oedes.testing.nb_store_array",
      "label": null,
      "rtol": 1e-07
     },
     "output_type": "display_data"
    },
    {
     "data": {
      "application/vnd.jupyter.widget-view+json": {
       "model_id": "",
       "version_major": 2,
       "version_minor": 0
      },
      "text/plain": [
       "HBox(children=(IntProgress(value=1, bar_style='info', description='transient', max=1), HTML(value='')))"
      ]
     },
     "metadata": {},
     "output_type": "display_data"
    },
    {
     "data": {
      "application/vnd.jupyter.widget-view+json": {
       "model_id": "",
       "version_major": 2,
       "version_minor": 0
      },
      "text/plain": [
       "HBox(children=(IntProgress(value=1, bar_style='info', description='transient', max=1), HTML(value='')))"
      ]
     },
     "metadata": {},
     "output_type": "display_data"
    },
    {
     "data": {
      "application/json": {
       "data": {
        "__ndarray__": "ldYm6AsuET6V1iboCy4hPuBBOtwRxSk+Ooww4o55NT5osStlzVNDPv5DqabsQFI+Sg1oR3y3YT7wcccXxHJxPkIk9/9nUIE+bP0O9Dk/kT4A6hruojahPkrgIGtXMrE+cNujqTEwwT4CWeXIHi/RPswXhliVLuE+MHdWoFAu8T7ipj5ELi4BP7y+MhYdLhE/Qq8Fd5smIT9LHb2qmEsrP91sK59l0jM/5tScO5CcOz/8qfHSTWJAPwEns/hPYkA/BqR0HlJiQD8LITZEVGJAPxUbuY9YYkA/KA+/JmFiQD9P98pUcmJAP53H4rCUYkA/OGgSadliQD9vqXHZYmNAP9wrMLp1ZEA/tzCte5tmQD9tOqf+5mpAP9hNmwR+c0A/r3SDEKyEQD9cwlMoCKdAP7Zd9FfA60A/a5Q1tzB1QT/UAbh1EYhCP6fcvPLSrUQ/St8CUsVRRz8yUGIUS4lKPw/dNHPfmk4/PAGWx8sCUj+iN6opcONVP0wHn04REFw/9q5DKpzOYz97FK5H4XpkPw==",
        "dtype": "float64",
        "shape": "50"
       }
      }
     },
     "metadata": {
      "atol": 1e-12,
      "format": "oedes.testing.nb_store_array",
      "label": null,
      "rtol": 1e-07
     },
     "output_type": "display_data"
    },
    {
     "data": {
      "application/json": {
       "data": {
        "__ndarray__": "/vJUzNIRtj4r2NLzYUDQPmd7BDfG7d8+B9kLWWpI9D7R3zd/fMsNP550GI70ZSY/FNcWF+9kPz8yCGyKlkVTP921T4tqDWQ/wi4ByQZWcT8cXLNdoap4P2iDTFqbc34/ENDTWM67gT/R+WcIWcaDP5FauVmd3YQ/PszkjWBmhT/GVPRt4f+FPxKUW5ep8IY/1FXMzpc5iD+8ES/snzWJP4kkUwwy7Yk/EOrwthRqij+0GHs3wp6KP9GaX1wSnoo/Lh6vDrycij+sSOYEyJqKP/L7CFimlIo/5yMsSw2Bij+QNwH1Z0WKP+CAGBszpIk/7Bpc6E43iD86NqnGhZ2FP+I/qZN+9oE/kYcWupmYfD9C5Q2p0s92P4QcEZ6UzHE/6owXnl1yaz9eS23ZIB5nPxy83uFBDmU/5UBqgWzLYj9lvua6eYJeP8eC8YFEzlQ/wtaQCLdhSj+niVr2GuM+P5Da/CZKPDA/mk9YCMJfHT/g38a+b2EFP2fjET16d+Y+gLKpixyMvD572EqxFKGxPg==",
        "dtype": "float64",
        "shape": "50"
       }
      }
     },
     "metadata": {
      "atol": 1e-12,
      "format": "oedes.testing.nb_store_array",
      "label": null,
      "rtol": 1e-07
     },
     "output_type": "display_data"
    },
    {
     "data": {
      "application/vnd.jupyter.widget-view+json": {
       "model_id": "",
       "version_major": 2,
       "version_minor": 0
      },
      "text/plain": [
       "HBox(children=(IntProgress(value=1, bar_style='info', description='transient', max=1), HTML(value='')))"
      ]
     },
     "metadata": {},
     "output_type": "display_data"
    },
    {
     "data": {
      "application/vnd.jupyter.widget-view+json": {
       "model_id": "",
       "version_major": 2,
       "version_minor": 0
      },
      "text/plain": [
       "HBox(children=(IntProgress(value=1, bar_style='info', description='transient', max=1), HTML(value='')))"
      ]
     },
     "metadata": {},
     "output_type": "display_data"
    },
    {
     "data": {
      "application/json": {
       "data": {
        "__ndarray__": "ldYm6AsuET6V1iboCy4hPuBBOtwRxSk+Ooww4o55NT5osStlzVNDPv5DqabsQFI+Sg1oR3y3YT7wcccXxHJxPkIk9/9nUIE+bP0O9Dk/kT4A6hruojahPkrgIGtXMrE+cNujqTEwwT4CWeXIHi/RPswXhliVLuE+MHdWoFAu8T7ipj5ELi4BP7y+MhYdLhE/qMosfxQuIT/WEaV4ykAsPygsmP2OyDQ/RqQsvr8NPT/8qfHSTWJAPwEns/hPYkA/BqR0HlJiQD8LITZEVGJAPxUbuY9YYkA/KA+/JmFiQD9P98pUcmJAP53H4rCUYkA/OGgSadliQD9vqXHZYmNAP9wrMLp1ZEA/tzCte5tmQD9tOqf+5mpAP9hNmwR+c0A/r3SDEKyEQD9cwlMoCKdAP7Zd9FfA60A/a5Q1tzB1QT/UAbh1EYhCP6fcvPLSrUQ/1k7iVCGaRz8br9PmkSBLP+hZ0+7Rhk8/bnpoIq6kUj/AixH6La5WP50SySBD71w/6EOb7MYZZD97FK5H4XpkPw==",
        "dtype": "float64",
        "shape": "50"
       }
      }
     },
     "metadata": {
      "atol": 1e-12,
      "format": "oedes.testing.nb_store_array",
      "label": null,
      "rtol": 1e-07
     },
     "output_type": "display_data"
    },
    {
     "data": {
      "application/json": {
       "data": {
        "__ndarray__": "DYkp51sMtj776doMOzvQPtp+G7ls4d8+bIvIDow89D5IfjFgtKwNP2R990E/OiY/BvsqZhfvPj/zU/qM3rxSP4lNuXiNEWM/Kq9fqLsHcD9N/cI92V12P0UpIwb+l3s/AEsDCk89gD/4cZ3rLEiCP5PGZ/bmY4M/kNxGZeT1gz8QMJCWMaKEP/e4t0s4uIU/fGFBdklEhz+SxEYBopKIP4DdLdsxh4k/c/RxeNcuij9e69QQ4mWKP5WzlqYyZYo/D8JCRN1jij8010686mGKP+QRSzbPW4o/2uauHVRIij+A8cFVTA2KPwD5JnU0b4k/FgeJc+QPiD+IXtD0G6SFP/K77t4xZYI/QQLaQjJ0fj/Vef9ITTp5Pzaj1bDVWHQ/zKYCr6ZFcD+U3tIqcSlsPxyUaSas/Wk/IIQy0beAZz+rmxN2F39jPxlbQitFj1s/R+pg7gSKUT8MDRHD46pEP97NKQX6+TU/EYS243pGJD8zMLfQ3YIOPyXHygbL8PA+bD3qPJ6Txz6yu4XnbtnBPg==",
        "dtype": "float64",
        "shape": "50"
       }
      }
     },
     "metadata": {
      "atol": 1e-12,
      "format": "oedes.testing.nb_store_array",
      "label": null,
      "rtol": 1e-07
     },
     "output_type": "display_data"
    },
    {
     "data": {
      "application/vnd.jupyter.widget-view+json": {
       "model_id": "",
       "version_major": 2,
       "version_minor": 0
      },
      "text/plain": [
       "HBox(children=(IntProgress(value=1, bar_style='info', description='transient', max=1), HTML(value='')))"
      ]
     },
     "metadata": {},
     "output_type": "display_data"
    },
    {
     "data": {
      "application/vnd.jupyter.widget-view+json": {
       "model_id": "",
       "version_major": 2,
       "version_minor": 0
      },
      "text/plain": [
       "HBox(children=(IntProgress(value=1, bar_style='info', description='transient', max=1), HTML(value='')))"
      ]
     },
     "metadata": {},
     "output_type": "display_data"
    },
    {
     "data": {
      "application/json": {
       "data": {
        "__ndarray__": "ldYm6AsuET6V1iboCy4hPuBBOtwRxSk+Ooww4o55NT5osStlzVNDPv5DqabsQFI+Sg1oR3y3YT7wcccXxHJxPkIk9/9nUIE+bP0O9Dk/kT4A6hruojahPkrgIGtXMrE+cNujqTEwwT4CWeXIHi/RPswXhliVLuE+MHdWoFAu8T7ipj5ELi4BP7y+MhYdLhE/qMosfxQuIT9sqxku19otP3Yk4+wKbjY/xEMDUJ6NPz/8qfHSTWJAPwEns/hPYkA/BqR0HlJiQD8LITZEVGJAPxUbuY9YYkA/KA+/JmFiQD9P98pUcmJAP53H4rCUYkA/OGgSadliQD9vqXHZYmNAP9wrMLp1ZEA/tzCte5tmQD9tOqf+5mpAP9hNmwR+c0A/r3SDEKyEQD9cwlMoCKdAP7Zd9FfA60A/a5Q1tzB1QT/UAbh1EYhCP6fcvPLSrUQ/1xzUh/4bSD9WPYqqcTVMPxnWLvzunlA/oZONckvYUz9+/snZHz9YP4aOiU3N2F4/exSuR+F6ZD8=",
        "dtype": "float64",
        "shape": "49"
       }
      }
     },
     "metadata": {
      "atol": 1e-12,
      "format": "oedes.testing.nb_store_array",
      "label": null,
      "rtol": 1e-07
     },
     "output_type": "display_data"
    },
    {
     "data": {
      "application/json": {
       "data": {
        "__ndarray__": "dI8khg0Dtj6Q2WhgdDLQPhol369jzN8+xe2BNVso9D46JhNjjngNP2RitAno8CU/+XZ1Sh0tPj8R4+hpoONRPxNlb++bl2E/FO+NhrtobD/Kpi5iMVVzPxt7+43h7nc/wtVbdRCtfD8k5pJRN2CAP4brKmN4fYE/gcEqj2oTgj+RR89HP8qCP78Uisk7/IM/U+1Yk/jJhT+a95B4F5KHP0oQefAM44g/aqjsrKfMiT+CW1io6eiJP8agUPo66Ik/BJOOHufmiT9A/k0X9+SJP0uerdDl3ok/zSpBtpzLiT/GUm6SmpGJP/S1GoSW+Ig/EkwzgZOuhz+y+r6zL4aFP/pc2EVD0oI/BUDeyqhBgD/R/8T1Oep7PzPQRKoGLnc/1V2QZN4ecz8bQcfWy+5wP0Mv0z+Zsm8/TK0y53MrbT8j8UkAHvNoP0YdCoiEj2I/LwuMKcbCVz95w+8RbyxMP3CDKL2NRT4/Bp+pfkd2LD/mBN8sXyMWP45xFKvEAfo+U9LV7vHd1T4=",
        "dtype": "float64",
        "shape": "49"
       }
      }
     },
     "metadata": {
      "atol": 1e-12,
      "format": "oedes.testing.nb_store_array",
      "label": null,
      "rtol": 1e-07
     },
     "output_type": "display_data"
    },
    {
     "name": "stdout",
     "output_type": "stream",
     "text": [
      "\r"
     ]
    },
    {
     "data": {
      "image/png": "[encoded data removed]",
      "text/plain": [
       "<Figure size 432x288 with 1 Axes>"
      ]
     },
     "metadata": {},
     "output_type": "display_data"
    }
   ],
   "source": [
    "ax = plt.gca()\n",
    "for Ct in progressbar([6.1e-17, 1.2e-16, 1.8e-16, 2.5e-16, 3.7e-16],'Ct'):\n",
    "    c, t, j = run(1e-2, {'electron.trap0.trate': Ct}, t=500e-6)\n",
    "    ax.plot(t * 1e6, j * 0.1, label=r'$C_{t}$=%s $\\mathrm{m^3 s^{-1}}$' % formatter(Ct))\n",
    "ax.set_xlabel(r'Time [$\\mathrm{\\mu s}$]')\n",
    "ax.set_ylabel(r'Photocurrent [$\\mathrm{mA/cm^2}$]')\n",
    "ax.set_ylim([0.8e-3, 1.4e-3])\n",
    "ax.set_xlim([0, 500])\n",
    "ax.legend(loc='lower right');"
   ]
  },
  {
   "cell_type": "markdown",
   "metadata": {
    "oedes_subtest": {
     "name": "9b"
    }
   },
   "source": [
    "### Rise of photocurrent: influence of detrapping rate"
   ]
  },
  {
   "cell_type": "markdown",
   "metadata": {},
   "source": [
    "The plot below shows the rise of photocurrent, calculated for different values of trapping rate $C_{dt}$."
   ]
  },
  {
   "cell_type": "code",
   "execution_count": 18,
   "metadata": {
    "scrolled": true
   },
   "outputs": [
    {
     "data": {
      "application/vnd.jupyter.widget-view+json": {
       "model_id": "",
       "version_major": 2,
       "version_minor": 0
      },
      "text/plain": [
       "HBox(children=(IntProgress(value=0, description='Cdt', max=5), HTML(value='')))"
      ]
     },
     "metadata": {},
     "output_type": "display_data"
    },
    {
     "data": {
      "application/vnd.jupyter.widget-view+json": {
       "model_id": "",
       "version_major": 2,
       "version_minor": 0
      },
      "text/plain": [
       "HBox(children=(IntProgress(value=1, bar_style='info', description='transient', max=1), HTML(value='')))"
      ]
     },
     "metadata": {},
     "output_type": "display_data"
    },
    {
     "data": {
      "application/vnd.jupyter.widget-view+json": {
       "model_id": "",
       "version_major": 2,
       "version_minor": 0
      },
      "text/plain": [
       "HBox(children=(IntProgress(value=1, bar_style='info', description='transient', max=1), HTML(value='')))"
      ]
     },
     "metadata": {},
     "output_type": "display_data"
    },
    {
     "data": {
      "application/json": {
       "data": {
        "__ndarray__": "ldYm6AsuET6V1iboCy4hPuBBOtwRxSk+Ooww4o55NT5osStlzVNDPv5DqabsQFI+Sg1oR3y3YT7wcccXxHJxPkIk9/9nUIE+bP0O9Dk/kT4A6hruojahPkrgIGtXMrE+cNujqTEwwT4CWeXIHi/RPswXhliVLuE+MHdWoFAu8T7ipj5ELi4BP7y+MhYdLhE/qMosfxQuIT+e0KkzEC4xP37UBCzL1Ds//Knx0k1iQD8BJ7P4T2JAPwakdB5SYkA/CyE2RFRiQD8VG7mPWGJAPygPvyZhYkA/T/fKVHJiQD+dx+KwlGJAPzhoEmnZYkA/b6lx2WJjQD/cKzC6dWRAP7cwrXubZkA/bTqn/uZqQD/YTZsEfnNAP690gxCshEA/XMJTKAinQD+2XfRXwOtAP2uUNbcwdUE/1AG4dRGIQj+n3Lzy0q1EP0ySxuxV+Ug/cJgUAQZWTz9fp8utcpFTP0pwJO1HiVg/VxSV+6s4Xz97FK5H4XpkPw==",
        "dtype": "float64",
        "shape": "47"
       }
      }
     },
     "metadata": {
      "atol": 1e-12,
      "format": "oedes.testing.nb_store_array",
      "label": null,
      "rtol": 1e-07
     },
     "output_type": "display_data"
    },
    {
     "data": {
      "application/json": {
       "data": {
        "__ndarray__": "hob50j4Jtj4ygraW8jjQPiSyV4v13N8+Oay+Pr859D4mFiFatagNP7mxiAdmNyY/f59spWnrPj/dyXjmz7pSP6iXSZh7D2M/OSNL3qIFcD+yqC9mMVl2P6IPDdJdjXs/PoAfgtcxgD8carnBqzCCP5AWwIMjNYM/5Krf4bqbgz84S5sPA/2DP6PW8iWno4Q/CkosVB25hT+I1BYfQUSHP6TXPS3giIg/vd9M0GkCiT9IVuUXuwGJP6KTGuRmAIk/yrOv/XX+iD8KO05FX/iIP5g1EmHy5Ig/1QO9YhGqiD8MVlS4UgyIP3u5Z6CirYY/kmUslK1ChD+P8rCsmASBPxz9jLyAtXs/9k9mH8GBdj+25ewjYq1xP1AmiRhOaGs/KBkQLvtsZz+hhXRv8wNmP/pvOyyU3mQ/CVJJzOTxYj9Ow7fkqXdfP1Bj8kGXRlY/AGn46oOESz9nwvetSx0/P25W6snPOy8/TUR5LqmKGj8A7XpKCbMBPw==",
        "dtype": "float64",
        "shape": "47"
       }
      }
     },
     "metadata": {
      "atol": 1e-12,
      "format": "oedes.testing.nb_store_array",
      "label": null,
      "rtol": 1e-07
     },
     "output_type": "display_data"
    },
    {
     "data": {
      "application/vnd.jupyter.widget-view+json": {
       "model_id": "",
       "version_major": 2,
       "version_minor": 0
      },
      "text/plain": [
       "HBox(children=(IntProgress(value=1, bar_style='info', description='transient', max=1), HTML(value='')))"
      ]
     },
     "metadata": {},
     "output_type": "display_data"
    },
    {
     "data": {
      "application/vnd.jupyter.widget-view+json": {
       "model_id": "",
       "version_major": 2,
       "version_minor": 0
      },
      "text/plain": [
       "HBox(children=(IntProgress(value=1, bar_style='info', description='transient', max=1), HTML(value='')))"
      ]
     },
     "metadata": {},
     "output_type": "display_data"
    },
    {
     "data": {
      "application/json": {
       "data": {
        "__ndarray__": "ldYm6AsuET6V1iboCy4hPuBBOtwRxSk+Ooww4o55NT5osStlzVNDPv5DqabsQFI+Sg1oR3y3YT7wcccXxHJxPkIk9/9nUIE+bP0O9Dk/kT4A6hruojahPkrgIGtXMrE+cNujqTEwwT4CWeXIHi/RPswXhliVLuE+MHdWoFAu8T7ipj5ELi4BP7y+MhYdLhE/qMosfxQuIT/EEaV4ykAsPxcsmP2OyDQ/LqQsvr8NPT/8qfHSTWJAPwEns/hPYkA/BqR0HlJiQD8LITZEVGJAPxUbuY9YYkA/KA+/JmFiQD9P98pUcmJAP53H4rCUYkA/OGgSadliQD9vqXHZYmNAP9wrMLp1ZEA/tzCte5tmQD9tOqf+5mpAP9hNmwR+c0A/r3SDEKyEQD9cwlMoCKdAP7Zd9FfA60A/a5Q1tzB1QT/UAbh1EYhCP6fcvPLSrUQ/1k7iVCGaRz8ar9PmkSBLP+hZ0+7Rhk8/b3poIq6kUj/CixH6La5WP5MSySBD71w/9kOb7MYZZD97FK5H4XpkPw==",
        "dtype": "float64",
        "shape": "50"
       }
      }
     },
     "metadata": {
      "atol": 1e-12,
      "format": "oedes.testing.nb_store_array",
      "label": null,
      "rtol": 1e-07
     },
     "output_type": "display_data"
    },
    {
     "data": {
      "application/json": {
       "data": {
        "__ndarray__": "YYsl51sMtj5GD9oMOzvQPm+tGrls4d8+Vl/IDow89D7/azFgtKwNPwB690E/OiY/yPkqZhfvPj/HU/qM3rxSP3ZNuXiNEWM/JK9fqLsHcD9G/cI92V12P0ApIwb+l3s//koDCk89gD/4cZ3rLEiCP5DGZ/bmY4M/kNxGZeT1gz8OMJCWMaKEP/i4t0s4uIU/eGFBdklEhz+RxEYBopKIP3/dLdsxh4k/dPRxeNcuij9e69QQ4mWKP5azlqYyZYo/DsJCRN1jij8z10686mGKP+QRSzbPW4o/2uauHVRIij+A8cFVTA2KP/74JnU0b4k/GgeJc+QPiD+IXtD0G6SFP/O77t4xZYI/PwLaQjJ0fj/Yef9ITTp5PzWj1bDVWHQ/zaYCr6ZFcD+Q3tIqcSlsPx+UaSas/Wk/IIQy0beAZz+tmxN2F39jPxBbQitFj1s/UOpg7gSKUT/7DBHD46pEP+LNKQX6+TU/noO243pGJD94MrfQ3YIOP+rEygbL8PA+BkfqPJ6Txz7wtYXnbtnBPg==",
        "dtype": "float64",
        "shape": "50"
       }
      }
     },
     "metadata": {
      "atol": 1e-12,
      "format": "oedes.testing.nb_store_array",
      "label": null,
      "rtol": 1e-07
     },
     "output_type": "display_data"
    },
    {
     "data": {
      "application/vnd.jupyter.widget-view+json": {
       "model_id": "",
       "version_major": 2,
       "version_minor": 0
      },
      "text/plain": [
       "HBox(children=(IntProgress(value=1, bar_style='info', description='transient', max=1), HTML(value='')))"
      ]
     },
     "metadata": {},
     "output_type": "display_data"
    },
    {
     "data": {
      "application/vnd.jupyter.widget-view+json": {
       "model_id": "",
       "version_major": 2,
       "version_minor": 0
      },
      "text/plain": [
       "HBox(children=(IntProgress(value=1, bar_style='info', description='transient', max=1), HTML(value='')))"
      ]
     },
     "metadata": {},
     "output_type": "display_data"
    },
    {
     "data": {
      "application/json": {
       "data": {
        "__ndarray__": "ldYm6AsuET6V1iboCy4hPuBBOtwRxSk+Ooww4o55NT5osStlzVNDPv5DqabsQFI+Sg1oR3y3YT7wcccXxHJxPkIk9/9nUIE+bP0O9Dk/kT4A6hruojahPkrgIGtXMrE+cNujqTEwwT4CWeXIHi/RPswXhliVLuE+MHdWoFAu8T7ipj5ELi4BP7y+MhYdLhE/iD1W/gp8HD8I+0ELRQ0lP0CLvulLiC0/9+QIkPVLND9YOwL2xP87P/yp8dJNYkA/ASez+E9iQD8GpHQeUmJAPwshNkRUYkA/FRu5j1hiQD8oD78mYWJAP0/3ylRyYkA/ncfisJRiQD84aBJp2WJAP2+pcdliY0A/3CswunVkQD+3MK17m2ZAP206p/7makA/2E2bBH5zQD+vdIMQrIRAP1zCUygIp0A/tl30V8DrQD9rlDW3MHVBP9QBuHURiEI/LqrVhX/1Qz+vrc/y+6tFP+v0ZLv5y0c/AZT4MsiOSj8s2ErqKGNOP58qshBGHVI/e/IgPItAVz8ZQX/JisNgP3sUrkfhemQ/",
        "dtype": "float64",
        "shape": "51"
       }
      }
     },
     "metadata": {
      "atol": 1e-12,
      "format": "oedes.testing.nb_store_array",
      "label": null,
      "rtol": 1e-07
     },
     "output_type": "display_data"
    },
    {
     "data": {
      "application/json": {
       "data": {
        "__ndarray__": "CaWnwf0Ntj6MgeV1bTzQPp8EJxbE498+/r/O+wM+9D7620KCza4NP1iDGgHAOyY/ZlK9rhLxPj8PCpyQEr5SPz9uzjsaE2M/pmr8PxoKcD9qDfsxHmV2P8daGpkNq3s/uEJdpu1SgD9+7bRGKnWCP1RCLJdgvIM/zNtWpZGZhD/oNE40o7WFP54bDJvqQoc/GGmAjOqWiD9YBgXYKY6JP3luvApeNoo/e2p3v9Oeij/GQji7v9eKPwqcHmqa6Yo/2gLybOroij9I128clOeKP9IZLlKg5Yo/9B4UJ4Hfij/YuRlo+8uKP5Z98brWkIo/8kmSSXzyiT+qD2kEspKIPzQeCfUzJoY//PgKlzTmgj+QwPp8OnF/Px+mjn4qK3o/frHUuXEwdT/Yu4Q6N+xwPwD2MXMevmw/ad7D78BPaT+MPxBiuepkP8ZrHoi0il0/i8CFpZLyUj8JWCUeuZJGP8hbfP74Xzg/Td8ZTKz8Jj+GsEYUddwRP/dHrtpq0vQ+gC79B3I/zz7aoeBuj5iZPrUj6ywUpms+",
        "dtype": "float64",
        "shape": "51"
       }
      }
     },
     "metadata": {
      "atol": 1e-12,
      "format": "oedes.testing.nb_store_array",
      "label": null,
      "rtol": 1e-07
     },
     "output_type": "display_data"
    },
    {
     "data": {
      "application/vnd.jupyter.widget-view+json": {
       "model_id": "",
       "version_major": 2,
       "version_minor": 0
      },
      "text/plain": [
       "HBox(children=(IntProgress(value=1, bar_style='info', description='transient', max=1), HTML(value='')))"
      ]
     },
     "metadata": {},
     "output_type": "display_data"
    },
    {
     "data": {
      "application/vnd.jupyter.widget-view+json": {
       "model_id": "",
       "version_major": 2,
       "version_minor": 0
      },
      "text/plain": [
       "HBox(children=(IntProgress(value=1, bar_style='info', description='transient', max=1), HTML(value='')))"
      ]
     },
     "metadata": {},
     "output_type": "display_data"
    },
    {
     "data": {
      "application/json": {
       "data": {
        "__ndarray__": "ldYm6AsuET6V1iboCy4hPuBBOtwRxSk+Ooww4o55NT5osStlzVNDPv5DqabsQFI+Sg1oR3y3YT7wcccXxHJxPkIk9/9nUIE+bP0O9Dk/kT4A6hruojahPkrgIGtXMrE+cNujqTEwwT4CWeXIHi/RPswXhliVLuE+MHdWoFAu8T7ipj5ELi4BP0bhmPmTSw8/Il1n10kRGD/0P9E3KjMhP6ALysqtzCc/fOgV3HVcMD+FIWieR+g2P/yp8dJNYkA/ASez+E9iQD8GpHQeUmJAPwshNkRUYkA/FRu5j1hiQD8oD78mYWJAP0/3ylRyYkA/ncfisJRiQD84aBJp2WJAP2+pcdliY0A/3CswunVkQD+3MK17m2ZAP206p/7makA/2E2bBH5zQD+vdIMQrIRAP1zCUygIp0A/tl30V8DrQD9rlDW3MHVBP4y/27m3WEI/3NYcftVmQz/g5aWsvbBEP4e6iUY4VEY/5pMnH4OISD/cY4Txj79LPx+0tcFZhFA/BN5fqcq7VT/mGFo8VhVgP3sUrkfhemQ/",
        "dtype": "float64",
        "shape": "51"
       }
      }
     },
     "metadata": {
      "atol": 1e-12,
      "format": "oedes.testing.nb_store_array",
      "label": null,
      "rtol": 1e-07
     },
     "output_type": "display_data"
    },
    {
     "data": {
      "application/json": {
       "data": {
        "__ndarray__": "adFUK4wOtj5CbcHn1TzQPgDSWWyQ5N8+7Up3PYQ+9D6GHdZTha8NPw7UhVpFPCY/xkrLv8vxPj9C1mUQmL5SP34VKJsLFGM/R4CVsgoMcD+NXaQl42t2PxwXQKJ7vXs/qqGw+fdngD9cPFRujaCCPzxUZQVXD4Q/T8cKDVcqhT+s1Z3y/Y+GPyzkZHr5EYg/gsX6sdAwiT8kSEf5lfmJP3As+d5Pe4o/0vuaTDfGij9vJGbu3eqKP/I/NQx7+Io/fpJK38r3ij/f/4M8dPaKP6JlKQCA9Io/XgCxg1/uij9ioBHc1dqKP1SVpHemn4o/knzP/jIBij8573VXOKGIP7mSGohhNIY/6oIJTY3zgj+chI8OHod/P5jhQONfNXo/DgZkK9cidT++CT1TjLFwPzPOZC2GqGs/1lWu2Lo+Zz8sYnFb6athP7KODSaoQFc/TmewqoqiTD9IP8FtmCpAP4TECKoGOjA/km3L2lmZGz9ZQzB4w2sCP501CtmBCuE+yDC7XqvWsT5lrCMbmcRzPolM8h65bDk+",
        "dtype": "float64",
        "shape": "51"
       }
      }
     },
     "metadata": {
      "atol": 1e-12,
      "format": "oedes.testing.nb_store_array",
      "label": null,
      "rtol": 1e-07
     },
     "output_type": "display_data"
    },
    {
     "data": {
      "application/vnd.jupyter.widget-view+json": {
       "model_id": "",
       "version_major": 2,
       "version_minor": 0
      },
      "text/plain": [
       "HBox(children=(IntProgress(value=1, bar_style='info', description='transient', max=1), HTML(value='')))"
      ]
     },
     "metadata": {},
     "output_type": "display_data"
    },
    {
     "data": {
      "application/vnd.jupyter.widget-view+json": {
       "model_id": "",
       "version_major": 2,
       "version_minor": 0
      },
      "text/plain": [
       "HBox(children=(IntProgress(value=1, bar_style='info', description='transient', max=1), HTML(value='')))"
      ]
     },
     "metadata": {},
     "output_type": "display_data"
    },
    {
     "data": {
      "application/json": {
       "data": {
        "__ndarray__": "ldYm6AsuET6V1iboCy4hPuBBOtwRxSk+Ooww4o55NT5osStlzVNDPv5DqabsQFI+Sg1oR3y3YT7wcccXxHJxPkIk9/9nUIE+bP0O9Dk/kT4A6hruojahPkrgIGtXMrE+cNujqTEwwT4CWeXIHi/RPmKrdgGSYt8+Gjsc1JbR6j6hJ2G6GQj2PhzofWtzegA/3AJrnchIBz98tSj6XhIQP6YoJHtcORY/flWRPEKeHz8+AUFGjRQoPx7XGMuyTzQ//Knx0k1iQD8BJ7P4T2JAPwakdB5SYkA/CyE2RFRiQD8VG7mPWGJAPygPvyZhYkA/T/fKVHJiQD+dx+KwlGJAPzhoEmnZYkA/b6lx2WJjQD/cKzC6dWRAP7cwrXubZkA/bTqn/uZqQD/YTZsEfnNAP690gxCshEA/jKonpGKhQD/6dWAxV85AP1KtFBO0E0E/MGy4rhNrQT8mrCpwatdBP5dZ/2nIY0I/0Qjmd8YlQz8eIaE4OUxEP9uQ8AiCTkY/VnCPqRNTSj+ml2Z1Gy5RP5tWpLY+N1k/exSuR+F6ZD8=",
        "dtype": "float64",
        "shape": "52"
       }
      }
     },
     "metadata": {
      "atol": 1e-12,
      "format": "oedes.testing.nb_store_array",
      "label": null,
      "rtol": 1e-07
     },
     "output_type": "display_data"
    },
    {
     "data": {
      "application/json": {
       "data": {
        "__ndarray__": "Y9UuglYPtj6iAppqaj3QPtjOy0Kz5d8+jm5lmDs/9D5I2mjikLANP4u5JqAVPSY/OMKBpjnzPj80MtKCRsBSP3+AUlrgGGM/6nbL4kgYcD9+NEztL5l2P9xmG4M1OXw/kViErtHxgD8Y163/JK2DPzf5XUwTo4U/bPt8fDYmhz/CK4IYu3+IP0mrabrGgYk/HKzu9Powij9aQ5/JvJ2KPymZyn4O2Yo/RDGpvrbzij/ouX7/l/yKP9b3yfds/oo/opx+fp7+ij9i9bgV7v2KP6qPfQWX/Io/CgzuLaL6ij+wy9vdf/SKPzXVPrbw4Io/2Eae77Glij9U9F0nGAeKP5onP0u+pog/SreWUKk4hj+9CDRvy/KCP8VZkJmmZH8/ryg5opbEeT/iqnQxHhp0P0b0Dom0Rm0/AxzYPW5iZT9pWXSqUKBeP7y3f5mz11M/ONxaZ9apRz/9BksH4545P4zcB0w/Rig/HYd4uRYBEz8Sxjin+mz2PvlcfNxzKdE+QZm2Jqe7nD4fJwQsbR1ZPnn/VmNgWQY+2iwoqA1mpD0=",
        "dtype": "float64",
        "shape": "52"
       }
      }
     },
     "metadata": {
      "atol": 1e-12,
      "format": "oedes.testing.nb_store_array",
      "label": null,
      "rtol": 1e-07
     },
     "output_type": "display_data"
    },
    {
     "name": "stdout",
     "output_type": "stream",
     "text": [
      "\r"
     ]
    },
    {
     "data": {
      "image/png": "[encoded data removed]",
      "text/plain": [
       "<Figure size 432x288 with 1 Axes>"
      ]
     },
     "metadata": {},
     "output_type": "display_data"
    }
   ],
   "source": [
    "ax = plt.gca()\n",
    "for Cdt in progressbar([5e3, 1e4, 2e4, 3e4, 1e5],'Cdt'):\n",
    "    c, t, j = run(1e-2, {'electron.trap0.rrate': Cdt / N0}, t=500e-6)\n",
    "    ax.plot(t * 1e6, j * 0.1, label=r'$C_{dt}$=%s $\\mathrm{s^{-1}}$' % formatter(Cdt))\n",
    "ax.set_xlabel(r'Time [$\\mathrm{\\mu s}$]')\n",
    "ax.set_ylabel(r'Photocurrent [$\\mathrm{mA/cm^2}$]')\n",
    "ax.set_ylim([0.8e-3, 1.4e-3])\n",
    "ax.set_xlim([0, 500])\n",
    "ax.legend(loc='lower right');"
   ]
  },
  {
   "cell_type": "markdown",
   "metadata": {
    "oedes_subtest": {
     "name": "8a"
    }
   },
   "source": [
    "### Rise of photocurrent: influence of trap density"
   ]
  },
  {
   "cell_type": "markdown",
   "metadata": {},
   "source": [
    "The plot below shows the rise of photocurrent, calculated for different values of trap density $N_t$."
   ]
  },
  {
   "cell_type": "code",
   "execution_count": 19,
   "metadata": {},
   "outputs": [
    {
     "data": {
      "application/vnd.jupyter.widget-view+json": {
       "model_id": "",
       "version_major": 2,
       "version_minor": 0
      },
      "text/plain": [
       "HBox(children=(IntProgress(value=0, description='Nt', max=5), HTML(value='')))"
      ]
     },
     "metadata": {},
     "output_type": "display_data"
    },
    {
     "data": {
      "application/vnd.jupyter.widget-view+json": {
       "model_id": "",
       "version_major": 2,
       "version_minor": 0
      },
      "text/plain": [
       "HBox(children=(IntProgress(value=1, bar_style='info', description='transient', max=1), HTML(value='')))"
      ]
     },
     "metadata": {},
     "output_type": "display_data"
    },
    {
     "data": {
      "application/vnd.jupyter.widget-view+json": {
       "model_id": "",
       "version_major": 2,
       "version_minor": 0
      },
      "text/plain": [
       "HBox(children=(IntProgress(value=1, bar_style='info', description='transient', max=1), HTML(value='')))"
      ]
     },
     "metadata": {},
     "output_type": "display_data"
    },
    {
     "data": {
      "application/json": {
       "data": {
        "__ndarray__": "ldYm6AsuET6V1iboCy4hPuBBOtwRxSk+Ooww4o55NT5osStlzVNDPhzhwZh4gVE+hL1ouOSsWj4tAtK8cNFiPvkGBUaWjGk+1U0RgIUHcT6aUO4rAH12Ps8g3ZtURn0+WGNahQSagj7KP0mCaxuHPhXj2AlqP4w+9OFP1yMXkT5SQDdr8Y2UPoOayy77pZg+gxZaaBuOnT6sfMzPN8WhPgg5VVBzfqU+GgXQWAwtqj4M2ALaQP2vPsnFSdQnhrM+HhEEj5LEtz4grbaWrti8PtAojZQbbME+Ddk4KmbmxD4Ls/Tc+OPIPrWN4pGke80+mov1eQps0T4T/UZRuJ3UPopMyWgLfdg+F6TM+Ggu3T7EsWCVfl7hPuRSX6rSkuQ+gSbEsXo56D5KxQk8fWLsPvFjPaj5k/A+tXmUcs1X8z4Cl1yL25f2Pu6WjL0NfPo+cEdbgwRB/z7YlLOoF6MCPy/fTROJkwY/caN10ZLzCz+oumzrRM0RP4w1wP0ebxc/SgRvqSrnHz+46tcg9XgmPwSP2v11ezA/KGdgwnCUOT/8qfHSTWJAPwEns/hPYkA/BqR0HlJiQD8LITZEVGJAPxUbuY9YYkA/KA+/JmFiQD9P98pUcmJAP53H4rCUYkA/OGgSadliQD9vqXHZYmNAP9wrMLp1ZEA/G9iLa4hmQD8E6T2aTGlAP/lHJmEPbUA/hyCUjClyQD9rZ7WbenhAPxw6PUGzf0A/PKsWKcOHQD8aQSOowpBAP3oBbw3ymkA/QQYYBtumQD9Upcs7h7VAP9j7K0z6yEA/9fjqDXzlQD8r4TgSYRVBP9TmVrlPbkE/6xrJMXTiQT/AcKTSVl5CPwA1GXZZ4UI/yOE8MkNrQz8+fklv0ftDP8MQ07q6kkQ/jRbaUrIvRT+WLFcva9JFP7YxymqaekY/DU8xFvknRz8YaOmhRdpHP+nH1BVFkUg/n0/JWMRMST9+/RfFmQxKP99XlkGn0Eo/S1KnDt2YSz90je9uPWVMP1aaWEzhNU0/QLHl8/0KTj8PdJ396+ROP7+78nEvxE8/1b3dnsBUUD+YkQoH7cpQP/g+NmQ/RVE/od/jh4fEUT9XrDNey0lSP5elo/dR1lI/f3LAT7JrUz9UIy4q6AtUP0yPGMlyuVQ/JMavjIN3VT+VQ7yMRkpWP4xIQaxWN1c/uSEtO31GWD9/YR5s+4JZP5TMX2Xe/Vo/ei/TRHzSXD+3ddQS0C9fP7OFXCoAN2E/Ti4Z8jWjYz97FK5H4XpkPw==",
        "dtype": "float64",
        "shape": "119"
       }
      }
     },
     "metadata": {
      "atol": 1e-12,
      "format": "oedes.testing.nb_store_array",
      "label": null,
      "rtol": 1e-07
     },
     "output_type": "display_data"
    },
    {
     "data": {
      "application/json": {
       "data": {
        "__ndarray__": "BHXRrQuAbT//BX8LtLeFP/yNTTsUVJU/k1GT5fcTqz9kmP937trDP3do/zIkpts/kuLOR/3O6j+2nHOnnUj2PzeW4oYeAQFANEdp2g+UCEBsTzq3GAcRQMCa2z1FiRZAyeFnQcBcHEA1aYQXwRohQB73hwIZ+yNAJXyecLXEJkDVdIAeU2opQCRzroOk3StAxTmaBNAULkAa/wJTnggwQF8sBTid8TBA05j7jWDSMUAiFpD0urUyQNlcAKi+oDNAaVT+DnuUNECc21ncQ401QMrrxjF5gTZAAnGZItBkN0AA7ups9S04QMADGiPK2DhAJrjMSp9lOUBEpGBazNc5QLDp+3w/NDpAsTMpdAiAOkAWgN0jTL86QC8vRGMx9TpAOpGwTfYjO0DZuLGj60w7QN5PeoO1cDtAu31J052PO0B/IB6Sy6k7QC41CgFhvztAkXs2Do3QO0B+0kSYl907QH4rkXDq5jtASWbuTRXtO0AawN2jyPA7QPDXrRzD8jtA1sZokbLzO0Bu5Z3OFvQ7QITOf2479DtAhhjthUb0O0BcCVmjSPQ7QITKis6Q8ztALD1v8CryO0AS7EMhIPA7QPY+zmu36TtAPnq5rD/VO0ASaA3x+ZY7QEojvysx7jpAlOuC7JRsOUD2nGKD45U2QNg97lj1KzJA4DarJooqKkBECK6uBjAjQGwMrgoX5RxAiQEFSOuVFUDYsk40Lo8PQIhAzDY/3AZAnvKg7UysAEBkqhauDOb4P8bXClPSUfM/sT5J8C147z+uuPk/2PvqP/64UhP4N+g/torxJmlk5j935K0dAsLkP/jXvq2Em+I/pPzoirlU4D8ABIJUOZ/cP593m+fZDNk/hYatT+zl1T8qjZh/Ah/TP/QYzQiUrdA/ksJDogsQzT/PyUmbUEvJP3MfBylc/cU/WsSdqzsYwz+5O8aXg4/APxnS7EtYsLw/EGcWy9vQuD8d0GdiP2+1P5tGhwIufLI/4iGgsCzUrz/oaJ0771mrP94r3V9pdKc/Fu0dEdoQpD++N1UVth6hP8wRa9bbHp0/314zLXesmD/esdTK7c+UP4F6U3jddZE/XrGw1hcbjT97uQmcSRGIP7nvv+LytYM/EvIbiADpfz+Fr84XSHd5P2yEYDGe+XM/3Qb/KaSubj+aYjQYLfZmP3gOC04KpGA/lLf2DNMqVz8iW4UYNqNOP6saKLlg8kI/Y/SMsj1uNT+QneYJtG8lP1ZKCWiqABI/vkuLgINe9z7b+Tg3yA7rPg==",
        "dtype": "float64",
        "shape": "119"
       }
      }
     },
     "metadata": {
      "atol": 1e-12,
      "format": "oedes.testing.nb_store_array",
      "label": null,
      "rtol": 1e-07
     },
     "output_type": "display_data"
    },
    {
     "data": {
      "application/vnd.jupyter.widget-view+json": {
       "model_id": "",
       "version_major": 2,
       "version_minor": 0
      },
      "text/plain": [
       "HBox(children=(IntProgress(value=1, bar_style='info', description='transient', max=1), HTML(value='')))"
      ]
     },
     "metadata": {},
     "output_type": "display_data"
    },
    {
     "data": {
      "application/vnd.jupyter.widget-view+json": {
       "model_id": "",
       "version_major": 2,
       "version_minor": 0
      },
      "text/plain": [
       "HBox(children=(IntProgress(value=1, bar_style='info', description='transient', max=1), HTML(value='')))"
      ]
     },
     "metadata": {},
     "output_type": "display_data"
    },
    {
     "data": {
      "application/json": {
       "data": {
        "__ndarray__": "ldYm6AsuET6V1iboCy4hPuBBOtwRxSk+Ooww4o55NT5osStlzVNDPio+OFuesVE+ZL8YHMIcWz5R6q4/AzVjPgQnjK04Lmo+An/Mhm2FcT5C7Twj5jh3Ppr6JUz0SH4+djLq75M/gz7S4GI5zeiHPg8cEU3mOo0+TRbBHAuwkT6oeHULQ0eVPv6neGTShpk+WIyrLs6gnj4oohGeZW+iPifuysqxVKY+JCZIbR87qz5i8VzY9aWwPt6AGTGIU7Q++PUGK3vBuD4M/qy2iRC+PoRiu7ldK8I+5SR6Ys7QxT5IWD7uFAfKPtR+4uFB784+mRaUBrNi0j60Lt/KS/TVPlmto2tcato+Un0l2kf13z5BEXlj50rjPibit12ZHuc+zY1dq3J76z6mhwvKnznwPp17EacgEPM+DT1MtLZS9j7BaJxfpRj6PlU9iwaVgf4+7RqJrvbcAT9WBnBAFgEFPyPU7/XP3Qg/Zs0gn5q/DT+KrUsO7RESP6rzXUc2cBY/AH+Uopa1HD/k6s0yvBMjP0iRy5CDeyo/w3TXzglQMz80axawgxM+P/yp8dJNYkA/ASez+E9iQD8GpHQeUmJAPwshNkRUYkA/FRu5j1hiQD8oD78mYWJAP0/3ylRyYkA/ncfisJRiQD84aBJp2WJAP2+pcdliY0A/3CswunVkQD+3MK17m2ZAP+ElEMwtakA/TRryT1NvQD+6ipU8LnZAP7fGSVJ1fkA/6QAYwuWHQD+7vbN6r5JAP/kmy7Zan0A/TPvEjGiuQD9bd+otq8BAPxpTgm1810A/mO+htjj1QD/h8CUaZh5BP30f/wuQXEE/lucdxLy+QT817G4AYzlCP3P+5L4DvEI/AHlxmFJFQz+g1nSmGNVDPxeOeBIVa0Q/zAIyxP0GRT/IIRxIhKhFP+DTXJhZT0Y/vZTLzzD7Rj9pDSf8wKtHP6wsmU7GYEg/4Kc97wIaST+qR+O3P9dJP/imthRNmEo/rgc5QQRdSz911P8OSSVMP2DkqFsM8Uw/OCXkVE/ATT/XQ4ikJ5NOP0rUFpvEaU8//EM5tjoiUD+NlFpI2JFQPz1kfy0OBFE/9DSJbkx5UT+sPu+fJfJRPwECmnFVb1I/CKYOdsjxUj9AzznApXpTP2+2f3FbC1Q/JopxDbClVD+h+nuG20tVPwAs97qsAFY/BVDOE8PHVj8AzdZR6aVXPxDaEtGooVg/bQIcIEHEWT9krNesWxtbP+mmXUM3vFw//prb1v3JXj8PlxTYysFgP4pEJ1+hsmI/exSuR+F6ZD8=",
        "dtype": "float64",
        "shape": "121"
       }
      }
     },
     "metadata": {
      "atol": 1e-12,
      "format": "oedes.testing.nb_store_array",
      "label": null,
      "rtol": 1e-07
     },
     "output_type": "display_data"
    },
    {
     "data": {
      "application/json": {
       "data": {
        "__ndarray__": "cpAmXvl/bT95dKpVpreFP1mwa4wGVJU/B5pdxuUTqz/868f439rDP3rIYCYXLNw/aSCZe4aB6z/AfXS5jvT2PyCotZEkkQFARwj2hq5xCUD8nhq3dqMRQPtTdRIhTRdAg/vJoJg6HUDpDRJRhZEhQJoj3q4fdSRA4tBJyMA8J0AVy6L4e9opQAhux1RAQCxAhBPxwtxlLkBxdTpwxicwQM6sbgAaCDFAkxHwyAThMUAc0+25QrwyQB6dYaHsnTNA6Tw5RxeGNEDoVNgFnW81QOkko6CZTzZARRDys5sZN0BQFEfx2sQ3QMYRb1OPTThATpKPbdizOECUP4yoSPo4QF/PUbKwJDlAFg12S5E3OUDxXVESNTg5QN75uVTxKzlAlqfH4O0WOUBVNtnGOvw4QPx76iJg3jhANMPxLqC/OEAO9DNG86E4QOT/oofshjhAwsfLHqVvOEDqrCKXuFw4QKxez3RPTjhA1I3DDjBEOED2NXBkzz04QHg4ygdiOjhA/CE7FPU4OEBIL1oBmjg4QHDoGJ+fODhAHlaAI7A4OEDDzujTtzg4QEr5ad24ODhAkrqahPw3OEAeQIhZjzY4QHCjxA18NDhAiiqt/gcuOEBOlp9JxRk4QCTCGAfF3TdAd9UuFjtBN0DOTqbI4e01QKRycOxOmTNANd0Ix6k2MEBZgWDyaY8oQIgKFFr0IiJAwAB/DWDmGkA/GaZ6WL4TQLip31UW2wxA9QcxF6dhBUBAtDGaC1cAQJIXF4Z/5fk/W47OKf5R9T/4lHSGey3yPyDdVOID9+8/+D/j7TDb7D9385P5Ro7qPzJvtOEEieg/yuDj9RI85j+8NxU9bdLjP103SqKkleE/6sO71dAU3z8eXPn6m2HbP1+uF++qDtg/vqxm4KoW1T9KjhCX/HLSP2+OlW9yHNA/Ma7LUpgXzD/dBMS0BnTIP1UxADDvQMU/cBjLRQpywj/BaAiKNvi/P+QRdqTgqbs/3/oXP7Dmtz/G5S8tJJ60P7pCbhZ4wbE/zIRPi/2Grj9qFvxA+zCqP+4AOPIUbKY/Bb+Qfdgloz+fd+JR/U2gPxyBnehirJs//7CNStdjlz+DD3u9g6yTP0TWq3OGc5A/MMpfo1BRiz/qjpefL3yGPzVNo5ZIUII/8VjVt+FzfT+R+80iTVF3PwIldDsDHXI/DSqpoJl+az+/qyZ0+EZkP3CozTS/21w/g9jr+KqgUz/SFI4gMjBJP794C8m47z0/0EkaJq4IMD/gxkieA7UdP2wbreSMTQY/9dKj/ZmR8T4=",
        "dtype": "float64",
        "shape": "121"
       }
      }
     },
     "metadata": {
      "atol": 1e-12,
      "format": "oedes.testing.nb_store_array",
      "label": null,
      "rtol": 1e-07
     },
     "output_type": "display_data"
    },
    {
     "data": {
      "application/vnd.jupyter.widget-view+json": {
       "model_id": "",
       "version_major": 2,
       "version_minor": 0
      },
      "text/plain": [
       "HBox(children=(IntProgress(value=1, bar_style='info', description='transient', max=1), HTML(value='')))"
      ]
     },
     "metadata": {},
     "output_type": "display_data"
    },
    {
     "data": {
      "application/vnd.jupyter.widget-view+json": {
       "model_id": "",
       "version_major": 2,
       "version_minor": 0
      },
      "text/plain": [
       "HBox(children=(IntProgress(value=1, bar_style='info', description='transient', max=1), HTML(value='')))"
      ]
     },
     "metadata": {},
     "output_type": "display_data"
    },
    {
     "data": {
      "application/json": {
       "data": {
        "__ndarray__": "ldYm6AsuET6V1iboCy4hPuBBOtwRxSk+Ooww4o55NT5osStlzVNDPmI/t1mBvlE+ZNbjFMI6Wz7mIGNhyE9jPgcSL1PPWWo+xkSUPnyncT6TgtyBw2t3PqdWmrHMjn4+w9mosj5sgz40NZjMPCCIPo9xjhnVfo0+CLEON2HZkT7uYzCiaHmVPjAnOuG+w5k+wzdgmGXrnj66i6EFvp2iPkbaKMYsj6Y+BklwGs6Eqz5JqBoTitOwPgYHXHh3i7Q+LidJyFwGuT6UCJWoWmW+Pr3ZIeJFX8I+ZyGaj2IQxj56DB9cO1bKPrDHC1/4VM8+InO8lBCn0j5unVjhMVXWPlJ6b7Oz+do+aIKXOHFk4D6Wj0GDo9/jPrnSu/ab5ec+7q6eo/l87D4FH/k+b9zwPqfBnktU2vM+k+WEA/xJ9z5YOxbMjUL7PkUPk7K+4v8+2xVjhECqAj/tKX0Xl+kFP9ESm0IB2wk/4ept3EDBDj+d5DqygYMSP7bjIWJQrxY/CqQNUYl/HD86NNGnaoUiP4VEqW1WIyk/6CATv4rzMT8AdxShVE47P/yp8dJNYkA/ASez+E9iQD8GpHQeUmJAPwshNkRUYkA/FRu5j1hiQD8oD78mYWJAP0/3ylRyYkA/ncfisJRiQD84aBJp2WJAP2+pcdliY0A/3CswunVkQD+3MK17m2ZAP9dfogt4akA/blSMySBwQD8ilfnwindAP27nmP8UgEA/CjH1eWWKQD9AKNvcuJZAP3ytryR/pUA/Wlj84FS3QD+Fhu0gGs1AP11hS44W6EA/HbqlmEkKQT+LXBSEITdBP6z5uZFedUE/hHoZGP3QQT8EIAN6HUpCP7n5tF8uzkI/PaXDMPdYQz+fiNNBJepDPyl4pql3gUQ/UvZAPKIeRT8hwT2EU8FFP/cNQHo5aUY/KBJ/pgQWRz+/3RcQasdHP5hNAVokfUg/4SUzZvQ2ST/xJWvOofRJPyCF8Xb7tUo/mmEYdNh6Sz9++ldwGUNMPxmJy7eqDk0/JGfQBofdTT9z9ZI0u69OP2Y7Dc9qhU8/L1/t3WovUD/koex3L55QPxcPgydKD1E/HP0Z5BuDUT+cVf3kJPpRP9ARlKQKdVI/yvIO5p70Uj9xKSsv6HlTP45ZRYYsBlQ/G8eV2f+aVD9us1RWWDpVP/Rb2FKs5lU/1iPCpB+jVj+2OjMUynNXP5ej77knXlg/fKNw/tFpWT9f3QijvKFaP09LuC5xFlw/qOMUdFfiXT8W1S6vSxlgP9SliCyxrWE/d2diaycGZD97FK5H4XpkPw==",
        "dtype": "float64",
        "shape": "122"
       }
      }
     },
     "metadata": {
      "atol": 1e-12,
      "format": "oedes.testing.nb_store_array",
      "label": null,
      "rtol": 1e-07
     },
     "output_type": "display_data"
    },
    {
     "data": {
      "application/json": {
       "data": {
        "__ndarray__": "bPWCjfR/bT8wPvu6oreFPxCMzvMCVJU/tuYKBOETqz+ycswr3NrDP56P/+ATUNw//dS74Y+x6z/l3v+A4CL3P3NPUWr7twFAp1GOHXWtCUC9lEhEhM0RQE5WRAd7gRdAr8OVE551HUCDIBJeAbEhQFaq+ZxWlSRA0oMHVkVcJ0AsSOWzufcpQJxK7je/WSxAITGVTqN6LkBtpQSxsy8wQDJnMubIDTFA76guGqnkMUDIzswjwr0yQDZletTrnDNA6jE/JfKBNEC8XoWgRmc1QMNztu6zQTZAyFOyXcQEN0D8VDn8zKc3QApuTUMHJzhAtKNJIV+COECGfK7O8bs4QDozCSTp1jhATdThKmLXOEDWj5gvGcM4QLSNAQQroDhA1HYiQVxzOEBU+TJZW0A4QEooU7NoCjhA++F7U4bUN0BYt0YvV6E3QDoeDEzucjdAfn9NDrJKN0BqgwKAXSk3QJGrXIcXDzdAobhAJpH7NkAFpsCgHu42QDK5v+vH5TZAQDCEXlfhNkAhk60Dd982QOauYSjr3jZAx5H/2NjeNkDWDprW3N42QBJQr4fe3jZADAH9chzeNkDCZWLzpNw2QLiw/r6D2jZAKSr+CuzTNkDRk0tSZL82QORzI9NagzZA7C3hXXXpNUBE5P+yp6M0QDV00aBEeDJAJkNxKj7WLkBwi6OLH9UnQIbQU9+tsyFAFExQwIEuGkA4dfDq3AgTQJdsBrNyDAxAck0EnFwBBUBY2rppKk0AQPbPdxzWW/o/lLebqOwa9j+0a4hytBLzP87zDzUp1PA/YSL7cUVF7j/FP1+Rhq3rPz638sJLiek/TgHB7q5g5z9aHxacYQflP1M7I5CcxeI/D7PaolKs4D87s2HOJn7dPwNQd7xD/tk/POx+64fX1j+8tBPH0QXUP17/SgV0g9E/W9fG+gSUzj+CnqEds6XKPzbTrJTmLsc/U6McxDMjxD99zBqtBXfBPzpKLhVsP74/ofPk7yQnuj8KChaLrJO2P1cSHRE8dbM/rWUvSbC9sD97Q9ZC0cCsP3/puxZNpKg/KVx359wRpT+RSOPi1fehP2wxf3xJjZ4/eFnHRzvhmT946lTboNOVP31r0vzAT5I/WGioYn2Hjj8vA1K5o0CJP7gquI8CsYQ/Kt1LybjCgD+CNYapz8Z6P7h2JLxFB3U/yBjPZbwscD9G2eVgiUFoP3uuFyEan2E/lX/PS6ybWD+YTeGf81VQPySittgcT0Q/KtpKO3QhNz9iTG5K0lsnPz+5ncn74hM/R9gsItlX+j4hH5u5IObyPg==",
        "dtype": "float64",
        "shape": "122"
       }
      }
     },
     "metadata": {
      "atol": 1e-12,
      "format": "oedes.testing.nb_store_array",
      "label": null,
      "rtol": 1e-07
     },
     "output_type": "display_data"
    },
    {
     "data": {
      "application/vnd.jupyter.widget-view+json": {
       "model_id": "",
       "version_major": 2,
       "version_minor": 0
      },
      "text/plain": [
       "HBox(children=(IntProgress(value=1, bar_style='info', description='transient', max=1), HTML(value='')))"
      ]
     },
     "metadata": {},
     "output_type": "display_data"
    },
    {
     "data": {
      "application/vnd.jupyter.widget-view+json": {
       "model_id": "",
       "version_major": 2,
       "version_minor": 0
      },
      "text/plain": [
       "HBox(children=(IntProgress(value=1, bar_style='info', description='transient', max=1), HTML(value='')))"
      ]
     },
     "metadata": {},
     "output_type": "display_data"
    },
    {
     "data": {
      "application/json": {
       "data": {
        "__ndarray__": "ldYm6AsuET6V1iboCy4hPuBBOtwRxSk+Ooww4o55NT5osStlzVNDPl+VBcZlzFE+VVYnfSBbWz6qhUO+smxjPsHe3Gf0iGo+AEoIzl7McT5yi8an3aJ3PrsnAIli2n4+G78/dpCcgz4CUAUxOFyIPjP6Oo5cyI0+PpGPJiMGkj6q6NKsuq+VPud5VfjHBZo+MRzdVVM8nz7r7UcaF9CiPlT9TLHDzqY+YE0DUuXUqz6SmoV6DAWxPg0wukM5yLQ+wWOzoS1RuT6QKT9hacG+Pgx4g7aOl8I+YMXUIE9Vxj4MiK2FIKzKPswIdW6qw88+BheuBd/x0j7uYrCYKcDWPvGRagbDmds+FXabEJzb4D6OUaolpIfkPjQhi9udxug+m/jePoGg7T6sl2toJ5XxPqOM9HqbwPQ+ahcH+zdl+D5dXJlEkZr8Ps2yi9h8vwA/crdQF0SdAz9Z3o0DHAIHP4eC2s1AFQs/7t5y7n8IED/a9/Od2ScTP5jK+471MRc/OgLmM7GjHD8i8EjDIC4iP2jaHgXC/Cc/Fk9VUiyjMD/CH0AEBYo4P/yp8dJNYkA/ASez+E9iQD8GpHQeUmJAPwshNkRUYkA/FRu5j1hiQD8oD78mYWJAP0/3ylRyYkA/ncfisJRiQD84aBJp2WJAP2+pcdliY0A/3CswunVkQD+3MK17m2ZAP8BdqKHEakA/iuPantJwQD+ZJtZ4vHhAP/KEfrR/gkA/fAH9M2GOQD8qW+f39JxAP8y+YK3trkA/aODZqwLFQD8h0QOZLuBAP3OttjGxAUE/Dwg82e4qQT+y+JlYzF1BPyABlHIUnkE/Xp0DTarzQT/eIEMFlGZCP9UYEUCv60I/ir4pHZZ4Qz/lbabO2QtEP1qcC4czpUQ/U1szllJERT/P4PdE3+hFPxF1x4GBkkY/5hDX7+RARz84SW0Su/NHPxACaES8qkg/MQHkBqhlST/cNXUSRSRKP2F2xXxh5ko/QNYvMNOrSz9vKnjjeHRMP1iscLQ7QE0/btSOgBEPTj+R5W4RAOFOP0vNZTAhtk8/36po2VNHUD9wRRjIcrVQP1EQcYmpJVE/osG4mkuYUT+sYs2hyA1SPzdZNvOxhlI/82wS9cADUz9uLwyu3oVTP/1LxhYtDlQ/AE47OBOeVD8I7RHUTTdVP0Dma2MH3FU/TF/U4/uOVj/M6Ae1r1NXP35hAsrFLlg/V6Hp64omWT8YwCHJ3kNaP5mhi7vLk1s/CXMeBnkqXT8PoVhKASlfP0GWdrAF5WA/IgbwIwXAYj97FK5H4XpkPw==",
        "dtype": "float64",
        "shape": "122"
       }
      }
     },
     "metadata": {
      "atol": 1e-12,
      "format": "oedes.testing.nb_store_array",
      "label": null,
      "rtol": 1e-07
     },
     "output_type": "display_data"
    },
    {
     "data": {
      "application/json": {
       "data": {
        "__ndarray__": "/dPpZu9/bT+6sQ/gnreFP/FuNhv/U5U/Lrp57dsTqz/0MUgc2NrDP6BbArrvdtw/BFPo83bl6z9N5t9d81T3P/xlv/D84QFA9exYKBzuCUAU5apV8PoRQCe7NdzfuRdAo8zc7BG1HUBHYqb7zNIhQCDbgW7atyRAb77v5vR9J0BVneqB4RYqQGQOBj7QdCxAQLeusJyQLkAvVzRHDzgwQO6KMnHCEzFAPTbVynXoMUAZxav7Qb8yQJTRnmm5mzNAMhHo7VZ9NEC0HeENGl41QL7u0495MjZAUiDW6f3tNkBglKTyF4g3QAhGw4j4/DdAC5NGNkFMOEBmDoKRb3c4QPxuzu/JgDhAfPMqBO5rOEDBod/mRD84QMBes4/zAThAqBYONYu5N0CvxEAdkWo3QIiIyrU3GTdA4CoOhWrJNkAIb7OqhH42QArfoDoIOzZAsCGOsoAANkAKlVnllc81QDLWb389qDVATiw+JfKJNUC6QshA3XM1QHjAfXTsZDVAAgZgT9dbNUCYFTlVJFc1QPDIl/pHVTVAqr80sbBUNUBQX4rCkFQ1QFY5NimOVDVAHDgWjMJTNUBjH+y8OVI1QLrsUf8AUDVARADCFytJNUBCV3hfHDQ1QFRdDAuM9zRAZMgp0thfNED6QRoGhygzQDCnxLc+KjFA6z3sppXyLEAGSWQAi9smQMjundQlCSFACexJUfj9GEBvdIVKEx8SQO6bE4GGkwpAemWWI6QvBED9IHpBsQwAQOxMPYgaofo/Ehosxy3Q9j/SAD8c6vTzP4AmGmDNsfE/qfOVMpO47z/JAB44n8TsP08lXbn0Y+o/Ov3hcQdM6D+6mkcRFyLmP0smNddg7eM/RGPUsOHR4T/1y4BjVrHfP0K6/wszDdw/AQQqHcO72D/Jrbh8/7zVP7Y3lMHkDdM/hq+6Baap0D/5u+LHEBXNPysyKoHsVMk/Bje1bboGxj+eoyN3zR7DP3N0vFkvksA/+cyKTn6tvD92eoyddsa4P3XAlKF+XrU/uEfr7XRmsj/wGm/Vi6GvPzrwajmeIqs/1mmQ24M6pz/s6561DtajP5O2dHpK5KA/Fcma75WsnD9JbWms/D2YP0Nw/c8FZpQ/nO3f2v8QkT+PquPnAVyMP+PJzhs+XYc/65yIMlENgz/QkGjnca9+P44gBmeDVng/KL1i5uXycj/uFVGq99dsP/vlfNTGWGU/UDU6t8SDXj9Tnkl6Bd9UP1Wrm4cQ+0o/6GKgP7MwQD/29CwMZpMxP7UdvXialyA/S8Z8O/CcCT/ECcOEIIr0Pg==",
        "dtype": "float64",
        "shape": "122"
       }
      }
     },
     "metadata": {
      "atol": 1e-12,
      "format": "oedes.testing.nb_store_array",
      "label": null,
      "rtol": 1e-07
     },
     "output_type": "display_data"
    },
    {
     "data": {
      "application/vnd.jupyter.widget-view+json": {
       "model_id": "",
       "version_major": 2,
       "version_minor": 0
      },
      "text/plain": [
       "HBox(children=(IntProgress(value=1, bar_style='info', description='transient', max=1), HTML(value='')))"
      ]
     },
     "metadata": {},
     "output_type": "display_data"
    },
    {
     "data": {
      "application/vnd.jupyter.widget-view+json": {
       "model_id": "",
       "version_major": 2,
       "version_minor": 0
      },
      "text/plain": [
       "HBox(children=(IntProgress(value=1, bar_style='info', description='transient', max=1), HTML(value='')))"
      ]
     },
     "metadata": {},
     "output_type": "display_data"
    },
    {
     "data": {
      "application/json": {
       "data": {
        "__ndarray__": "ldYm6AsuET6V1iboCy4hPuBBOtwRxSk+Ooww4o55NT5osStlzVNDPsCaRAk94lE+zyItABOOWz6MJRzGRppjPoB1PVdm02o+aHDEWrcGcj6+zoPBDfp3PoL0cWDRUX8+GaSXCuHogz6SI4zC+7qIPoo3BfGUPI4+KmRHQepMkj5ZRx/wrQWWPrG8BH9bbpo+R61Oe6i8nz7POwNoESCjPu7uyh3kM6c+FMNrczBUrD7eKkgYq1OxPkxDkk20KLU+0zfW8/fHuT4mG9A3bVO/PlQ+3om38MI+pkS0YnXCxj4Yt2qhVzTLPh68T2HuOdA+7cusi8dp0z5bDuz0lG3XPm5F0L3soNw+vbFSMg2h4T7+ptdDhJ3lPgCiXY46Oeo+rQZ6kvx+7z6EeJDo0MPyPqPioTVgOvY+ZKmD1iA4+j7PxtPAj9b+Pr1qX000GgI/3G2Nio07BT/8loZI6uUIPxw00sctPQ0/++Am0sY1ET+CrLdhWHAUPzTJzd4naRg/WG4Rx1JzHT8AlvTzMwwiP5iF1l0nqyY/mJjhVJB4LT/+7+/t3So0P7blI+9brz0//Knx0k1iQD8BJ7P4T2JAPwakdB5SYkA/CyE2RFRiQD8VG7mPWGJAPygPvyZhYkA/T/fKVHJiQD+dx+KwlGJAPzhoEmnZYkA/b6lx2WJjQD/cKzC6dWRAP7cwrXubZkA/bTqn/uZqQD/ghmuZ4nFAP5YnmqQae0A/xJ5kZKuGQD8Z0edHYZVAP8WPDpNdqEA/ivIeb47AQD8zRCBtGd9AP2Gs10+SBUE/xl7XbDA1QT98ynKG0W1BP5nn7I0crkE/RbWo2Un1QT9QsCE4oEVCP9ukHEQ/pkI/0OrOD08gQz99K7qlM65DPwELZqS2REQ/qmPbIn/hRD/PPwGxD4RFP/j6DOwALEY/blXI6efYRj9lhrygX4pHPxSbohcNQEg/QcCLe6D5SD+7thql1LZJPziOAQ5ud0o/YCAx0zk7Sz+DQy0eDQJMP5jZnSjFy0w/dXpQ90eYTT/913/ehWdOP2w08dt7OU8/V6vbaBsHUD+E91TW63JQPzTDcEFM4FA/RJ4JXGlPUT/XAJwbg8BRP5uxrunwM1I/2vEDdCaqUj/LYqQxuSNTP4FkbsZmoVM/lW8QmBwkVD9kYmgwAa1UP9yCiX+APVU/PhElxVzXVT9OHDf9xnxWP4dSkl+DMFc/WCZDXiH2Vz/wLuyxU9JYP2a6jcl+y1k/kNrRj6fqWj8LM5gaFj1cP+JFWkFe110/6gHOu2fbXz9XrZ5cwEJhP1XezlX3JWM/exSuR+F6ZD8=",
        "dtype": "float64",
        "shape": "124"
       }
      }
     },
     "metadata": {
      "atol": 1e-12,
      "format": "oedes.testing.nb_store_array",
      "label": null,
      "rtol": 1e-07
     },
     "output_type": "display_data"
    },
    {
     "data": {
      "application/json": {
       "data": {
        "__ndarray__": "p7YSY+d/bT/rDY/gmLeFP49Ijh/5U5U/Y/UKBNQTqz8NaGbN0drDP75HBxYptNw/da147E437D8StWAm96P3PyStAJtPJAJAhTgdWDFUCkBdbOoBhkISQHsiKdxuEhhAVAytNnQYHkBNWwZsnwciQPp4i0Cq7SRA9ItndU2yJ0DSVyzTF0cqQB6kZAl/nixAiTWav0myLkAHyy3e0EQwQALV+szXHDFAWfxAjyzuMUAIV8aeYMEyQNlKrj+amTNAbPs2cM91NECOOstnS081QDYt2ogJGjZAWA9aJ5XJNkDS2CW0glU3QEy9A9bguTdAKdXkhbX1N0DtTnwkPQk4QKzt+Fv49DdAfMQLaMK7N0Cyx7g52GU3QFjAEA2j/DZAW0+liHyHNkD3ht6hxQw2QHIurEKJkjVAnGa9CigeNUCyGtxbz7M0QLotams1VjRA3q0PGeAGNEAsLXpKTsUzQC/oDfC/iDNA9veMWOpaM0DCpPt4bDczQK5ra357HTNAYdIvt2ELM0AWV/Sbdf8yQB/uEZeW+DJAQk4/TDn1MkDLf3g68fMyQC06v6ya8zJA9tUv25DzMkD7ay+XsPIyQLp8ZGcC8TJA2N/m95buMkDnjapEO+cyQG6JBbMF0TJAbj0XbxOTMkAm1sIbS/4xQFcNzwBO3TBA4bMkEfxGLkDcW+OlW+spQKzEMcAcEyVAOMaLvVEBIEBtUwXwdAcXQGx8O6RmiBBAIG7HHbaaCEBEDru8p00DQNr8xxpe4f8/DOBhXZFi+z8mi+FX+Rr4Pxh10YWGevU/MAp/I4048z+Z7lNnhjbxP+KVg1To4e4/sF0Bt8Lm6z/spweIIoPpPyMAafbch+c/NXb7hG2c5T+jQqKcU6DjP5T+zMsVrOE/Ubn597qZ3z9N3+n78xXcP1KB+FUc19g/Sqb0osPh1T/dJTMRNDbTP7cxdmzl0dA/LqTScD9hzT9rnaENk5rJPywR+wTjRMY/50T34EpVwz9r9Y+RTMHAP+j4/8gU/rw/7FqyzcYKuT8I8i3e+pe1P/n/EV6IlrI/CMunEYjxrz/m5XLo1WSrP6nfdRgVcac/BRp/Vs8CpD9SB9ARzAihP0q1E6PC55w/PygKVI5tmD8jxc6924uUP7hKKsKsLpE/NaLuJLKJjD+5VTkIiX+HP41M1GErJoM/mipLKK/Rfj85JIF8TWx4P2P+gFvr/nI/WA1xIEHhbD+E7yXBjFdlPxkOxnm4c14/fLmFsr3HVD8Q8+qTfshKP52h9+QeAkA/tqdRA9lIMT++07SgZDEgPwTlRxvAtwg/m5yIOhP99j4=",
        "dtype": "float64",
        "shape": "124"
       }
      }
     },
     "metadata": {
      "atol": 1e-12,
      "format": "oedes.testing.nb_store_array",
      "label": null,
      "rtol": 1e-07
     },
     "output_type": "display_data"
    },
    {
     "name": "stdout",
     "output_type": "stream",
     "text": [
      "\r"
     ]
    },
    {
     "data": {
      "image/png": "[encoded data removed]",
      "text/plain": [
       "<Figure size 432x288 with 1 Axes>"
      ]
     },
     "metadata": {},
     "output_type": "display_data"
    }
   ],
   "source": [
    "ax = plt.gca()\n",
    "for Nt in progressbar([6.4e21, 9.6e21, 1.1e22, 1.3e22, 1.8e22],'Nt'):\n",
    "    c, t, j = run(27.4, {'electron.trap0.N0': Nt,\n",
    "                         'electron.trap0.trate': 3.2e6 / Nt}, t=500e-6)\n",
    "    ax.plot(t * 1e6, j * 0.1, label=r'$N_t$=%s $m^{-3}$' % formatter(Nt))\n",
    "ax.set_xlabel(r'Time [$\\mathrm{\\mu s}$]')\n",
    "ax.set_ylabel(r'Photocurrent [$\\mathrm{mA/cm^2}$]')\n",
    "ax.set_ylim([0.5, 3])\n",
    "ax.set_xlim([0, 500])\n",
    "ax.legend(loc='lower right');"
   ]
  },
  {
   "cell_type": "markdown",
   "metadata": {
    "oedes_subtest": {
     "name": "8b"
    }
   },
   "source": [
    "### Rise of photocurrent: constant trap depth"
   ]
  },
  {
   "cell_type": "markdown",
   "metadata": {},
   "source": [
    "Plot plot below shows the rise of photocurrent calculated for different values of trapping / detrapping rates. Their ratio is kept fixed to simulated constant trap depth."
   ]
  },
  {
   "cell_type": "code",
   "execution_count": 20,
   "metadata": {},
   "outputs": [
    {
     "data": {
      "application/vnd.jupyter.widget-view+json": {
       "model_id": "",
       "version_major": 2,
       "version_minor": 0
      },
      "text/plain": [
       "HBox(children=(IntProgress(value=0, description='Cdt', max=5), HTML(value='')))"
      ]
     },
     "metadata": {},
     "output_type": "display_data"
    },
    {
     "data": {
      "application/vnd.jupyter.widget-view+json": {
       "model_id": "",
       "version_major": 2,
       "version_minor": 0
      },
      "text/plain": [
       "HBox(children=(IntProgress(value=1, bar_style='info', description='transient', max=1), HTML(value='')))"
      ]
     },
     "metadata": {},
     "output_type": "display_data"
    },
    {
     "data": {
      "application/vnd.jupyter.widget-view+json": {
       "model_id": "",
       "version_major": 2,
       "version_minor": 0
      },
      "text/plain": [
       "HBox(children=(IntProgress(value=1, bar_style='info', description='transient', max=1), HTML(value='')))"
      ]
     },
     "metadata": {},
     "output_type": "display_data"
    },
    {
     "data": {
      "application/json": {
       "data": {
        "__ndarray__": "ldYm6AsuET6V1iboCy4hPuBBOtwRxSk+Ooww4o55NT5osStlzVNDPgzBVZIT2FE+0FrPXSVzWz6wqlkE0H5jPn/kSWhxoGo++uOeRI3acT5jmcxJcLd3PqdyCbGqBX8+TJld8lDHgz5qSfgjh6CIPnTkaLPEI44+/OL5CMs4kj6bMMcXgteVPiPUSONAA5o+YYKI41jXnj7CJeD1uD+iPt48iKlPpKU+Fs3BvQrWqT6i3r8XtBqvPiEu4JUYz7I+VLstqzq7tj4YFbzUg2O7Pmv+xMsLbcA+ecVngj6Uwz4A5jITzS3HPvon0V78S8s+bjhQvK0K0D5wp+zcJejSPuKXVO31e9Y+3OEJQjot2z5UsWS808LgPnLLYfCH4OQ+8Ix/d0TO6T5ZXdMf7IHvPtD/WizKB/M+EwDRXZXL9j5UO7bAdyD7PgpXY429DwA/oLgubfjzAj+hcGmsnlAGP89QQXy0Pgo/4jEjMZreDj/GdYzGty0SP2IkduJeeBU/qNXCSAN6GT8Ol3T+rHIeP1h8GxZTYyI/em9+VleNJj8tQxzr4jYqP0A3IoLrNio/UysoGfQ2Kj9mHy6w/DYqP40HOt4NNyo/29dROjA3Kj92eIHydDcqP6254GL+Nyo/GjyfQxE5Kj/1QBwFNzsqP6tKFoiCPyo/Fl4KjhlIKj9Q9Q6LWVgqP0niy+4AcCo/lQVn3ROPKj9v9SWKwLUqP3kpYloJ5So/LP6T4oEfKz92PDKElmgrP6/QITT6wys/6BcFdCU3LD8wZrJOA8osPzrA0OWYhi0/1tEE4mJ5Lj/IZCuVNrUvP03QgNbcrzA/9w90UX/lMT+QEXcSSZ8zPytbqb00jjU/s++eFAKONz8ZldTSX5w5P15lEQF0uDs/TFJZhlvhPT+a30ZCFwtAP2QnJmcJK0E/UDHDoSFQQj8A3eUoCXpDP36n6lN1qEQ/hrcjzCfbRT+h4gfy7hFHP9zOmaimTEg/poCnqjmLST8Zva6Ko81KP/fdZoDzE0w/b+ItK1BeTT/z/Xh1/KxOP1V3BeUuAFA//Knx0k1iUD8=",
        "dtype": "float64",
        "shape": "100"
       }
      }
     },
     "metadata": {
      "atol": 1e-12,
      "format": "oedes.testing.nb_store_array",
      "label": null,
      "rtol": 1e-07
     },
     "output_type": "display_data"
    },
    {
     "data": {
      "application/json": {
       "data": {
        "__ndarray__": "35uoMm2KbT+86MHt98GFP4kszYDAYJU/Kx6agW4tqz+l/UCXMv3DP7tKyvCU9Nw/tlSx4p6Q7D9SGjZv2wv4PxCOgzS5kQJAlhg/VnwvC0Dw1C6O2hkTQCJ6p1xDpRlA9soTXTJdIEACjD7yYwEkQAA8aWEaqidAZGWEMadBK0BeOIcOTKsuQE7tinHY4zBAnvqz+ZQ/MkBy8k6uNmYzQFF999ngXzRA8jqcYUw8NUAM3xSJXAw2QMpRN3WL2jZAUPswSpypN0CaG0iOiXc4QB4uvkqWPTlAZC48P/vxOUCqTmMYH4w6QIccMS39BjtAa+H0xtJgO0Dz5F/i5Zk7QPTP0XMxsztA/JqbiButO0DzmsabG4c7QNMZgBV4QztAAZ1FZVDpOkCO1D0VEX46QLxhAk4QBTpAjGtuhr2BOUB+UQ05V/g4QLwd6UW/bThAAtkkOfDmN0DyCX6KX2g3QMzYdpmE9TZA8Jy1JKKQNkA13epD0To2QKc7Hpg29DVAIHEkdUO8NUBU7V8j65E1QJrfw/XAczVAnFOvzABgNUBkQfhFw1Y1QGxOUuX3VTVA1OvXh29UNUAMEaxWN1I1QIZE50JiSzVAJjuFSlA2NUBujaJSlvk0QNKows/nYDRAmpPjFIIlM0CIa2Q+mBsxQE5TH+BnpSxAgYJlfA8+JkBuO+/oDj0gQOYxhcpQNxdAvjUQEU8/EEBJ+KNQPq4GQC+UcplHPwBAlVjcbjRR+D/lBnhk8BLzP/L84ZYPLe8/7Ag4e6pC6j8usR+SnZzmP27AF0DI1OM/+JGOXeq44T8LvvnD9CzgPzT7qWLVHt4/vCVLqr053D9phPnxRg3aP9O4hcjur9c/BoTUz5FT1T/IE1T69A3TP3nU4Tu27NA/U9knuzHuzT+ILjjJgl/KP08BJYOyLMc/R/MG949RxD/mnqKVCsjBP3T4Q3Z5Er8/sGdXSBwcuz9DRVIxJp+3P3oCR1OCjrQ/9o13QBPesT8gW7V3jwWvP40+hZY45ao/7jymeCNJpz8h8a1oOyGkP0vzfu8wX6E/t0pU8kfTnz8=",
        "dtype": "float64",
        "shape": "100"
       }
      }
     },
     "metadata": {
      "atol": 1e-12,
      "format": "oedes.testing.nb_store_array",
      "label": null,
      "rtol": 1e-07
     },
     "output_type": "display_data"
    },
    {
     "data": {
      "application/vnd.jupyter.widget-view+json": {
       "model_id": "",
       "version_major": 2,
       "version_minor": 0
      },
      "text/plain": [
       "HBox(children=(IntProgress(value=1, bar_style='info', description='transient', max=1), HTML(value='')))"
      ]
     },
     "metadata": {},
     "output_type": "display_data"
    },
    {
     "data": {
      "application/vnd.jupyter.widget-view+json": {
       "model_id": "",
       "version_major": 2,
       "version_minor": 0
      },
      "text/plain": [
       "HBox(children=(IntProgress(value=1, bar_style='info', description='transient', max=1), HTML(value='')))"
      ]
     },
     "metadata": {},
     "output_type": "display_data"
    },
    {
     "data": {
      "application/json": {
       "data": {
        "__ndarray__": "ldYm6AsuET6V1iboCy4hPuBBOtwRxSk+Ooww4o55NT5osStlzVNDPsvpCsdm21E+96nNHTZ+Wz6CdlbnKoxjPprWLz56vGo+hzZ0gsj0cT7vS7inBd93PuUNjPTwK38+s7k2WRzQgz4AjVAJ4ZuIPuauhFylFo4+TJelcmw2kj7VsK3O0uuVPiw7dduuUZo+RN6Mzyeenz5rwcFxgxCjPjEwH75gJKc+/Gam+jBErD56uV6DvUqxPjvQ5OYLHrU+LE8daoy6uT54ntFlnEG/PpmhNpxF5MI+kgxCMzuwxj6WtjbdaBjLPkupiY58I9A+XWugZa1D0z6A4xYg1CjXPrYVdEXYH9w+PIw7aGEt4T7qf3GSpuXkPlkxVmgUMOk+NMqRH2AW7j4yzzrgONfxPmGS2P0XC/U+95izStG5+D6IfYPzgvv8PtBsDvei9wA/7m5voDLfAz+W3tAQ51AHP9b8BpeXdQs/ZJYWMSRFED+l9HLjCHcTPyW6RMYTnhc/qkA+YFE/HT8u2m1Q6aQiP36zF6H6vCg/LUMc6+I2Kj9ANyKC6zYqP1MrKBn0Nio/Zh8usPw2Kj+NBzreDTcqP9vXUTowNyo/dniB8nQ3Kj+tueBi/jcqPxo8n0MROSo/9UAcBTc7Kj+rShaIgj8qPxZeCo4ZSCo/UJyQsbxYKj/0IWsHAHEqP41LRIO1kCo/gkcbZ9O3Kj8NWvkVcOcqPwBUdYTkISs/x6nFZf1pKz9sn85hmcIrP4P863SmLyw/fSFj8B+2LD9p/TO/jVstP+6ZGoxiJy4/atDvcYsoLz+bgCpDHz8wP18xhaOFJDE/uhg2qOsuMj8RGqzAN0kzP88I5ZhycDQ/8vSkrQ2kNT8SqvzCZuM2PxoSfFbMLTg/0QZtc4uCOT/NggU9+OA6P2obnZNySDw/cx+CNWi4PT/6/GZ3VTA/P+JVsLniV0A/ggXwLCkbQT/5XRUz0+FBP2jZouu+q0I//TYTG9V4Qz9vco+QC0lEP3lRu2RoHEU/cjTMJAbzRT/hX1v7GM1GP/5+fef0qkc/kwBXEhWNSD+oboNUJHRJP1w0cAIHYUo/D4VuKOZUSz/hADGJPFFMP/72twXmV00/ydIjqzJrTj9oa7KU/41PP6fLhaHsYVA//Knx0k1iUD8=",
        "dtype": "float64",
        "shape": "109"
       }
      }
     },
     "metadata": {
      "atol": 1e-12,
      "format": "oedes.testing.nb_store_array",
      "label": null,
      "rtol": 1e-07
     },
     "output_type": "display_data"
    },
    {
     "data": {
      "application/json": {
       "data": {
        "__ndarray__": "Oqurzoh/bT9IeoUjPreFP9UuxCqLU5U/ZokfLv0Sqz9yBc6tt9nDPwCyyngHntw/jk/5B6IZ7D8e5U5Lwob3PylAkT4WCwJAzPFB77orCkAqlbKwNCQSQGiVgETj6BdAUsTJDMnjHUAfZsaM7OchQLhYL28RySRAVBsxb7uJJ0DlzsPy/BsqQLWn6iG0cixA2FS3e9eHLkCt7NFCRjEwQLy37V7xCzFARc4ZbM3gMUCaBnBQXLgyQKWiXALRlTNAZZPCoUV4NEALYHgQLVk1QBQ9PpydLDZAbr9lVDvmNkBBATCn0303QGiHWBHs7zdANi0qP188OEDpbHM2ymQ4QJaDwMqRazhAjuiRmqFUOEDoWmgIqCY4QAKqNxWz6DdAjJtZKzSgN0AEIUbIp1E3QMxLndI6ATdAX3bAyMiyNkDkgJdakGk2QJ5IVvrvJzZADPWawU/vNUBeBqVNOsA1QIiCMtiQmjVAIF2QscF9NUB2x0Gd72g1QIhFm7oEWzVAOGEjNbdSNUAzsWpJkk41QMCdjdjlTDVATPMQRplMNUB56lp0zUs1QKyxdEdESjVAYhunCwtINUBi/s/bM0E1QLpIxHMiLDVAxBEb/o/vNEBfa5iM61c0QDCl1MPVIDNA9kxSvWsjMUC8VFDfq+gsQBsfsQBZ1SZAlO9cKGkGIUB6njPGbPgYQCLY5sZwGhJAOx9CQemMCkBzRvsggCwEQMYVMKqpCwBAGlWJU3yh+j8C8LhMp9H2P50zuilO9vM/aCPBu3Sy8T/qerCwP7fvP5phpsQOwOw/ztkWCp9c6j/6P+orrEPoP5q49iSEGuY/iYEyY4Lm4z8Hl1tHs8vhPwUrXPZHpt8/vcBLiUkD3D8VJ9Vg0rLYP2N5xAbhtNU/13GbnXkG0z+Cprkp1qLQP+AZmoSCCM0/utJxrlJJyT+TF37J/fvFP6iTKM/aFMM/weyEYPaIwD8jpZJUY5y8P19qXFmZtrg/dKjzMMhPtT9Z3jlC0FiyP51XEcQ+iK8/hGhYdCgLqz+c++VdwiSnP27EhlLgwaM/DUHC9o/RoD8UNr6pzomcPyCXwIiuHZg/Z11SogJIlD++9x4FIfWQPycgt6VQKIw/dasQ/24thz883+PVS+GCP+YdbG/qXn4/9QLXjklafj8=",
        "dtype": "float64",
        "shape": "109"
       }
      }
     },
     "metadata": {
      "atol": 1e-12,
      "format": "oedes.testing.nb_store_array",
      "label": null,
      "rtol": 1e-07
     },
     "output_type": "display_data"
    },
    {
     "data": {
      "application/vnd.jupyter.widget-view+json": {
       "model_id": "",
       "version_major": 2,
       "version_minor": 0
      },
      "text/plain": [
       "HBox(children=(IntProgress(value=1, bar_style='info', description='transient', max=1), HTML(value='')))"
      ]
     },
     "metadata": {},
     "output_type": "display_data"
    },
    {
     "data": {
      "application/vnd.jupyter.widget-view+json": {
       "model_id": "",
       "version_major": 2,
       "version_minor": 0
      },
      "text/plain": [
       "HBox(children=(IntProgress(value=1, bar_style='info', description='transient', max=1), HTML(value='')))"
      ]
     },
     "metadata": {},
     "output_type": "display_data"
    },
    {
     "data": {
      "application/json": {
       "data": {
        "__ndarray__": "ldYm6AsuET6V1iboCy4hPuBBOtwRxSk+Ooww4o55NT5osStlzVNDPuB3PpaS3lE+sCND12mIWz7B8T4n05djPoF6LRiU0mo+fEhDniMFcj6szLrwkel3Pm7T1EtWFX8+KeLco5urgz56djkS21+IPj4B8j6Izo0+hcN841IZkj40b2Emxu6VPvYb+1jFoJo+SIFe69Y/oD6pNou1VvmjPkztty29rqg+oVOtHieArj4XjFXxlsiyPt6MYjBTErc+MJJtq4ZIvD6hQOGYMEfBPgowjDtE/MQ+Nomn4T5SyT6xNGUjx2rOPv78OR0PQtI+A8denIj/1T4FhEqnpKfaPgJpbqsZLuA+Z83sck6J4z5ED+oK4F/nPqic9ARGuus+gpIHtrxV8D5zB5+H5ibzPnj/SCycYfY+bvrmFPQb+j6l0dkulXP+Pm7D8Jr1yAE/bXpLrZjZBD+Kl42/P5kIPwY7KZa2Tw0/KoffKcS5ET9YpclBU+kVP/3HNYCD8hs/Y8n+WtGcIj9h8VuUuzMqPy1DHOviNio/QDcigus2Kj9TKygZ9DYqP2YfLrD8Nio/jQc63g03Kj/b11E6MDcqP3Z4gfJ0Nyo/rbngYv43Kj8aPJ9DETkqP/VAHAU3Oyo/q0oWiII/Kj8WXgqOGUgqPxEVn6bQWCo/IVtlFjhxKj+FLBAr7pAqP6X5DEHltyo/0/McWxrnKj+6ANj9hSArPxVKoqxbZis/Hr9QVLO6Kz8fAXWtOiAsP91fYToTmiw/bH+JsPMrLT86p1FFWtwtP0Tl1LVIuS4/tCOJq47aLz//KwTq3qIwP47ZD0SxbDE/5sBQWThDMj+NhuLeiiUzPz9Z6Vk1EzQ/xIag2K8LNT9OSeqxZQ42P85a2f++Gjc/wnLQuCYwOD+JRMPaDU45P6Rm6JLsczo/E75pW0KhOz8VvGfsldU8PxDy1611ED4/5cUIJXlRPz8updDVIUxAP++NEE1E8kA/uxXtegibQT8V6t1QYUZCP+VVj4RU9EI/xIFMnf+kQz/yZXG2nVhEPzXl0veND0U/Qk54y1rKRT9ULybkwYlGPxllVUG9Tkc/Ur5Fj40aSD+82TGdxu5IP4q2nTtfzUk/TwikwMa4Sj98f8PTA7RLP2ZD7kTiwkw//+ndKznqTT9QElGfWDBPP/XYnNLcTlA//Knx0k1iUD8=",
        "dtype": "float64",
        "shape": "112"
       }
      }
     },
     "metadata": {
      "atol": 1e-12,
      "format": "oedes.testing.nb_store_array",
      "label": null,
      "rtol": 1e-07
     },
     "output_type": "display_data"
    },
    {
     "data": {
      "application/json": {
       "data": {
        "__ndarray__": "HuH0Z610bT+MXL5uj6yFPzdLizxmRpU/peuoU7/4qj+Ir7hqvLbDPzOkq84jSdw/210RxSCl6z9YW/4LSAT3P8+OxFFjhgFAB7cUUCspCUCTnXnB8C4RQBz18dhzOhZANJgzA59JG0ABO509ehYgQGDCsrpwayJAolujZGafJEARisUK260mQABc9LuElChAnMNVUNBXKkAY4gMYugUsQOrudcgmsS1AJmdhXxFoL0AW/dYY6pgwQAz6Z84tiDFACRZIKN59MkCOGirxAW8zQFCH0C19TDRA7BDEKeIJNUAMEbqbsqA1QJ7GdYmTDzZADvyWioZYNkCStA9JdH82QI8+RTrViTZAkRKjQdJ+NkBUBPLLnGU2QEjGfprfQzZA53yK5e8dNkAq/rvARvc1QJhWx1Kc0jVAVuSdTdWxNUBsYdXC/ZU1QHDdS3BmfzVAUH7aytptNUDks8cn2mA1QIazg57CVzVAnDwKP+dRNUAq1wzSlU41QMiWFGQhTTVA4sAU321MNUAGw1ulQEw1QILrU4RATDVAgNzbvHRLNUDGPoay60k1QEWOy7+yRzVAgTIiHt1ANUDbyLEH1Ss1QKDXNNx37zRAoi2qANdYNEB/ebVlrCUzQMVlBJ2KMzFA4bc6YLI6LUDa1GuzeG8nQNYdoH7J1iFANelTtcvBGkDX1O5VyvATQC7ZcN7fMw5AFvPQOH22B0DG5DyF4GgDQH+f6v0mdgBA6Kjho6Ke/D9y2o4Fjj75P7usZhJod/Y/KMGf90Ym9D+6X9DBPDryP1rdfZKZmPA/HAAeKOcj7j/5dP5IhBPrP2/IaiX4KOg/BWpQl6J15T8cYEKOgfviPxEakSMBu+A/BaRaGdxl3T8052jyc8HZP0Kp8wnygdY/uT9GJZWf0z+sNDfOSRLRP1Cw0L4epM0/8z/qd22uyT+bqdlbCzXGP+RzIsKPKsM/9Ghlb6iCwD8/dKHpLGS8P3tSzSdHXbg/sCbpJijetD/KV4ySLtaxP8TyhhrgbK4/64zzuTXjqT+JY0iIsfelPyh6nRtmlaI/L5Ww0N5Tnz/H7cT7fUqaP9Ke1LPT8pU/9cyos+40kj9OS7DJwviNP+lw20HBb4g/0yGey8Kxgz+ri6a11Ux/P9r7Jaeecng/Q4y0eGqycj8PVpV4WN1rP/VQKP3KGmQ/7XbGFJ9PYz8=",
        "dtype": "float64",
        "shape": "112"
       }
      }
     },
     "metadata": {
      "atol": 1e-12,
      "format": "oedes.testing.nb_store_array",
      "label": null,
      "rtol": 1e-07
     },
     "output_type": "display_data"
    },
    {
     "data": {
      "application/vnd.jupyter.widget-view+json": {
       "model_id": "",
       "version_major": 2,
       "version_minor": 0
      },
      "text/plain": [
       "HBox(children=(IntProgress(value=1, bar_style='info', description='transient', max=1), HTML(value='')))"
      ]
     },
     "metadata": {},
     "output_type": "display_data"
    },
    {
     "data": {
      "application/vnd.jupyter.widget-view+json": {
       "model_id": "",
       "version_major": 2,
       "version_minor": 0
      },
      "text/plain": [
       "HBox(children=(IntProgress(value=1, bar_style='info', description='transient', max=1), HTML(value='')))"
      ]
     },
     "metadata": {},
     "output_type": "display_data"
    },
    {
     "data": {
      "application/json": {
       "data": {
        "__ndarray__": "ldYm6AsuET6V1iboCy4hPuBBOtwRxSk+Ooww4o55NT5osStlzVNDPkmeCxyY4VE+SmpK0MqRWz5umRhU56FjPppQQmBm42o+FNqnoYINcj5i3vx8ROF3PuDxuddi434+8zNbWnd6gz5C8pFjcx2IPnVntsDni40+PqtvV4YIkj7mQpiyqQyWPjA+5Y5/H5s+jtLHpZjSoD4/C6DPgv+kPrtlM+YIM6o+ii8WhPRDsD7qB1t6DBy0PqfD2CSgzrg+dDYSjiyLvj4C9EjJBLnCPi/SwnPlzMY+BCpjzJyXyz5myyTSjqPQPgoJpvlrE9Q+yt2dqcVL2D5WA+VEMXDdPuWx2cALv+E+QX3UpFEz5T41wcVGlxjpPtVoGrFgfe0+HcWlL8c78T7DaEasDBL0PoyKPa2+VPc+/fVoblQe+z6UEGxKs5T/PtkQclYfeAI/EqF8qRPEBT/yvYB2kPQJP0AszVTZgA8/+NtZdSSfEz/YWAkCG18ZP0ZZR3HVQyE/FH4UN2EXKT8tQxzr4jYqP0A3IoLrNio/UysoGfQ2Kj9mHy6w/DYqP40HOt4NNyo/29dROjA3Kj92eIHydDcqP6254GL+Nyo/GjyfQxE5Kj/1QBwFNzsqP6tKFoiCPyo/Fl4KjhlIKj8Lz53Y5VgqP2ktmWZlcSo/a80z8xaRKj+8Llta6rcqP3LMAvm15io/3Wz/dhsfKz/wjLXixmIrP4ZIMbdJsys/JiJoumwSLD+aCll1dYIsP4tnhOuLBi0/OhvI7xalLT9kLrxrVmsuP5n/c8Icay8/ucHcQ2pQMD9cVKwJrPowP4N9Bq2NsDE/cN7SvYlxMj9XYSD1Pj0zPzZzd4M5EzQ/p70LMvnyND+ls4MZ+Ns1P8I2FqyuzTY/WskliZXHNz9zf2n/Jck4P5y2wCra0Tk/KhvScy3hOj8Endn9nfY7P5eEyFSvET0/esORfO4xPj8rkiRe91Y/PzM2F7w9QEA/NH042CTXQD/GMQaSK3BBP7gkJm9kC0I/BhxpNf+oQj+Aj5+jTklDP45il6XO7EM/QbCGHSuURD/Z9Gd5R0BFPxvNiIBH8kU/wdkFJJqrRj90yn21B25HP6s7tM/FO0g/Sp18mpQXST/zNxs16wRKP5p4faM8CEs/5sGxBGUnTD+d/KsZW2pNP8qnNdNa3E4/E2UHHflGUD/8qfHSTWJQPw==",
        "dtype": "float64",
        "shape": "113"
       }
      }
     },
     "metadata": {
      "atol": 1e-12,
      "format": "oedes.testing.nb_store_array",
      "label": null,
      "rtol": 1e-07
     },
     "output_type": "display_data"
    },
    {
     "data": {
      "application/json": {
       "data": {
        "__ndarray__": "jD9k89ppbT/4m/K+66GFP0dPqJlROZU/Mse5ZbTeqj/xSl9BPpTDP6mT+G3i9ds/WOXM1SEz6z9CuO2cs4T2P7zAzMCWBAFAKgMVgfssCECTBDCSyUQQQGIFSljyshRAGHsgpUsKGUA0EiHalisdQKbBEjATiSBAuGVW25lfIkAaD3u8ahskQApRVbAJwiVApuLZgc9eJ0Bvl9t8jAApQJadnnZXsipAk3eedex6LEBr0tZ5xV4uQHwCWD8pLjBA27A1bbUyMUBgkABAhy4yQEh4gkBEETNA8CHpx8TPM0BIMm2jqGU0QBwDpQjP0zRApmU8L18eNUBf8fDlVEs1QMZ90Q7nYTVAhpFzJ39pNUAemk8ZJ2g1QGKroAk1YjVA3J+7MrZaNUCo3VZhtlM1QPUSOytbTjVAokg0VAJLNUAdlvCrd0k1QLJFJv84STVA0mKOgrRJNUCUdleMc0o1QFX1W5ItSzVAIWGZ9shLNUBurkdyJUw1QCBprAAtTDVANeZfEjdMNUAU2yy2OEw1QNx59f1sSzVAT2L3IORJNUA05r6Hq0c1QOt5QarXQDVA3EEkm9krNUAwQkURtO80QKAZCeIdWjRANOed0NkqM0Bpb0mUjkMxQMIi+N6yiC1AvjND/4f+J0B4UTNc+pIiQGYeJPqWWRxAoaKp6HSOFUB4b2g01q0QQMalo070tQpASEm9zTkxBkDaXsuyGwADQMGswJn/lQBALiv38NdH/T/hep1mIAb6P+1XNjEnSPc/n5B2mkj69D9vMrbrp/jyP2/Ak1q4EfE/ZJOzPmN07j8nBqUvYQvrP3SbHCHC7uc/LpPG46wb5T8qpoy9LI/iPyGO0aOIReA/YYzy0rF03D/TjNklrNHYP1iRQ6g5mNU/qZD6Dry+0j8t0AwW+jvQP+1Pw0WDDsw/tqHWSO8wyD+TdVIJOdDEPyRiI0+U3sE/GUxn/Lqevj/rz55/GS66P6AjSSxRVrY/8AOKF3EEsz+CEtMWcCewPxeDlLEkYKs/WAUm95whpz87TovPY3ujP/Ey5uSIWKA/RPqkua1Nmz8TVNRsMa2WP8r5ljW9tJI/0vEfjgibjj9s4W8YqMiIP5OXdvc00oM/M2VyqbE5fz8YjA1rNyR4Pw5APRX8PXI/OrhKkofMaj/hC8ZmHwBjP2pgrwMQw1k/VuJ+g+h7UD+n0cprw8dOPw==",
        "dtype": "float64",
        "shape": "113"
       }
      }
     },
     "metadata": {
      "atol": 1e-12,
      "format": "oedes.testing.nb_store_array",
      "label": null,
      "rtol": 1e-07
     },
     "output_type": "display_data"
    },
    {
     "data": {
      "application/vnd.jupyter.widget-view+json": {
       "model_id": "",
       "version_major": 2,
       "version_minor": 0
      },
      "text/plain": [
       "HBox(children=(IntProgress(value=1, bar_style='info', description='transient', max=1), HTML(value='')))"
      ]
     },
     "metadata": {},
     "output_type": "display_data"
    },
    {
     "data": {
      "application/vnd.jupyter.widget-view+json": {
       "model_id": "",
       "version_major": 2,
       "version_minor": 0
      },
      "text/plain": [
       "HBox(children=(IntProgress(value=1, bar_style='info', description='transient', max=1), HTML(value='')))"
      ]
     },
     "metadata": {},
     "output_type": "display_data"
    },
    {
     "data": {
      "application/json": {
       "data": {
        "__ndarray__": "ldYm6AsuET6V1iboCy4hPuBBOtwRxSk+Ooww4o55NT5osStlzVNDPh3ZpXN45FE+MDUvZmOaWz773rIYh6pjPvhaxC2i72o+4DbkVcwPcj7WiYFYSs53PoKNHfkoqX4+d4dN8K5Kgz4SZu66V+WHPhJv512IYI0+khkcLM0Mkj5YD2wfbk2WPnIn1bfi0Zs+DnPvKQ6BoT7jUB6hnA6mPmw4zHo1oqs+KqtIKHAysT77cX17L1K1Pv7TsvlzY7o+llF+vs5KwD4xPoc9zQLEPlvUbGCWZ8g+5jBC7VqXzT74Ku8F6OTRPneh9PXPp9U+RnpN8Pc72j5N8y1fTqzfPjUe8K9a9OI+s60DsNR15j5TgjdMWmPqPphJRMjgze4+Vkd+0ofm8T6tJND7bcD0PuTEaH/bCvg+rmfMMOrl+z6jm0vT2EAAPx8a+E18FAM/ZDtYiIqqBj/GosfhjWoLP/yGYrC5BxE/QyhdCbr+FT/4KCHlLPsdP16Y3kkH8iU/LUMc6+I2Kj9ANyKC6zYqP1MrKBn0Nio/Zh8usPw2Kj+NBzreDTcqP9vXUTowNyo/dniB8nQ3Kj+tueBi/jcqPxo8n0MROSo/9UAcBTc7Kj+rShaIgj8qPxZeCo4ZSCo/lYSdN/1YKj/J/K1ciXEqPw8Gxlk8kSo/+4zK1ea3Kj8DeTbKRuYqP39hXHuvHSs/D+dItGRfKz9SS120iawrP1Z2dpN1Biw/rxSTnPduLD+T7lFRKeksPzXqmGaGey0/x9uiuGAyLj9r6CIogRsvPxTcHwc8GDA/ktKDyAewMD+SOzOT2FIxP+4GQc1MADI/MZIgsBK4Mj82L4b4xnkzP/i1xfP4RDQ/bhi5zS4ZNT9Atizu5/U1P5wqXP6d2jY/W7ehcsXGNz/qONFfzrk4P1ehTCwmszk/xQ0nbTqyOj+Akq0HfbY7P3q6Hodpvzw/e5ksf4vMPT9lvGPMhd0+P3N0/Yca8j8/6YZAyBmFQD+WANjL9RJBP3JNxtrLokE/o7ybx+g0Qj99EygZwclCP95c8/H2YUM/+rjZrmD+Qz+HCn2yEKBEPxeBQzRfSEU/sSMXg/f4RT97QzoT67NGP5NiEwvOe0c/Rob6K+NTSD9Z7JKmYEBJPyF2hzTeRko/db3EBwpvSz9vDOI63cNMP63zOWXDVU4/IXmRPVkfUD/8qfHSTWJQPw==",
        "dtype": "float64",
        "shape": "113"
       }
      }
     },
     "metadata": {
      "atol": 1e-12,
      "format": "oedes.testing.nb_store_array",
      "label": null,
      "rtol": 1e-07
     },
     "output_type": "display_data"
    },
    {
     "data": {
      "application/json": {
       "data": {
        "__ndarray__": "2xzsZRFfbT9V+8cDU5eFP5Ky3yVNLJU/6KG/2dvEqj/86fm1OnLDP0o9hMc7pNs/rpzCMKnD6j+3XafXPQj2P1tvJBJyhgBAVGVYKM06B0B4hJsdTdYOQFa8E0r8VxNATjj4IykhF0DaTK2TnLIaQKbdi9PwDR5A7QI42v2dIECPVReauyUiQAqMUlnCqSNA1YdLp0g4JUBkYDiHPtsmQCzVUzFulyhAJe1Oto9xKkA9rcjJYmwsQNoagUXEgi5AVST84FdQMECu5R/OHlIxQJPD3p5/NjJAZGIARSP0MkC7E0uYz4gzQCHpAfB29zNAqYrc0wdGNEA04AIRyXs0QOA1rHpcoDRAqMqIHWu6NEDDnxozu840QBDd4PNZ4DRAglIHogTxNEAu0m1MbwE1QGIUOZmBETVAaqM5aKEgNUDTDKKWBi41QPQ/vQgGOTVAPMuQgUVBNUCmLGuW0kY1QAESuCshSjVAke6ZL5ZLNUCFGyaIEEw1QHTB1PczTDVAGUGfMjpMNUD+MEmKbks1QELs9dvlSTVAgiv2na1HNUAdGW+H20A1QIDunHTnKzVAnmdA4/jvNEBXJCFTaFs0QFZ+KOXtLzNAuigBBBFTMUBrzWd1kNItQI+K+PNSgyhA/OZNj3w8I0CqWP9awsYdQLakYJW/+BZA2vzSC2YJEkBKoM6Ogj0NQOqMp0LrfQhAKiAt/FEMBUALDr3A9WECQBDszlVdMwBAQd9L+5K6/D8HDe7OXKH5P5zEMcT4Afc/fbEuuGKy9D8/TDe3yoLyP6Y/RA6lcfA/nI0lkHoe7T+J73cbm7XpP91Vhf07ouY/aAdrt8je4z9egjmQn2XhP3A175/6Yd4/gDi05Up22j8O5FBYDf3WPw4mBr6k69M/zSVAuhE40T+j/zCY97HNP6fW02dii8k/reV5DkXsxT8mbr7nucXCP4f5RmUJCsA/X/i1bEBZuz+NtdG1DES3P/6xP5esv7M/AOvhvWa5sD90RuZS+0CsPzd5kyctzKc/WSTJjTr6oz8HwxjRSrSgP8okWK8nzZs/asCFMC0Alz8n/8wgtOSSP2Y48SGVxI4/rqrBFuPIiD9HKkarH7SDP9MH4lyZ034/g5vaMCOkdz/bkfCld7FxP1G4GwZPsWk/9v5TOCr1YT9/xdLGEOpXP2sKPV3g5k0/C0z8P8YwQT9alMD26JA8Pw==",
        "dtype": "float64",
        "shape": "113"
       }
      }
     },
     "metadata": {
      "atol": 1e-12,
      "format": "oedes.testing.nb_store_array",
      "label": null,
      "rtol": 1e-07
     },
     "output_type": "display_data"
    },
    {
     "name": "stdout",
     "output_type": "stream",
     "text": [
      "\r"
     ]
    },
    {
     "data": {
      "image/png": "[encoded data removed]",
      "text/plain": [
       "<Figure size 432x288 with 1 Axes>"
      ]
     },
     "metadata": {},
     "output_type": "display_data"
    }
   ],
   "source": [
    "ax = plt.gca()\n",
    "for Cdt in progressbar([5e3, 1e4, 1.5e4, 2e4, 2.5e4],'Cdt'):\n",
    "    c, t, j = run(27.4, {'electron.trap0.rrate': Cdt / N0,\n",
    "                         'electron.trap0.trate': 2.5e-16 / 1e4 * Cdt}, t=200e-6)\n",
    "    ax.plot(t * 1e6, j * 0.1, label=r'$\\mathrm{C_{dt}}$=%s $\\mathrm{s^{-1}}$' % formatter(Cdt))\n",
    "ax.set_xlabel(r'Time [$\\mathrm{\\mu s}$]')\n",
    "ax.set_ylabel(r'Photocurrent [$\\mathrm{mA/cm^2}$]')\n",
    "ax.set_ylim([1.8, 2.8])\n",
    "ax.set_xlim([0, 200])\n",
    "ax.legend(loc='lower right');"
   ]
  },
  {
   "cell_type": "markdown",
   "metadata": {
    "oedes_subtest": {
     "name": "11and12"
    }
   },
   "source": [
    "### Profiles of charge carrier densities, electric field, and recombination\n",
    "\n",
    "Below, profiles are shown for device illuminated with $I=27.4I_0$. $x$ denotes the position inside the device."
   ]
  },
  {
   "cell_type": "code",
   "execution_count": 21,
   "metadata": {},
   "outputs": [
    {
     "data": {
      "application/vnd.jupyter.widget-view+json": {
       "model_id": "",
       "version_major": 2,
       "version_minor": 0
      },
      "text/plain": [
       "HBox(children=(IntProgress(value=1, bar_style='info', description='transient', max=1), HTML(value='')))"
      ]
     },
     "metadata": {},
     "output_type": "display_data"
    },
    {
     "name": "stdout",
     "output_type": "stream",
     "text": [
      "\r"
     ]
    },
    {
     "data": {
      "application/vnd.jupyter.widget-view+json": {
       "model_id": "",
       "version_major": 2,
       "version_minor": 0
      },
      "text/plain": [
       "HBox(children=(IntProgress(value=1, bar_style='info', description='transient', max=1), HTML(value='')))"
      ]
     },
     "metadata": {},
     "output_type": "display_data"
    },
    {
     "name": "stdout",
     "output_type": "stream",
     "text": [
      "\r"
     ]
    },
    {
     "data": {
      "application/json": {
       "data": {
        "__ndarray__": "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",
        "dtype": "float64",
        "shape": "213"
       }
      }
     },
     "metadata": {
      "atol": 0,
      "format": "oedes.testing.nb_store_array",
      "label": null,
      "rtol": 0.0001
     },
     "output_type": "display_data"
    },
    {
     "data": {
      "application/json": {
       "data": {
        "__ndarray__": "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",
        "dtype": "float64",
        "shape": "213"
       }
      }
     },
     "metadata": {
      "atol": 0,
      "format": "oedes.testing.nb_store_array",
      "label": null,
      "rtol": 0.0001
     },
     "output_type": "display_data"
    },
    {
     "data": {
      "application/json": {
       "data": {
        "__ndarray__": "83MikjSmp0BvgALM1geoQM8/qF0uhqhAXWt+yXgqqUBSr3D3bwGqQLuNALHuHKtAieWd85CWrED9xg5nC5SuQB1jxwBPp7BAGQijWTKQskDIDncEpE61QLwS9UMgYrlA/i6qSy1FvkAmHJRG5wvCQB76tUTxg8VATeMKJAimyUALEvXtupLOQCMwgVVqONJAXQ15+0a31UA28eaMfOHZQDDpMOzZ195AYwqHFLtg4kAknZo2cublQNmN1G7RGOpAzVLV3ecY70CX+EWODIfyQPrDbMGpE/ZA4ZWq60BO+kD9QADkIVj/QLSme65+rAJBjQ5gxQ5ABkF36D5T7YIKQSZAm2Krlg9BwM+jqqPREkFRTDn3M2wWQapTkNdptxpBe2/hCBjVH0Guqf6ZxfYiQY5c/a9jmCZBK8CrFgHsKkEmQjpf2QkwQeYeJBgKHDNBPrDOtsPENkGsXu0H2SA7QWcwVNhQKUBBavg1WoRBQ0H4uH1jZ/FGQS8b5SoFVktB4AhwRvxIUEEpyXFRPmdTQVugKsZYHldB8RzFs4+LW0FNUcfY4GhgQbsS4kU9jWNBquAXRJ1LZ0GGr0YqfsFrQV2YkmcBiXBBJDXVJ4Szc0E+lBrqN3l3QTceEL3T93tBnc40nl+pgEEDm3+6FNqDQR9gspcqp4dBZ69BbZIujEGzsTuR/MmQQUS9NSrwAJRBYDN9lXbVl0EpmSKlu2WcQQYw0wnZ6qBB4238VxcopEG+U+TgHASoQZPx6oNQnaxBTJ+4q/ULsUEtYIr/ik+0QQ1LLFIeM7hBRhDiA1LVvEGTTVEIUy3BQWsUZspLd8RBXjuar3tiyEHLYIsNwQ3NQQKsRKjxTtFBB+CDWVqf1EEW1hW3NZLYQWtZTIGeRt1BEFhRENJw4UEuDh1Kt8fkQUimAiNNwuhB1wZIPOt/7UFOD7zD9JLxQfwRIDhj8PRBuZKxrMLy+EHC8tEaqLn9QSjgiUVatQFCjINrv14ZBUKguJwNlyMJQpbxqvnV8w1CZhgfGQPYEUKNpG18qkIVQpOZBwDLVBlC5Q6itnUuHkK7JpDC7/ohQpy9dQxHbCVCogVRP1+GKUL1GucwiGkuQkdAy8YgHjJCSzHeDTWWNUJwrx2IVLg5QtzUNUkOpT5CME6uq5ZBQkLx0SIgdcBFQmX8bpir6klCKUzt4QjhTkIX9BL4UWVSQvJN7eMH61VCoumvL2UdWkIlVR3feB1fQoKf1TNTiWJCl6Qc++0VZkIP+rwOglBqQngHjyZfWm9CsR3a55qtckLxIsoIKEF2Qhav6fcChHpCM8rKn7yXf0Jt+g6eKdKCQnEuTbG2bIZChtMEr+i3ikKzPB00ktWPQhNTcOH/9pJC1Yk+mpqYlkIKTlz5M+yaQiDZTWfwCaBCNn4KPh4co0Lqf3tq1MSmQhrswJ3lIKtCu2QUrlQpsEKX1fxAhUGzQmhOKcpk8bZCN5uKZP5Vu0KZ1bxl9kjAQjkBfXg1Z8NChU65Ykwex0K9tZ0Xf4vLQrVtjgbWaNBC02Dbcy+N00JLuu7ei0vXQkSbcoJowdtCKCfCCfSI4EIjyonDc7PjQkK/5+ojeedC4v0hcrv360JiFYvpUKnwQlwEJ/kC2vNC400tNBWn90J5u3q1eC78QguPJSHtyQBDKOOTp90ABENAkdBpYNUHQ04dKx2hZQxDNRr0LMnqEEON7BtjBCgUQ54ipDwGBBhDgXQRfDWdHEO8SriK5QshQ7qmxcF3TyRD94qtXwczKEMAotynNtUsQ0VZBLpCLTFDkm3zWzh3NEObEgmJZGI4QynmTnqlDT1Dx+gfPeFOQUOFyafNRp9EQ2GvtXMekkhDUC/K04JGTUM4rtaawXBRQ97KFbmjx1RD6EY44zXCWENZhXmgz39dQ3oFImLkkmFDOpzTy0/wZEMhDvyqq/JoQzUtyeKMuW1D1PSWMUq1cUPtL2bJSxl1Q4mDSr2AI3lDxfOlyLvzfUO+pXrG89eBQxgvqaCYQoVDt0iuSbZUiUMchJ/WXS6OQw/xXxvi+pFDJdNElzdslUPoB6X6TYaZQzgIfT91aZ5DoVpRphYeokPSOu2hKpalQz8I5nJKuKlDd6MUlgWlrkObpgzXk0GyQ8YQlhd1wLVDWSPIS7DquUNngWb/vte+QzMNP3sir8FDIrluzgqyw0NbeJp5A3DFQ1dHvqd16sZDhxjroHkmyENYSb8ICSvJQ8AfWh29/8lDoFnJWASsykPl6+J6sTbLQy1r6KbHpctD",
        "dtype": "float64",
        "shape": "213"
       }
      }
     },
     "metadata": {
      "atol": 0,
      "format": "oedes.testing.nb_store_array",
      "label": null,
      "rtol": 0.0001
     },
     "output_type": "display_data"
    },
    {
     "data": {
      "application/json": {
       "data": {
        "__ndarray__": "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",
        "dtype": "float64",
        "shape": "212"
       }
      }
     },
     "metadata": {
      "atol": 0,
      "format": "oedes.testing.nb_store_array",
      "label": null,
      "rtol": 0.0001
     },
     "output_type": "display_data"
    },
    {
     "data": {
      "application/json": {
       "data": {
        "__ndarray__": "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",
        "dtype": "float64",
        "shape": "213"
       }
      }
     },
     "metadata": {
      "atol": 0,
      "format": "oedes.testing.nb_store_array",
      "label": null,
      "rtol": 0.0001
     },
     "output_type": "display_data"
    },
    {
     "data": {
      "application/json": {
       "data": {
        "__ndarray__": "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",
        "dtype": "float64",
        "shape": "213"
       }
      }
     },
     "metadata": {
      "atol": 0,
      "format": "oedes.testing.nb_store_array",
      "label": null,
      "rtol": 0.0001
     },
     "output_type": "display_data"
    },
    {
     "data": {
      "application/json": {
       "data": {
        "__ndarray__": "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",
        "dtype": "float64",
        "shape": "213"
       }
      }
     },
     "metadata": {
      "atol": 0,
      "format": "oedes.testing.nb_store_array",
      "label": null,
      "rtol": 0.0001
     },
     "output_type": "display_data"
    },
    {
     "data": {
      "application/json": {
       "data": {
        "__ndarray__": "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",
        "dtype": "float64",
        "shape": "213"
       }
      }
     },
     "metadata": {
      "atol": 0,
      "format": "oedes.testing.nb_store_array",
      "label": null,
      "rtol": 0.0001
     },
     "output_type": "display_data"
    },
    {
     "data": {
      "application/json": {
       "data": {
        "__ndarray__": "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",
        "dtype": "float64",
        "shape": "213"
       }
      }
     },
     "metadata": {
      "atol": 0,
      "format": "oedes.testing.nb_store_array",
      "label": null,
      "rtol": 0.0001
     },
     "output_type": "display_data"
    },
    {
     "data": {
      "application/json": {
       "data": {
        "__ndarray__": "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",
        "dtype": "float64",
        "shape": "212"
       }
      }
     },
     "metadata": {
      "atol": 0,
      "format": "oedes.testing.nb_store_array",
      "label": null,
      "rtol": 0.0001
     },
     "output_type": "display_data"
    },
    {
     "data": {
      "application/json": {
       "data": {
        "__ndarray__": "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",
        "dtype": "float64",
        "shape": "213"
       }
      }
     },
     "metadata": {
      "atol": 0,
      "format": "oedes.testing.nb_store_array",
      "label": null,
      "rtol": 0.0001
     },
     "output_type": "display_data"
    },
    {
     "data": {
      "application/json": {
       "data": {
        "__ndarray__": "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",
        "dtype": "float64",
        "shape": "213"
       }
      }
     },
     "metadata": {
      "atol": 0,
      "format": "oedes.testing.nb_store_array",
      "label": null,
      "rtol": 0.0001
     },
     "output_type": "display_data"
    },
    {
     "data": {
      "application/json": {
       "data": {
        "__ndarray__": "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",
        "dtype": "float64",
        "shape": "213"
       }
      }
     },
     "metadata": {
      "atol": 0,
      "format": "oedes.testing.nb_store_array",
      "label": null,
      "rtol": 0.0001
     },
     "output_type": "display_data"
    },
    {
     "data": {
      "application/json": {
       "data": {
        "__ndarray__": "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",
        "dtype": "float64",
        "shape": "213"
       }
      }
     },
     "metadata": {
      "atol": 0,
      "format": "oedes.testing.nb_store_array",
      "label": null,
      "rtol": 0.0001
     },
     "output_type": "display_data"
    },
    {
     "data": {
      "application/json": {
       "data": {
        "__ndarray__": "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",
        "dtype": "float64",
        "shape": "213"
       }
      }
     },
     "metadata": {
      "atol": 0,
      "format": "oedes.testing.nb_store_array",
      "label": null,
      "rtol": 0.0001
     },
     "output_type": "display_data"
    },
    {
     "data": {
      "application/json": {
       "data": {
        "__ndarray__": "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",
        "dtype": "float64",
        "shape": "212"
       }
      }
     },
     "metadata": {
      "atol": 0,
      "format": "oedes.testing.nb_store_array",
      "label": null,
      "rtol": 0.0001
     },
     "output_type": "display_data"
    },
    {
     "data": {
      "application/json": {
       "data": {
        "__ndarray__": "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",
        "dtype": "float64",
        "shape": "213"
       }
      }
     },
     "metadata": {
      "atol": 0,
      "format": "oedes.testing.nb_store_array",
      "label": null,
      "rtol": 0.0001
     },
     "output_type": "display_data"
    },
    {
     "data": {
      "application/json": {
       "data": {
        "__ndarray__": "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",
        "dtype": "float64",
        "shape": "213"
       }
      }
     },
     "metadata": {
      "atol": 0,
      "format": "oedes.testing.nb_store_array",
      "label": null,
      "rtol": 0.0001
     },
     "output_type": "display_data"
    },
    {
     "data": {
      "application/json": {
       "data": {
        "__ndarray__": "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",
        "dtype": "float64",
        "shape": "213"
       }
      }
     },
     "metadata": {
      "atol": 0,
      "format": "oedes.testing.nb_store_array",
      "label": null,
      "rtol": 0.0001
     },
     "output_type": "display_data"
    },
    {
     "data": {
      "application/json": {
       "data": {
        "__ndarray__": "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",
        "dtype": "float64",
        "shape": "213"
       }
      }
     },
     "metadata": {
      "atol": 0,
      "format": "oedes.testing.nb_store_array",
      "label": null,
      "rtol": 0.0001
     },
     "output_type": "display_data"
    },
    {
     "data": {
      "application/json": {
       "data": {
        "__ndarray__": "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",
        "dtype": "float64",
        "shape": "213"
       }
      }
     },
     "metadata": {
      "atol": 0,
      "format": "oedes.testing.nb_store_array",
      "label": null,
      "rtol": 0.0001
     },
     "output_type": "display_data"
    },
    {
     "data": {
      "application/json": {
       "data": {
        "__ndarray__": "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",
        "dtype": "float64",
        "shape": "212"
       }
      }
     },
     "metadata": {
      "atol": 0,
      "format": "oedes.testing.nb_store_array",
      "label": null,
      "rtol": 0.0001
     },
     "output_type": "display_data"
    },
    {
     "data": {
      "application/json": {
       "data": {
        "__ndarray__": "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",
        "dtype": "float64",
        "shape": "213"
       }
      }
     },
     "metadata": {
      "atol": 0,
      "format": "oedes.testing.nb_store_array",
      "label": null,
      "rtol": 0.0001
     },
     "output_type": "display_data"
    },
    {
     "data": {
      "application/json": {
       "data": {
        "__ndarray__": "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",
        "dtype": "float64",
        "shape": "213"
       }
      }
     },
     "metadata": {
      "atol": 0,
      "format": "oedes.testing.nb_store_array",
      "label": null,
      "rtol": 0.0001
     },
     "output_type": "display_data"
    },
    {
     "data": {
      "application/json": {
       "data": {
        "__ndarray__": "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",
        "dtype": "float64",
        "shape": "213"
       }
      }
     },
     "metadata": {
      "atol": 0,
      "format": "oedes.testing.nb_store_array",
      "label": null,
      "rtol": 0.0001
     },
     "output_type": "display_data"
    },
    {
     "data": {
      "application/json": {
       "data": {
        "__ndarray__": "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",
        "dtype": "float64",
        "shape": "213"
       }
      }
     },
     "metadata": {
      "atol": 0,
      "format": "oedes.testing.nb_store_array",
      "label": null,
      "rtol": 0.0001
     },
     "output_type": "display_data"
    },
    {
     "data": {
      "application/json": {
       "data": {
        "__ndarray__": "83MikjSmp0DNro0fvjCCQ2mF6x+NzZRDTlUlZir2oUMoCiTl6cOrQ10ZgdR9RbRDPKNGOHmmvEMolcEfitzDQxF4sBDlPstDtoCr3zma0kOuqbtRwmjZQ0FAqIDRbuFDsl3pz0Kt5kNMGzAQo2vsQzvY3pFHV/FDxvg9QfC99EMmP5u86Gz4Q7GgH0HaZfxDu6ShH2FVAETyF2B+B58CREWa/1k0EQVEzCgVtKGsB0RT0lGVInIKRO2Xi6+qYg1E++P+aqI/EERfUQh8RuQRRBsFw2aTnxNEGXOfqN9xFUQqdHdOhVsXRHKkqpnBXBlEPLGPWs11G0ROurHv2qYdRGPJAagT8B9EyY73VNEoIURjjuxy02UiRKB61l0XryNEp33kKZkEJURx3V6tY2YmRAUfr2l51CdE0jcCK9BOKUQwuc8BTdUqRF3xtybuZyxEriyslqkGLkTAOcDyZLEvRBu9VE34szBEIAeshR6VMURlCjFZGnwyRDIQqW7XaDNE4j5mJDVbNETAVO7AJFM1RE3hVHOWUDZEuquC829TN0SnbBqsiVs4RNu85lXOaDlEFXVIICp7OkQJi3NcfpI7RN3FUq6erjxEsUT5OHDPPUS339J83PQ+RJBO6BphD0BEUAu9WXmmQEQSbsKFpz9BRMtQbdPf2kFElGQmYBF4QkRF7lT/JBdDRJyS6T4KuENERKn/s7VaRERAHvphF/9ERAXDCrMZpUVE8Ez0gKxMRkT+GvHJxfVGRFFQtrNXoEdEygfjtk9MSEQn7Qp2n/lIRFfPS3Y/qElEhOYySSVYSkQ4fXLvQglLRB9GAHeNu0tEtr/NFQFvTET7Yi8VmCNNRNeKR21K2U1EduQDTRKQTkTzv4HF8EdPRBnffQxzAFBEF0vMxnhdUEQTkbQSCrtQRCYjRHQqGVFEc/oNnN13UUSaiVhqJ9dRRB9uyJMMN1JEUpwNFZSXUkQGFHWpxfhSRNaxz+SpWlNEGGGFWkq9U0SwAgvgsSBURNnR8pHshFRECz9/AAjqVER74jEXE1BVRDlJnrcct1VEEwDXgDUfVkRj+8kJcIhWRBf1EMfg8lZEJBb0mJpeV0QikC94sstXRJPWmLg/OlhEwUZkJlyqWEQrzjg6HhxZRMwx8rqej1lElum/AvkEWkTkYGpLS3xaRDrI3fuu9VpEZYTinj9xW0RGEUBWG+9bRCBS8iJjb1xEQ+swPDLyXERrST1OpXddRCN4AmTb/11Ecyn+JfaKXkSc+DepEBlfRIt5R3FGql9EL2d4dFofYEQkohfKPWtgRMa3RF/ZuGBEV27n6DgIYUQ7E7q1aFlhRFzTNcB1rGFEbAvSI2kBYkSnhxbJSlhiRPUV/r8isWJE+QZfS/kLY0SPjeCb0mhjRJIk+uGwx2NEyEjT85UoZETcfNRTg4tkRH7R+1B28GRE1iP2cmlXZUSIIc5hVsBlRLZS6+k1K2ZENMeAmPyXZkTyoL6DmwZnRB4VTmUCd2dEARzTnR/pZ0TdcJBa3VxoRHsmYMch0mhEQbvjR9FIaUQUE357zsBpRIv8WO/3OWpEd4O40Ce0akShfissNi9rREgr/fD4qmtETJQSKUInbET22wFI36NsRHPL0VObIG1EwCBi5D6dbURv97nRjhluROkuJT9LlW5Exm6cjjEQb0QD8/5V/IlvRG+LfDYxAXBE4LDD6Yo8cETApCGo4nZwRNixaSkOsHBEXIhyIuHncERFdIq0LB5xRHPSkQLAUnFExjlpE2iFcUQxg8SL77VxRHY27yUe5HFE/x1v/rgPckTukDdhgjhyRKilaoM5XnJEAkftC5qAckTTnaIKXJ9yRFvuwqgzunJE8w1o0NDQckQjCIjJ3uJyRARcdtAD8HJE8Wg7oOD3ckT9Q1H1D/pyRF1VeTwm9nJERC7KvrDrckRZmB77NNpyRBRjXvEvwXJEWGVq2RWgckRHvTPdUHZyRLJ10jRAQ3JEolJsMTcGckR9TD7SfL5xRLIQ6iFKa3FEhDw3AckLcURvI8PmEp9wRAeVZjYwJHBEq3YDnCw0b0QvV7DtS/9tRGOjw69Tp2xEPghmAaspa0RdcPN4hoNpRNJB42zksWdETPQ6ZYmxZUR3Rdqy/X5jRJrJ+AGJFmFEDs750lzoXEQsAKBcsTFXRNbvFyLeVlJEhEFpsY+RTERo0+00G+JFRGvkToCbbUBEAs/UTy4GOETnEYU/DOswRMRWdmP3dCZE3FSY6nDCGkR9Nx6HTqQIRC9r6KbHpctD",
        "dtype": "float64",
        "shape": "213"
       }
      }
     },
     "metadata": {
      "atol": 0,
      "format": "oedes.testing.nb_store_array",
      "label": null,
      "rtol": 0.0001
     },
     "output_type": "display_data"
    },
    {
     "data": {
      "application/json": {
       "data": {
        "__ndarray__": "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",
        "dtype": "float64",
        "shape": "212"
       }
      }
     },
     "metadata": {
      "atol": 0,
      "format": "oedes.testing.nb_store_array",
      "label": null,
      "rtol": 0.0001
     },
     "output_type": "display_data"
    },
    {
     "data": {
      "application/json": {
       "data": {
        "__ndarray__": "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",
        "dtype": "float64",
        "shape": "213"
       }
      }
     },
     "metadata": {
      "atol": 0,
      "format": "oedes.testing.nb_store_array",
      "label": null,
      "rtol": 0.0001
     },
     "output_type": "display_data"
    },
    {
     "data": {
      "application/json": {
       "data": {
        "__ndarray__": "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",
        "dtype": "float64",
        "shape": "213"
       }
      }
     },
     "metadata": {
      "atol": 0,
      "format": "oedes.testing.nb_store_array",
      "label": null,
      "rtol": 0.0001
     },
     "output_type": "display_data"
    },
    {
     "data": {
      "application/json": {
       "data": {
        "__ndarray__": "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",
        "dtype": "float64",
        "shape": "213"
       }
      }
     },
     "metadata": {
      "atol": 0,
      "format": "oedes.testing.nb_store_array",
      "label": null,
      "rtol": 0.0001
     },
     "output_type": "display_data"
    },
    {
     "data": {
      "application/json": {
       "data": {
        "__ndarray__": "LWvopsely0OoW03ofw/eQ5V4uDXh7ehD3mExlrFu8kMq/wBFy4b5Qz/zVuyX5wBE+kI7v5yhBURiNpNwoN8KRNZIjNu8PRBEhgRZ5jEcE0SDQvYhMOMVRH+bcAwPZxhE3qn/tC4mGkRiWHsKMl8bRC5hDQ3xPhxEStSC2RjjHERaogfAU18dRMx49yqowB1EbOQB4MEPHkRcGRGnaVIeRO4Ffql7jB5EfYZxUIXAHkS8MuGlPPAeRFIu85nHHB9EPFapxOpGH0RSzVFNJG8fRFLVmGDIlR9EqapuyA67H0QOtUroG98fRHhRCkgCASBEu/0rr+oRIERi0fOnSiIgRJq9Jb4jMiBEffTXp3ZBIEQTVk3/QlAgRC5oxJSHXiBEvGRPpkJsIERu45A4dHkgRNuHlYEbhiBEHx4NAjeSIEQUXy+1xJ0gRPkjF8LFqCBESKR+eTqzIESk5R8kIr0gRK482Ul7xiBEAh8Te0jPIETg52qJi9cgRDddDN1E3yBE/LyH1nPmIEQUZIdZHO0gRE9ivdJB8yBES/9h7OX4IETxU0oHCf4gRPqd5yywAiFEeUtIYOAGIUQAR7+ZnAohRGGTpFHmDSFEyDjpg8MQIUQyIaewOhMhREJwExpQFSFEPBV/WgYXIUQQeNksZBghREhMSWNxGSFE5iyYdjMaIUTRd8cgrhohRCyubqroGiFEq6rN/OsaIURFMlelvhohRIC8T25lGiFEHekQAOgZIUT8Hv0RUBkhRNzMbhalGCFE+klJy+wXIUQrW9QOLxchRD6GDBJ2FiFEXYTs78kVIURdVY4wMRUhROV/hcKzFCFE2GY281sUIUQBVkY/MhQhRFxN1cM9FCFE1PP7XYYUIUQvueUUFhUhRByOg3f1FSFEcnl1+CsXIUSJIatEwRghRP8HZbi+GiFErISinywdIUQ+8HN6EiAhRHRA4Kh3IyFEMC/AeGQnIUSuHqWa4CshRLYKcU3zMCFEBeDmh6M2IUR17CIq+DwhRL2qCvD3QyFEQrQfhKlLIUR6hglWE1QhRFYrY386XSFEcFKPbyRnIUQJeLrm1nEhRMIc+KtXfSFEKnbdwamJIUSw8ob20JYhRLLymcjRpCFEFkwyL7GzIUTuQ3/Ob8MhRFFgxYIP1CFEVNDiMZPlIURxOTWm/vchRL+wuRpQCyJEPMcVLYcfIkT+pCXTpDQiRNdLKiirSiJEYBaeGJZhIkStqRG7YnkiRClVKr8PkiJEQHOdL52rIkR8LAiZBMYiRKZMgEhA4SJEVfCDVEz9IkRvVIRWJhojRDOeSGTFNyNE+TtJxSBWI0QhPWGoMXUjRDQDwtfylCNEnQCv1Fi1I0SA0dGrV9YjRPzSGVzl9yNEPsjkh/kZJERpP/L3hTwkRE2REVF7XyREGjZ1IsyCJER85K2WbKYkRBqVbZVLyiREK/JqOFbuJESQKl9qexIlRNqsJpqrNiVEalU8pNJaJURaC67/2X4lRCSOv8usoiVEkZAkhzfGJUQmO/LaYuklRKOMdJEUDCZEMGWV5zMuJkRqEbZJqU8mRFEsCwtacCZEPbC6TSiQJkR+Igpn964mRKws5aKrzCZEgffn5CbpJkQBsWe6RwQnROs8Op3tHSdE4cVxvvg1J0S/tFKCR0wnRNTQCwG1YCdEmi2m8xxzJ0Qdlt+FW4MnRIj9SpRLkSdE9s4U58ScJ0QCMC+Xn6UnRMnWaeazqydEGP83H9muJ0TcHarV464nRMpH+JeoqydEC5XeyvukJ0T+IgMFsZonRMxtPZ2ZjCdE+yrggIZ6J0T9EtgQSGQnRKPlV8+tSSdEF8ytd4UqJ0S8lrvdmwYnRJ9DOMa83SZEzgr5u7KvJkSHYkXdRnwmRIoxbLJAQyZEzuPW+GUEJkRdx/F1er8lRE2l5pBAdCVEFmAXGngiJUQFlOb93ckkRPW4x+4raiRERiosyRkDJERcGOpUW5QjRL+GQdOfHSNE03LCgZGeIkQNZB5O1xYiROGXpxEShiFEmKew09vrIESOTwAlx0cgRM6MZMnBMh9EtvYysVrAHUTWKgRtTjccRNyxQg5+lhpEh/tyCbrcGERmIM50vQgXRIxq+NMsGRVE1dMgkZYME0SufqrLeOEQRI6ockSCLA1EJMUQQaFSCEQ+ywOxHzsDRLCmu9Z4DP5DmUy5Zlss90NW/I9VB5rxQ1S9tYJxO+pDoKurStcL40Nl+EzMMKDaQ1aIb3c6gdFDmIVdQ7WIxEOI1uWCBSOyQ/NzIpI0pqdA",
        "dtype": "float64",
        "shape": "213"
       }
      }
     },
     "metadata": {
      "atol": 0,
      "format": "oedes.testing.nb_store_array",
      "label": null,
      "rtol": 0.0001
     },
     "output_type": "display_data"
    },
    {
     "data": {
      "application/json": {
       "data": {
        "__ndarray__": "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",
        "dtype": "float64",
        "shape": "213"
       }
      }
     },
     "metadata": {
      "atol": 0,
      "format": "oedes.testing.nb_store_array",
      "label": null,
      "rtol": 0.0001
     },
     "output_type": "display_data"
    },
    {
     "data": {
      "application/json": {
       "data": {
        "__ndarray__": "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",
        "dtype": "float64",
        "shape": "212"
       }
      }
     },
     "metadata": {
      "atol": 0,
      "format": "oedes.testing.nb_store_array",
      "label": null,
      "rtol": 0.0001
     },
     "output_type": "display_data"
    },
    {
     "data": {
      "application/json": {
       "data": {
        "__ndarray__": "GLs/7LNPX0HHylphpQdHRKcr4eCO2WVEaYML6Tjpe0QIDQz/meSNRKsf9VeA7ZxEatR5kYMuqkQ4Jf+r4ZK2RDIZUepgvcJEB6HQWIcozkR1zfH9ZaLXRFSJn5cYHuJEx1wW0FVP6USU8RIKJaPwRH2rCX1w/vREfrdaM4O7+UQSQJl4F9/+RJuZhjiBNgJFxgpAsRk1BUVn+q4ZS24IRa6oaSZL5QtFaXOXflWcD0VjmZZA38oRRe4HVaMA6hNFEExW/dksFkWCi5J3U5QYRU5cdgtUIRtFEoNtKsTUHUUTBHG2xlcgRZi6L30x2SFFPxArovVuI0XHSrBoXhklReC2stms2CZFIE9apiGtKEX53Juw8JYqRddkDvk8lixF4DeKIBOrLkWxSy2vzGowRRNdU3LyijFFBdxczfi1MkWerNwYzeszRaDA6z90LDVFEnnrp+p3NkWBQmpnHM43RZDUF4HgLjlFhr2r8C2aOkWwFdBW9Q88Rek7MRcUkD1FYyOeKU8aP0XM3dyxSFdARV6gdr5hJkFFD70eblz6QUVSZJQvFdNCRUqArw99sENF/z4OD4eSREXJ+Uv0GnlFRXh5uNQSZEZFUSHe3V1TR0VbrRTf8EZIRSl3s1q1PklFLb8jV4c6SkUFBslXVzpLRXxBwI8fPkxFEZ6xVc9FTUVtJbNXSVFORXjTZEGDYE9FcpJsQcA5UEVlTLtTHcVQRV5EAv9PUlFFRoOI2FfhUUUjlrc0PXJSRS3Q/TYEBVNFpYEnZKyZU0UJsSF1PDBURbeTP1/FyFRF5qi171RjVUU0unic9f9VRSW/49q3nlZFhpGmSbc/V0UeKpixDeNXRcdLyBHTiFhFUWDMaSQxWUVC7CYSKtxZRe/6tikMilpFAhWY1vI6W0WvdiCmCu9bRVnGTsiKplxFHl5EFqxhXUVbebJ+qSBeRUiH9UzC415FXpG4rT6rX0UDgGZKtTtgRfKkbCRLpGBFEDJ3hosPYUV/0NIJpH1hRR0AmUvF7mFFXpE2OiNjYkUsM1zq9NpiRQKGD0JyVmNFFRtZRtfVY0WICGlmZFlkRbadeCxe4WRFf3x0BQduZUVAYPpwpv9lRRNm1z2JlmZFsQAsewEzZ0VnbOxCW9VnRZin3l7ofWhF3gmYaAAtaUUTe0nyAONpRTYBXZQ9oGpFrXV1NA9la0V7WOZs1DFsRRHxw4vxBm1F9kTBSb3kbUX/3oS4kctuRUpOarTNu29F+3ngV+pacEXCKGxO/NxwRWllKblFZHFFOevnDPHwcUXPBZ8CKoNyRXooA3oRG3NF2JP+/cW4c0WY65EzZlx0RTDtBY4QBnVFgPR6gta1dUUXcglNxGt2RaHMmozkJ3dFnFDy6j/qd0WZ7WAS0LJ4RZfslz+GgXlFhJQdNlBWekWZ1afqFzF7RTkA37S2EXxFUPMFTvr3fEURkyk3q+N9RXWqH3WM1H5F8j6geE/Kf0U7QFuiS2KARfUwtiGA4YBF7x/jD5BigUW+9S9qPeWBRRkljutBaYJFC9c2mlPugkUXlBPHJHSDRXTuP1Zf+oNFhg3dW6SAhEWzFPIkkQaFRbxLFkq/i4VFrPQ+2cAPhkUJ+eIXH5KGRTK4gMxfEodF2CuqZAWQh0U1cPYQjAqIRXoe4edngYhFeTpKKAr0iEWcqJR14WGJRRbsiOhXyolFCmDl69AsikUZwPwrroiKRQk2HvJP3YpFl1XfIhQqi0WeHGRHVG6LRf4ke+VpqYtF0avdDa/ai0W7oqY7fgGMRaLZUg8xHYxFjS+D3iMtjEUg7K6VtjCMRfYWcm5NJ4xFies35lAQjEWCpSt0MOuLRX8CI+xjt4tFshjDCG10i0XgwTsa2SGLRYGMZ/dCv4pFPSKdF1VMikVuZFn1y8iJRQXKZcp5NIlFDwNx9EePiEXojebzOdmHRYt466hwEodFO9ZtJjA7hkUgXBnS4FOFRYEglU4TXYRFCBuJm4RXg0WHtyoWJUSCRcl4IPsZJIFFGutff4Pxf0XnTBhLcYd9RYf4gaS/DXtFZhuMEb6IeEUcSRo2Uf11RQzX6vv6cHNFCc8eBebpcEXqtzEV0N1sRVEuYLIND2hFO+aE2vp3Y0UYLO6FClVeRURiVv0ndFZFQo3jRDPuTkU/eihRwCdDRfzmugzaNjdF29jt8Ux3K0W4+LhBiZQfRRq6q4nDgBFFhXKknS10AkXDVzz5HxPyRHeGP5Jyct9EuIq3sUf3xUT7S/yBAvqhRIeipQp7CWBB",
        "dtype": "float64",
        "shape": "213"
       }
      }
     },
     "metadata": {
      "atol": 0,
      "format": "oedes.testing.nb_store_array",
      "label": null,
      "rtol": 0.0001
     },
     "output_type": "display_data"
    },
    {
     "data": {
      "application/json": {
       "data": {
        "__ndarray__": "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",
        "dtype": "float64",
        "shape": "213"
       }
      }
     },
     "metadata": {
      "atol": 0,
      "format": "oedes.testing.nb_store_array",
      "label": null,
      "rtol": 0.0001
     },
     "output_type": "display_data"
    },
    {
     "data": {
      "image/png": "[encoded data removed]",
      "text/plain": [
       "<Figure size 576x648 with 6 Axes>"
      ]
     },
     "metadata": {},
     "output_type": "display_data"
    }
   ],
   "source": [
    "r = []\n",
    "fig, ((nf, pf), (nt, e), (r, d)) = plt.subplots(3, 2, figsize=(8, 9))\n",
    "c = run(27.4, store=False)[0]\n",
    "for t in [0e-6, 1e-6, 5e-6, 10e-6, 20e-6, 50e-6]:\n",
    "    o = c.attime(t).output()\n",
    "\n",
    "    def _p(ax, y, x=mesh.cells['center']):\n",
    "        testing.store(y, rtol=1e-4)\n",
    "        ax.plot(x * 1e9, y, label=r'%.1f $\\mathrm{\\mu s}$' % (t * 1e6))\n",
    "    _p(nt, o['electron.trap0.c'])\n",
    "    _p(nf, o['electron.c'])\n",
    "    _p(pf, o['hole.c'])\n",
    "    _p(e, o['E'], x=mesh.faces['center'])\n",
    "    _p(r, o['exciton.dissociation.recombination'])\n",
    "    _p(d, o['exciton.dissociation.dissociation'])\n",
    "nt.set_ylabel(r'Trapped electrons [$\\mathrm{m^{-3}}$]')\n",
    "nf.set_ylabel(r'Free electrons [$\\mathrm{m^{-3}}$]')\n",
    "pf.set_ylabel(r'Free holes [$\\mathrm{m^{-3}}$]')\n",
    "e.set_ylabel(r'Electric field [$\\mathrm{V/m}$]')\n",
    "r.set_ylabel(r'Recombination [$\\mathrm{m^{-3} s^{-1}}$]')\n",
    "d.set_ylabel(r'Dissociation [$\\mathrm{m^{-3} s^{-1}}$]')\n",
    "pf.legend(loc='upper left')\n",
    "for a in [nf, pf, nt, e, r, d]:\n",
    "    a.set_xlabel('x [nm]')\n",
    "plt.tight_layout();"
   ]
  },
  {
   "cell_type": "markdown",
   "metadata": {},
   "source": [
    "## Reference\n",
    "\n",
    "Inchan Hwang, Christopher R. McNeill, Neil C. Greenham [Drift-diffusion modeling of photocurrent transients in bulk heterojunction solar cells](https://dx.doi.org/10.1063/1.3247547), J Appl Phys 106, 094506 (2009)."
   ]
  },
  {
   "cell_type": "markdown",
   "metadata": {},
   "source": [
    "\n",
    "---\n",
    "This file is a part of __oedes__, an open source organic electronic device \n",
    "simulator. For more information, see <https://www.github.com/mzszym/oedes>.\n"
   ]
  }
 ],
 "metadata": {
  "hide_input": false,
  "kernelspec": {
   "display_name": "Python 3",
   "language": "python",
   "name": "python3"
  },
  "language_info": {
   "codemirror_mode": {
    "name": "ipython",
    "version": 3
   },
   "file_extension": ".py",
   "mimetype": "text/x-python",
   "name": "python",
   "nbconvert_exporter": "python",
   "pygments_lexer": "ipython3",
   "version": "3.6.6"
  },
  "toc": {
   "nav_menu": {},
   "number_sections": true,
   "sideBar": true,
   "skip_h1_title": false,
   "toc_cell": false,
   "toc_position": {},
   "toc_section_display": "block",
   "toc_window_display": false
  },
  "varInspector": {
   "cols": {
    "lenName": 16,
    "lenType": 16,
    "lenVar": 40
   },
   "kernels_config": {
    "python": {
     "delete_cmd_postfix": "",
     "delete_cmd_prefix": "del ",
     "library": "var_list.py",
     "varRefreshCmd": "print(var_dic_list())"
    },
    "r": {
     "delete_cmd_postfix": ") ",
     "delete_cmd_prefix": "rm(",
     "library": "var_list.r",
     "varRefreshCmd": "cat(var_dic_list()) "
    }
   },
   "types_to_exclude": [
    "module",
    "function",
    "builtin_function_or_method",
    "instance",
    "_Feature"
   ],
   "window_display": false
  }
 },
 "nbformat": 4,
 "nbformat_minor": 2
}
