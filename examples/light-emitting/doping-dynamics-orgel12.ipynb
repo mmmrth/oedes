{
 "cells": [
  {
   "cell_type": "markdown",
   "metadata": {},
   "source": [
    "# Transient simulation of organic light emitting electrochemical cell\n",
    "\n",
    "Idea and parameters taken from S.van Reenen, R.A.J.Janssen, M.Kemerink [Doping dynamics in light-emitting electrochemical cells](https://doi.org/10.1016/j.orgel.2011.07.005), Organic Electronics 12 (2011) 1746–1753."
   ]
  },
  {
   "cell_type": "code",
   "execution_count": 1,
   "metadata": {
    "collapsed": true
   },
   "outputs": [],
   "source": [
    "from oedes.fvm import mesh1d\n",
    "from oedes import solve, bdf1adapt, asarrays, interpolatearrays, testing\n",
    "from oedes.models import lec\n",
    "%matplotlib inline\n",
    "import matplotlib.pylab as plt\n",
    "import numpy as np\n",
    "from oedes.functions import Aux2"
   ]
  },
  {
   "cell_type": "code",
   "execution_count": 2,
   "metadata": {
    "collapsed": true
   },
   "outputs": [],
   "source": [
    "def mu_func(T, E, c):\n",
    "    mu0 = 5e-11\n",
    "    mu1 = 5e-9\n",
    "    W = 0.04\n",
    "    f0 = 0.3\n",
    "    f = c / 0.3e27\n",
    "    return (mu1 - mu0) * Aux2((f0 - f) / W) + mu0"
   ]
  },
  {
   "cell_type": "code",
   "execution_count": 3,
   "metadata": {
    "collapsed": true
   },
   "outputs": [],
   "source": [
    "mesh = mesh1d(2e-6)\n",
    "model = lec.LEC(mesh)\n",
    "xinit = lec.initial_salt(model, 0.1e27)"
   ]
  },
  {
   "cell_type": "code",
   "execution_count": 4,
   "metadata": {
    "collapsed": true
   },
   "outputs": [],
   "source": [
    "def solve(mu_ions, mu_charges, voltage=5.):\n",
    "    params = {'T': 300.,\n",
    "              'electron.mu': mu_charges,\n",
    "              'electron.level': 0.,\n",
    "              'electron.N0': 0.3e27,\n",
    "              'hole.mu': mu_charges,  # 5e-11,\n",
    "              'hole.level': 2.,\n",
    "              'hole.N0': 0.3e27,\n",
    "              'electrode0.workfunction': 2.,\n",
    "              'electrode1.workfunction': 0.,\n",
    "              'electrode0.voltage': voltage,\n",
    "              'electrode1.voltage': 0,\n",
    "              'cation.mu': mu_ions,\n",
    "              'anion.mu': mu_ions,\n",
    "              'npi': 0,\n",
    "              'epsilon_r': 3.\n",
    "              }\n",
    "    return asarrays(\n",
    "        lec.bdf1adapt(\n",
    "            model,\n",
    "            xinit,\n",
    "            params,\n",
    "            t=0.,\n",
    "            t1=1.,\n",
    "            dt=1e-9),\n",
    "        monitor=lec.monitor_time,\n",
    "        outputs=[\n",
    "            'J',\n",
    "            'R',\n",
    "            'cation.c',\n",
    "            'anion.c',\n",
    "            'electron.c',\n",
    "            'hole.c',\n",
    "            'potential',\n",
    "            'E'])"
   ]
  },
  {
   "cell_type": "code",
   "execution_count": 7,
   "metadata": {
    "collapsed": true
   },
   "outputs": [],
   "source": [
    "from matplotlib import colors\n",
    "\n",
    "\n",
    "def niceplot(data):\n",
    "    N0 = 5e27\n",
    "    n = 20\n",
    "    for it, t in enumerate(10**np.linspace(-5, -1, n + 1)):\n",
    "        out = interpolatearrays(data, t)\n",
    "        c = 1 - (1. - it / n)\n",
    "        plt.plot(\n",
    "            mesh.cells['center'] * 1e9,\n",
    "            out['electron.c'] / N0,\n",
    "            colors.rgb2hex(\n",
    "                (1,\n",
    "                 1 - c,\n",
    "                 1 - c)))\n",
    "        plt.plot(\n",
    "            mesh.cells['center'] * 1e9,\n",
    "            out['hole.c'] / N0,\n",
    "            colors.rgb2hex(\n",
    "                (1 - c,\n",
    "                 1 - c,\n",
    "                 1)))\n",
    "        testing.store(out['electron.c'], rtol=1e-7, atol=1e-3 * N0)\n",
    "        testing.store(out['hole.c'], rtol=1e-7, atol=1e-3 * N0)\n",
    "    plt.yscale('log')\n",
    "    plt.ylim([1e-5, 1.])\n",
    "    plt.xlabel('$x$ [nm]')\n",
    "    plt.ylabel('$c/N_0$')"
   ]
  },
  {
   "cell_type": "markdown",
   "metadata": {},
   "source": [
    "## Concentration independent mobility"
   ]
  },
  {
   "cell_type": "code",
   "execution_count": 8,
   "metadata": {},
   "outputs": [
    {
     "name": "stdout",
     "output_type": "stream",
     "text": [
      "1.0                                       "
     ]
    },
    {
     "data": {
      "application/json": {
       "data": {
        "__ndarray__": "AqoV6P1LdD4+fCS3I3JyPhpC1Ji/6Wk+sVnvs7ysXD4FG3OVA8ROPlRKgJ1x0U0+ddSCxpFVYD7W8v3fIsJ1PsjY376gNWU+pDhOY4f+VD4A5QoeiPd8Ps94OXdqmrQ+XDkDs2p58D7tM/L1+r8pPwHlGrZmYWA/7Th7NuTiij/Io3GMsYOlP+X2yT+wYJE/NNP0+uoWYz9fgyfsNPskP4ZWFDve+SQ/FkhvqsWYGT/61cusVEFNP+gSQdROQIE/Nc/k7xnDQD9u4PNQAVNIP4HwPUZqpYI/mN4mLpX/qj/5vQhw/mpxPxiOlmuqWGQ/r7QomvGakz+Mojs+345UPwwGFTLFPGA/6TU8s7Q8kD8EiLlk7JxXP08uupX/6kw/1J0iKnrGdT/w2BtKYQVMP8ZhZdca3nU/o3gG79j2Mz/w7/bv/0wJP+AH6Ld2rkA/I4DnmGjQeT89YueRG2+pPxKUDtLpi28/6qerzIEoOT+Vl5PRt03sPqI8DuCndxY/yuHtaeWGOz/dk7ROPM1sP65VzWrT3Js/k3Xwj9TpWT/wM1ZNHt4xP40lYLWw7GE/y6QUNgG5Sz88Y74hbTB2P1/ZhaljTkQ/PDoFx6heGT90CLJvwNhOP0pl2wUx/4o/+UGR17y6wz869mz5qTCCP7gpQR/i2jY/OdxvoEZ+Fj+I6sxo+H1cP3UeE5uMAI8/phY0XY09gj+34Pi+IHhIP/DKUzG1sGI/CLdLt94/kz9qhv7sYapXP/sek9F0Okw/TRIwKvVXgz8xfsnkGa85P/EBp8llkjQ/cZBvr/CnZT/uy4PN2HkxP/kNOHhNK9c+mDc3IQozkT44HIb0Z+i+Pis5WkCGBvg+VDWgS/WNNT+HX0btJ01sP4Wcj9l5Mmc/eY00FzLQLz8N05O34qBDPzi184j18mY/VNVsGnkOYz+o3uFlLwWaP6+dOAyHS8g/PD4FfhLzjD83YEK8F8hsP6a2axJ5aGI/fNaaUZCvVz/w8nA6jgUTP4TqWeUpACc/cO+QGt4gWD+UW3wajjNXP4IBBUWYazM/ZjmhZUR9bT91dV+Wja6QP5uoIYXjf1E/9NrnCqH5FD9MXZjtwe47P4uL0mfqdmA/qDYIDBh3Nz+MGDJLonL4PvzpjndqZgQ/lXrpP53B/D4eWoBxh5g5P/NJQZETzXI/etx07KDbOz+tI/d9ED9WP8qoXGE2Ehg/k/aQyTpzDz97G3xUwT9FPwHXLcwkfBc//uAlyAAJPj9Gfe0edBn+PgwI0QEnTLM+StQTRAjbcj6IMF7gEuCfPvj47DbJ+tU+HyS3RN0Xjz6t4ebT7b0wPiEKoUj9dFw+LfQ6GI2sgj6bGCd79jW8PmpfrO5TJ/s+A7Qr2flpNj9McP0BQJhqP8IDe+iQ5Ss/X9Mvtax7/D73i+GF/m80Px5YW1E+LGg//xgFom8rZz/z+x3eEN0nPyRQ4EZUJeE+JDE/gsYpnz5AsQm2gA3CPic+20vddQA/nDbObjSdOT99j3S+6CxsP5cfbVKVeXY/sGEfdwxsSj+vpQ8GiWZoP6KpwKCijGc/0HsTwJj2KD84vtti3lrhPpTJSAXBF5M+PKEB1iMTgz7cWy2IGYjDPl9XhUXKN6s+LCrQsDkfmz7klZFXCdbXPhaUUgaAXBc/Mensv8xFVT8jXZuIwoKQP+plbh6lhcA/N+vlLjYynj+fH+noP53HP8FGgqGh0og/upfFBzzxTT+YsodhiYVwP4Zok2/aC5s/vZdwNo9HYT9rnCp1nfc2P1IlAgkltgA/WA/I4CsuRT89foBd9Nl3P7Ce3hSR34c/AeiwpbwquD+Bkk5mba17P/20oei+6Tg/XLFVsMSJTj+OK1ZsvWaHP3YKOiRm+Lg/hmVoKCREfD/lkgWjqZVLPzeHcIajkHY/btwinhQPoj82rKV/VQ9sP+AvWsc3HnY/vrx0tkhnoT+CndsKoiJnP84nMZJjKiM/AoKHBcDg+D4IXysSBUYpPz7qPazo0VY/HEr+L5gGZz8nDYZafzJ6P22SDTUxq70/QvhZPAx6+T80tCDS+No1QFIH4HnqvHJAeBPBk+sOsEBI+hzY9Y7rQNquTg/bpSdBLO+tBf9KZEE/eKJdQmqhQRDawl/S5N1B+U/5oGupGUJsH8MvJwlWQhLNlt2f7pJCKD2VUcBH0EIi5LyyygoMQ8RTorokNkhDHspMHF79hEP8j3KbdVDCQyhBVgOYIgBE9/VzScOCPERwL2gOpnlzRABf6DEku6JELoyivO2hyUQIO9XuGVDpRLgL57ufdQJFzeq5H+yeFEUi0OYfb4QiRVeiUNp9KCxFRbcHOu37MkX+LfKOB4c3RVSYXcfNfjtFhd2CsXvWPkWdKHq54sxARakNpED290FFoftqSfUvQ0U6vsbtDlhFRT2JjFJvGktFMsKhWRe9VkXPBMsS7wRvRQ==",
        "dtype": "float64",
        "shape": "230"
       }
      }
     },
     "metadata": {
      "atol": 4.999999999999999e+24,
      "format": "oedes.testing.nb_store_array",
      "label": null,
      "rtol": 1e-07
     },
     "output_type": "display_data"
    },
    {
     "data": {
      "application/json": {
       "data": {
        "__ndarray__": "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",
        "dtype": "float64",
        "shape": "230"
       }
      }
     },
     "metadata": {
      "atol": 4.999999999999999e+24,
      "format": "oedes.testing.nb_store_array",
      "label": null,
      "rtol": 1e-07
     },
     "output_type": "display_data"
    },
    {
     "data": {
      "application/json": {
       "data": {
        "__ndarray__": "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",
        "dtype": "float64",
        "shape": "230"
       }
      }
     },
     "metadata": {
      "atol": 4.999999999999999e+24,
      "format": "oedes.testing.nb_store_array",
      "label": null,
      "rtol": 1e-07
     },
     "output_type": "display_data"
    },
    {
     "data": {
      "application/json": {
       "data": {
        "__ndarray__": "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",
        "dtype": "float64",
        "shape": "230"
       }
      }
     },
     "metadata": {
      "atol": 4.999999999999999e+24,
      "format": "oedes.testing.nb_store_array",
      "label": null,
      "rtol": 1e-07
     },
     "output_type": "display_data"
    },
    {
     "data": {
      "application/json": {
       "data": {
        "__ndarray__": "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",
        "dtype": "float64",
        "shape": "230"
       }
      }
     },
     "metadata": {
      "atol": 4.999999999999999e+24,
      "format": "oedes.testing.nb_store_array",
      "label": null,
      "rtol": 1e-07
     },
     "output_type": "display_data"
    },
    {
     "data": {
      "application/json": {
       "data": {
        "__ndarray__": "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",
        "dtype": "float64",
        "shape": "230"
       }
      }
     },
     "metadata": {
      "atol": 4.999999999999999e+24,
      "format": "oedes.testing.nb_store_array",
      "label": null,
      "rtol": 1e-07
     },
     "output_type": "display_data"
    },
    {
     "data": {
      "application/json": {
       "data": {
        "__ndarray__": "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",
        "dtype": "float64",
        "shape": "230"
       }
      }
     },
     "metadata": {
      "atol": 4.999999999999999e+24,
      "format": "oedes.testing.nb_store_array",
      "label": null,
      "rtol": 1e-07
     },
     "output_type": "display_data"
    },
    {
     "data": {
      "application/json": {
       "data": {
        "__ndarray__": "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",
        "dtype": "float64",
        "shape": "230"
       }
      }
     },
     "metadata": {
      "atol": 4.999999999999999e+24,
      "format": "oedes.testing.nb_store_array",
      "label": null,
      "rtol": 1e-07
     },
     "output_type": "display_data"
    },
    {
     "data": {
      "application/json": {
       "data": {
        "__ndarray__": "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",
        "dtype": "float64",
        "shape": "230"
       }
      }
     },
     "metadata": {
      "atol": 4.999999999999999e+24,
      "format": "oedes.testing.nb_store_array",
      "label": null,
      "rtol": 1e-07
     },
     "output_type": "display_data"
    },
    {
     "data": {
      "application/json": {
       "data": {
        "__ndarray__": "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",
        "dtype": "float64",
        "shape": "230"
       }
      }
     },
     "metadata": {
      "atol": 4.999999999999999e+24,
      "format": "oedes.testing.nb_store_array",
      "label": null,
      "rtol": 1e-07
     },
     "output_type": "display_data"
    },
    {
     "data": {
      "application/json": {
       "data": {
        "__ndarray__": "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",
        "dtype": "float64",
        "shape": "230"
       }
      }
     },
     "metadata": {
      "atol": 4.999999999999999e+24,
      "format": "oedes.testing.nb_store_array",
      "label": null,
      "rtol": 1e-07
     },
     "output_type": "display_data"
    },
    {
     "data": {
      "application/json": {
       "data": {
        "__ndarray__": "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",
        "dtype": "float64",
        "shape": "230"
       }
      }
     },
     "metadata": {
      "atol": 4.999999999999999e+24,
      "format": "oedes.testing.nb_store_array",
      "label": null,
      "rtol": 1e-07
     },
     "output_type": "display_data"
    },
    {
     "data": {
      "application/json": {
       "data": {
        "__ndarray__": "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",
        "dtype": "float64",
        "shape": "230"
       }
      }
     },
     "metadata": {
      "atol": 4.999999999999999e+24,
      "format": "oedes.testing.nb_store_array",
      "label": null,
      "rtol": 1e-07
     },
     "output_type": "display_data"
    },
    {
     "data": {
      "application/json": {
       "data": {
        "__ndarray__": "zwTLEu8Eb0U1UBi9CfJjRbJRnQSeXmBFkimywZZuXkUtirdwA6JdRUjrqD3PKF1FwClXs9aoXEWcR9SL8gpcReaBZO9kRVtFNh1YcS1PWkXB9C7BWB5ZReq0f9ZNqFdFzMq/ts3iVUVar4rfzsVTRdOvPs6KTlFFEraLZ+0HTUVhp1H6w/hGRasYE7a8xUBFrvHHNsjkNUW74JfRPH8oRdTvonBuzxZFLsUPICoZBEVHPteBBfvwRB1snpgOuNtE1+dqkTj/xUSt5kdrxw+xRK4ez3yQ+plErqCJ1qp6g0SPfANRNNlsRM4bPAmyJFVEmeOPyt+6PkRpta6LzCwmRCDNZ/sf0Q9EzDHskQm39kN/Dr6rwibgQ5A73Dc05MZD70h79yYtsEMVGX98+M6WQ0iJ825TDIBDSd7t3LqLZkMx4yOgZqFPQ+nALeF+KTZDMi5awZcGH0PB3ByeDbMFQ1H3IcERVe5CJV3dPwUw1UJ6wO0r15W9QnfL6Qa2paRCIVg6TSjPjEI90IoFyxd0Ql37+qBQBVxCqGzUTsaIQ0JMdTcePDsrQsiE/Exa+hJCAc84wOFy+kFCvMgXqW3iQUP1YKiOrclBvQQu7nDjsUFD50ywGuyYQS6O1T0rXIFBTZAAAQ0vaEGsWLoxIthQQRzz1nW1djdBCQDsoX9XIEEXaEgqPsMGQV+PFMmutO9A5oC1r7cU1kCjMyBcXcG+QHRaViIia6VAKSTR4ALVjUAi/Sdlc8Z0QPa8K/eV71xADCXNJ9UmRECBIeLsmBIsQKe6ESjZjxNAfDWIeWZJ+z+VROHfAxHjP1NX2BBOyco/OBPpz6t4sz88T8acpAuiP6e6cF5K86E/AlP6no7Irz+E6giVbJm6P7KDdYHxnL8/kX+Wppbkuj/ksPdiA6ayP2IIR62/xag/08+CxlD/oz8YtFTRU7ykP5HZwF41faM/HuGGrkJWnj88OBQzTUGUP5S5NH+O/oc/ZOjvUzXAeT9Yn/st6c9pP0xF2fEUC1o/fMfIsa8XTz+Djlvyf+BIP184zG//HlE/Or9pvbbFYz+YuMBCHqV2P6T6icAOdoM/cVcUvHNdhT/0nl+385OBP1Bhaj0XnHc/ZNlhJmG6az8ovPHFVWRfPwRelxp91VQ/fZQLBDp4Uj+aP1jhLmFXP3gCGAMWMGM/kj0hEbqFbT/D5QgBSgxwP/PXM3mJ+Gw/wRAb2dz9aD+beddVapxjP2f8AXYTQ1s/8K+V+yOmUT/NTOCPj0xJP1BGkd7hM0k/jY0h0hYlUD99PLxB4xxXPysQ4TvoJVs/mGkrqgAhWT+fhQ8yEo1SPw5ZPybFbUc/grw2SGlfPT/iZDyQXN04P/HYpvpOTUA/Y5uy2e5BST99jqaUHzZTP0qxMF58UVw/+RXftX9dYT8Uo5qK1TJoPynVk+SOB3U/OPnWEgqtgT+lN3Ip5CGHP8wPwUlpvIk/AdG7EX8Wjj+IAnUIDIuTPypWVuVevpc/Zyesj/RUmj/vchAbi/eWP4xRRuQVQ5A/gCWt9dv2gz/xCVtxZXx2P9ho7gqZPmk/tpiv8BrtYj8aCnDFcXNtPyZUJgEvI4E/n0uP0yBwkj+xOmQC7AueP99KNAsMcqA/HB9TFqVVnD/VJWR/etuXP4LrhwG015g/d31EK8+bnT9ro4dKqaWcP3k9OevOEZg/v9MA8aDpmD+Y5khsH1GlPzD4GgyM8rU/stvdYipswj+rFNPtb9rDP4HjhZnbi78/Nma6lZ9htD+iXbcgCw6nP56rx2Nyopk/2MrX/9O5kz/PqoxDSeucP7bcJeXOMao/ymGbhWA5sz+KOsZ6EnS4P/OgC7bd17Y/S1PRVojHsD9rSQjfofCkP9vfd//Q8Zc//c5sDi5Piz/ay42sZeGCP0jEOVccwII/CrSFu/BChj9UPI3pnGyKP9QRp/DhaIo/HCfy/NvohT/vOsqmb82BP9y16O1x3X8/P4JIAM1tfj9meaDQJOZ/P8HjN1DxUIQ/7ASuHOA9iT/Kic9wGYyIP6segGXX1IQ/rMOzGvfLhz+KdjZiqLeYP1zAbjyfgq8/unjDnHaSwj/GDSeXkq3QP8gB0tXhQtM/v38RWhFx0T9gVgyvHkPKPxOcxSfW08A/+c0ZlFmBsj8W08e7QUihPzvxYz/FsIs/ipbEwhfjeT8cXCzi4DRoP9wmbdQdhEc/AMppgh0jHT9Uk8we/j4AP7DL4gCsFNk+DmDdB1udwD7WukN0pl2gPlSjEWRWctg+pMK6sr2p3T6G5C2PvQ5DPhemtI/Kx7o+AAAAAAAAAADgr51FwmHoPrkbbZ3c/C8/AIxEfsAr3j7LbfqtAt14PriC0r7UxRQ/E8GuDzMYUT6wVGYEAYjgPoBPo1o/vbA+sBGlxWjRhz6AdSUMuJhoPrifiQVur1w+0Y/i4haDZj4CqhXo/Ut0Pg==",
        "dtype": "float64",
        "shape": "230"
       }
      }
     },
     "metadata": {
      "atol": 4.999999999999999e+24,
      "format": "oedes.testing.nb_store_array",
      "label": null,
      "rtol": 1e-07
     },
     "output_type": "display_data"
    },
    {
     "data": {
      "application/json": {
       "data": {
        "__ndarray__": "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",
        "dtype": "float64",
        "shape": "230"
       }
      }
     },
     "metadata": {
      "atol": 4.999999999999999e+24,
      "format": "oedes.testing.nb_store_array",
      "label": null,
      "rtol": 1e-07
     },
     "output_type": "display_data"
    },
    {
     "data": {
      "application/json": {
       "data": {
        "__ndarray__": "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",
        "dtype": "float64",
        "shape": "230"
       }
      }
     },
     "metadata": {
      "atol": 4.999999999999999e+24,
      "format": "oedes.testing.nb_store_array",
      "label": null,
      "rtol": 1e-07
     },
     "output_type": "display_data"
    },
    {
     "data": {
      "application/json": {
       "data": {
        "__ndarray__": "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",
        "dtype": "float64",
        "shape": "230"
       }
      }
     },
     "metadata": {
      "atol": 4.999999999999999e+24,
      "format": "oedes.testing.nb_store_array",
      "label": null,
      "rtol": 1e-07
     },
     "output_type": "display_data"
    },
    {
     "data": {
      "application/json": {
       "data": {
        "__ndarray__": "zwTLEu8Eb0WXJeGD5u5oRWFVDjTN2GZFFjig0SsvZkWUruipy+1lRbT9qguYu2VFZk8t4vWAZUWTNRE/ZTdlRRCwQcrB2mRFY6uAGXNmZEWSRuO9DtVjRQcya2ZXIGNFrxVqYGdBYkV+GfclHjFhRcxjL0nz0V9FvY3FFRnJXEXsmfudb0dZRanaOp0fW1VFN2CaG5EmUUUYJcg+78dJRWHFl7W5zEFFqDCIeqsdOEX1/qGa3AgwRWq6ff1r6CRFU27F15u/GkWtQp3OidAQRTOEh/gA0QRF8eTlrcdt+UQVa0ui+LXuRMTjqanRXeJEV/sYnRfK1URZR5hcX6zJRNKUH4hME75EgIbiHuiHsUTgnvYdtlqkRFx92ec/jZdERgTXGVAsi0RFB80Ff0Z/RIAGe3E29nFEQNogNoKYZETdvsyB45RXRG9cSMqR90pEcFU9zWzOPkS+54B3mpQxRPzWa63lDCREcsrtdD3aFkR7ruF8JQgKRLrIpMKuo/1DDV2Wf9bd8ENivJyneTDjQ0doSIdM09VDMmLt/yPRyEPccHCASja8Qyl+ji1ZCLBDRjigchc4okO/OjilWrOUQ9Jfeg5ThIdDrMlPaJC2ekNrEgI7MVduQ3qXhU6MOmFD4U+kmJWQU0N7nrcuSjdGQyOSJWqKOTlD14LH2q2jLEPV+xTs2kEgQ/8ZqHHDdBJDxTMJ4pTzBEPhGG62isj3QndmwmlB/+pCOwxjC+ak3kLdvogdNmTRQiJ9pbVlvcNCXk9/MqJntkJgxrcU2G2pQj7ruLps3JxCyJYvlbhgkEJ8cGHZbZaCQkvwH6lkGHVChelV9uPwZ0KMluNAlStbQgAyd1601U5COupj2SJ/QUJxGyvbKdszQvZI42OaiCZCTZLvMm2SGUIJm2GLFQUNQsAiMBtadwBC/x+qsqiv8kFGZ4AwjzTlQWtQUglgENhBEEFBzNFOy0EYaiwgL/2+QSlpQJxGlbFBWcNc0AT0o0Fpa94tiKSWQcDuMLvVsYlBEYyQqW4ofUHtpzjIQYtwQcJ5LkgXxmJB0OS9pdpNVUGMlQzh6SxIQepQ7KIIbztBjYDFb5AhL0HctKCs06khQQsWZgc/CxRBsQOmJcu+BkGEP2Zgic/5QNiaA+UISu1As4ulFUWe4EA5trWunNvSQBasA1I4ZsVAwE+2s4FIuEAFcY/aSY6rQPIYGZX5RJ9AyHzjPOS9kUBy3OGl/SGEQJzPKWWV2HZA0P4KIMrsaUDxL6naOmtdQLLqSyAesVBAJ/umigvxQkBNs7H3qH41QBt9LqCCZChA6iZKSZuuG0D/+ru4nWoPQF2P81AN1AFArqA8aXY89D9blLKCB/nmP2LvaLrQFto/QBZ1jxmozT/ZC7PsruXAP30ht4U/X7M/1grDPBeLpj8yGADwfTWbP4LyXMELz5E/sP7IUInTij9Af1lkwNWHP6LTddO9Jog/H8oQcCeDij/D22aQPy6OPwvCOm/DGpE/t97TK4Klkj9prGj8WgmTP1XWSL/9BJI/uh2ixPvBjz+TTOK5+3CKP9F3dOika4U/2GQYT9PngT/3S/xJtPCAP9LUpO+7TIM/ib9JQ98GiT/3ffn8pGSQP5t62k7UEJQ/4kFiiOaolj8+NG1iCjOYP4np0EE3Rpk/NCIcPmZWmj/mmHtKuYqbP5x5AfjfjZ0/hDOI6noOoT9s3ljtXcClP9SVzf/pW60/wn6zfOlCsz/5cYe9Xv62P3cBHnBggbg/Cjgt0w2Jtz9Rczwp7dG0PwasbQ+ghbE//J44rHN6rT+2yny9fHWqPygoSdHQeqo/svQY69XTrD/tFmn4Yd2vP4bqld4Xy7A/XdwQSfNmsD8gw+sL7J6tP41qFbdy/ag/dMbUtJ0KpD8dg3N5rkifP+1HykJgepg/7AFpwRvHkz9lIVMazsGQPzTazQvVeo0/volEmdZWij9aBnLitqCHP+N8QlObVYU/oLRVPxemgz/cWCzuwL6CP4hjipkAsYI/Po/NeN9Dgz+HqblwzTOEP97zyxjRDoY/6AGFOPydij8D6OnNVAWSP7l/VAQtJpk/htCvbeP1nz/NFYe32IagP6L07eUWZJk/fXgG4wKriz8O24ZYWcZ0P9keXkbj7FQ/GQS+k9p4Kz+3iqiT89X2PrT42rL1v7c+3HP9Kcu5pT6gqWcKERi6PgAAAAAAAAAA21Wrs3Sk4j6HH+P++vNMPtggLg2gXsw+2hnXEI9JEz6AxjVsv426PiIZbq6zYc8+AAAAAAAAAAAAAAAAAAAAAM0pCQb70wQ/AAAAAAAAAAAAAAAAAAAAANjldHCDJgo/phe24XtfCD8Gk0CEuuA6PgAiRYnj9yw/tkKpi95X5z3swz4WDwHcPnA5mw4hOqM+L17RPCdZcz5pA6HkAGRPPvAYzXwrz0k+1GsNpdqzYD4CqhXo/Ut0Pg==",
        "dtype": "float64",
        "shape": "230"
       }
      }
     },
     "metadata": {
      "atol": 4.999999999999999e+24,
      "format": "oedes.testing.nb_store_array",
      "label": null,
      "rtol": 1e-07
     },
     "output_type": "display_data"
    },
    {
     "data": {
      "application/json": {
       "data": {
        "__ndarray__": "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",
        "dtype": "float64",
        "shape": "230"
       }
      }
     },
     "metadata": {
      "atol": 4.999999999999999e+24,
      "format": "oedes.testing.nb_store_array",
      "label": null,
      "rtol": 1e-07
     },
     "output_type": "display_data"
    },
    {
     "data": {
      "application/json": {
       "data": {
        "__ndarray__": "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",
        "dtype": "float64",
        "shape": "230"
       }
      }
     },
     "metadata": {
      "atol": 4.999999999999999e+24,
      "format": "oedes.testing.nb_store_array",
      "label": null,
      "rtol": 1e-07
     },
     "output_type": "display_data"
    },
    {
     "data": {
      "application/json": {
       "data": {
        "__ndarray__": "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",
        "dtype": "float64",
        "shape": "230"
       }
      }
     },
     "metadata": {
      "atol": 4.999999999999999e+24,
      "format": "oedes.testing.nb_store_array",
      "label": null,
      "rtol": 1e-07
     },
     "output_type": "display_data"
    },
    {
     "data": {
      "application/json": {
       "data": {
        "__ndarray__": "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",
        "dtype": "float64",
        "shape": "230"
       }
      }
     },
     "metadata": {
      "atol": 4.999999999999999e+24,
      "format": "oedes.testing.nb_store_array",
      "label": null,
      "rtol": 1e-07
     },
     "output_type": "display_data"
    },
    {
     "data": {
      "application/json": {
       "data": {
        "__ndarray__": "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",
        "dtype": "float64",
        "shape": "230"
       }
      }
     },
     "metadata": {
      "atol": 4.999999999999999e+24,
      "format": "oedes.testing.nb_store_array",
      "label": null,
      "rtol": 1e-07
     },
     "output_type": "display_data"
    },
    {
     "data": {
      "application/json": {
       "data": {
        "__ndarray__": "zwTLEu8Eb0UFowqM5LdyRRYBCJeAvXNFx+grsX3qc0WaT73twuFzRe7KcKDIzHNFlWuASTCxc0UAyGwcJI5zRTUwpz7EYXNF9fN+VrApc0Uf42cW/eJyRZZ3yk0ginJFMVxKpuEackU2sxAwWJBxRaT/bOwB5XBF5LbstwoTcEUfHv1ExiluRQkUTSqozGtFCqGcM4MMaUV2C1GLbfJlRRWYvibYmGJF/KLD9v6bX0WmgLM5UgVbRTVyu4RdP1dF7v+7RhEgVEWfvO87WYNRRYjpSxq8l05FqpCP7tbFSkXKJzzdcG9HRVd8RBWvfERFwWWSpBzdQUV+s8wRAws/RZlWcxQs3DpFFJSjAEoiN0Wb6pxQMdQzRbZQjQrC6TBFCCwM53i2LEWt7Zjb50EoRexN9vx5ZiRFmrW7+vcUIUWmtKVYCH0cRZyty/6zqRdFW9uqdAuVE0Ux4cX3HCYQRZyn/2hDjApFKPTwbCzBBUX8vP4odcYBRYRoWiz/9/xENy8Pj56L90TjG5WwbxfzRGjQtVwH5O5ELZ/TQTHw6ERqJ5b0vRfkRLCU/u6OKOBEid5Psnbx2URLgmHCxcrURGidBXdAo9BEWFTnRW2WykSA0Jhx5zbFRNNQvG2x58BEr/D38aboukRR9/BfJ2S1RC3Wk1B+/LBEM4/QD+jyqkQtVfi7MlulRD10S26V6KBETTPlLC7AmkTkowLisSSVRKRu19e+spBEpop+agtbikS+ZDuN2MiERMD5rUBRYYBE+LkOzULNeURTFLCwJE90RLrWIWsQ9G9EJT7R7ZMfaURbjBvOPr5jRLasALzjA19EdBIYladZWESh83Qq8RtTRKo3ZA/Z+k1E3KIN/RGCR0Q7VBDBLW1CRDn310xc4DxEaq/uZGKeNkSZouEEHbYxRP0tdSWjuitEOK0ZBDqzJURGIZBDMfogRC/8kDjNjhpEONBgTGbEFESJpz7ZOzwQRE8IN/0FYQlEpjuV0fvUA0RT0PbHBP3+Q/TPTPqlNPhDlOltLnDn8kOQqxG4pYXtQzDSfddRDOdDCc5U8rH94UMY92fmKxXcQ2X+Wn4W6tVDuYD/Gj4Z0UN9lv7dvq3KQ3EyfvGBz8RDQeZv5jI7wEN7SGvD+FC5QwpsCb24vbNDaCvR3r/IrkMeoOF2/v+nQ4/yZPeHtaJDVOqaFacqnUPd5dFMk7uWQ26uPrBzt5FD0Wlmdcqci0NUfvH0J4SFQxBrxlXBw4BDTxbsYnkfekPPwKNt41l0Q8ufWrf5tG9D2kyMQ6iyaEP4XyRnozxjQ/vJE+3r9l1D7NXPROZVV0PaSWWU7itSQ+/5H8JfTExD83FgMTkIRkNITszVzSZBQ7jADk9xszpDG1GFgMnHNEPElz6zdiswQ9d86pmlKClDRFN0MzWRI0OiDvS5PW0eQzYO1s6UpRdDaoaBJD9eEkN/hYL7ZIQMQ3adsBFpHgZD5xnXrWQjAUNyYE8dDIb6QkzE2+mGffRCmK9bl7KX70KiEpfEa0roQusunTA6neJCY/B8SZdo3EI61B0oYZDVQgdDS7qxQtBC3TsENDtSyELbmGBp3gDCQvdc6PtoUbpC6IIsS3TwskLpsFO62r6qQu/E/mFSdKJCq325kRrFmEJnrfXNxRSQQhr+z5xME4RCqEu1Q/7td0IJAdx4IwdrQrLsggmKr1xCLG5f9qhaTEIFaJa6F9w5QvzeyU2zjyVCra8038hMEEJmsxhvujr2QYurol70attBLdMoKro8v0GU+Z95JGShQcc+VFtdvoRBHu6QUusfbEEElvaUF7ZUQXypMAPQFz5BFM8HWEsRJEGQdZlcqJcHQWRuAN/r3edAurVz9+1sxEAMC64hUzWdQCZK0LkKV3FAri50HvQ4QUB06vJnXL4NQJTz5ieudtg/Vo8AJgdUpT+Y0zvnE6JzP9ZGJhFO+kA/hLCcVOMrCT+ofqQq51bJPkjbFFe/RZo+/xWrM/P57T4AAAAAAAAAAPDmGubwX+0+e2qxvvy89T5nMRjuFLZoPhIXboXf2rM+e6AHkwIauD4AAAAAAAAAAAAAAAAAAAAAEscDx1fpsz6S6+AwcxvYPs4Fm/Cwiew+AAAAAAAAAABoBjGRCpmxPokjUs0B3+A+1k98soBwED7EAmV+NngLPsbz1RYD7Nw+wh4GFfyFIT5YztHk4QSoPgAAAAAAAAAAAAAAAAAAAADiv/kSL16nPgGE/uRx2ck+s2zfzdmT8z3oeHoZ02vAPi9NOQ8CSEM+wATx0GBI8z4AAAAAAAAAAAAAAAAAAAAAAAAAAAAAAABI2xRXv0X6PgOaNpl4SkM/SNsUV79FGj8aVhDJF+9DP9DKOMCMJGU/U3w2m5SbCD9fK2zvPnS6Psm8ERNNMpE+UGNmqfxNxj7k/qBuuFX7PowMrfIO/SY/TEo5bTvISz8CqhXo/Ut0Pg==",
        "dtype": "float64",
        "shape": "230"
       }
      }
     },
     "metadata": {
      "atol": 4.999999999999999e+24,
      "format": "oedes.testing.nb_store_array",
      "label": null,
      "rtol": 1e-07
     },
     "output_type": "display_data"
    },
    {
     "data": {
      "application/json": {
       "data": {
        "__ndarray__": "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",
        "dtype": "float64",
        "shape": "230"
       }
      }
     },
     "metadata": {
      "atol": 4.999999999999999e+24,
      "format": "oedes.testing.nb_store_array",
      "label": null,
      "rtol": 1e-07
     },
     "output_type": "display_data"
    },
    {
     "data": {
      "application/json": {
       "data": {
        "__ndarray__": "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",
        "dtype": "float64",
        "shape": "230"
       }
      }
     },
     "metadata": {
      "atol": 4.999999999999999e+24,
      "format": "oedes.testing.nb_store_array",
      "label": null,
      "rtol": 1e-07
     },
     "output_type": "display_data"
    },
    {
     "data": {
      "application/json": {
       "data": {
        "__ndarray__": "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",
        "dtype": "float64",
        "shape": "230"
       }
      }
     },
     "metadata": {
      "atol": 4.999999999999999e+24,
      "format": "oedes.testing.nb_store_array",
      "label": null,
      "rtol": 1e-07
     },
     "output_type": "display_data"
    },
    {
     "data": {
      "application/json": {
       "data": {
        "__ndarray__": "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",
        "dtype": "float64",
        "shape": "230"
       }
      }
     },
     "metadata": {
      "atol": 4.999999999999999e+24,
      "format": "oedes.testing.nb_store_array",
      "label": null,
      "rtol": 1e-07
     },
     "output_type": "display_data"
    },
    {
     "data": {
      "application/json": {
       "data": {
        "__ndarray__": "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",
        "dtype": "float64",
        "shape": "230"
       }
      }
     },
     "metadata": {
      "atol": 4.999999999999999e+24,
      "format": "oedes.testing.nb_store_array",
      "label": null,
      "rtol": 1e-07
     },
     "output_type": "display_data"
    },
    {
     "data": {
      "application/json": {
       "data": {
        "__ndarray__": "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",
        "dtype": "float64",
        "shape": "230"
       }
      }
     },
     "metadata": {
      "atol": 4.999999999999999e+24,
      "format": "oedes.testing.nb_store_array",
      "label": null,
      "rtol": 1e-07
     },
     "output_type": "display_data"
    },
    {
     "data": {
      "application/json": {
       "data": {
        "__ndarray__": "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",
        "dtype": "float64",
        "shape": "230"
       }
      }
     },
     "metadata": {
      "atol": 4.999999999999999e+24,
      "format": "oedes.testing.nb_store_array",
      "label": null,
      "rtol": 1e-07
     },
     "output_type": "display_data"
    },
    {
     "data": {
      "application/json": {
       "data": {
        "__ndarray__": "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",
        "dtype": "float64",
        "shape": "230"
       }
      }
     },
     "metadata": {
      "atol": 4.999999999999999e+24,
      "format": "oedes.testing.nb_store_array",
      "label": null,
      "rtol": 1e-07
     },
     "output_type": "display_data"
    },
    {
     "data": {
      "application/json": {
       "data": {
        "__ndarray__": "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",
        "dtype": "float64",
        "shape": "230"
       }
      }
     },
     "metadata": {
      "atol": 4.999999999999999e+24,
      "format": "oedes.testing.nb_store_array",
      "label": null,
      "rtol": 1e-07
     },
     "output_type": "display_data"
    },
    {
     "data": {
      "application/json": {
       "data": {
        "__ndarray__": "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",
        "dtype": "float64",
        "shape": "230"
       }
      }
     },
     "metadata": {
      "atol": 4.999999999999999e+24,
      "format": "oedes.testing.nb_store_array",
      "label": null,
      "rtol": 1e-07
     },
     "output_type": "display_data"
    },
    {
     "data": {
      "application/json": {
       "data": {
        "__ndarray__": "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",
        "dtype": "float64",
        "shape": "230"
       }
      }
     },
     "metadata": {
      "atol": 4.999999999999999e+24,
      "format": "oedes.testing.nb_store_array",
      "label": null,
      "rtol": 1e-07
     },
     "output_type": "display_data"
    },
    {
     "data": {
      "application/json": {
       "data": {
        "__ndarray__": "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",
        "dtype": "float64",
        "shape": "230"
       }
      }
     },
     "metadata": {
      "atol": 4.999999999999999e+24,
      "format": "oedes.testing.nb_store_array",
      "label": null,
      "rtol": 1e-07
     },
     "output_type": "display_data"
    },
    {
     "data": {
      "application/json": {
       "data": {
        "__ndarray__": "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",
        "dtype": "float64",
        "shape": "230"
       }
      }
     },
     "metadata": {
      "atol": 4.999999999999999e+24,
      "format": "oedes.testing.nb_store_array",
      "label": null,
      "rtol": 1e-07
     },
     "output_type": "display_data"
    },
    {
     "data": {
      "application/json": {
       "data": {
        "__ndarray__": "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",
        "dtype": "float64",
        "shape": "230"
       }
      }
     },
     "metadata": {
      "atol": 4.999999999999999e+24,
      "format": "oedes.testing.nb_store_array",
      "label": null,
      "rtol": 1e-07
     },
     "output_type": "display_data"
    },
    {
     "data": {
      "application/json": {
       "data": {
        "__ndarray__": "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",
        "dtype": "float64",
        "shape": "230"
       }
      }
     },
     "metadata": {
      "atol": 4.999999999999999e+24,
      "format": "oedes.testing.nb_store_array",
      "label": null,
      "rtol": 1e-07
     },
     "output_type": "display_data"
    },
    {
     "data": {
      "application/json": {
       "data": {
        "__ndarray__": "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",
        "dtype": "float64",
        "shape": "230"
       }
      }
     },
     "metadata": {
      "atol": 4.999999999999999e+24,
      "format": "oedes.testing.nb_store_array",
      "label": null,
      "rtol": 1e-07
     },
     "output_type": "display_data"
    },
    {
     "data": {
      "application/json": {
       "data": {
        "__ndarray__": "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",
        "dtype": "float64",
        "shape": "230"
       }
      }
     },
     "metadata": {
      "atol": 4.999999999999999e+24,
      "format": "oedes.testing.nb_store_array",
      "label": null,
      "rtol": 1e-07
     },
     "output_type": "display_data"
    },
    {
     "data": {
      "application/json": {
       "data": {
        "__ndarray__": "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",
        "dtype": "float64",
        "shape": "230"
       }
      }
     },
     "metadata": {
      "atol": 4.999999999999999e+24,
      "format": "oedes.testing.nb_store_array",
      "label": null,
      "rtol": 1e-07
     },
     "output_type": "display_data"
    },
    {
     "data": {
      "image/png": "[encoded data removed]",
      "text/plain": [
       "<matplotlib.figure.Figure at 0x7fad50a94400>"
      ]
     },
     "metadata": {},
     "output_type": "display_data"
    }
   ],
   "source": [
    "niceplot(solve(5e-11, 5e-11))"
   ]
  },
  {
   "cell_type": "markdown",
   "metadata": {},
   "source": [
    "## Concentration dependent mobility"
   ]
  },
  {
   "cell_type": "code",
   "execution_count": 9,
   "metadata": {},
   "outputs": [
    {
     "name": "stdout",
     "output_type": "stream",
     "text": [
      "1.0                                       "
     ]
    },
    {
     "data": {
      "application/json": {
       "data": {
        "__ndarray__": "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",
        "dtype": "float64",
        "shape": "230"
       }
      }
     },
     "metadata": {
      "atol": 4.999999999999999e+24,
      "format": "oedes.testing.nb_store_array",
      "label": null,
      "rtol": 1e-07
     },
     "output_type": "display_data"
    },
    {
     "data": {
      "application/json": {
       "data": {
        "__ndarray__": "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",
        "dtype": "float64",
        "shape": "230"
       }
      }
     },
     "metadata": {
      "atol": 4.999999999999999e+24,
      "format": "oedes.testing.nb_store_array",
      "label": null,
      "rtol": 1e-07
     },
     "output_type": "display_data"
    },
    {
     "data": {
      "application/json": {
       "data": {
        "__ndarray__": "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",
        "dtype": "float64",
        "shape": "230"
       }
      }
     },
     "metadata": {
      "atol": 4.999999999999999e+24,
      "format": "oedes.testing.nb_store_array",
      "label": null,
      "rtol": 1e-07
     },
     "output_type": "display_data"
    },
    {
     "data": {
      "application/json": {
       "data": {
        "__ndarray__": "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",
        "dtype": "float64",
        "shape": "230"
       }
      }
     },
     "metadata": {
      "atol": 4.999999999999999e+24,
      "format": "oedes.testing.nb_store_array",
      "label": null,
      "rtol": 1e-07
     },
     "output_type": "display_data"
    },
    {
     "data": {
      "application/json": {
       "data": {
        "__ndarray__": "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",
        "dtype": "float64",
        "shape": "230"
       }
      }
     },
     "metadata": {
      "atol": 4.999999999999999e+24,
      "format": "oedes.testing.nb_store_array",
      "label": null,
      "rtol": 1e-07
     },
     "output_type": "display_data"
    },
    {
     "data": {
      "application/json": {
       "data": {
        "__ndarray__": "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",
        "dtype": "float64",
        "shape": "230"
       }
      }
     },
     "metadata": {
      "atol": 4.999999999999999e+24,
      "format": "oedes.testing.nb_store_array",
      "label": null,
      "rtol": 1e-07
     },
     "output_type": "display_data"
    },
    {
     "data": {
      "application/json": {
       "data": {
        "__ndarray__": "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",
        "dtype": "float64",
        "shape": "230"
       }
      }
     },
     "metadata": {
      "atol": 4.999999999999999e+24,
      "format": "oedes.testing.nb_store_array",
      "label": null,
      "rtol": 1e-07
     },
     "output_type": "display_data"
    },
    {
     "data": {
      "application/json": {
       "data": {
        "__ndarray__": "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",
        "dtype": "float64",
        "shape": "230"
       }
      }
     },
     "metadata": {
      "atol": 4.999999999999999e+24,
      "format": "oedes.testing.nb_store_array",
      "label": null,
      "rtol": 1e-07
     },
     "output_type": "display_data"
    },
    {
     "data": {
      "application/json": {
       "data": {
        "__ndarray__": "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",
        "dtype": "float64",
        "shape": "230"
       }
      }
     },
     "metadata": {
      "atol": 4.999999999999999e+24,
      "format": "oedes.testing.nb_store_array",
      "label": null,
      "rtol": 1e-07
     },
     "output_type": "display_data"
    },
    {
     "data": {
      "application/json": {
       "data": {
        "__ndarray__": "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",
        "dtype": "float64",
        "shape": "230"
       }
      }
     },
     "metadata": {
      "atol": 4.999999999999999e+24,
      "format": "oedes.testing.nb_store_array",
      "label": null,
      "rtol": 1e-07
     },
     "output_type": "display_data"
    },
    {
     "data": {
      "application/json": {
       "data": {
        "__ndarray__": "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",
        "dtype": "float64",
        "shape": "230"
       }
      }
     },
     "metadata": {
      "atol": 4.999999999999999e+24,
      "format": "oedes.testing.nb_store_array",
      "label": null,
      "rtol": 1e-07
     },
     "output_type": "display_data"
    },
    {
     "data": {
      "application/json": {
       "data": {
        "__ndarray__": "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",
        "dtype": "float64",
        "shape": "230"
       }
      }
     },
     "metadata": {
      "atol": 4.999999999999999e+24,
      "format": "oedes.testing.nb_store_array",
      "label": null,
      "rtol": 1e-07
     },
     "output_type": "display_data"
    },
    {
     "data": {
      "application/json": {
       "data": {
        "__ndarray__": "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",
        "dtype": "float64",
        "shape": "230"
       }
      }
     },
     "metadata": {
      "atol": 4.999999999999999e+24,
      "format": "oedes.testing.nb_store_array",
      "label": null,
      "rtol": 1e-07
     },
     "output_type": "display_data"
    },
    {
     "data": {
      "application/json": {
       "data": {
        "__ndarray__": "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",
        "dtype": "float64",
        "shape": "230"
       }
      }
     },
     "metadata": {
      "atol": 4.999999999999999e+24,
      "format": "oedes.testing.nb_store_array",
      "label": null,
      "rtol": 1e-07
     },
     "output_type": "display_data"
    },
    {
     "data": {
      "application/json": {
       "data": {
        "__ndarray__": "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",
        "dtype": "float64",
        "shape": "230"
       }
      }
     },
     "metadata": {
      "atol": 4.999999999999999e+24,
      "format": "oedes.testing.nb_store_array",
      "label": null,
      "rtol": 1e-07
     },
     "output_type": "display_data"
    },
    {
     "data": {
      "application/json": {
       "data": {
        "__ndarray__": "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",
        "dtype": "float64",
        "shape": "230"
       }
      }
     },
     "metadata": {
      "atol": 4.999999999999999e+24,
      "format": "oedes.testing.nb_store_array",
      "label": null,
      "rtol": 1e-07
     },
     "output_type": "display_data"
    },
    {
     "data": {
      "application/json": {
       "data": {
        "__ndarray__": "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",
        "dtype": "float64",
        "shape": "230"
       }
      }
     },
     "metadata": {
      "atol": 4.999999999999999e+24,
      "format": "oedes.testing.nb_store_array",
      "label": null,
      "rtol": 1e-07
     },
     "output_type": "display_data"
    },
    {
     "data": {
      "application/json": {
       "data": {
        "__ndarray__": "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",
        "dtype": "float64",
        "shape": "230"
       }
      }
     },
     "metadata": {
      "atol": 4.999999999999999e+24,
      "format": "oedes.testing.nb_store_array",
      "label": null,
      "rtol": 1e-07
     },
     "output_type": "display_data"
    },
    {
     "data": {
      "application/json": {
       "data": {
        "__ndarray__": "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",
        "dtype": "float64",
        "shape": "230"
       }
      }
     },
     "metadata": {
      "atol": 4.999999999999999e+24,
      "format": "oedes.testing.nb_store_array",
      "label": null,
      "rtol": 1e-07
     },
     "output_type": "display_data"
    },
    {
     "data": {
      "application/json": {
       "data": {
        "__ndarray__": "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",
        "dtype": "float64",
        "shape": "230"
       }
      }
     },
     "metadata": {
      "atol": 4.999999999999999e+24,
      "format": "oedes.testing.nb_store_array",
      "label": null,
      "rtol": 1e-07
     },
     "output_type": "display_data"
    },
    {
     "data": {
      "application/json": {
       "data": {
        "__ndarray__": "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",
        "dtype": "float64",
        "shape": "230"
       }
      }
     },
     "metadata": {
      "atol": 4.999999999999999e+24,
      "format": "oedes.testing.nb_store_array",
      "label": null,
      "rtol": 1e-07
     },
     "output_type": "display_data"
    },
    {
     "data": {
      "application/json": {
       "data": {
        "__ndarray__": "zwTLEu8Eb0XesIJXjeFeRdltAOjBCVZFUYA3tyRTU0WlGvIpvpZSRXsDcsypbVJFCf03kG9kUkVNfoFoI19SRYm7DjcKWVJFwjONy1VRUkUPaMiKj0dSRSuyo0csO1JFi1c6+X4rUkXJgMlVsRdSRSmjcQK8/lFFZbtLcl7fUUW2LSQbF7hRRfskbuYch1FFxeqYtFpKUUX8FpunbP9QRXoS6s2ao1BFHk9VT4VKUEUq3Lfr6uhPRcc0oZSbQU9FdjZDI9KdTkUd5epgLPxNRUjSvNQkW01F6FmOggK5TEXY0zHQwRNMRZa1dXnzaEtF+tFfAI21SkXNGTwPpPVJRXp3ODYLJElFbSLWJco5SEUJOVR8aS1HRbHk9DIz8kVFkUSkCGJ4REVfm5A6Iq9CRdWl8UrBjEBFR7SUtkJGPEU+so6zCEM3RTS6+SMRYzJFnp3jeZrIK0UyCa6cqB4kRRz3AjJkRRxFGRnGUuZ/E0XBAvstg5kKRaFGRd1VAgJFjArB/51B+EQobPDFhUTwRNCohKXhvuVEbA9H96373ETQJIIxvEPTRKpIr7WgjMlEVeSufbznwER+u0psV1O2RCw1pQQ0ba1E+gSj0Wxbo0QQV6w02muZRALM9FP4qZBEb1hwxH7PhUS8zBNLLoB8RG0lSEGtl3JEiOij/ZI4aERhtA0i0IFfRFbamLmXdlRELWDJsU6LSkS4O0j6YDFBRB8NSJgqPjZEVKmy5VC9LEQ4+KEGQIsiRPyGZG7m5hdE93d4sKvFDkRpyNBsPMkDRGPyyUqUavlDAsAEUY5O8EOaMquYIOfkQ1EZTIhcxNpDs5tJOA8f0UMDuYg2z+HFQwtEk2bG8LtDUwF3d3DSsUPwSJPvObemQ59D1K6n7ZxD8Tb9nZdnkkPQOYpFTmaHQ5wm0GwJun1DzA6R+iTeckOQwmPq2+5nQ/OVBakFVl5DSnm/Al02U0PbmXpGd1FIQzL79E2hwj5D0hvb4g9xM0MkH7pWWo8oQxrXeLykAR9DcNN5q4CPE0OzvmmRRaoIQ8Dum/10Ff9CKqbHNk2T80IdV/YRYqToQroRHfvuAN9Ct3fEj1d+00K08fHrJYDIQlrd/LRFx75CJJ44YbFSs0Km0p40O0CoQvP9BAvka55CTaAduokSk0I6VcMQaueHQvHrymRS8n1C4wviSB3AckIzmEzhhXhnQhhPy0cgXl1C+Vc8DaldUkK0XueCXfZGQsstyL/RsjxCfVPMZ1/tMUJNOV15rmMmQncwN1/Q8xtCJ18TXl9xEUL61UjNGsMFQnbg4olfJPtB4djT3q3r8EGqqrtXIRflQTmPmbCTR9pBjMw8zTBe0EFYzOMxGGLEQe3DgB9MYLlB5C6rLVeVr0HuM3X8KKajQTwYOv4ucZhBUYPtLHpljkGgoJavTuWCQYJ7ohqnfHdBGrQ//7wvbUEolAaVVCFiQY/aXPfihFZB7PEF2sX2S0HHsYfM1VtBQSzoRRTUizVB0KUaV+28KkGxYoi8O5YgQZ8bc3crkxRBrpcv9DaECUEiY/RabKP/QMwbN3hJnPNA+rtKbjBO6EClW1HGNR7eQPMEuxL+p9JAt/9YeHUbx0ASkDSt2Zy8QIC0RASftbFAZb5QkOzppUBBiQDBVhqbQFxmvePOv5BAfN4tY6+uhEDEXv1MOYF5QB4HAJHFY29AW7+ThIRCY0CeaPj98YdXQJPlqQNqj0xAyIvVKEcpQUD+bA0SWFI0QEoUbAgnjCdAasmG6BlxGkAy43ZZamYMQKvb4fRPsPw/4qw35PS06j9tTK83lGjWP2ChACxPn8A/UudSlR6upT+ioYPsm42JP67YdfgfSm0/qsh5Qi6JUT+kGBPwzbU1P/SBdN3KPRk/Ma3cCg2h+j6hzgm9JlzUPl6oAsgAOqI+AAAAAAAAAAAAAAAAAAAAAEtvaaXQ3XY+AAAAAAAAAACin1yUhKxbPgAAAAAAAAAAcSMb3emCaj5gv22K6TyGPhR5ttLjyIY+AAAAAAAAAAAAAAAAAAAAAGAntxhUL2A+bZwLFf2MuD0OpIpiAOGQPT7tnGfZac89x1O7fDz3mT4Xai5CxzxWPXE+7sNFjYc8mfbvmxz3WT1ttsAbvCJAPqSnz32bsXI+ikccLTq5mD4AAAAAAAAAAPbbmNoQl2s+46SDV5N0cj0OlC+zVZSDPgRi+VmpTLE8ROC9K2yOoj0Dv3ehjDKXPiS3rH5602Y+AAAAAAAAAAAAAAAAAAAAAAAAAAAAAAAA0rUqoTLigz7v/CGOJ/2wPbGKzRD3wrI9TZQxjFVRkT6pJ2JOc0G1PiSESaDZRMI+AAAAAAAAAACEZzA1vhvSPnEjG93pgro+cSMb3emCyj4AAAAAAAAAAAAAAAAAAAAACcxPchW/Fj0EawXzT12EPZPaoAv/adc9GVkmHAb2Jj4CqhXo/Ut0Pg==",
        "dtype": "float64",
        "shape": "230"
       }
      }
     },
     "metadata": {
      "atol": 4.999999999999999e+24,
      "format": "oedes.testing.nb_store_array",
      "label": null,
      "rtol": 1e-07
     },
     "output_type": "display_data"
    },
    {
     "data": {
      "application/json": {
       "data": {
        "__ndarray__": "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",
        "dtype": "float64",
        "shape": "230"
       }
      }
     },
     "metadata": {
      "atol": 4.999999999999999e+24,
      "format": "oedes.testing.nb_store_array",
      "label": null,
      "rtol": 1e-07
     },
     "output_type": "display_data"
    },
    {
     "data": {
      "application/json": {
       "data": {
        "__ndarray__": "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",
        "dtype": "float64",
        "shape": "230"
       }
      }
     },
     "metadata": {
      "atol": 4.999999999999999e+24,
      "format": "oedes.testing.nb_store_array",
      "label": null,
      "rtol": 1e-07
     },
     "output_type": "display_data"
    },
    {
     "data": {
      "application/json": {
       "data": {
        "__ndarray__": "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",
        "dtype": "float64",
        "shape": "230"
       }
      }
     },
     "metadata": {
      "atol": 4.999999999999999e+24,
      "format": "oedes.testing.nb_store_array",
      "label": null,
      "rtol": 1e-07
     },
     "output_type": "display_data"
    },
    {
     "data": {
      "application/json": {
       "data": {
        "__ndarray__": "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",
        "dtype": "float64",
        "shape": "230"
       }
      }
     },
     "metadata": {
      "atol": 4.999999999999999e+24,
      "format": "oedes.testing.nb_store_array",
      "label": null,
      "rtol": 1e-07
     },
     "output_type": "display_data"
    },
    {
     "data": {
      "application/json": {
       "data": {
        "__ndarray__": "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",
        "dtype": "float64",
        "shape": "230"
       }
      }
     },
     "metadata": {
      "atol": 4.999999999999999e+24,
      "format": "oedes.testing.nb_store_array",
      "label": null,
      "rtol": 1e-07
     },
     "output_type": "display_data"
    },
    {
     "data": {
      "application/json": {
       "data": {
        "__ndarray__": "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",
        "dtype": "float64",
        "shape": "230"
       }
      }
     },
     "metadata": {
      "atol": 4.999999999999999e+24,
      "format": "oedes.testing.nb_store_array",
      "label": null,
      "rtol": 1e-07
     },
     "output_type": "display_data"
    },
    {
     "data": {
      "application/json": {
       "data": {
        "__ndarray__": "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",
        "dtype": "float64",
        "shape": "230"
       }
      }
     },
     "metadata": {
      "atol": 4.999999999999999e+24,
      "format": "oedes.testing.nb_store_array",
      "label": null,
      "rtol": 1e-07
     },
     "output_type": "display_data"
    },
    {
     "data": {
      "application/json": {
       "data": {
        "__ndarray__": "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",
        "dtype": "float64",
        "shape": "230"
       }
      }
     },
     "metadata": {
      "atol": 4.999999999999999e+24,
      "format": "oedes.testing.nb_store_array",
      "label": null,
      "rtol": 1e-07
     },
     "output_type": "display_data"
    },
    {
     "data": {
      "application/json": {
       "data": {
        "__ndarray__": "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",
        "dtype": "float64",
        "shape": "230"
       }
      }
     },
     "metadata": {
      "atol": 4.999999999999999e+24,
      "format": "oedes.testing.nb_store_array",
      "label": null,
      "rtol": 1e-07
     },
     "output_type": "display_data"
    },
    {
     "data": {
      "application/json": {
       "data": {
        "__ndarray__": "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",
        "dtype": "float64",
        "shape": "230"
       }
      }
     },
     "metadata": {
      "atol": 4.999999999999999e+24,
      "format": "oedes.testing.nb_store_array",
      "label": null,
      "rtol": 1e-07
     },
     "output_type": "display_data"
    },
    {
     "data": {
      "application/json": {
       "data": {
        "__ndarray__": "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",
        "dtype": "float64",
        "shape": "230"
       }
      }
     },
     "metadata": {
      "atol": 4.999999999999999e+24,
      "format": "oedes.testing.nb_store_array",
      "label": null,
      "rtol": 1e-07
     },
     "output_type": "display_data"
    },
    {
     "data": {
      "application/json": {
       "data": {
        "__ndarray__": "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",
        "dtype": "float64",
        "shape": "230"
       }
      }
     },
     "metadata": {
      "atol": 4.999999999999999e+24,
      "format": "oedes.testing.nb_store_array",
      "label": null,
      "rtol": 1e-07
     },
     "output_type": "display_data"
    },
    {
     "data": {
      "application/json": {
       "data": {
        "__ndarray__": "AqoV6P1LdD77d+xdtpQZPoxG3SQgtLQ9gB3wfVO4/Dwgda61to2CPEAnSR7blP074Oz0Lgr53TvCtU/YtYh9P0CnDytOQRQ9YN0c9R7VfDyAGGDmN1ULPaAToGQ47rU8rSJLyqHopT2pdozbQBmBPg1+hvnp3jg/ilCWJSytSD9KrXz0NbFHPuDcqtNOr70+4Jq2chJjqT2gyTEEPvpqPeAEwObPjVI84FKhdv7YNDw6n2r96d74Pop6iWoV/BQ/W2swjAnh6z1iJH+RzB7DPDB4U3+XnZE9EU7OGP+AYjuEnng2BShxPAAAAAAAAAAAAAAAAAAAAACQvjtQ/jEAPMCMp3x5jhA94KVeEggBBjwACM+NmFFIPJBUtMqRRWA90B6a212PgT0gXZJY0sNuPMHqVboMwwU/lgGqVWPn4T6CGtVq8gq8PXfX/NiFLJY8lHqtuqOzcTvAfKXxhdj8OKCsjMSjLuI5ILRbK3v2+zrA9oIXzToQPMDabiVBxBk9UJIxHWNLEjyAnbL2ISEEOxaDt9tAGeE9IAjWoMsHBz140hXh6Z/FPsydNvDjIKM9OKIK560TgTwMySwNosVeOwAAAAAAAAAAAAAAAAAAAAAAAAAAAAAAAGC+pE9nZJI7YEv+o6+CrDwAAAAAAAAAAAAAAAAAAAAAAAAAAAAAAAAAAAAAAAAAAAAAAAAAAAAAAAAAAAAAAAAAAAAAAAAAAA1+hvnp3tg9uULAi0lSED/GdsIGFuzoPep7L2Ecx9Y+B+b06BVDuD0AAAAAAAAAAAAAAAAAAAAAAAAAAAAAAAAAfdhQJo3kPmAheNUwJdY9gAUr//ME1j5Y84QnON3fPQqeh/np3ug+z7RtHmaXzT3wykO44E3TPVpbEcHrSeU9rnyUJSyt+D5Q/2fOuS7fPWCO98oB+L474s533iw1ND89sCI53ucaPsOs5Fd1RSk+IGS3KiZ/1z2ApOfjLw3nPjAassYnHNI9bkbyigq5DT2K3iR7L6ciPuBgsWOlLeU+UMKgt0Vl0j0AAAAAAAAAAAAAAAAAAAAAAAAAAAAAAAAAAAAAAAAAAON+ypCMY/s7f5wPwtzKCj0Nfob56d4YPg1+hvnp3tg+AAAAAAAAAADglLj+RXfYPTDPg3kPdAs/+xH0NhKWAkAvABPERHADQdmxh3URhQBCVRbnaZ+E9EIhMEEtRLjcQ2kBE5kItJ5EKGPsT2SV7UQeVyc4sPgCRebfNtft7iZFPb8SCge2RkUuOW4iALFMRVMUy1P4eE9FClbasiacUEX3nUBJnz5RRTjV4selvlFFeoaMROkoUkVzj4ZLWIRSRfQ9hEkd1VJFpORQPOYdU0Xs1iamg2BTReArCwE9nlNFISJh3ADYU0WfV+zVgQ5URTq7ANlIQlRF72/PC8FzVEWaJ6HaP6NURXHPPYoK0VRFFtQJK1r9VEWDSVB0XihVRY1Wlt4/UlVFIHYcNiF7VUUkjwLMIKNVRXOaeGBZylVFZ6912OLwVUWSZRnM0hZWRSSNNPc8PFZFMLvrkjNhVkX+qZqdx4VWRZVT1hQJqlZFI+Z8JAfOVkUSWBNN0PFWRXAhLoNyFVdFMdJASfs4V0VLCObEd1xXRfZreND0f1dF8FmpCX+jV0XuiZ/dIsdXRcPvDJPs6ldFXpWVUugOWEXP888tIjNYRY1sGSWmV1hF8jluLIB8WEUO9movvKFYRTBBlhRmx1hFItUKwIntWEVuKJUVMxRZRf+BU/ptO1lF59njVUZjWUUrASgTyItZRdIxpiD/tFlF/0WKcPfeWUU/Wkr4vAlaRYp+8K9bNVpFYkoKkd9hWkXYnz6VVI9aRUihibTGvVpFkM4e40HtWkVbYvEO0h1bRSpZ4xyDT1tFuAOc5WCCW0XfoAcyd7ZbRXMwgrfR61tFcX2wE3wiXEUdOgvIgVpcRQrwIDXuk1xFk3GUlczOXEUiZN74JwtdRZ9d2T0LSV1FJOQgDYGIXUXxYkzTk8ldRZjSD7tNDF5F3mJMp7hQXkXh5Rst3pZeRTgL4o3H3l5FlqVusX0oX0WOPDwgCXRfRQwP1v1xwV9FIjW4AWAIYEWj6149/TBgReKPhRyUWmBFasdVzSeFYEWzDl8/u7BgRT25qSFR3WBFH+P94OsKYUVTamGmjTlhRcqPz1U4aWFFcGgsje2ZYUUhznWjrsthRasHM6h8/mFFsekjY1gyYkUlvS9UQmdiRVLTk7M6nWJFWtFtsbzTYkUgfrnMPP9iRUAMghHSIWNF87cc6Ds9Y0VOAklb6lJjRVv9A6cIZGNFtsC3BIhxY0VEHXSwKXxjRZbpbbmHhGNFusRTghyLY0VhHTEASZBjRX1KjNxZlGNFOA0MCIyXY0X63Zo9GZpjRRkh4da1nGNFvEML8IOkY0Uc4RUNrc5jRcWJskBKjGRFsx7IoIskZ0XPBMsS7wRvRQ==",
        "dtype": "float64",
        "shape": "230"
       }
      }
     },
     "metadata": {
      "atol": 4.999999999999999e+24,
      "format": "oedes.testing.nb_store_array",
      "label": null,
      "rtol": 1e-07
     },
     "output_type": "display_data"
    },
    {
     "data": {
      "application/json": {
       "data": {
        "__ndarray__": "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",
        "dtype": "float64",
        "shape": "230"
       }
      }
     },
     "metadata": {
      "atol": 4.999999999999999e+24,
      "format": "oedes.testing.nb_store_array",
      "label": null,
      "rtol": 1e-07
     },
     "output_type": "display_data"
    },
    {
     "data": {
      "application/json": {
       "data": {
        "__ndarray__": "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",
        "dtype": "float64",
        "shape": "230"
       }
      }
     },
     "metadata": {
      "atol": 4.999999999999999e+24,
      "format": "oedes.testing.nb_store_array",
      "label": null,
      "rtol": 1e-07
     },
     "output_type": "display_data"
    },
    {
     "data": {
      "application/json": {
       "data": {
        "__ndarray__": "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",
        "dtype": "float64",
        "shape": "230"
       }
      }
     },
     "metadata": {
      "atol": 4.999999999999999e+24,
      "format": "oedes.testing.nb_store_array",
      "label": null,
      "rtol": 1e-07
     },
     "output_type": "display_data"
    },
    {
     "data": {
      "application/json": {
       "data": {
        "__ndarray__": "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",
        "dtype": "float64",
        "shape": "230"
       }
      }
     },
     "metadata": {
      "atol": 4.999999999999999e+24,
      "format": "oedes.testing.nb_store_array",
      "label": null,
      "rtol": 1e-07
     },
     "output_type": "display_data"
    },
    {
     "data": {
      "application/json": {
       "data": {
        "__ndarray__": "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",
        "dtype": "float64",
        "shape": "230"
       }
      }
     },
     "metadata": {
      "atol": 4.999999999999999e+24,
      "format": "oedes.testing.nb_store_array",
      "label": null,
      "rtol": 1e-07
     },
     "output_type": "display_data"
    },
    {
     "data": {
      "application/json": {
       "data": {
        "__ndarray__": "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",
        "dtype": "float64",
        "shape": "230"
       }
      }
     },
     "metadata": {
      "atol": 4.999999999999999e+24,
      "format": "oedes.testing.nb_store_array",
      "label": null,
      "rtol": 1e-07
     },
     "output_type": "display_data"
    },
    {
     "data": {
      "application/json": {
       "data": {
        "__ndarray__": "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",
        "dtype": "float64",
        "shape": "230"
       }
      }
     },
     "metadata": {
      "atol": 4.999999999999999e+24,
      "format": "oedes.testing.nb_store_array",
      "label": null,
      "rtol": 1e-07
     },
     "output_type": "display_data"
    },
    {
     "data": {
      "image/png": "[encoded data removed]",
      "text/plain": [
       "<matplotlib.figure.Figure at 0x7fad508a7da0>"
      ]
     },
     "metadata": {},
     "output_type": "display_data"
    }
   ],
   "source": [
    "niceplot(solve(5e-11, mu_func))"
   ]
  },
  {
   "cell_type": "markdown",
   "metadata": {},
   "source": [
    "\n",
    "---\n",
    "This file is a part of __oedes__, an open source organic electronic device \n",
    "simulator. For more information, see <https://www.github.com/mzszym/oedes>.\n"
   ]
  }
 ],
 "metadata": {
  "anaconda-cloud": {},
  "hide_input": false,
  "kernelspec": {
   "display_name": "Python 3",
   "language": "python",
   "name": "python3"
  },
  "language_info": {
   "codemirror_mode": {
    "name": "ipython",
    "version": 3
   },
   "file_extension": ".py",
   "mimetype": "text/x-python",
   "name": "python",
   "nbconvert_exporter": "python",
   "pygments_lexer": "ipython3",
   "version": "3.6.2"
  },
  "toc": {
   "nav_menu": {},
   "number_sections": true,
   "sideBar": true,
   "skip_h1_title": false,
   "toc_cell": false,
   "toc_position": {},
   "toc_section_display": "block",
   "toc_window_display": false
  },
  "varInspector": {
   "cols": {
    "lenName": 16,
    "lenType": 16,
    "lenVar": 40
   },
   "kernels_config": {
    "python": {
     "delete_cmd_postfix": "",
     "delete_cmd_prefix": "del ",
     "library": "var_list.py",
     "varRefreshCmd": "print(var_dic_list())"
    },
    "r": {
     "delete_cmd_postfix": ") ",
     "delete_cmd_prefix": "rm(",
     "library": "var_list.r",
     "varRefreshCmd": "cat(var_dic_list()) "
    }
   },
   "types_to_exclude": [
    "module",
    "function",
    "builtin_function_or_method",
    "instance",
    "_Feature"
   ],
   "window_display": false
  }
 },
 "nbformat": 4,
 "nbformat_minor": 1
}