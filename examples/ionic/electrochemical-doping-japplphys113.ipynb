{
 "cells": [
  {
   "cell_type": "markdown",
   "metadata": {},
   "source": [
    "# Drift-diffusion simulation of electrochemical doping\n",
    "\n",
    "This notebook reproduces simulations of electrochemical doping from Eleni Stavrinidou, Pierre Leleux, Harizo Rajaona, Michel Fiocchi, Sébastien Sanaur, George G. Malliaras [A simple model for ion injection and transport in conducting polymers](http://dx.doi.org/10.1063/1.4812236), Journal of Applied Physics 113, 244501 (2013).\n",
    "\n",
    "Note that all profiles of electric potential in the paper are inverted, and contradicting Fig. 1 shown within. \n",
    "\n",
    "The model is multilayer, multispecies. The simulation may not work for longer times than investigated in the paper because of formation of EDL which is poorly handled without further assumptions."
   ]
  },
  {
   "cell_type": "code",
   "execution_count": 1,
   "metadata": {
    "collapsed": true
   },
   "outputs": [],
   "source": [
    "%matplotlib inline"
   ]
  },
  {
   "cell_type": "code",
   "execution_count": 2,
   "metadata": {
    "collapsed": true
   },
   "outputs": [],
   "source": [
    "import matplotlib.pylab as plt\n",
    "\n",
    "from oedes import *"
   ]
  },
  {
   "cell_type": "code",
   "execution_count": 3,
   "metadata": {},
   "outputs": [],
   "source": [
    "electrolyte_mesh = fvm.mesh1d(\n",
    "    25e-9,\n",
    "    boundary_names=[\n",
    "        'electrode',\n",
    "        'internal_boundary'])\n",
    "pedot_mesh = fvm.mesh1d(\n",
    "    175e-9,\n",
    "    boundary_names=[\n",
    "        'internal_boundary',\n",
    "        'electrode'])\n",
    "mesh = fvm.multilayer1d(\n",
    "    [('electrolyte', electrolyte_mesh), ('pedot', pedot_mesh)])\n",
    "electrolyte_model = models.BaseModel()\n",
    "electrolyte_model.name = 'electrolyte'\n",
    "pedot_model = models.BaseModel()\n",
    "pedot_model.name = 'pedot'\n",
    "poisson_electrolyte = fvm.Poisson(electrolyte_mesh)\n",
    "electrolyte_model.poisson = poisson_electrolyte\n",
    "poisson_pedot = fvm.Poisson(pedot_mesh)\n",
    "pedot_model.poisson = poisson_pedot\n",
    "poisson_electrolyte.bc = [\n",
    "    models.AppliedVoltage('electrode'),\n",
    "    models.Equal(\n",
    "        poisson_pedot,\n",
    "        'internal_boundary')]\n",
    "poisson_pedot.bc = [models.AppliedVoltage('electrode')]\n",
    "hole_eqn = fvm.TransportCharged(pedot_mesh, 'hole', z=1)\n",
    "hole_eqn.bc = [models.DirichletFromParams('electrode')]\n",
    "cation_electrolyte = fvm.TransportCharged(electrolyte_mesh, 'cation', z=1)\n",
    "cation_electrolyte.bc = [models.DirichletFromParams('electrode')]\n",
    "anion_electrolyte = fvm.TransportCharged(electrolyte_mesh, 'anion', z=-1)\n",
    "anion_electrolyte.bc = [models.DirichletFromParams('electrode')]\n",
    "electrolyte_model.species = [cation_electrolyte, anion_electrolyte]\n",
    "electrolyte_model.species_v_D['cation'] = models.species_v_D_charged_from_params\n",
    "electrolyte_model.species_v_D['anion'] = models.species_v_D_charged_from_params\n",
    "cation_pedot = fvm.TransportCharged(pedot_mesh, 'cation', z=1)\n",
    "cation_pedot.bc = [models.Equal(cation_electrolyte, 'internal_boundary')]\n",
    "anion_pedot = fvm.TransportCharged(pedot_mesh, 'anion', z=-1)\n",
    "anion_pedot.bc = [models.Equal(anion_electrolyte, 'internal_boundary')]\n",
    "pedot_model.species = [hole_eqn, cation_pedot, anion_pedot]\n",
    "pedot_model.species_v_D['hole'] = models.species_v_D_charged_from_params\n",
    "pedot_model.species_v_D['cation'] = models.species_v_D_charged_from_params\n",
    "pedot_model.species_v_D['anion'] = models.species_v_D_charged_from_params\n",
    "pedot_model.additional_charge = [models.simple_doping]\n",
    "model = models.CompositeModel()\n",
    "model.sub = [electrolyte_model, pedot_model]\n",
    "model.setUp()"
   ]
  },
  {
   "cell_type": "code",
   "execution_count": 4,
   "metadata": {
    "collapsed": true
   },
   "outputs": [],
   "source": [
    "params = {\n",
    "    'electrolyte.epsilon_r': 3.,\n",
    "    'pedot.epsilon_r': 3,\n",
    "    'electrolyte.T': 300,\n",
    "    'pedot.T': 300,\n",
    "    'electrolyte.electrode.voltage': 0,\n",
    "    'electrolyte.electrode.workfunction': 0,\n",
    "    'pedot.electrode.voltage': 0,\n",
    "    'pedot.electrode.workfunction': 0,\n",
    "    'pedot.hole.N0': 1e27,\n",
    "    'pedot.hole.electrode': 1e25,\n",
    "    'pedot.hole.mu': 1e-7,\n",
    "    'pedot.hole.level': 0,\n",
    "    'pedot.Na': 1e25,\n",
    "    'pedot.Nd': 0,\n",
    "    'electrolyte.cation.electrode': 1e25,\n",
    "    'electrolyte.cation.mu': 1e-7,\n",
    "    'electrolyte.cation.N0': 1e27,\n",
    "    'electrolyte.cation.level': 0.,\n",
    "    'electrolyte.anion.electrode': 1e25,\n",
    "    'electrolyte.anion.mu': 1e-7,\n",
    "    'electrolyte.anion.N0': 1e27,\n",
    "    'electrolyte.anion.level': 0.,\n",
    "    'pedot.cation.mu': 1e-9,\n",
    "    'pedot.cation.N0': 1e27,\n",
    "    'pedot.cation.level': 0.,\n",
    "    'pedot.anion.mu': 1e-9,\n",
    "    'pedot.anion.N0': 1e27,\n",
    "    'pedot.anion.level': 0.\n",
    "}"
   ]
  },
  {
   "cell_type": "code",
   "execution_count": 5,
   "metadata": {
    "collapsed": true
   },
   "outputs": [],
   "source": [
    "def store(out):\n",
    "    testing.store(out['electrolyte.potential'])\n",
    "    testing.store(out['electrolyte.anion.c'], atol=1e12)\n",
    "    testing.store(out['electrolyte.cation.c'], atol=1e12)\n",
    "    testing.store(out['pedot.potential'], atol=1e12)\n",
    "    testing.store(out['pedot.hole.c'], atol=1e12)\n",
    "    testing.store(out['pedot.anion.c'], atol=1e12)\n",
    "    testing.store(out['pedot.cation.c'], atol=1e12)"
   ]
  },
  {
   "cell_type": "markdown",
   "metadata": {},
   "source": [
    "## Fig. 2"
   ]
  },
  {
   "cell_type": "code",
   "execution_count": 6,
   "metadata": {},
   "outputs": [
    {
     "name": "stdout",
     "output_type": "stream",
     "text": [
      " time=1e-05            "
     ]
    }
   ],
   "source": [
    "x = model.X.copy()\n",
    "x[hole_eqn.idx] = params['pedot.Na']\n",
    "c = context(model, x=x)\n",
    "params['electrolyte.electrode.voltage'] = 0.\n",
    "params['pedot.electrode.voltage'] = -1\n",
    "c.transient(params, 1e-5, 1e-9)"
   ]
  },
  {
   "cell_type": "code",
   "execution_count": 7,
   "metadata": {
    "collapsed": true
   },
   "outputs": [],
   "source": [
    "from oedes import mpl"
   ]
  },
  {
   "cell_type": "code",
   "execution_count": 8,
   "metadata": {},
   "outputs": [
    {
     "data": {
      "application/json": {
       "data": {
        "__ndarray__": "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",
        "dtype": "float64",
        "shape": "200"
       }
      }
     },
     "metadata": {
      "atol": 0,
      "format": "oedes.testing.nb_store_array",
      "label": null,
      "rtol": 1e-07
     },
     "output_type": "display_data"
    },
    {
     "data": {
      "application/json": {
       "data": {
        "__ndarray__": "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",
        "dtype": "float64",
        "shape": "200"
       }
      }
     },
     "metadata": {
      "atol": 1000000000000,
      "format": "oedes.testing.nb_store_array",
      "label": null,
      "rtol": 1e-07
     },
     "output_type": "display_data"
    },
    {
     "data": {
      "application/json": {
       "data": {
        "__ndarray__": "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",
        "dtype": "float64",
        "shape": "200"
       }
      }
     },
     "metadata": {
      "atol": 1000000000000,
      "format": "oedes.testing.nb_store_array",
      "label": null,
      "rtol": 1e-07
     },
     "output_type": "display_data"
    },
    {
     "data": {
      "application/json": {
       "data": {
        "__ndarray__": "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",
        "dtype": "float64",
        "shape": "211"
       }
      }
     },
     "metadata": {
      "atol": 1000000000000,
      "format": "oedes.testing.nb_store_array",
      "label": null,
      "rtol": 1e-07
     },
     "output_type": "display_data"
    },
    {
     "data": {
      "application/json": {
       "data": {
        "__ndarray__": "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",
        "dtype": "float64",
        "shape": "211"
       }
      }
     },
     "metadata": {
      "atol": 1000000000000,
      "format": "oedes.testing.nb_store_array",
      "label": null,
      "rtol": 1e-07
     },
     "output_type": "display_data"
    },
    {
     "data": {
      "application/json": {
       "data": {
        "__ndarray__": "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",
        "dtype": "float64",
        "shape": "211"
       }
      }
     },
     "metadata": {
      "atol": 1000000000000,
      "format": "oedes.testing.nb_store_array",
      "label": null,
      "rtol": 1e-07
     },
     "output_type": "display_data"
    },
    {
     "data": {
      "application/json": {
       "data": {
        "__ndarray__": "OqKUua2uJUUIdFcRPBcmRVrwvVBeciZFnrJGdqWwJkX2Q5Jq+sAmRYxcuX97lCZFM8nA9hwjJkW4dUbbBm8lRXGFx4BnhSRFZV6/tLd9I0V3VMvLd3kiRWmdHgvIwCFFAktx4zlGIUWAtdgHvfggRe1a/sSxySBFrGku0RSuIEUPjSjsUJ4gRZV12PCDlSBFM73Z7LCQIEUa1KzbFY4gRXj/FeaxjCBFT5n23PWLIEXE4TVik4sgRQgh3jBgiyBFcy5AwUWLIEW6EEcvOIsgRYZgw0ExiyBFTiP2vC2LIEVWSZz1K4sgRQ2ReBAriyBFa3OonSqLIEUa5VxkKosgRR/f4EcqiyBFrCTDOSqLIEWL/sYyKosgRa+eTi8qiyBFaRCLLSqLIEWe5pEsKosgRUsy5isqiyBFvB06KyqLIEXLkUoqKosgRVTBwygqiyBFxO0iJiqLIEWQGoohKosgRfZtdhkqiyBF7KpACyqLIEXumT3yKYsgRdqlNMYpiyBFARKreCmLIEW5rB/wKIsgRaqJpf8niyBFoLIbWCaLIEVYYCluI4sgRSQSf0weiyBF41F9QxWLIEX+aFBcBYsgRVm7dWLpiiBFIlXvNbiKIEW3YCjhYYogRQSwvZHKiSBFOU2Z/sGIIEVRYrDd9IYgRVjGq7bUgyBFhz09nXB+IEWOaLKFN3UgRa2AfjScZSBFZK2hWpZLIEWSGY57CiEgRa4dNdKHuh9F8BhGSs7pHkXR1rQsCbYdRa53Q+3fBxxFlmd4Z3rTGUU0sqidaSEXRZJPgi/9ERRFcDXlpcbXEEVUhqyqHVcLRWTUI7fDfgVFOmFYDP9qAEXeUUFQN3X4RJldkuwP1/FEeOh3zT6X6UQSdcUw+RziRPNvvDJjYdlEmvBk3Zqk0USMg2VquWHIRAbzK93TxMBEPHI1IkH7tkQEA2wxF2evRMomP7kHZ6VE7NjlCu8cnURfQEsIycOTRCqbHHYAy4pEQLtb/BgigkQMElBrwoJ4RIXRjgJLi3BEtG6cI1BOZkS/uAbA2AleRAw5FpbUM1REBu7QaOAkS0RmBlLJLDdCRAgf9+H5azhEHMIW87NaMETAggM5p+ElRGXsklhdPx1EbuBGnxKHE0Rlhq7hFQ0KRE/n7X1YXAFEfzuWMhke90MKvBUlfcHuQ8WjgbXgcORDRnWjX8Il20Mvd7TAEgPSQ7R81XS04cdDprRENmyjv0OH4VxvxvC0Q6zsoeq9sqtDWmnh1uVNokPSKmaRqyyYQ/YzPv9a549DnlcJy3AJhUNJthGoILl7Q7BzKfsqQXJD1t+8KPkFaENyIZ82DJhfQ4oX2EfwwlRDwErDZMBES0N35eoibeVBQxEsX+HIeTdDZElrU6bGLkPamWj3PSkkQyFgLf4yZhpDTof55xRGEUMwY2RltJcGQ3wmj9ZgiP1C3Dk8ZrVK80JvORYM0TDpQhadF3odcOBCtCE80BZx1UIg2CuvW/TLQi+sRrOxNsJCN4oxtO+4t0L20+Mq5uGuQoK4wtucF6RC/AbNo80hmkKf04D2Z/yQQpmCfb1vEoZCM+hPLxirfEIUx+TqJJxyQrSj6KqeJmhCQp2EJBRUX0KczsIyrU9UQn3jIS2EU0pCCYtbfvMNQUKWjnkOcRY2QpjhHc1jmCxCHL8/M82AIkLybpv8z+8XQjkgmels9A5CmSYP7Q8CBEJmdTr7Gtv5QZr5mMZes/BBIhCbFCqR5UHo5mLDltfbQcRg25wy99FBJLFkfoEtx0HtT/T2feS9QTl/rs8zRbNByKI6G3XWqEGY4ymdgQCgQWhtGZzfnJRBYlzxlV6LikGAqleaKRaBQcgEz+Cv/XVBBdal2pNLbEFKhV45yzJiQXSQpkccZ1dBslrehGgWTkHCYGSU+VVDQYbs6lmb2DhBPWirMi/rL0G9TYBpR38kQSOc83+jURpBs353X53kEEHCGZPcR64FQQrrIvSr0ftAts6Lv+/X8UCcdHFbj+LmQJy+lkguWN1AzPggPjvP0kAHbMLBtxvIQGRp10Cy5L5AwMQcr0DKs0DOxNUImFmpQGtQWSm+O6BAkndtgufJlEAGbDW3o5+KQGNhIBAWDoFAdQ+i5/XgdUATq9K7jSlsQGwuMYW3R2JAOI7GBSJKWEADKny8BA9SQJy6Wdu9dk1AMgHVUAbSSUDqoD4DItFHQM5f+Javu0ZA4QgidNArRkAciewEeudFQKpipZwWzUVA0PWfQSfJRUA=",
        "dtype": "float64",
        "shape": "211"
       }
      }
     },
     "metadata": {
      "atol": 1000000000000,
      "format": "oedes.testing.nb_store_array",
      "label": null,
      "rtol": 1e-07
     },
     "output_type": "display_data"
    },
    {
     "data": {
      "application/json": {
       "data": {
        "__ndarray__": "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",
        "dtype": "float64",
        "shape": "200"
       }
      }
     },
     "metadata": {
      "atol": 0,
      "format": "oedes.testing.nb_store_array",
      "label": null,
      "rtol": 1e-07
     },
     "output_type": "display_data"
    },
    {
     "data": {
      "application/json": {
       "data": {
        "__ndarray__": "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",
        "dtype": "float64",
        "shape": "200"
       }
      }
     },
     "metadata": {
      "atol": 1000000000000,
      "format": "oedes.testing.nb_store_array",
      "label": null,
      "rtol": 1e-07
     },
     "output_type": "display_data"
    },
    {
     "data": {
      "application/json": {
       "data": {
        "__ndarray__": "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",
        "dtype": "float64",
        "shape": "200"
       }
      }
     },
     "metadata": {
      "atol": 1000000000000,
      "format": "oedes.testing.nb_store_array",
      "label": null,
      "rtol": 1e-07
     },
     "output_type": "display_data"
    },
    {
     "data": {
      "application/json": {
       "data": {
        "__ndarray__": "VEf0VO8HhL9Y+82cqkWHv5kreCzB2Iq/flbN5cK5jr8Wb8O4iXSRv54wdIjIvZO/fP01VbRUlr/IrguppW2Zv46TPOUsWp2/pklwWVRHob+qLnZ7hNakv6nNmRKZuai/rKvcanblrL9UZcfavaiwv4usvMxz+bK/3E+6C0lftb9kOxQfGdW3v0arf1WMVrq/M4WsjTXgvL/lLsBdhG+/v42g9KFQAcG/xlJ/CiJMwr8TxrLtxpfDv9q+ne/048S/xrEGKHswxr9MQ7PEOX3Hv5Tm1j0cysi/OZY0axUXyr+b/A7qHGTLv6cFgWgtscy/AjcGikP+zb8hr9kwXUvPv5GjgYQ8TNC/DhrqHsvy0L+c2FAlWpnRv+Skcm7pP9K/E0C24Hjm0r+0r0RsCI3Tv/QpVweYM9S/Ubnoqyfa1L/U4EZWt4DVv/qiLQRHJ9a/pWc6tNbN1r/+35RlZnTXv7dhuRf2Gti/s/JXyoXB2L+JFkB9FWjZv5x0VDClDtq/cE6D4zS12r+158GWxFvbvxm6CUpUAty/+L9W/eOo3L8xZ6awc0/dvz/n9mMD9t2/489GF5Oc3r8ItJTKIkPfvyHd3n2y6d+/J3uRGCFI4L9Zzy7yaJvgvzvnxMuw7uC/ZvlPpfhB4b9VTMp+QJXhv1o1K1iI6OG/RZRlMdA74r8+iGUKGI/ivxL4DONf4uK/51Muu6c1479FqISS74jjv6Kjp2g33OO/Pn35PH8v5L98nosOx4Lkv6pZ9dsO1uS/oZQVo1Yp5b+HsrRgnnzlv5qZ9g/mz+W/YoSEqS0j5r/R/0kidXbmv1j4jWm8yea/1/EUZgMd578i4s/xSXDnv2XdXNOPw+e/5+NBtNQW6L8kQUASGGrov/yDUylZvei/J6DF0pYQ6b9NJhRUz2Ppv7nmABYAt+m/MWTdOCUK6r960L72OF3qv8HLyr4ysOq/CuCY7gUD678XVv8IoFXrv1B7a0fmp+u/LceFabL5679JMQW/zkrsv97am5zxmuy/hH4Aybjp7L8Py3PxpTbtvyVy7cEdge2/f3HZjmvI7b997aMsywvuvwFGmUV5Su6/oDMbUciD7r/1Ay4JNrfuv0bs0Rp85O6/xdvguZcL77+JoVmDxizvv5ZfVV16SO+/RiH0Pkhf77+nT2461nHvvwOuHhfMgO+/zJPHIsiM778OQLZrWJbvv1Q38K/3ne+/0ebI9gyk779ERN/S7Kjvv6Pk6n/brO+/n9m7Tg+w77/B/3AIs7Lvv2yhVxrotO+/xUCxdsi277/iabYmaLjvv3qD2ZLWue+/IVk9ih+7778xFnsTTLzvv/z6exBjve+/dmIfvmm+77+6JRsXZL/vv/kMOiBVwO+/EQjwIj/B77/d6znaI8Lvv6D655QEw++/AT/ET+LD779Ab3rJvcTvv/vyuJGXxe+/g2CsFHDG7781n7OjR8fvvyXa9nseyO+/509jy/TI77/+M2+0ysnvv7Eu8VCgyu+/De9EtHXL77/scOjsSszvv+oOswUgze+/kHO/BvXN779vYxv2yc7vv0G5S9iez++/8GmvsHPQ77/+vcmBSNHvv1TqeU0d0u+/Fa0kFfLS778GbdPZxtPvvxd8S5yb1O+/cHYfXXDV7785ObwcRdbvv6SNctsZ1++/gV1+me7X778BEQxXw9jvvxWNPBSY2e+/6iso0Wza778X8uCNQdvvv4AydEoW3O+/8sXrBuvc77968k7Dv93vv7oWo3+U3u+/9yjsO2nf778yFS34PeDvv7sCaLQS4e+/vYeecOfh779Jz9EsvOLvv3i1AumQ4++/ONwxpWXk77+Lul9hOuXvv+2njB0P5u+/oeS42ePm77/dn+SVuOfvvzX8D1KN6O+/DRM7DmLp778L92XKNurvv9K1kIYL6++/X1m7QuDr778G6eX+tOzvvyRqELuJ7e+/oOA6d17u779WT2UzM+/vv2G4j+8H8O+/Th26q9zw7782f+RnsfHvv+zeDiSG8u+/Bj054Frz77/1mWOcL/Tvvwz2jVgE9e+/g1G4FNn177+IrOLQrfbvvzkHDY2C9++/rGE3SVf477/zu2EFLPnvvxkWjMEA+u+/JnC2fdX6778jyuA5qvvvvxEkC/Z+/O+/eMieB1L9779gYTPl9/3vv988FD16/u+/0VbKquD+77+Ym8coMf/vvz0uumlw/++/SFu+HqL/77+9C4guyf/vvzLtu+Dn/++/AAAAAAAA8L8=",
        "dtype": "float64",
        "shape": "211"
       }
      }
     },
     "metadata": {
      "atol": 1000000000000,
      "format": "oedes.testing.nb_store_array",
      "label": null,
      "rtol": 1e-07
     },
     "output_type": "display_data"
    },
    {
     "data": {
      "application/json": {
       "data": {
        "__ndarray__": "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",
        "dtype": "float64",
        "shape": "211"
       }
      }
     },
     "metadata": {
      "atol": 1000000000000,
      "format": "oedes.testing.nb_store_array",
      "label": null,
      "rtol": 1e-07
     },
     "output_type": "display_data"
    },
    {
     "data": {
      "application/json": {
       "data": {
        "__ndarray__": "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",
        "dtype": "float64",
        "shape": "211"
       }
      }
     },
     "metadata": {
      "atol": 1000000000000,
      "format": "oedes.testing.nb_store_array",
      "label": null,
      "rtol": 1e-07
     },
     "output_type": "display_data"
    },
    {
     "data": {
      "application/json": {
       "data": {
        "__ndarray__": "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",
        "dtype": "float64",
        "shape": "211"
       }
      }
     },
     "metadata": {
      "atol": 1000000000000,
      "format": "oedes.testing.nb_store_array",
      "label": null,
      "rtol": 1e-07
     },
     "output_type": "display_data"
    },
    {
     "data": {
      "application/json": {
       "data": {
        "__ndarray__": "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",
        "dtype": "float64",
        "shape": "200"
       }
      }
     },
     "metadata": {
      "atol": 0,
      "format": "oedes.testing.nb_store_array",
      "label": null,
      "rtol": 1e-07
     },
     "output_type": "display_data"
    },
    {
     "data": {
      "application/json": {
       "data": {
        "__ndarray__": "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",
        "dtype": "float64",
        "shape": "200"
       }
      }
     },
     "metadata": {
      "atol": 1000000000000,
      "format": "oedes.testing.nb_store_array",
      "label": null,
      "rtol": 1e-07
     },
     "output_type": "display_data"
    },
    {
     "data": {
      "application/json": {
       "data": {
        "__ndarray__": "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",
        "dtype": "float64",
        "shape": "200"
       }
      }
     },
     "metadata": {
      "atol": 1000000000000,
      "format": "oedes.testing.nb_store_array",
      "label": null,
      "rtol": 1e-07
     },
     "output_type": "display_data"
    },
    {
     "data": {
      "application/json": {
       "data": {
        "__ndarray__": "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",
        "dtype": "float64",
        "shape": "211"
       }
      }
     },
     "metadata": {
      "atol": 1000000000000,
      "format": "oedes.testing.nb_store_array",
      "label": null,
      "rtol": 1e-07
     },
     "output_type": "display_data"
    },
    {
     "data": {
      "application/json": {
       "data": {
        "__ndarray__": "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",
        "dtype": "float64",
        "shape": "211"
       }
      }
     },
     "metadata": {
      "atol": 1000000000000,
      "format": "oedes.testing.nb_store_array",
      "label": null,
      "rtol": 1e-07
     },
     "output_type": "display_data"
    },
    {
     "data": {
      "application/json": {
       "data": {
        "__ndarray__": "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",
        "dtype": "float64",
        "shape": "211"
       }
      }
     },
     "metadata": {
      "atol": 1000000000000,
      "format": "oedes.testing.nb_store_array",
      "label": null,
      "rtol": 1e-07
     },
     "output_type": "display_data"
    },
    {
     "data": {
      "application/json": {
       "data": {
        "__ndarray__": "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",
        "dtype": "float64",
        "shape": "211"
       }
      }
     },
     "metadata": {
      "atol": 1000000000000,
      "format": "oedes.testing.nb_store_array",
      "label": null,
      "rtol": 1e-07
     },
     "output_type": "display_data"
    },
    {
     "data": {
      "application/json": {
       "data": {
        "__ndarray__": "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",
        "dtype": "float64",
        "shape": "200"
       }
      }
     },
     "metadata": {
      "atol": 0,
      "format": "oedes.testing.nb_store_array",
      "label": null,
      "rtol": 1e-07
     },
     "output_type": "display_data"
    },
    {
     "data": {
      "application/json": {
       "data": {
        "__ndarray__": "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",
        "dtype": "float64",
        "shape": "200"
       }
      }
     },
     "metadata": {
      "atol": 1000000000000,
      "format": "oedes.testing.nb_store_array",
      "label": null,
      "rtol": 1e-07
     },
     "output_type": "display_data"
    },
    {
     "data": {
      "application/json": {
       "data": {
        "__ndarray__": "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",
        "dtype": "float64",
        "shape": "200"
       }
      }
     },
     "metadata": {
      "atol": 1000000000000,
      "format": "oedes.testing.nb_store_array",
      "label": null,
      "rtol": 1e-07
     },
     "output_type": "display_data"
    },
    {
     "data": {
      "application/json": {
       "data": {
        "__ndarray__": "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",
        "dtype": "float64",
        "shape": "211"
       }
      }
     },
     "metadata": {
      "atol": 1000000000000,
      "format": "oedes.testing.nb_store_array",
      "label": null,
      "rtol": 1e-07
     },
     "output_type": "display_data"
    },
    {
     "data": {
      "application/json": {
       "data": {
        "__ndarray__": "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",
        "dtype": "float64",
        "shape": "211"
       }
      }
     },
     "metadata": {
      "atol": 1000000000000,
      "format": "oedes.testing.nb_store_array",
      "label": null,
      "rtol": 1e-07
     },
     "output_type": "display_data"
    },
    {
     "data": {
      "application/json": {
       "data": {
        "__ndarray__": "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",
        "dtype": "float64",
        "shape": "211"
       }
      }
     },
     "metadata": {
      "atol": 1000000000000,
      "format": "oedes.testing.nb_store_array",
      "label": null,
      "rtol": 1e-07
     },
     "output_type": "display_data"
    },
    {
     "data": {
      "application/json": {
       "data": {
        "__ndarray__": "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",
        "dtype": "float64",
        "shape": "211"
       }
      }
     },
     "metadata": {
      "atol": 1000000000000,
      "format": "oedes.testing.nb_store_array",
      "label": null,
      "rtol": 1e-07
     },
     "output_type": "display_data"
    },
    {
     "data": {
      "application/json": {
       "data": {
        "__ndarray__": "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",
        "dtype": "float64",
        "shape": "200"
       }
      }
     },
     "metadata": {
      "atol": 0,
      "format": "oedes.testing.nb_store_array",
      "label": null,
      "rtol": 1e-07
     },
     "output_type": "display_data"
    },
    {
     "data": {
      "application/json": {
       "data": {
        "__ndarray__": "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",
        "dtype": "float64",
        "shape": "200"
       }
      }
     },
     "metadata": {
      "atol": 1000000000000,
      "format": "oedes.testing.nb_store_array",
      "label": null,
      "rtol": 1e-07
     },
     "output_type": "display_data"
    },
    {
     "data": {
      "application/json": {
       "data": {
        "__ndarray__": "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",
        "dtype": "float64",
        "shape": "200"
       }
      }
     },
     "metadata": {
      "atol": 1000000000000,
      "format": "oedes.testing.nb_store_array",
      "label": null,
      "rtol": 1e-07
     },
     "output_type": "display_data"
    },
    {
     "data": {
      "application/json": {
       "data": {
        "__ndarray__": "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",
        "dtype": "float64",
        "shape": "211"
       }
      }
     },
     "metadata": {
      "atol": 1000000000000,
      "format": "oedes.testing.nb_store_array",
      "label": null,
      "rtol": 1e-07
     },
     "output_type": "display_data"
    },
    {
     "data": {
      "application/json": {
       "data": {
        "__ndarray__": "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",
        "dtype": "float64",
        "shape": "211"
       }
      }
     },
     "metadata": {
      "atol": 1000000000000,
      "format": "oedes.testing.nb_store_array",
      "label": null,
      "rtol": 1e-07
     },
     "output_type": "display_data"
    },
    {
     "data": {
      "application/json": {
       "data": {
        "__ndarray__": "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",
        "dtype": "float64",
        "shape": "211"
       }
      }
     },
     "metadata": {
      "atol": 1000000000000,
      "format": "oedes.testing.nb_store_array",
      "label": null,
      "rtol": 1e-07
     },
     "output_type": "display_data"
    },
    {
     "data": {
      "application/json": {
       "data": {
        "__ndarray__": "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",
        "dtype": "float64",
        "shape": "211"
       }
      }
     },
     "metadata": {
      "atol": 1000000000000,
      "format": "oedes.testing.nb_store_array",
      "label": null,
      "rtol": 1e-07
     },
     "output_type": "display_data"
    },
    {
     "data": {
      "image/png": "[encoded data removed]",
      "text/plain": [
       "<matplotlib.figure.Figure at 0x7f756f4193d0>"
      ]
     },
     "metadata": {},
     "output_type": "display_data"
    }
   ],
   "source": [
    "fig, (ion_plot, hole_plot, potential_plot) = plt.subplots(\n",
    "    nrows=3, figsize=(6, 8))\n",
    "for time in [2e-6, 4e-6, 6e-6, 8e-6, 10e-6]:\n",
    "    ts = c.attime(time)\n",
    "    store(ts.output())\n",
    "    ts.mpl(fig, ion_plot).species('cation', settings=mpl.Settings.c_x_nm)\n",
    "    ts.mpl(fig, ion_plot).species('anion', settings=mpl.Settings.c_x_nm)\n",
    "    o = ts.output()\n",
    "    ts.mpl(fig, hole_plot).species('hole')\n",
    "    ts.mpl(fig, potential_plot).potential()\n",
    "fig.tight_layout()"
   ]
  },
  {
   "cell_type": "markdown",
   "metadata": {},
   "source": [
    "## Fig. 3"
   ]
  },
  {
   "cell_type": "code",
   "execution_count": 9,
   "metadata": {},
   "outputs": [
    {
     "data": {
      "application/json": {
       "data": {
        "__ndarray__": "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",
        "dtype": "float64",
        "shape": "200"
       }
      }
     },
     "metadata": {
      "atol": 0,
      "format": "oedes.testing.nb_store_array",
      "label": null,
      "rtol": 1e-07
     },
     "output_type": "display_data"
    },
    {
     "data": {
      "application/json": {
       "data": {
        "__ndarray__": "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",
        "dtype": "float64",
        "shape": "200"
       }
      }
     },
     "metadata": {
      "atol": 1000000000000,
      "format": "oedes.testing.nb_store_array",
      "label": null,
      "rtol": 1e-07
     },
     "output_type": "display_data"
    },
    {
     "data": {
      "application/json": {
       "data": {
        "__ndarray__": "kQIoLCqLIEV23bfFt4kgRb+YLlnlhyBFMnnhzxKGIEWHxfQwQIQgRS205oFtgiBFMuTzxpqAIEWf52MDyH4gRYSTwzn1fCBFim0RbCJ7IEXnhd+bT3kgRbRCbcp8dyBFwAe7+Kl1IEU2MZkn13MgRQJ+s1cEciBFI8OZiTFwIEVQjca9Xm4gRfgupPSLbCBFqZqQLrlqIEX4UuBr5mggRc2n4KwTZyBFXWvZ8UBlIEVqPw47bmMgRUmTv4ibYSBFoGUr28hfIEUU2I0y9l0gReqfIY8jXCBF7lsg8VBaIEXr1cJYflggRZk0QcarViBFsyHTOdlUIEX85q+zBlMgRVmEDjQ0USBFucAlu2FPIEXkNixJj00gRURfWN68SyBFY5fgeupJIEWDJ/seGEggRfxG3spFRiBFeR/AfnNEIEVzz9Y6oUIgRRJsWP/OQCBFjgJ7zPw+IEVKmXSiKj0gRZQwe4FYOyBFRMPEaYY5IEUcR4dbtDcgRSat+FbiNSBF4eFOXBA0IEVqzb9rPjIgRZZTgYVsMCBF/VPJqZouIEUBqs3YyCwgRc8sxBL3KiBFWq/iVyUpIEVOAF+oUycgRQzqbgSCJSBFmTJIbLAjIEWQmyDg3iEgRRDiLWANICBFrr6l7DseIEVn5b2FahwgRYQFrCuZGiBFksml3scYIEVK1+Ce9hYgRXzPkmwlFSBFBE7xR1QTIEWt6TExgxEgRSY0iiiyDyBF6bkvLuENIEUsAlhCEAwgRcmOOGU/CiBFLNwGl24IIEVGYfjXnQYgRWyPQijNBCBFUtIaiPwCIEXtj7b3KwEgRdBQlu62/h9FDuwbDhb7H0U3mmhOdfcfRdv35q/U8x9FU5UBMzTwH0WU9iLYk+wfRRaTtZ/z6B9FndUjilPlH0UdHNiXs+EfRZK3PMkT3h9F1+u7HnTaH0WA77+Y1NYfRbnrsjc10x9FGfz++5XPH0V+Lg7m9ssfRfKCSvZXyB9FdesdLbnEH0XpS/KKGsEfReR5MRB8vR9FlDxFvd25H0WbTJeSP7YfRetTkZChsh9Ft+2ctwOvH0VFpiMIZqsfRer6joLIpx9F6FlIJyukH0VvIrn2jaAfRYikSvHwnB9FLiFmF1SZH0VSynRpt5UfRQPD3+cakh9FrB8Qk36OH0Vj5m5r4oofRW4PZXFGhx9F8IVbpaqDH0XUKLsHD4AfRQrM7JhzfB9FRDpZWdh4H0UaN2lJPXUfRRCChWmicR9FY9oWugduH0UtBIY7bWofRQjPO+7SZh9Ftx6h0jhjH0WV9h7pnl8fRVuIHjIFXB9FdkcJrmtYH0U4Akld0lQfRaACSEA5UR9FATlxV6BNH0WTczCjB0ofRbem8iNvRh9F90om2tZCH0U31zvGPj8fRcFfpuimOx9F6mTcQQ84H0XO31jSdzQfRZqfnJrgMB9FrQ8wm0ktH0WuhaXUsikfRZlAnEccJh9FcE3E9IUiH0WHluPc7x4fRWF23ABaGx9FcEK2YcQXH0XqY6gALxQfRXnCKN+ZEB9FiX7+/gQNH0XuRFpicAkfRc/n9QvcBR9FnGg9/0cCH0VqRIRAtP4eRTGrStUg+x5FcWGXxI33HkU/dmwX+/MeRXTNXtlo8B5F3N9aGdfsHkXFKqTqRekeRevKIGa15R5FPvMHrCXiHkUxsBDmlt4eRboqR0oJ2x5Fzvq5Hn3XHkXJ1j++8tMeRQAMqZ5q0B5F+/rIWOXMHkUW/+OyY8keRV3oN67mxR5FmFeLmG/CHkXZk/YiAL8eRSimc3+aux5F7O05h0G4HkWYH4Ps+LQeRc9bH3vFsR5Fi69BbK2uHkX/EUDTuKseRTTQuSryqB5FqenUC2emHkXVITAcKaQeRU14/EJPoh5FYq+4OvegHkVd1qqbR6AeRcX6+oNyoB5FIroCDrmhHkXPqRPVb6QeRSc/L94EqR5FzLkyVwewHkWq6zLHMboeRVvKVYN3yB5FpDxljBbcHkUP+1Zvr/YeRR/ZtXJlGh9FU2FdZgpKH0WX+hoMW4kfRaPfoqpT3R9FUgZPUVQmIEUgPugJO3AgRTYTbxSj0iBF9eILEFJWIUVChlEEzgciRa6jmjFs+SJFN/tW/9lGJEU6opS5ra4lRQ==",
        "dtype": "float64",
        "shape": "200"
       }
      }
     },
     "metadata": {
      "atol": 1000000000000,
      "format": "oedes.testing.nb_store_array",
      "label": null,
      "rtol": 1e-07
     },
     "output_type": "display_data"
    },
    {
     "data": {
      "application/json": {
       "data": {
        "__ndarray__": "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",
        "dtype": "float64",
        "shape": "211"
       }
      }
     },
     "metadata": {
      "atol": 1000000000000,
      "format": "oedes.testing.nb_store_array",
      "label": null,
      "rtol": 1e-07
     },
     "output_type": "display_data"
    },
    {
     "data": {
      "application/json": {
       "data": {
        "__ndarray__": "RiahpAOlxEERM4UtTBbGQQ6MXaad28dBo57ubFgKykHQHBgl9sXMQfv03YjyJ9BB/CihxouT0kF6xocviCTWQSD2Xg6c49tBN4K7avET40Ex7PI/dHPtQQxnPYTqp/dBS4Mpv7uPA0I3HBzk1YQQQo+bpMRISxxCwEjfZ3JyKEIdwuGVVjw1QkRJAbe+gEJCEti1tkcmUEIrIxeMojdcQkZbuZjfqWhCwI6ljRCQdULx9Yr7ndqCQqGKo453fJBCaf/9OenUnEJPRR8a5DWpQkT8R48gC7ZC9D8CdwVGw0IO+fKL09nQQjgEd3nNdt1CDymFWwLC6ULpZbBjO4T2Qpq8Da2QrgND399bGfgzEUOOORbHEhIeQ1zMwYqTRypDhKMoZ/z2NkNUyVqxBhFEQxlusShViFFDP2s3dW2iXkMT/77i4cJqQzSC5S4iYHdDwFhacIZqhEMiPFSDXNSRQ85BXY1SI59Dt01LZeMvq0NQ+hSbFby3QzWyokTft8RDBsLL8DgV0kOAbgWRuo/fQ+mt7nQhiutDEydmXeAG+EPZHvS+i/UERAzsXiDHRxJEyMn/yQXiH0Sf/KR3hMwrRCi88zfQOzhEExECohQfRURfLE5Xk2dSREG3IvBcCGBE48/UhiHsa0T64QjYQ014RJYGCD1AIoVEc25b5AZbkkSSf9qu7tGfRCpJ+8IafatEejpJQF6et0STJU6PgB7ERGt70fdb6dBE0gfT/2jg20TgnjyJ4VnmRCwhsXfuSPFE1L8tolGV+UR/czLJYgQCRbDFq4eNGAhFo93Na0SiDkUy+dl/0JQSRQyp2QU9oBVFNJifPu9LGEXwN9UTXYQaRbRvV0gKSBxFnBdl1u6hHUUihNqnMqMeRQy2MLhJXh9FaGrbAwzkH0U5luNLOyEgRXhZYMk8QiBF4+7K/yVZIEVCbeMm92ggRY9C2sHWcyBFsLuy9El7IEUVXkAfYYAgRdfQOYfZgyBFzDcj/TWGIEXdVjeK0IcgRbgGbfLmiCBFofDDd6OJIEWE5cfyIoogRVuWYQp5iiBFmAT/G7OKIEV2xMI62oogRY+ju430iiBFMWFKPwaLIEW6JXQgEosgRW8YHBgaiyBFuOOibh+LIEUnhj0BI4sgRQv5wmQliyBFAt47/SaLIEVme9ANKIsgRe9QisMoiyBFjCCVPCmLIEVSziGNKYsgRSX6r8IpiyBF05RD5imLIEUHjuD9KYsgRZhpiQ0qiyBF1srpFyqLIEWUkMgeKosgRe8dVCMqiyBFLktVJiqLIEWiYFEoKosgRe2+oCkqiyBFv/J9KiqLIEV8vg8rKosgRdTFbysqiyBFHfquKyqLIEWujNgrKosgRRjg8ysqiyBFK9MFLCqLIEXimxEsKosgRdtWGSwqiyBFR2geLCqLIEVxuiEsKosgRTbnIywqiyBFelMlLCqLIEXUQSYsKosgRb3dJiwqiyBFaEMnLCqLIEUThicsKosgRVmxJywqiyBFrc0nLCqLIEUu4CcsKosgRRDsJywqiyBF//MnLCqLIEUp+ScsKosgRYH8JywqiyBFdv4nLCqLIEXv/ycsKosgResAKCwqiyBFbgEoLCqLIEXbASgsKosgRRMCKCwqiyBFRwIoLCqLIEVfAigsKosgRXgCKCwqiyBFhAIoLCqLIEV/AigsKosgRYECKCwqiyBFiwIoLCqLIEWYAigsKosgRZcCKCwqiyBFqgIoLCqLIEWZAigsKosgRWsCKCwqiyBFigIoLCqLIEWNAigsKosgRZoCKCwqiyBFgwIoLCqLIEWOAigsKosgRY0CKCwqiyBFkAIoLCqLIEWUAigsKosgRZ4CKCwqiyBFnwIoLCqLIEWEAigsKosgRYUCKCwqiyBFjAIoLCqLIEWRAigsKosgRZYCKCwqiyBFlwIoLCqLIEWOAigsKosgRZACKCwqiyBFkQIoLCqLIEWWAigsKosgRZACKCwqiyBFkAIoLCqLIEWNAigsKosgRZUCKCwqiyBFjAIoLCqLIEWRAigsKosgRY8CKCwqiyBFkQIoLCqLIEWUAigsKosgRZACKCwqiyBFkAIoLCqLIEWMAigsKosgRZQCKCwqiyBFjQIoLCqLIEWTAigsKosgRZ8CKCwqiyBFqAIoLCqLIEWwAigsKosgRW4CKCwqiyBFfgIoLCqLIEWGAigsKosgRYoCKCwqiyBFjAIoLCqLIEWNAigsKosgRY8CKCwqiyBFkQIoLCqLIEU=",
        "dtype": "float64",
        "shape": "211"
       }
      }
     },
     "metadata": {
      "atol": 1000000000000,
      "format": "oedes.testing.nb_store_array",
      "label": null,
      "rtol": 1e-07
     },
     "output_type": "display_data"
    },
    {
     "data": {
      "application/json": {
       "data": {
        "__ndarray__": "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",
        "dtype": "float64",
        "shape": "211"
       }
      }
     },
     "metadata": {
      "atol": 1000000000000,
      "format": "oedes.testing.nb_store_array",
      "label": null,
      "rtol": 1e-07
     },
     "output_type": "display_data"
    },
    {
     "data": {
      "application/json": {
       "data": {
        "__ndarray__": "OqKUua2uJUUIdFcRPBcmRVrwvVBeciZFnrJGdqWwJkX2Q5Jq+sAmRYxcuX97lCZFM8nA9hwjJkW4dUbbBm8lRXGFx4BnhSRFZV6/tLd9I0V3VMvLd3kiRWmdHgvIwCFFAktx4zlGIUWAtdgHvfggRe1a/sSxySBFrGku0RSuIEUPjSjsUJ4gRZV12PCDlSBFM73Z7LCQIEUa1KzbFY4gRXj/FeaxjCBFT5n23PWLIEXE4TVik4sgRQgh3jBgiyBFcy5AwUWLIEW6EEcvOIsgRYZgw0ExiyBFTiP2vC2LIEVWSZz1K4sgRQ2ReBAriyBFa3OonSqLIEUa5VxkKosgRR/f4EcqiyBFrCTDOSqLIEWL/sYyKosgRa+eTi8qiyBFaRCLLSqLIEWe5pEsKosgRUsy5isqiyBFvB06KyqLIEXLkUoqKosgRVTBwygqiyBFxO0iJiqLIEWQGoohKosgRfZtdhkqiyBF7KpACyqLIEXumT3yKYsgRdqlNMYpiyBFARKreCmLIEW5rB/wKIsgRaqJpf8niyBFoLIbWCaLIEVYYCluI4sgRSQSf0weiyBF41F9QxWLIEX+aFBcBYsgRVm7dWLpiiBFIlXvNbiKIEW3YCjhYYogRQSwvZHKiSBFOU2Z/sGIIEVRYrDd9IYgRVjGq7bUgyBFhz09nXB+IEWOaLKFN3UgRa2AfjScZSBFZK2hWpZLIEWSGY57CiEgRa4dNdKHuh9F8BhGSs7pHkXR1rQsCbYdRa53Q+3fBxxFlmd4Z3rTGUU0sqidaSEXRZJPgi/9ERRFcDXlpcbXEEVUhqyqHVcLRWTUI7fDfgVFOmFYDP9qAEXeUUFQN3X4RJldkuwP1/FEeOh3zT6X6UQSdcUw+RziRPNvvDJjYdlEmvBk3Zqk0USMg2VquWHIRAbzK93TxMBEPHI1IkH7tkQEA2wxF2evRMomP7kHZ6VE7NjlCu8cnURfQEsIycOTRCqbHHYAy4pEQLtb/BgigkQMElBrwoJ4RIXRjgJLi3BEtG6cI1BOZkS/uAbA2AleRAw5FpbUM1REBu7QaOAkS0RmBlLJLDdCRAgf9+H5azhEHMIW87NaMETAggM5p+ElRGXsklhdPx1EbuBGnxKHE0Rlhq7hFQ0KRE/n7X1YXAFEfzuWMhke90MKvBUlfcHuQ8WjgbXgcORDRnWjX8Il20Mvd7TAEgPSQ7R81XS04cdDprRENmyjv0OH4VxvxvC0Q6zsoeq9sqtDWmnh1uVNokPSKmaRqyyYQ/YzPv9a549DnlcJy3AJhUNJthGoILl7Q7BzKfsqQXJD1t+8KPkFaENyIZ82DJhfQ4oX2EfwwlRDwErDZMBES0N35eoibeVBQxEsX+HIeTdDZElrU6bGLkPamWj3PSkkQyFgLf4yZhpDTof55xRGEUMwY2RltJcGQ3wmj9ZgiP1C3Dk8ZrVK80JvORYM0TDpQhadF3odcOBCtCE80BZx1UIg2CuvW/TLQi+sRrOxNsJCN4oxtO+4t0L20+Mq5uGuQoK4wtucF6RC/AbNo80hmkKf04D2Z/yQQpmCfb1vEoZCM+hPLxirfEIUx+TqJJxyQrSj6KqeJmhCQp2EJBRUX0KczsIyrU9UQn3jIS2EU0pCCYtbfvMNQUKWjnkOcRY2QpjhHc1jmCxCHL8/M82AIkLybpv8z+8XQjkgmels9A5CmSYP7Q8CBEJmdTr7Gtv5QZr5mMZes/BBIhCbFCqR5UHo5mLDltfbQcRg25wy99FBJLFkfoEtx0HtT/T2feS9QTl/rs8zRbNByKI6G3XWqEGY4ymdgQCgQWhtGZzfnJRBYlzxlV6LikGAqleaKRaBQcgEz+Cv/XVBBdal2pNLbEFKhV45yzJiQXSQpkccZ1dBslrehGgWTkHCYGSU+VVDQYbs6lmb2DhBPWirMi/rL0G9TYBpR38kQSOc83+jURpBs353X53kEEHCGZPcR64FQQrrIvSr0ftAts6Lv+/X8UCcdHFbj+LmQJy+lkguWN1AzPggPjvP0kAHbMLBtxvIQGRp10Cy5L5AwMQcr0DKs0DOxNUImFmpQGtQWSm+O6BAkndtgufJlEAGbDW3o5+KQGNhIBAWDoFAdQ+i5/XgdUATq9K7jSlsQGwuMYW3R2JAOI7GBSJKWEADKny8BA9SQJy6Wdu9dk1AMgHVUAbSSUDqoD4DItFHQM5f+Javu0ZA4QgidNArRkAciewEeudFQKpipZwWzUVA0PWfQSfJRUA=",
        "dtype": "float64",
        "shape": "211"
       }
      }
     },
     "metadata": {
      "atol": 1000000000000,
      "format": "oedes.testing.nb_store_array",
      "label": null,
      "rtol": 1e-07
     },
     "output_type": "display_data"
    },
    {
     "data": {
      "application/json": {
       "data": {
        "__ndarray__": "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",
        "dtype": "float64",
        "shape": "200"
       }
      }
     },
     "metadata": {
      "atol": 0,
      "format": "oedes.testing.nb_store_array",
      "label": null,
      "rtol": 1e-07
     },
     "output_type": "display_data"
    },
    {
     "data": {
      "application/json": {
       "data": {
        "__ndarray__": "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",
        "dtype": "float64",
        "shape": "200"
       }
      }
     },
     "metadata": {
      "atol": 1000000000000,
      "format": "oedes.testing.nb_store_array",
      "label": null,
      "rtol": 1e-07
     },
     "output_type": "display_data"
    },
    {
     "data": {
      "application/json": {
       "data": {
        "__ndarray__": "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",
        "dtype": "float64",
        "shape": "200"
       }
      }
     },
     "metadata": {
      "atol": 1000000000000,
      "format": "oedes.testing.nb_store_array",
      "label": null,
      "rtol": 1e-07
     },
     "output_type": "display_data"
    },
    {
     "data": {
      "application/json": {
       "data": {
        "__ndarray__": "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",
        "dtype": "float64",
        "shape": "211"
       }
      }
     },
     "metadata": {
      "atol": 1000000000000,
      "format": "oedes.testing.nb_store_array",
      "label": null,
      "rtol": 1e-07
     },
     "output_type": "display_data"
    },
    {
     "data": {
      "application/json": {
       "data": {
        "__ndarray__": "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",
        "dtype": "float64",
        "shape": "211"
       }
      }
     },
     "metadata": {
      "atol": 1000000000000,
      "format": "oedes.testing.nb_store_array",
      "label": null,
      "rtol": 1e-07
     },
     "output_type": "display_data"
    },
    {
     "data": {
      "application/json": {
       "data": {
        "__ndarray__": "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",
        "dtype": "float64",
        "shape": "211"
       }
      }
     },
     "metadata": {
      "atol": 1000000000000,
      "format": "oedes.testing.nb_store_array",
      "label": null,
      "rtol": 1e-07
     },
     "output_type": "display_data"
    },
    {
     "data": {
      "application/json": {
       "data": {
        "__ndarray__": "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",
        "dtype": "float64",
        "shape": "211"
       }
      }
     },
     "metadata": {
      "atol": 1000000000000,
      "format": "oedes.testing.nb_store_array",
      "label": null,
      "rtol": 1e-07
     },
     "output_type": "display_data"
    },
    {
     "data": {
      "application/json": {
       "data": {
        "__ndarray__": "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",
        "dtype": "float64",
        "shape": "200"
       }
      }
     },
     "metadata": {
      "atol": 0,
      "format": "oedes.testing.nb_store_array",
      "label": null,
      "rtol": 1e-07
     },
     "output_type": "display_data"
    },
    {
     "data": {
      "application/json": {
       "data": {
        "__ndarray__": "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",
        "dtype": "float64",
        "shape": "200"
       }
      }
     },
     "metadata": {
      "atol": 1000000000000,
      "format": "oedes.testing.nb_store_array",
      "label": null,
      "rtol": 1e-07
     },
     "output_type": "display_data"
    },
    {
     "data": {
      "application/json": {
       "data": {
        "__ndarray__": "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",
        "dtype": "float64",
        "shape": "200"
       }
      }
     },
     "metadata": {
      "atol": 1000000000000,
      "format": "oedes.testing.nb_store_array",
      "label": null,
      "rtol": 1e-07
     },
     "output_type": "display_data"
    },
    {
     "data": {
      "application/json": {
       "data": {
        "__ndarray__": "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",
        "dtype": "float64",
        "shape": "211"
       }
      }
     },
     "metadata": {
      "atol": 1000000000000,
      "format": "oedes.testing.nb_store_array",
      "label": null,
      "rtol": 1e-07
     },
     "output_type": "display_data"
    },
    {
     "data": {
      "application/json": {
       "data": {
        "__ndarray__": "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",
        "dtype": "float64",
        "shape": "211"
       }
      }
     },
     "metadata": {
      "atol": 1000000000000,
      "format": "oedes.testing.nb_store_array",
      "label": null,
      "rtol": 1e-07
     },
     "output_type": "display_data"
    },
    {
     "data": {
      "application/json": {
       "data": {
        "__ndarray__": "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",
        "dtype": "float64",
        "shape": "211"
       }
      }
     },
     "metadata": {
      "atol": 1000000000000,
      "format": "oedes.testing.nb_store_array",
      "label": null,
      "rtol": 1e-07
     },
     "output_type": "display_data"
    },
    {
     "data": {
      "application/json": {
       "data": {
        "__ndarray__": "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",
        "dtype": "float64",
        "shape": "211"
       }
      }
     },
     "metadata": {
      "atol": 1000000000000,
      "format": "oedes.testing.nb_store_array",
      "label": null,
      "rtol": 1e-07
     },
     "output_type": "display_data"
    },
    {
     "data": {
      "application/json": {
       "data": {
        "__ndarray__": "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",
        "dtype": "float64",
        "shape": "200"
       }
      }
     },
     "metadata": {
      "atol": 0,
      "format": "oedes.testing.nb_store_array",
      "label": null,
      "rtol": 1e-07
     },
     "output_type": "display_data"
    },
    {
     "data": {
      "application/json": {
       "data": {
        "__ndarray__": "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",
        "dtype": "float64",
        "shape": "200"
       }
      }
     },
     "metadata": {
      "atol": 1000000000000,
      "format": "oedes.testing.nb_store_array",
      "label": null,
      "rtol": 1e-07
     },
     "output_type": "display_data"
    },
    {
     "data": {
      "application/json": {
       "data": {
        "__ndarray__": "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",
        "dtype": "float64",
        "shape": "200"
       }
      }
     },
     "metadata": {
      "atol": 1000000000000,
      "format": "oedes.testing.nb_store_array",
      "label": null,
      "rtol": 1e-07
     },
     "output_type": "display_data"
    },
    {
     "data": {
      "application/json": {
       "data": {
        "__ndarray__": "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",
        "dtype": "float64",
        "shape": "211"
       }
      }
     },
     "metadata": {
      "atol": 1000000000000,
      "format": "oedes.testing.nb_store_array",
      "label": null,
      "rtol": 1e-07
     },
     "output_type": "display_data"
    },
    {
     "data": {
      "application/json": {
       "data": {
        "__ndarray__": "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",
        "dtype": "float64",
        "shape": "211"
       }
      }
     },
     "metadata": {
      "atol": 1000000000000,
      "format": "oedes.testing.nb_store_array",
      "label": null,
      "rtol": 1e-07
     },
     "output_type": "display_data"
    },
    {
     "data": {
      "application/json": {
       "data": {
        "__ndarray__": "0t1NgueQF0XsUPDkhDwWRUA2YBpD4xRFabGcueSOE0UbwDjlbEUSRf/nF/zuBRFFnuhXf2qND0VAt3m6j+wMRWHHFyLs/wlFdvL+VGClBkUbIDq5EdACRaK7ZDBUzv5E36XjHAXi+ESxiV9E4dTzRDoh/rl5Ne9E22zECthD6ES1s8FRianiRCJ8CVowbtxEHUrSxWV51UR0zmwfbxrQRFLaniPrAMhENKAjnSbMwUSlc46ezka6RDQNUlhiU7NEaE7Bfy5WrET7zLXUlLekRMZoUacPOJ5EE6/HU8P9lUQgAm9pkvGPRKHRfDZEKIdEE97ZUDrCgETJ2s96bDd4RELKLh4ZeHFEhzzvg1sqaUSZ0aLnhhliRPoFNFee/1lE9MO3qGmlUkQxTfv9oLVKRD83huGsGkNEv+wIifdKO0SyNYceangzRIXEdF6KvitEmd/HuQC+I0ROp28Irw8cRGK1ikwi6xNEoR1J4DM+DERpGMt41/8DRCVk1sJiSvxDVSbzbH/880OtgT6J/TTsQ3Gu37TL4eNDNr3vGzb/20PcDoptubDTQ1k0NWyjqstDFqjXpYhqw0NgJRBPNDm7QwpP+YmyELNDxJuYASGtqkOggwva3qSiQ973g/3bCJpDAJdTGNkokkPqJgqrAk+JQ+Z+FsuFnoFD27mwZ06CeENWt1cf2AdxQ7T4V0WGpWdDetLTK8hmYENYRm/RcbtWQ/UR9guUek9DgtlaIc3GRUN/mUCbixo+Q+7hE08+yjRD8AR4jyGxLEPU6EKATMgjQ3T1kyrPQRtDFyzegljDEkOQoVcS088JQ0s6/PyWvQFDvI19Lipe+ELzZT4iDLnwQtheLp+K7+ZCZq4YsBFv30LehDOmYIbVQhJvnlVSdc1CWDzWVM0kxEJOpq/ip4e7Qg0loMqmzLJCXQTv8HaoqUJ41PrNeX+hQlobuB6+2ZdCEUiohow+kEJuVHCaGh2GQnYT0kXEFX5C8nLd081zdEJWiQxlfsprQpqAMgvE3mJCiwkSDV2cWUKjij97m15RQgR2u9EMjEdCk9f0xVfnP0KnIG4I3Jk1QhhHK3QcPC1CepP4s8XFI0IM34/ISLsaQiCLiFN8DxJCmFopfkFkCEJWeWxndHYAQsbyfNwaNvZBVgCKFN3z7UGamUKnpi/kQWjwXhMCMttBf2RyUIFP0kEzGILtQaXIQU71EmwelMBB3sVta1VLtkHKJ7X4qPetQXDeskzUIaRBklrUktAJm0FnyEcrRSaSQYCjuTowW4hBqHiojy1WgEHCjvXeTuh1QQJy7EtGXm1B8Iaal9etY0HAVebcvl1aQXOhdS64qFFBDUfagK+mR0HAzmChjqw/QaQmx8y3NTVBYvHxletoLEFLUXpWewgjQa58p20bhBlBVhOAjgUeEUHjBRtMAP4GQQhUdBGA7v5Au9s5oXnZ9EAoMTWl4C7sQMXZKh4SHeNA2mhF0VYJ2kCO00V3k9PRQBBi/vVlkMhAtBk8cIEMwUAosoHSo923QOUXzsS/3LBAcrGb4wgTqECU/aB18V+hQEC0UuS5XZlAZm8dZSq7kkB2U2DG9/qLQEAPFKM7IYVAreUfLaMfgEDEUK5Zd9h4QL2Ga+3GT3NASAljMtZBbkBvXuB3Gd5nQMyQPNjH8GJAsICk60g3XkBEIJYr7jRYQCTcvC+PdlNA+M4SMW1kT0CmmoRV32BJQJbZ6IqajkRA3JtnuW2tQEAycQMPyxc7QMCyP6bGBjZA+Fk3MXTrMUA4mUiYvSstQPhYDkUwwCdANHXBZTtXI0Czq0+BHoAfQAwVFvTSphlAfe04mcfiFEDTDuneggARQBXEzZfOrAtAw4mWCmeEBkCcFST1m1ACQMY+/SWSyP0/XlEzMGE1+D8f5gK3IKvzP/Tin1Gi8u8/XjGzOc3v6T9MxwDPXgzlP51BL6IJE+E/lwie8Mqw2z9mJnsSAHLWPyDD4f3iL9I/EfJ2huR2zT/nsy2BMdzHPwSN2f5AUcM/kKdVBE9Gvz/gsKPE7VC5P5QrWiP+frQ/YJTSA8aZsD+2DCD1y+mqP4tQ7RuK2KU/HGS3ZXfFoT//RSKtCgOdP7AlUzZQzZc//iWojiCtkz/8vxSogHWQP41pwGvO+4s/GBZWK49XiD+gJNwFuD2GP9oQxm6CA4U/OCESU1JOhD/gu9St9+WDP5nvZzLxqoM/Av07l5GKgz9Uexaxt3mDP36bwQXCcYM/CXtAGMJugz8=",
        "dtype": "float64",
        "shape": "211"
       }
      }
     },
     "metadata": {
      "atol": 1000000000000,
      "format": "oedes.testing.nb_store_array",
      "label": null,
      "rtol": 1e-07
     },
     "output_type": "display_data"
    },
    {
     "data": {
      "application/json": {
       "data": {
        "__ndarray__": "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",
        "dtype": "float64",
        "shape": "211"
       }
      }
     },
     "metadata": {
      "atol": 1000000000000,
      "format": "oedes.testing.nb_store_array",
      "label": null,
      "rtol": 1e-07
     },
     "output_type": "display_data"
    },
    {
     "data": {
      "application/json": {
       "data": {
        "__ndarray__": "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",
        "dtype": "float64",
        "shape": "200"
       }
      }
     },
     "metadata": {
      "atol": 0,
      "format": "oedes.testing.nb_store_array",
      "label": null,
      "rtol": 1e-07
     },
     "output_type": "display_data"
    },
    {
     "data": {
      "application/json": {
       "data": {
        "__ndarray__": "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",
        "dtype": "float64",
        "shape": "200"
       }
      }
     },
     "metadata": {
      "atol": 1000000000000,
      "format": "oedes.testing.nb_store_array",
      "label": null,
      "rtol": 1e-07
     },
     "output_type": "display_data"
    },
    {
     "data": {
      "application/json": {
       "data": {
        "__ndarray__": "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",
        "dtype": "float64",
        "shape": "200"
       }
      }
     },
     "metadata": {
      "atol": 1000000000000,
      "format": "oedes.testing.nb_store_array",
      "label": null,
      "rtol": 1e-07
     },
     "output_type": "display_data"
    },
    {
     "data": {
      "application/json": {
       "data": {
        "__ndarray__": "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",
        "dtype": "float64",
        "shape": "211"
       }
      }
     },
     "metadata": {
      "atol": 1000000000000,
      "format": "oedes.testing.nb_store_array",
      "label": null,
      "rtol": 1e-07
     },
     "output_type": "display_data"
    },
    {
     "data": {
      "application/json": {
       "data": {
        "__ndarray__": "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",
        "dtype": "float64",
        "shape": "211"
       }
      }
     },
     "metadata": {
      "atol": 1000000000000,
      "format": "oedes.testing.nb_store_array",
      "label": null,
      "rtol": 1e-07
     },
     "output_type": "display_data"
    },
    {
     "data": {
      "application/json": {
       "data": {
        "__ndarray__": "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",
        "dtype": "float64",
        "shape": "211"
       }
      }
     },
     "metadata": {
      "atol": 1000000000000,
      "format": "oedes.testing.nb_store_array",
      "label": null,
      "rtol": 1e-07
     },
     "output_type": "display_data"
    },
    {
     "data": {
      "application/json": {
       "data": {
        "__ndarray__": "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",
        "dtype": "float64",
        "shape": "211"
       }
      }
     },
     "metadata": {
      "atol": 1000000000000,
      "format": "oedes.testing.nb_store_array",
      "label": null,
      "rtol": 1e-07
     },
     "output_type": "display_data"
    },
    {
     "data": {
      "text/plain": [
       "<matplotlib.text.Text at 0x7f756f079090>"
      ]
     },
     "execution_count": 9,
     "metadata": {},
     "output_type": "execute_result"
    },
    {
     "data": {
      "image/png": "[encoded data removed]",
      "text/plain": [
       "<matplotlib.figure.Figure at 0x7f756f46be10>"
      ]
     },
     "metadata": {},
     "output_type": "display_data"
    }
   ],
   "source": [
    "def length(out):\n",
    "    store(out)\n",
    "    c = out['pedot.hole.c']\n",
    "    i = np.argwhere(c > 0.5e25)[0]\n",
    "    return pedot_mesh.cells['center'][i] - pedot_mesh.cells['center'][0]\n",
    "\n",
    "\n",
    "times = np.asarray([2e-6, 4e-6, 6e-6, 8e-6, 10e-6])\n",
    "plt.plot(times * 1e6, [length(c.attime(t).output())\n",
    "                       ** 2 * 1e18 for t in times], '-o')\n",
    "plt.xlabel('t [$\\mu s$]')\n",
    "plt.ylabel('$\\ell^2$ [$nm%2$]')"
   ]
  },
  {
   "cell_type": "code",
   "execution_count": 10,
   "metadata": {},
   "outputs": [
    {
     "data": {
      "text/plain": [
       "<matplotlib.text.Text at 0x7f756d6e21d0>"
      ]
     },
     "execution_count": 10,
     "metadata": {},
     "output_type": "execute_result"
    },
    {
     "data": {
      "image/png": "[encoded data removed]",
      "text/plain": [
       "<matplotlib.figure.Figure at 0x7f756d7a8090>"
      ]
     },
     "metadata": {},
     "output_type": "display_data"
    }
   ],
   "source": [
    "t, j = c.teval('time', 'pedot.J')\n",
    "t, j = t[t > 0], j[t > 0]\n",
    "plt.plot(1. / np.sqrt(t * 1e6), j * 1e-4, 'o-')\n",
    "plt.xlim([0.25, 1.1])\n",
    "plt.ylim([0.75, 4])\n",
    "plt.xlabel('$t^{-1/2}$ [$\\mu s^{-1/2}$]')\n",
    "plt.ylabel('j [$A/cm^2$]')"
   ]
  },
  {
   "cell_type": "markdown",
   "metadata": {},
   "source": [
    "## Fig. 4"
   ]
  },
  {
   "cell_type": "code",
   "execution_count": 11,
   "metadata": {},
   "outputs": [
    {
     "name": "stdout",
     "output_type": "stream",
     "text": [
      " time=1e-05            "
     ]
    }
   ],
   "source": [
    "x0 = model.X.copy()\n",
    "x0[hole_eqn.idx] = params['pedot.Na']\n",
    "by_v = {}\n",
    "voltages = [0.01, 0.05, 0.1, 0.5, 1]\n",
    "for v in voltages:\n",
    "    params['pedot.electrode.voltage'] = -v\n",
    "    c = context(model, x=x0)\n",
    "    c.transient(params, 1e-5, 1e-9)\n",
    "    by_v[v] = c"
   ]
  },
  {
   "cell_type": "code",
   "execution_count": 12,
   "metadata": {},
   "outputs": [
    {
     "data": {
      "application/json": {
       "data": {
        "__ndarray__": "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",
        "dtype": "float64",
        "shape": "200"
       }
      }
     },
     "metadata": {
      "atol": 0,
      "format": "oedes.testing.nb_store_array",
      "label": null,
      "rtol": 1e-07
     },
     "output_type": "display_data"
    },
    {
     "data": {
      "application/json": {
       "data": {
        "__ndarray__": "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",
        "dtype": "float64",
        "shape": "200"
       }
      }
     },
     "metadata": {
      "atol": 1000000000000,
      "format": "oedes.testing.nb_store_array",
      "label": null,
      "rtol": 1e-07
     },
     "output_type": "display_data"
    },
    {
     "data": {
      "application/json": {
       "data": {
        "__ndarray__": "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",
        "dtype": "float64",
        "shape": "200"
       }
      }
     },
     "metadata": {
      "atol": 1000000000000,
      "format": "oedes.testing.nb_store_array",
      "label": null,
      "rtol": 1e-07
     },
     "output_type": "display_data"
    },
    {
     "data": {
      "application/json": {
       "data": {
        "__ndarray__": "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",
        "dtype": "float64",
        "shape": "211"
       }
      }
     },
     "metadata": {
      "atol": 1000000000000,
      "format": "oedes.testing.nb_store_array",
      "label": null,
      "rtol": 1e-07
     },
     "output_type": "display_data"
    },
    {
     "data": {
      "application/json": {
       "data": {
        "__ndarray__": "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",
        "dtype": "float64",
        "shape": "211"
       }
      }
     },
     "metadata": {
      "atol": 1000000000000,
      "format": "oedes.testing.nb_store_array",
      "label": null,
      "rtol": 1e-07
     },
     "output_type": "display_data"
    },
    {
     "data": {
      "application/json": {
       "data": {
        "__ndarray__": "tRoAAbrNHkVMeDE5M1UeRaSk0rPY2R1Fi1xWICVfHUXUx0QS3OYcRR1g4gxubxxFtSZ8Mf7yG0VrWHf7vWcbRTIbX1iGwRpF59d3U4XzGUWnGYCmzPAYRVvXJ60I7xdFgizkF5DwFkUwlE7u0/UVRS8hzOVF/xRFCrSt3FENFEXPgI9YXCATRciFFtvBOBJFSPoFbNZWEUVkbXNA5XoQRdnvGPdgSg9F/BKSEOKrDUU6+xsXrRoMRZf2A9wOlwpFSPgS+UEhCUUJtCs8b7kHRc2lYjquXwZFOALwBgYUBUWVrPgJbtYDRZLJ2vLOpgJFqKxtwQOFAUXOAn3h2nAARSMxa6cu1P5Ew6B/vuPg/EQ1RMKONAf7REkIZQFxRvlEOz2Iw9ud90SR4cmWrAz2RC9NaIoSkvRECK07FzYt80Rw6tIZO93xRI+2EadCofBETWR6cdnw7kQQ7dRgs8PsRLi8bGBXuepE56QUkw/Q6EQbguMFLgbnRGFWSW0OWuVEICzYlxfK40RhK8ubvFTiREyH2sR9+OBEE4hvkNJn30TJU1SJNwvdRGqlbCmB2NpENCYb8SPN2ER/E3Q6subWRAcPQwzcItVEvlIlu25/00QSwUNhVPrRRP60WDSTkdBEXpOhgZmGzkS+OAMgehvMRN6GU31z3slEfupoEGLMx0T6MiaVUeLFRPaZzwt7HcRE0C1rtUJ7wkS9B6oRNvnARJg1FMQTKr9EVJldajCZvERfeaz5vDu6RES6nmD3DbhEJTzO+VwMtkTvnswKpzO0RNpt2GLHgLJEKu9hGuXwsETozBPosgKvRJc61r5ZX6xE7T1rOyjzqUR2jMsP27mnRKrbXux8r6VEXQAakGHQo0QOnYIYIRmiRLeJAZCThqBEleeGcZkrnkQelo0kMIibROABOy/qHZlEvnmuaCfolkQQ8/jboeKURHpd939nCZNE5xjNT9RYkUQoCnd/GZuPRKiANRTxyIxEeiiIoHs1ikTc/54WeduHRFw4NZEUtoVEcENOXNzAg0SyO/SFuveBRMC+g+/tVoBEHcOdsAe2fUSFlUK1owF7RIz246jginhE+numampMdkR5GuxWXkF0RLjhtlNCZXJE9PEmhPyzcEQEebgwl1NuRH2DGF9/hmtE265ChWf6aERHGXccj6lmRKQa1eazjmRE3ynnjQelYkQjiNwOJuhgRN4g28sZqF5EaDGM1iXKW0Q24E2pwS9ZRCUdeJ/U0lZEhsbQU8+tVETytAT2n7tSRD51WpKn91BE9+GNcmC7TkSEDJXrx9NLRDjsUwWJMUlEOxxlX0fORkRFFonSOKRERDbmtKoYrkJE/0Rh9BvnQEQ+hDiOzZU+RGmE/vEEqztEDuFfUKkGOUTGJfwRLqI2RPqFBtGfdzREd0vLqZaBMkSBHAq7KbswRLcMr3nHPy5EAB9qLXFXK0Qd6s6+97UoRBCwkWWwVCZE+DjVlo4tJEQfQ6WeFTsiRO5n9oBLeCBEHij6C1rBHURy5f2vReAaRHhbzDXvRRhEeJ6uz53rFUTTxrgxOssTRFwAyqQ/3xFEfnzLc64iEETbujMp/yENRCohQeEyTApEk1woZ4u8B0SJ1dgRUGwFRGaHhmVrVQNE6dQyzVtyAUQVL8t4S3z/Q8JLMjGOaPxDmgpsmVeh+UOzgC7XRh/3Qz++55Gv2/RDsKty5IjQ8kO2QsTlXfjwQ2WknEZ/nO5DotJV1nCb60PVql6OgOXoQyH0mhllc+ZDK8Rn0Ig+5EP98tqW+EDiQyB9vFhUdeBDmEWb+YGt3UOZ2eZYt8HaQ21xGKBcH9hDB95BRkq/1UNbvZGMCpvTQ/RwAW7IrNFDxGmcX4Dez0NNnUHXYrvMQ20G09+k58lDy/+HrIlbx0MKTXBlFhDFQ6Ef0IL//sJDtLlu9ZciwUMFTOfgg+u+Q2XtEVvC57tD1XZnD50xuUMMT2+ZmcG2Q/BW30/9kLRDaMSkGLuZskNKoMoLY9awQ4mWzHQnhK5D1V/U5dmwq0PRHyzAByupQ0wIecaw66ZD9KyNG5fspEPTT5ZBLiijQ9gaaPiLmaFDDhDW0lo8oEMnPdq+nBmeQ0alOYoxD5xDL7VLcMNTmkORY2lefeKYQ3Ddu4dYt5dD9JRYnqDQlkPXL5Z+xEeWQ5IiiRwH95VD3vLWHefHlUNfJ57T3ayVQ44/9X3DnZVDbFKlua2VlUM2v6B1qJGVQ+TIwCrwj5VDTflKr3mPlUM=",
        "dtype": "float64",
        "shape": "211"
       }
      }
     },
     "metadata": {
      "atol": 1000000000000,
      "format": "oedes.testing.nb_store_array",
      "label": null,
      "rtol": 1e-07
     },
     "output_type": "display_data"
    },
    {
     "data": {
      "application/json": {
       "data": {
        "__ndarray__": "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",
        "dtype": "float64",
        "shape": "211"
       }
      }
     },
     "metadata": {
      "atol": 1000000000000,
      "format": "oedes.testing.nb_store_array",
      "label": null,
      "rtol": 1e-07
     },
     "output_type": "display_data"
    },
    {
     "data": {
      "application/json": {
       "data": {
        "__ndarray__": "AAAAAAAAAACv6Wghb5OnvuM4OaC1oLq+yPFu4OS7xL5dvL8lfifMvoR6eueUydG+9GrRJHV/1b6+oPq3YDXZvifO2FVY69y+JwY6RK5Q4L5dhZPctivivhTEMBzGBuS+WYHJIdzh5b4u2dYE+bznvs2eS9ccmOm+HCPkpkdz674OQCZ+eU7tvuWVJGWyKe++s7UJMXmC8L6UG928HHDxvokY5dfDXfK+eyuQg25L876X4fvAHDn0vk4JCJHOJvW+G1Vl9IMU9r6bhKDrPAL3voPoKnf57/e+0d9gl7nd+L7Dy45Mfcv5vuXV9JZEufq+Y9HJdg+n+74DbT3s3ZT8vorfefevgv2+1y6lmIVw/r48KeLPXl7/vgiSqM4dJgC/80WIAA6dAL/mqZ79/xMBv3Gk+cXzigG/oammWekBAr9u07K44HgCv5L0KuPZ7wK/xaYb2dRmA7+aVZGa0d0Dv4NGmCfQVAS/l588gNDLBL/ua4qk0kIFv62fjZTWuQW/7xpSUNwwBr9oq+PX46cGv10OTivtHge/5/GcSviVB7+79ds1BQ0Iv9+rFu0ThAi/XJlYcCT7CL/vNq2/NnIJv+XwH9tK6Qm/Zye8wmBgCr+QLo12eNcKv95OnvaRTgu/N8X6Qq3FC7/Twq1byjwMv6FtwkDpswy/GuBD8gkrDb8aKT1wLKINv0BMubpQGQ6/lkHD0XaQDr+o9WW1ngcPvxtKrGXIfg+/9RSh4vP1D7+JkCeWkDYQv9WWYCEochC/e/cAk8CtEL/kBg7rWekQv7YTjSn0JBG/5GaDTo9gEb/oQ/ZZK5wRv3Po6kvI1xG/eoxmJGYTEr9UYm7jBE8Sv+qWB4mkihK/YFE3FUXGEr8+swKI5gETv5rYbuGIPRO/8teAISx5E78rwj1I0LQTv9eiqlV18BO/NYDMSRssFL83W6gkwmcUv8wvQ+ZpoxS/AvWhjhLfFL9QnckdvBoVv9oWv5NmVhW/7UuH8BGSFb+oIyc0vs0Vv4+Co15rCRa/uksBcBlFFr8GYkVoyIAWv+GpdEd4vBa/dQuUDSn4Fr+Bdai62jMXv3zhtk6Nbxe/WljEyUCrF79u+dUr9eYXv9wC8XSqIhi/Bt0apWBeGL9nKVm8F5oYv0jWsbrP1Ri/EjgroIgRGb/9KsxsQk0Zv9U+nCD9iBm/lvCju7jEGb+I9ew9dQAavyyegqcyPBq/h1dy+PB3Gr9UVMwwsLMav0BrpFBw7xq/WTkTWDErG78tnzdH82Ybv7SzOB62ohu/VlJI3XneG78sc6aEPhocvyCNpRQEVhy/w1OwjcqRHL8HPVHwkc0cv9hbPD1aCR2/mUhcdSNFHb9RCuOZ7YAdv7E9YKy4vB2/GBreroT4Hb8EdQekUTQevwSOWY8fcB6/zEllde6rHr/CpCRcvucev2ehakuPIx+/weZ1TWFfH7/6zrBvNJsfv2z6rMMI1x+/0ms2MG8JIL9upAmyWicgv3+EDPtGRSC/maAYJTRjIL92yglSIoEgv1VdOa4RnyC/UF6+cwK9IL/kaa/u9Nogv/JJtoLp+CC/1ctdsuAWIb+v0qIo2zQhv6YOfMXZUiG/cFFDrt1wIb/XPDRj6I4hv1RTk9v7rCG/1kCNqhrLIb+fo4EvSOkhv6moQtWIByK/5B/rZOIlIr9FxVtyXEQiv/M4UeoAYyK/C7B5zNyBIr+V2CkfAaEivy4PiC6EwCK/3NiKLoPgIr8nA2NeJAEjv9tGYtWZIiO/YybWLSVFI78SM4xSHGkjvxT/+MjvjiO/x+XT7TK3I79c03C+puIjv0rr4PhHEiS/vCNpm2FHJL9W7bwdpYMkvxwfnylKySS/1fPqJDgbJb8y79SWPH0lv++T32JS9CW/Mn8hD/+GJr9PbBrozD0nv/KTm/DqIyi//iWzT/5HKb/xtM+MNL0qvz8XJqeqnCy/Owx6SUMHL7/U73Y9BxQxv2ApWei3GzO/WqKDCZ+/Nb9paRfEFDA5v9bLZQFnrD2/CrGRS73DQb9TtCiw7ZZFvxL9cpjWlkq/SZsY0kSQUL8OvJnU9NZUv83rFCFOb1q/qi5RN/LgYL/JNz+146tlv2EzIbhc8mu/CRjy/zAVcr9pkfoyfUF2vw==",
        "dtype": "float64",
        "shape": "200"
       }
      }
     },
     "metadata": {
      "atol": 0,
      "format": "oedes.testing.nb_store_array",
      "label": null,
      "rtol": 1e-07
     },
     "output_type": "display_data"
    },
    {
     "data": {
      "application/json": {
       "data": {
        "__ndarray__": "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",
        "dtype": "float64",
        "shape": "200"
       }
      }
     },
     "metadata": {
      "atol": 1000000000000,
      "format": "oedes.testing.nb_store_array",
      "label": null,
      "rtol": 1e-07
     },
     "output_type": "display_data"
    },
    {
     "data": {
      "application/json": {
       "data": {
        "__ndarray__": "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",
        "dtype": "float64",
        "shape": "200"
       }
      }
     },
     "metadata": {
      "atol": 1000000000000,
      "format": "oedes.testing.nb_store_array",
      "label": null,
      "rtol": 1e-07
     },
     "output_type": "display_data"
    },
    {
     "data": {
      "application/json": {
       "data": {
        "__ndarray__": "aZH6Mn1Bdr/ACgNmyW16vwZv7tiKmH6/jr32MAhCgb+ZXmolSvuCv8y3xYenZoS/l6Lx5nuGhb9TYhJFZHKGv1Qbn7q3T4e/anYB3dRFiL+j8BVLHneJv36zqIiyr4q/JmDUccTvi79CbUf24zeNv94cksE8iI6/gGujR9/gj79GfM1c5qCQvzVu2/x7VZG/AMevSCIOkr8eDEiswsqSvz9Z5JQ9i5O/CzjA32lPlL9NmVFmFBeVvxXDnq//4ZW/+r2OzeOvlr8lIixsboCXv1e3ghdDU5i/f5wOu/snmb/OPrBbKf6Zv3qh3QpV1Zq/LHF4DwGtm7834W0+qoScv2l1NnvJW52/hnySVtUxnr82qJfAQwafv63LX8KL2J+/Pq24mRNUoL8bS6cvSrqgvzf6NsirHqG/XWyRO/6Aob+3pkyyC+Ghv7ZQ7ymjPqK/76hz3piZor+2hr6XxvGiv5ab8toLR6O/8y5mAE6Zo7/aycIveOijv9BAdUR7NKS/AEEOnU19pL8qWIfY6sKkv5u2j4RTBaW/gaERwIxEpb/35BHVn4Clv+t74syZuaW/9mxmAYvvpb+Q0duthiKmv0svT4GiUqa/sz2FNPZ/pr+k0tEkm6qmv/0m//Sr0qa/tG4aNUT4pr/5lrMRgBunv4MG3wp8PKe/T/4Rs1Rbp78L1sR1Jninv9t7oWUNk6e/5dfnESWsp7/4QJxiiMOnv185BXtR2ae/yVX0oZntp79unFEveQCov3j5X34HEqi/UtUz5FoiqL8rtdmpiDGov8JssQmlP6i/S02KL8NMqL+7ahU79ViovxkqTERMZKi/LoFyYdhuqL9BbmWuqHiov/f87lTLgai/rY3hlU2KqL9c9cPSO5Kov/hX35ehmai/tVGGpomgqL+IGnP//aaov8rLH+0Hrai/E9gADrCyqL+RH45e/reovw7hCkP6vKi/ICIAkarBqL+wEmCYFcaov9NySyxByqi/kCd0qzLOqL9L/hkI79Gov9MmoM961ai/lDO7MdrYqL+rfDgHEdyovwKeYNgi36i/2nf34hLiqL/Jotwf5OSovzyxT0iZ56i/0uXb2jTqqL+/O+8fueyovzjAIC4o76i/aE0q7oPxqL8gu5kezvOov8yRPVcI9qi/vTtRDDT4qL/mmGyRUvqov7u7Ohxl/Ki/BXT7xmz+qL+ZJ9OSagCpv7lR7GlfAqm/XtltIUwEqb+CRUl7MQapvwit4ycQCKm/8Bacx+gJqb/91jHsuwupv59LDRqKDam/jzttyVMPqb+/7HpnGRGpv53qRlfbEqm/A1Cw8pkUqb+rSDiLVRapv3Nfw2oOGKm/xxFK1MQZqb8EBXoEeRupvwshSTIrHam/67p7j9seqb/j4x5JiiCpv7Hb94c3Iqm/f5HpcOMjqb/+C1EljiWpv0qAWcM3J6m/GM9IZuAoqb/DEMUmiCqpvzzLExsvLKm/819TV9Utqb8WNK/tei+pv6wKj+4fMam/8P3BaMQyqb8RfKVpaDSpv/qiSP0LNqm/4k6MLq83qb8aKEAHUjmpvxP2PJD0Oqm/TXd80ZY8qb9g+C7SOD6pvzjfzpjaP6m/w1oyK3xBqb8tY5uOHUOpv8Ayxse+RKm/01v22l9Gqb8NnQLMAEipvySSX56hSam/flwpVUJLqb+qXCzz4kypv1sT7XqDTqm/WD6v7iNQqb8yRHxQxFGpv3v/KKJkU6m/Avla5QRVqb/lHo0bpVapvxsFFEZFWKm/5rohZuVZqb+IP8l8hVupv42fAYslXam/NcOokcVeqb+f9YWRZWCpv6srTIsFYqm/3xCcf6Vjqb/s3wVvRWWpvwcMC1rlZqm/rb8fQYVoqb8GNawkJWqpv6rrDQXFa6m/PL+Y4mRtqb/i4Ze9BG+pv2+9TpakcKm/s735bERyqb9ABs9B5HOpv6UV/xSEdam/9le15iN3qb9Kqhi3w3ipv67QS4Zjeqm/3d9tVAN8qb/tm5oho32pvxvN6u1Cf6m/lIt0ueKAqb8lg0uEgoKpv6IvgU4ihKm/rRIlGMKFqb+U40ThYYepvxS67KkBiam/RTUncqGKqb8wov05QYypv8EseAHhjam/bUCeyICPqb8+m3ePIJGpvxfgD1bAkqm/4o3G2lyUqb/iv/4GoZWpv3dCpcaflqm/njE5+GeXqb/IaupKBZipv9HfLu2AmKm/3E//FeKYqb+FALZwLpmpv6Si03Fqmam/mpmZmZmZqb8=",
        "dtype": "float64",
        "shape": "211"
       }
      }
     },
     "metadata": {
      "atol": 1000000000000,
      "format": "oedes.testing.nb_store_array",
      "label": null,
      "rtol": 1e-07
     },
     "output_type": "display_data"
    },
    {
     "data": {
      "application/json": {
       "data": {
        "__ndarray__": "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",
        "dtype": "float64",
        "shape": "211"
       }
      }
     },
     "metadata": {
      "atol": 1000000000000,
      "format": "oedes.testing.nb_store_array",
      "label": null,
      "rtol": 1e-07
     },
     "output_type": "display_data"
    },
    {
     "data": {
      "application/json": {
       "data": {
        "__ndarray__": "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",
        "dtype": "float64",
        "shape": "211"
       }
      }
     },
     "metadata": {
      "atol": 1000000000000,
      "format": "oedes.testing.nb_store_array",
      "label": null,
      "rtol": 1e-07
     },
     "output_type": "display_data"
    },
    {
     "data": {
      "application/json": {
       "data": {
        "__ndarray__": "wrKZhhEKJEWO9a2Og7gkRSK1szwBZSVFIJGImjIAJkWh/6jQX3kmRYIUIRsAwyZFfTR9QS7XJkW46arqwLgmRXtjdfh+byZFpLUNCfQBJkW3rxQRXXElRUBrP8yq3yRFSBdrOC9PJEUO8zNcQcAjRX9H2dcOMyNFR3xSm7mnIkWw5lj3XB4iRaP/sW8OlyFFrNZP4N0RIUVMziKZ1Y4gRf7xO4/6DSBF+3qcUpkeH0Whfe5QjiUeRZkEC1nCMB1FqomioxxAHEWgYFHLflMbRbfhfVrGahpFfvgOdM6FGUUw1PuKcaQYRTZ7QhuLxhdFZn/iVfnrFkXVEimxnhQWRYpKAU9jQBVFx58fLDZvFEUFJb4MDqETRTl+JB7q1RJF9g5DR9INEkUfThAm10gRRcAe5roRhxBFvjI4jUWRD0WEv6jGYxsORVWUY8XYrAxFgX+g/AdGC0XY6X7RWucJRdS9v5s9kQhF9nG1ohxEB0U0zB4yYQAGRdpdqd9uxgRFuGvsFaGWA0UEtBv1SHECRXzEzZSrVgFF7xFKrQBHAEVSDVpU44T+RBTjB0gykvxEt1bxdQW2+kT9AquTVvD4RJZ1Pc0CQfdEettnScyn9USca6MXXCT0RA3Dm25EtvJEZOnTIgNd8URGyPk+BBjwRN4kglNJze1EpEqbj2mQ60R9rRoW9nfpRASfdcdsgudEQV7/E0Gu5UTNIWoz4PnjRED8Dvi0Y+JEtWV7OSvq4ER2WTSqZRffRLKbEY2EjdxEmbKjtrEz2kQYRssOAQfYRGhGpsGeBNZEMccHlNEp1ESNSU+k/HPSRJGuPaeg4NBE2D5zYLnazkR+jeMn3S/MRBXZD+dlvMlEzw0B+0l8x0RMAE7hu2vFRPBn+tcoh8NEJw5eKzfLwUQZSdNDxDTARO6qmwXFgb1E+b30+a3ZukR5b1I6Lmy4RGRzHnSMNLZEjzOwTmYutEQLTDuSq1WyRGscLV+ZprBE4tbO/mo7rkSZs6mxk2+rRLUPRw7A46hE4eL6QXqSpkQGKK5Xu3akRGP7vIDji6JE+UxjwbLNoETewxcDhHCeRKgEPQP5j5tElNPbYzPzmETtKjnVLpSWRC6MYwJpbZREHmU/cdd5kkQ9pUYQ3rSQRK2NodSMNI5EZb/T8G5Mi0S8rSsTXKqIRKL/o3DrR4ZErq5qy0QfhEQSEGNkFCuCRKTzUNh/ZoBEM7UfszeafUTS2o1vxbV6RGIlSk9XGHhEciioekW7dUSbLfUZg5hzRMbJn8qQqnFEh0a/Y+DYb0TOiBkvMbNsRKPeQ+rY22lEw9lQzF9LZ0Qe/wfR//pkRLxRg7iU5GJE08xVZ40CYURxZ8EVvZ9eRPuMCM/sj1tEuduFcGPNWERw43gSo1BWRL95M/DjElREZ2UzjgMOUkTfCNthdTxQRDrO3rNpMk1EhkU2U3E/SkRUoEJ0zpdHRP3RVFMYNEVEwlpXf50NQ0S8KrCCUh5BRPerT0mEwT5EIuUtPv6fO0SIaFBOLs84RMW/nVUORzZE1xhTTmEANETzdNn8n/QxRE6BRmznHTBERJ9dItLtLETciUjYuPUpRCC8RBHkSidE1HOQcI/lJERaZzfau74iRJvOXDAc0CBEaDeI0QcoHkQV7eacrgobRM1alY76PhhEsEMg8qS8FUT295RZO3wTRO+jkKQKdxFEEqvyIRhOD0ToKXhHqA0MRKdxC3kGIwlEj8U5V2+FBkTDq6dJAi0ERJPLAdyqEgJEI2gnVQwwAESeT+2i3v78Q2CysFxi9/lDtNnHM2pA90MYjH87rdH0Q7RxjwC7o/JDwk8ZteWv8EMLE9QTXeDtQwxquPxnvupDTdAB60Pw50Pv7/LHRm3lQ1Wyf9yqLeNDAWcLpncq4UNt4HYD2rreQ5+5YObggdtD2+6Lovif2EMo03dRIQzWQ+bc0lJLvtNDLKDW7T6v0UMNXXzmDLHPQyHcC0G1aMxDhdkCFyJ7yUN06yvGGN/GQzO6Pa5cjMRDF7Nw/JV7wkP/uOcoO6bAQ+BsYsf5DL5DEhBbbGguu0NIsxRIpae4Q6QsozmocLZDOJmrKGWCtENk0zc6ttayQ1mOoMhIaLFDxwLP5YwysEPGajdtTmOuQ12OE/rJxKxD5cdsKYmGq0Nd3EBMuMqqQ/xSj3KYXKpDvJiwGNYcqkOx90VIrPipQ2Rul8/R5KlDgoJ+HH7aqUPhlqVHodWpQ+vjbvDQ06lDIZO6VKHTqUM=",
        "dtype": "float64",
        "shape": "211"
       }
      }
     },
     "metadata": {
      "atol": 1000000000000,
      "format": "oedes.testing.nb_store_array",
      "label": null,
      "rtol": 1e-07
     },
     "output_type": "display_data"
    },
    {
     "data": {
      "application/json": {
       "data": {
        "__ndarray__": "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",
        "dtype": "float64",
        "shape": "200"
       }
      }
     },
     "metadata": {
      "atol": 0,
      "format": "oedes.testing.nb_store_array",
      "label": null,
      "rtol": 1e-07
     },
     "output_type": "display_data"
    },
    {
     "data": {
      "application/json": {
       "data": {
        "__ndarray__": "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",
        "dtype": "float64",
        "shape": "200"
       }
      }
     },
     "metadata": {
      "atol": 1000000000000,
      "format": "oedes.testing.nb_store_array",
      "label": null,
      "rtol": 1e-07
     },
     "output_type": "display_data"
    },
    {
     "data": {
      "application/json": {
       "data": {
        "__ndarray__": "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",
        "dtype": "float64",
        "shape": "200"
       }
      }
     },
     "metadata": {
      "atol": 1000000000000,
      "format": "oedes.testing.nb_store_array",
      "label": null,
      "rtol": 1e-07
     },
     "output_type": "display_data"
    },
    {
     "data": {
      "application/json": {
       "data": {
        "__ndarray__": "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",
        "dtype": "float64",
        "shape": "211"
       }
      }
     },
     "metadata": {
      "atol": 1000000000000,
      "format": "oedes.testing.nb_store_array",
      "label": null,
      "rtol": 1e-07
     },
     "output_type": "display_data"
    },
    {
     "data": {
      "application/json": {
       "data": {
        "__ndarray__": "pnMydB9d0ETZVyulkC7RRF40sCJzDdJEAISfA//t0kRWsuHHkcLTRL5wbnNngNRE/+X6Mz0l1UQgdHVJdLrVRF5RT29RU9ZEkpK2pi4I10RSsr98q/PXRJgm2exW8NhE4aqHNoT/2URyRfK7PyPbRN4D/ayAXdxEi77DU1yw3USpkOr4ER7fRFHxWWeHVOBE1Q9K/vcp4UQUspb5wRDiRHDEp5llCuNEkcobP3wY5ES7ZNUsuDzlRN/lnefjeOZE+FMaJuHO50TYSttCp0DpRKG/HyFB0OpEMpN1c8p/7EQ/G9ZRbFHuRKDntIWsI/BEDXCNj+Mx8URX8PyidVTyROUn2r14jPNEWZlDevra9EQz/Nx6+0D2RCEUIEdqv/dEQlt8nB1X+UT/KqBAzgj7RECKg2oQ1fxE/WBl4ky8/kTmOjMCXV8ARfWpi24qbgFFZxkeUW2KAkUgupFp4bMDRVig/igd6gRF0pG+5I8sBkV95FTXgHoHRcXzshIP0whFoJ1afzI1CkUgCTT5vZ8LRb9V241iEQ1Fq/SJ0bOIDkX8jlGYFgIQRYyLxgocwRBFmeoOV5mAEUXKT0iJuz8SRQFQRkWx/RJFhgDVVa65E0XJ/A8I73IURQi9uTW7KBVFn0Su5mjaFUUJINV3XocWRSYTzDwULxdFZFxamBXRF0U0zBiOAW0YRS4tPNWKAhlFK43UeHeRGUWfrvwUoBkaRYAWX8LumhpFXis4wl0VG0Uvrb789YgbRaryz2LN9RtFp0oaQgVcHEU+sPqYyLscRbenC3VKFR1F3s4hZcRoHUXU+0YFdbYdRU6JRame/h1F4TqRKIZBHkUzxtnMcX8eRUWJVmOouB5FJ1Phb3DtHkViFzqADx4fRdRkSJ3JSh9F/W3Z1+BzH0VjkyrulJkfRSzxgAcjvB9FpVEXg8XbH0XP6MbXs/gfRYB6+0CRCSBFwKPHfqEVIEUTP+/koSAgRTqDzTqoKiBFxCKu2MgzIEUSxo6zFjwgRd7fxmqjQyBF3jcOV39KIEVBVm+auVAgReO9xTBgViBFhY94AIBbIEVp2zDrJGAgRXquV95ZZCBFPO8y4yhoIEXajYEum2sgRcOJfy+5biBF5AZBnopxIEXJQ1mJFnQgRdfcxmJjdiBFG4kiDHd4IEWPgRDiVnogRaIn98YHfCBFrFv/LI59IEVBXWQf7n4gRV0ZGksrgCBF0oTRBkmBIEX5GmNaSoIgRSndpwUygyBFYEnJhgKEIEVvthAgvoQgRV1hPt1mhSBFl0BwmP6FIEVKa6D+hoYgRY2RwpMBhyBFVamHtm+HIEX/lc6j0ocgRSUwyHkriCBFc7LUOnuIIEW/LyDQwoggRZtYAwwDiSBFjHotrDyJIEUeS5xbcIkgRRu8ZbSeiSBFC8ZXQciJIEWUyXF/7YkgRaXgOt8OiiBFkDT4xSyKIEUgL8aOR4ogRWohl4tfiiBFLMQZBnWKIEViwolAiIogRStPbHaZiiBFYZw63aiKIEWS3vuktoogRb1l0PjCiiBFri9v/82KIEVKOZfb14ogRdu2dazgiiBF50ACjuiKIEWG6lGZ74ogRf8f4uT1iiBFsRfchPuKIEX3jFGLAIsgRVJrcwgFiyBF2QDDCgmLIEWeQD6fDIsgRc+Qh9EPiyBFrJQJrBKLIEW2Vxc4FYsgRbY1CX4XiyBFldJWhRmLIEXEbK5UG4sgRe/NCfIciyBF8BbBYh6LIEUinpurH4sgRbgR39AgiyBFBAtd1iGLIEXSOn+/IosgRYRTUo8jiyBFftGPSCSLIEV9v6btJIsgRV2Rw4AliyBFQC3XAyaLIEWUOJ14JosgRT68oeAmiyBFXzFGPSeLIEVNBsaPJ4sgRbepOtkniyBFrCifGiiLIEW2atNUKIsgRUsWn4goiyBFoCa0tiiLIEULO7HfKIsgRVanIwQpiyBFgEuJJCmLIEXgOFJBKYsgRdkp4lopiyBF9dCRcSmLIEV6A7CFKYsgRVrDgpcpiyBFyytIpymLIEWSQze1KYsgRam3gMEpiyBFsYBPzCmLIEVvdcnVKYsgRbrMD94piyBFWZI/5SmLIEW7FnLrKYsgRddxvfApiyBFNGs19SmLIEVv5u34KYsgRWjIAvwpiyBFUEqu/imLIEXzHAcBKosgRces0AMqiyBFnrmMByqLIEVVp2gMKosgRfV7QRIqiyBFiRK/GCqLIEWB1nYfKosgRaJ9ByYqiyBFkQIoLCqLIEU=",
        "dtype": "float64",
        "shape": "211"
       }
      }
     },
     "metadata": {
      "atol": 1000000000000,
      "format": "oedes.testing.nb_store_array",
      "label": null,
      "rtol": 1e-07
     },
     "output_type": "display_data"
    },
    {
     "data": {
      "application/json": {
       "data": {
        "__ndarray__": "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",
        "dtype": "float64",
        "shape": "211"
       }
      }
     },
     "metadata": {
      "atol": 1000000000000,
      "format": "oedes.testing.nb_store_array",
      "label": null,
      "rtol": 1e-07
     },
     "output_type": "display_data"
    },
    {
     "data": {
      "application/json": {
       "data": {
        "__ndarray__": "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",
        "dtype": "float64",
        "shape": "211"
       }
      }
     },
     "metadata": {
      "atol": 1000000000000,
      "format": "oedes.testing.nb_store_array",
      "label": null,
      "rtol": 1e-07
     },
     "output_type": "display_data"
    },
    {
     "data": {
      "application/json": {
       "data": {
        "__ndarray__": "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",
        "dtype": "float64",
        "shape": "200"
       }
      }
     },
     "metadata": {
      "atol": 0,
      "format": "oedes.testing.nb_store_array",
      "label": null,
      "rtol": 1e-07
     },
     "output_type": "display_data"
    },
    {
     "data": {
      "application/json": {
       "data": {
        "__ndarray__": "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",
        "dtype": "float64",
        "shape": "200"
       }
      }
     },
     "metadata": {
      "atol": 1000000000000,
      "format": "oedes.testing.nb_store_array",
      "label": null,
      "rtol": 1e-07
     },
     "output_type": "display_data"
    },
    {
     "data": {
      "application/json": {
       "data": {
        "__ndarray__": "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",
        "dtype": "float64",
        "shape": "200"
       }
      }
     },
     "metadata": {
      "atol": 1000000000000,
      "format": "oedes.testing.nb_store_array",
      "label": null,
      "rtol": 1e-07
     },
     "output_type": "display_data"
    },
    {
     "data": {
      "application/json": {
       "data": {
        "__ndarray__": "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",
        "dtype": "float64",
        "shape": "211"
       }
      }
     },
     "metadata": {
      "atol": 1000000000000,
      "format": "oedes.testing.nb_store_array",
      "label": null,
      "rtol": 1e-07
     },
     "output_type": "display_data"
    },
    {
     "data": {
      "application/json": {
       "data": {
        "__ndarray__": "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",
        "dtype": "float64",
        "shape": "211"
       }
      }
     },
     "metadata": {
      "atol": 1000000000000,
      "format": "oedes.testing.nb_store_array",
      "label": null,
      "rtol": 1e-07
     },
     "output_type": "display_data"
    },
    {
     "data": {
      "application/json": {
       "data": {
        "__ndarray__": "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",
        "dtype": "float64",
        "shape": "211"
       }
      }
     },
     "metadata": {
      "atol": 1000000000000,
      "format": "oedes.testing.nb_store_array",
      "label": null,
      "rtol": 1e-07
     },
     "output_type": "display_data"
    },
    {
     "data": {
      "application/json": {
       "data": {
        "__ndarray__": "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",
        "dtype": "float64",
        "shape": "211"
       }
      }
     },
     "metadata": {
      "atol": 1000000000000,
      "format": "oedes.testing.nb_store_array",
      "label": null,
      "rtol": 1e-07
     },
     "output_type": "display_data"
    },
    {
     "data": {
      "application/json": {
       "data": {
        "__ndarray__": "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",
        "dtype": "float64",
        "shape": "200"
       }
      }
     },
     "metadata": {
      "atol": 0,
      "format": "oedes.testing.nb_store_array",
      "label": null,
      "rtol": 1e-07
     },
     "output_type": "display_data"
    },
    {
     "data": {
      "application/json": {
       "data": {
        "__ndarray__": "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",
        "dtype": "float64",
        "shape": "200"
       }
      }
     },
     "metadata": {
      "atol": 1000000000000,
      "format": "oedes.testing.nb_store_array",
      "label": null,
      "rtol": 1e-07
     },
     "output_type": "display_data"
    },
    {
     "data": {
      "application/json": {
       "data": {
        "__ndarray__": "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",
        "dtype": "float64",
        "shape": "200"
       }
      }
     },
     "metadata": {
      "atol": 1000000000000,
      "format": "oedes.testing.nb_store_array",
      "label": null,
      "rtol": 1e-07
     },
     "output_type": "display_data"
    },
    {
     "data": {
      "application/json": {
       "data": {
        "__ndarray__": "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",
        "dtype": "float64",
        "shape": "211"
       }
      }
     },
     "metadata": {
      "atol": 1000000000000,
      "format": "oedes.testing.nb_store_array",
      "label": null,
      "rtol": 1e-07
     },
     "output_type": "display_data"
    },
    {
     "data": {
      "application/json": {
       "data": {
        "__ndarray__": "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",
        "dtype": "float64",
        "shape": "211"
       }
      }
     },
     "metadata": {
      "atol": 1000000000000,
      "format": "oedes.testing.nb_store_array",
      "label": null,
      "rtol": 1e-07
     },
     "output_type": "display_data"
    },
    {
     "data": {
      "application/json": {
       "data": {
        "__ndarray__": "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",
        "dtype": "float64",
        "shape": "211"
       }
      }
     },
     "metadata": {
      "atol": 1000000000000,
      "format": "oedes.testing.nb_store_array",
      "label": null,
      "rtol": 1e-07
     },
     "output_type": "display_data"
    },
    {
     "data": {
      "application/json": {
       "data": {
        "__ndarray__": "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",
        "dtype": "float64",
        "shape": "211"
       }
      }
     },
     "metadata": {
      "atol": 1000000000000,
      "format": "oedes.testing.nb_store_array",
      "label": null,
      "rtol": 1e-07
     },
     "output_type": "display_data"
    },
    {
     "data": {
      "image/png": "[encoded data removed]",
      "text/plain": [
       "<matplotlib.figure.Figure at 0x7f756f079550>"
      ]
     },
     "metadata": {},
     "output_type": "display_data"
    }
   ],
   "source": [
    "fig, (ion_plot, potential_plot) = plt.subplots(ncols=2, figsize=(12, 4))\n",
    "for v in voltages:\n",
    "    o = by_v[v].attime(1e-5).output()\n",
    "    store(o)\n",
    "    ion_plot.plot(\n",
    "        electrolyte_mesh.cells['center'] *\n",
    "        1e9,\n",
    "        o['electrolyte.cation.c'] -\n",
    "        o['electrolyte.anion.c'])\n",
    "    ion_plot.plot(\n",
    "        pedot_mesh.cells['center'] *\n",
    "        1e9,\n",
    "        o['pedot.cation.c'] -\n",
    "        o['pedot.anion.c'])\n",
    "    ion_plot.set_xlabel('x [nm]')\n",
    "    ion_plot.set_ylabel('P-N [1/m^3]')\n",
    "    potential_plot.plot(\n",
    "        electrolyte_mesh.cells['center'] * 1e9, o['electrolyte.potential'] / (-v))\n",
    "    potential_plot.plot(\n",
    "        pedot_mesh.cells['center'] * 1e9, o['pedot.potential'] / (-v))\n",
    "    potential_plot.set_xlabel('x [nm]')\n",
    "    potential_plot.set_ylabel('$V/V_{appl}$')"
   ]
  },
  {
   "cell_type": "markdown",
   "metadata": {},
   "source": [
    "## Fig. 5"
   ]
  },
  {
   "cell_type": "code",
   "execution_count": 13,
   "metadata": {},
   "outputs": [
    {
     "name": "stdout",
     "output_type": "stream",
     "text": [
      " time=1e-05            "
     ]
    }
   ],
   "source": [
    "x0 = model.X.copy()\n",
    "x0[hole_eqn.idx] = params['pedot.Na']\n",
    "params['pedot.electrode.voltage'] = -1.\n",
    "concentrations = [1e24, 1e25, 1e26]\n",
    "by_c = {}\n",
    "for conc in concentrations:\n",
    "    params['electrolyte.cation.electrode'] = conc\n",
    "    params['electrolyte.anion.electrode'] = conc\n",
    "    c = context(model, x=x0)\n",
    "    c.transient(params, 1e-5, 1e-9)\n",
    "    by_c[conc] = c"
   ]
  },
  {
   "cell_type": "code",
   "execution_count": 14,
   "metadata": {},
   "outputs": [
    {
     "data": {
      "application/json": {
       "data": {
        "__ndarray__": "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",
        "dtype": "float64",
        "shape": "200"
       }
      }
     },
     "metadata": {
      "atol": 0,
      "format": "oedes.testing.nb_store_array",
      "label": null,
      "rtol": 1e-07
     },
     "output_type": "display_data"
    },
    {
     "data": {
      "application/json": {
       "data": {
        "__ndarray__": "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",
        "dtype": "float64",
        "shape": "200"
       }
      }
     },
     "metadata": {
      "atol": 1000000000000,
      "format": "oedes.testing.nb_store_array",
      "label": null,
      "rtol": 1e-07
     },
     "output_type": "display_data"
    },
    {
     "data": {
      "application/json": {
       "data": {
        "__ndarray__": "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",
        "dtype": "float64",
        "shape": "200"
       }
      }
     },
     "metadata": {
      "atol": 1000000000000,
      "format": "oedes.testing.nb_store_array",
      "label": null,
      "rtol": 1e-07
     },
     "output_type": "display_data"
    },
    {
     "data": {
      "application/json": {
       "data": {
        "__ndarray__": "jTBYbDNKr7+F6Eo1gH6wv/vHzNjJeLG/AB2PtFORsr8kcrl5+cGzvyILOiCtAbW/wkJdkDZHtr+JFiENVY63v8NNb3Z83bi/Wop+n5RIur/UcUSSZe67v+sBrlIYib2/FXYC5lQfv7+rl1vLIVrAv3zr4SlvJMG/6xrZsbfuwb+sGdc7BbnCv5kMrmdZg8O/W8z1j7NNxL8sqyuaEhjFv8Tg/np14sW/vxeaVNusxr8vRR13Q3fHv0kspFmtQci/tpeDkhgMyb9MVoPQhNbJvxATYNXxoMq/ont2cV9ry79sQ2OAzTXMv3fZZeY7AM2/tatbjqrKzb+hHjJoGZXOvxqItGeIX8+//KbQwfsU0L869HpaM3rQv5uVMvtq39C//gf3oaJE0b+kukVN2qnRv5t++/sRD9K/fEc9rUl00r+Pg2ZggdnSv+i3+xS5PtO/clygyvCj07+fMA+BKAnUv8RwFDhgbtS/43eJ75fT1L+AdVGnzzjVvzP0Vl8HntW/5/2JFz8D1r/qtt7PdmjWv5lSTIiuzda/SEvMQOYy17/SzFn5HZjXvwFF8bFV/de/bxCQao1i2L+SPDQjxcfYv7pZ3Nv8LNm/1FiHlDSS2b8KcjRNbPfZv+QR4wWkXNq/TcuSvtvB2r8tTUN3Eyfbv6la9C9LjNu/WsWl6ILx27/aaFehulbcv24nCVryu9y/Rue6Eioh3b9JkGzLYYbdvxAKHoSZ692/CjrPPNFQ3r+DAYD1CLbev4Q7MK5AG9+/TrrfZniA379aRI4fsOXfv0nIHexzJeC/z6BzyA9Y4L/2b8ikq4rgv/7oG4FHveC/ValtXePv4L9OMr05fyLhvxnhCRYbVeG/deRS8raH4b9uL5fOUrrhv2do1aru7OG/RdMLh4of4r95NThjJlLivxiyVz/ChOK/wptmG1634r+SOWD3+eniv0V7PtOVHOO/Apj5rjFP47+hkYeKzYHjv82U22VptOO/9ivlQAXn47+HOI8boRnkvwCivvU8TOS/NaZQz9h+5L/7rxiodLHkvyWS3X8Q5OS/JftVVqwW5b9b6SMrSEnlv3DYzv3je+W/LUy8zX+u5b+AQyaaG+Hlv7n9DmK3E+a/+FExJFNG5r9eo+ze7njmv/I3K5CKq+a/omBBNSbe5r/ZcMPKwRDnvzD1T0xdQ+e/EeJKtPh157+3iYX7k6jnv2T/zRgv2+e/YxFfAMoN6L+yHiijZEDov1uj4e3+cui/dUPgx5il6L9NM5QRMtjov67inaLKCum/UIJaR2I96b/v/cK9+G/pv/XubbGNoum/eVl4tiDV6b+hGwlDsQfqvzgkD6c+Ouq/awDCAchs6r8rTE40TJ/qv49P89DJ0eq/eRisBT8E678QwEyBqTbrvz1wxVEGaeu/UDQDulGb67+SzrD9hs3rv4yh8iCg/+u/ByoympUx7L+EI0P0XWPsv9H5xV/tlOy/5NLdMzXG7L+34FxgI/fsv8MYs9ahJ+2/Dh9k85VX7b9qWo/334btvxcfwKhate2/tHXBM9vi7b9pYbpzMQ/uvyo/z74oOu6/5KoRUolj7r9vc5RlGovuv5SnIteksO6/MC/9OfbT7r/u1H374/Tuv/QzFDlOE++/43IF5CEv778KF83lWUjvv4azsCD/Xu+/y1FhWCdz77+TCGY584TvvziZOtGLlO+/c1Zg0B+i778lVGLl4K3vvwWEfmoBuO+/7ILChrLA77+VTezMIsjvvw63mVF9zu+/dNAdKOnT77/R+t4widjvv1J31yN83O+/fCwPxNzf7782BE8swuLvv0bS9ihA5e+/lvo6lmfn77+Pe968Runvv2BqsKnp6u+/Cz60fVrs778YkgG2oe3vv3h4LGvG7u+/+GGDiM7v77+0k7f7vvDvv2U1qd2b8e+/HGEclWjy7795CBr0J/Pvv8khtFDc8++/conUmYf0778kFaxoK/XvvwMzRQ/J9e+/hB6spGH2779Mwg4P9vbvv6wLKAyH9++/rM89OBX477/1Xe0Tofjvv01d+Qgr+e+/rWpDbrP577+sCBWLOvrvv5OX1ZnA+u+/fz1GykX777/Q/1hDyvvvv9OwtiRO/O+/jSALiNH877/EbkSCVP3vv/frRCXX/e+/uoCIflj+779gMBEKvv7vv1QV3d8N/++/QxsPwEz/7786ZUFcfv/vv/j9bpGl/++/yJB2l8T/77/pLqAn3f/vv+EmwJrw/++/AAAAAAAA8L8=",
        "dtype": "float64",
        "shape": "211"
       }
      }
     },
     "metadata": {
      "atol": 1000000000000,
      "format": "oedes.testing.nb_store_array",
      "label": null,
      "rtol": 1e-07
     },
     "output_type": "display_data"
    },
    {
     "data": {
      "application/json": {
       "data": {
        "__ndarray__": "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",
        "dtype": "float64",
        "shape": "211"
       }
      }
     },
     "metadata": {
      "atol": 1000000000000,
      "format": "oedes.testing.nb_store_array",
      "label": null,
      "rtol": 1e-07
     },
     "output_type": "display_data"
    },
    {
     "data": {
      "application/json": {
       "data": {
        "__ndarray__": "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",
        "dtype": "float64",
        "shape": "211"
       }
      }
     },
     "metadata": {
      "atol": 1000000000000,
      "format": "oedes.testing.nb_store_array",
      "label": null,
      "rtol": 1e-07
     },
     "output_type": "display_data"
    },
    {
     "data": {
      "application/json": {
       "data": {
        "__ndarray__": "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",
        "dtype": "float64",
        "shape": "211"
       }
      }
     },
     "metadata": {
      "atol": 1000000000000,
      "format": "oedes.testing.nb_store_array",
      "label": null,
      "rtol": 1e-07
     },
     "output_type": "display_data"
    },
    {
     "data": {
      "application/json": {
       "data": {
        "__ndarray__": "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",
        "dtype": "float64",
        "shape": "200"
       }
      }
     },
     "metadata": {
      "atol": 0,
      "format": "oedes.testing.nb_store_array",
      "label": null,
      "rtol": 1e-07
     },
     "output_type": "display_data"
    },
    {
     "data": {
      "application/json": {
       "data": {
        "__ndarray__": "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",
        "dtype": "float64",
        "shape": "200"
       }
      }
     },
     "metadata": {
      "atol": 1000000000000,
      "format": "oedes.testing.nb_store_array",
      "label": null,
      "rtol": 1e-07
     },
     "output_type": "display_data"
    },
    {
     "data": {
      "application/json": {
       "data": {
        "__ndarray__": "kQIoLCqLIEWk85g1ioogRaxPD8/AiSBFKL32YveIIEWMkqfyLYggRR9bKX9khyBF1QtGCZuGIEXzppiR0YUgRbVkmBgIhSBFyzShnj6EIEUuOvojdYMgRWq82qirgiBFJextLeKBIEV5wtWxGIEgRXQxLTZPgCBFfM+JuoV/IEUeHf0+vH4gRW19lcPyfSBFbPNeSCl9IEV0smPNX3wgRUuMrFKWeyBFEkVB2Mx6IEVM0yheA3ogRbCQaeQ5eSBFXF8Ja3B4IEU4xg3ypncgRZwGfHnddiBFzSxZARR2IEWdHKqJSnUgRfeacxKBdCBFOlW6m7dzIEXL5oIl7nIgRVjd0a8kciBFGryrOltxIEVF/hTGkXAgRfsYElLIbyBFsnyn3v5uIEVKltlrNW4gRfHPrPlrbSBFvZEliKJsIEUlQkgX2WsgRW1GGacPayBF5QKdN0ZqIEUf29fIfGkgRSAyzlqzaCBFgWqE7elnIEV45v6AIGcgRQIIQhVXZiBF2zBSqo1lIEWbwjNAxGQgRa4e69b6YyBFaKZ8bjFjIEUDu+wGaGIgRaG9P6CeYSBFTw96OtVgIEUPEaDVC2AgRc4jtnFCXyBFb6jADnleIEXD/8Osr10gRY6KxEvmXCBFi6nG6xxcIEVjvc6MU1sgRbYm4S6KWiBFF0YC0sBZIEULfDZ291ggRQ8pghsuWCBFiq3pwWRXIEXfaXFpm1YgRWO+HRLSVSBFWgvzuwhVIEX8sPVmP1QgRXgPKhN2UyBF64aUwKxSIEVldzlv41EgRepAHR8aUSBFbENE0FBQIEXU3rKCh08gRfpybTa+TiBFqF946/RNIEWZBNihK00gRXnBkFliTCBF5vWmEplLIEVsAR/Nz0ogRYtD/YgGSiBFsxtGRj1JIEVC6f0EdEggRYcLKcWqRyBFxeHLhuFGIEUqy+pJGEYgRdYmig5PRSBF2lOu1IVEIEU2sVucvEMgRdydlmXzQiBFrnhjMCpCIEV9oMb8YEEgRRB0xMqXQCBFHVJhms4/IEVQmaFrBT8gRUqoiT48PiBFo90dE3M9IEXxl2LpqTwgRcY1XMHgOyBFuBUPmxc7IEVtln92TjogRZkWslOFOSBFFvWqMrw4IEXqkG4T8zcgRWFJAfYpNyBFKn5n2mA2IEV1j6XAlzUgRSPev6jONCBFCcy6kgU0IEU3vJp+PDMgRWYTZGxzMiBFfjgbXKoxIEVIlcRN4TAgRViXZEEYMCBFPLH/Nk8vIEUNXJouhi4gRXMZOSi9LSBFT3bgI/QsIEU2DpUhKywgRfaPWyFiKyBFh8M4I5kqIEXFkTEn0CkgRZcOSy0HKSBFJYaKNT4oIEUhjvU/dScgRV4ckkysJiBFUqRmW+MlIEWhPXpsGiUgRYPW1H9RJCBFkXV/lYgjIEXCj4StvyIgRb948Mf2ISBFoPXR5C0hIEWs/DoEZSAgRbmvQSacHyBFXKMBS9MeIEU2ip1yCh4gRSZjQZ1BHSBFZVIly3gcIEXbWZH8rxsgRfI04jHnGiBFO7GPax4aIEU1+DSqVRkgRYBim+6MGCBF9JrIOcQXIEUTFRGN+xYgRXUpMOoyFiBFQpJnU2oVIEUjiajLoRQgRV54yVbZEyBFJhfM+RATIEUB9ji7SBIgRW0Il6OAESBFsrkHvrgQIEVjtxIZ8Q8gRYgFsMcpDyBFJGSj4mIOIEXN3UGKnA0gRUDtwejWDCBFpY9ANRIMIEXmhrK3TgsgRdXwCc6MCiBFo2Hu8swJIEVTdoLGDwkgRb5n1xlWCCBFODvg/aAHIEV8TPbW8QYgRVW4VHZKBiBF+71dO60FIEV5fgw/HQUgRc0gsYyeBCBFuT4LbDYEIEXQFRnC6wMgRervmY/HAyBFcJlwltUDIEUGMfQxJQQgRcb+DnLKBCBFTDcgjt8FIEUxuWPLhgcgRbf9z/vsCSBFkwXWxkwNIEUvtZj+8hEgRRQRGFxEGCBF4EiYHsUgIEVkZis7IywgRZqUmhBEOyBFqeXf/lZPIEXyyYXl7mkgRcmUf44ljSBF9D8brM27IEUJlPPEuvkgRRst2QcrTCFF7JmpJ2e6IUWthGo9u04iRbSNOOAHGCNFDb96e2IsJEW1uFAAmlQlRQ==",
        "dtype": "float64",
        "shape": "200"
       }
      }
     },
     "metadata": {
      "atol": 1000000000000,
      "format": "oedes.testing.nb_store_array",
      "label": null,
      "rtol": 1e-07
     },
     "output_type": "display_data"
    },
    {
     "data": {
      "application/json": {
       "data": {
        "__ndarray__": "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",
        "dtype": "float64",
        "shape": "211"
       }
      }
     },
     "metadata": {
      "atol": 1000000000000,
      "format": "oedes.testing.nb_store_array",
      "label": null,
      "rtol": 1e-07
     },
     "output_type": "display_data"
    },
    {
     "data": {
      "application/json": {
       "data": {
        "__ndarray__": "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",
        "dtype": "float64",
        "shape": "211"
       }
      }
     },
     "metadata": {
      "atol": 1000000000000,
      "format": "oedes.testing.nb_store_array",
      "label": null,
      "rtol": 1e-07
     },
     "output_type": "display_data"
    },
    {
     "data": {
      "application/json": {
       "data": {
        "__ndarray__": "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",
        "dtype": "float64",
        "shape": "211"
       }
      }
     },
     "metadata": {
      "atol": 1000000000000,
      "format": "oedes.testing.nb_store_array",
      "label": null,
      "rtol": 1e-07
     },
     "output_type": "display_data"
    },
    {
     "data": {
      "application/json": {
       "data": {
        "__ndarray__": "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",
        "dtype": "float64",
        "shape": "211"
       }
      }
     },
     "metadata": {
      "atol": 1000000000000,
      "format": "oedes.testing.nb_store_array",
      "label": null,
      "rtol": 1e-07
     },
     "output_type": "display_data"
    },
    {
     "data": {
      "application/json": {
       "data": {
        "__ndarray__": "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",
        "dtype": "float64",
        "shape": "200"
       }
      }
     },
     "metadata": {
      "atol": 0,
      "format": "oedes.testing.nb_store_array",
      "label": null,
      "rtol": 1e-07
     },
     "output_type": "display_data"
    },
    {
     "data": {
      "application/json": {
       "data": {
        "__ndarray__": "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",
        "dtype": "float64",
        "shape": "200"
       }
      }
     },
     "metadata": {
      "atol": 1000000000000,
      "format": "oedes.testing.nb_store_array",
      "label": null,
      "rtol": 1e-07
     },
     "output_type": "display_data"
    },
    {
     "data": {
      "application/json": {
       "data": {
        "__ndarray__": "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",
        "dtype": "float64",
        "shape": "200"
       }
      }
     },
     "metadata": {
      "atol": 1000000000000,
      "format": "oedes.testing.nb_store_array",
      "label": null,
      "rtol": 1e-07
     },
     "output_type": "display_data"
    },
    {
     "data": {
      "application/json": {
       "data": {
        "__ndarray__": "VnQWKTMwSr8BjEaf27hSv3z7n6ikhFa/BaqnkaIMWb9ipU+AVQNbv76D/7M2/ly/AsIO6ApgX78q03wWtzVhv21RomuuL2O/Xo/84MPFZb+FKrlEui9pvwkJ/kjmxmy/Y4k+Vs5DcL+5Ol1noDpyv8B7pRLGSXS/ZvuXVUxzdr8ZNzhydrl4v/V019PEHnu/GoqD/Pylfb/KE9pTGSmAv8QsVCtpk4G/8mT0wdYTg79M4shihKyEv/dEnBjWX4a/fZv/L3swiL+8w2M+eSGKv1TQ0uc4Noy/ZAPFnpRyjr8UAQjLdG2Qvzc1v4cVupG/gx5sCfwhk78zoq6uWaiUv0TChnfOUJa/mGLC83UfmL+aTCUi8xiav8RfOC55Qpy//jzFws2hnr/rSfYJoJ6gv7+umQXHDaK/y5033teho7/8nzvUQF6lv0ArNv4kRqe/NEIvtA5cqb+Yw1WLmqGrvyRGF48qF66//s0Mm9pdsL9fjJJYYMaxvxxeNmRIQ7O/s9xGlj/StL+wvUk3tXC2v/pJm/YRHLi//gGOxuTRub/D4Su2AJC7vwnGH5GLVL2/j9SvKwAev79JJvE4lHXAv/wD9YmJXcG/8yHD3INGwr8hkJzKPTDDv8Jr66aDGsS/Uy5lTC8Fxb/l1YfBJPDFvxg5jJxP28a/FyCtBqHGx7+nPn8+DrLIv+b7unyPncm/9ufDIx+Jyr94lR4nuXTLvxdJUpxaYMy/2S48agFMzb/7tqIOrDfOv1kB+3NZI8+/KGF3aYQH0L/pCTLOXH3Qv0OO1bQ189C/KLeN+A5p0b95BfJ+6N7RvxN9FDXCVNK/75JkDZzK0r+gqyr+dUDTv8pCcQBQttO/Hts8Dyos1L+AgfwmBKLUv6PsIkXeF9W/hMDcZ7iN1b/tuNuNkgPWv93QMLZseda/YSgx4Ebv1r9XnWILIWXXvybobTf72te/iqsUZNVQ2L9fWCqRr8bYv3oXj76JPNm/FSYs7GOy2b9HO/EZPijav72q0kcYntq/lA7IdfIT2788UcujzInbv57719Gm/9u/LrPq/4B13L9A2QAuW+vcv79AGFw1Yd2/E/Iuig/X3b+x9kK46Uzev9wmUubDwt6/cfRZFJ4437/JLVdCeK7fv3TZIjgpEuC/HgsQTxZN4L9CkO9lA4jgv4qWvHzwwuC/Hahwk9394L+BGgOqyjjhv+BMaMC3c+G/H6WQ1qSu4b8WNmfskenhv/HxzwF/JOK/pkKlFmxf4r/t1bQqWZrivyxauz1G1eK/ItReTzMQ478SGSdfIEvjv+fTc2wNhuO/DEtvdvrA478y3fx75/vjvyPZoXvUNuS/vupmc8Fx5L82z69grqzkv19UBkCb5+S/m8bUDIgi5b9N0ArBdF3lv0hZplRhmOW/UBQYvU3T5b9y/3jsOQ7mv0IKg9AlSea/Ajg7URGE5r+RyjZP/L7mv/crX6Hm+ea/BkcREtA0578wpWxbuG/nv3LFnCKfque/V2zb8YPl5789w9wwZiDovyOFRRtFW+i/Tca3tB+W6L9gAey59NDov4KsMo7CC+m/jLigJIdG6b+XIxPkP4Hpv6kGKoXpu+m//f5j6X/26b+L3Kvq/TDqvxyzASNda+q/zTt6rJWl6r+YuaPand/qv6V1de9pGeu/Pfs4z+tS67+K8j24EozrvxU3dwTLxOu/fpki/P38679//xnBkTTsv3uiMFppa+y/4ejo5GSh7L/gs9nxYdbsv+mTYA08Cu2/HHf7cs087b8j0Cjm723tv6vyU6h9ne2/Bu10gFLL7b+1APPGTPftv3ogP2dOIe6/aTiiyD1J7r89ceuQBm/uvy8A9jWaku6/5ow6VvCz7r8epojUBtPuvzTsO7fh7+6/kjBaz4oK77/V7pYvESPvv/tT4X2IOe+/yk6pKwhO77/xvlyhqmDvv/4M2WiMce+/GpPqYMuA778bacEBho7vv/aE1bfamu+/clVUWOel77/nXxewyK/vvw+obyyauO+/lPzRm3XA778np6EDc8fvvx2964eoze+/XdrKYSrT778AhlDhCtjvvx+LMnha3O+/nX49yyfg778C4WjKf+Pvvw3NCNVt5u+/aJ+RAvzo77/0g7rqM+vvv2DaGjIh7e+/mF4AHdfu779Jec9WN/Dvv1TYt/qS8e+/YwkwIiDz77+J5WUk9vTvv3i+fv8P9++/PoPwpVX577+rfMWIp/vvv3rtNuXn/e+/AAAAAAAA8L8=",
        "dtype": "float64",
        "shape": "211"
       }
      }
     },
     "metadata": {
      "atol": 1000000000000,
      "format": "oedes.testing.nb_store_array",
      "label": null,
      "rtol": 1e-07
     },
     "output_type": "display_data"
    },
    {
     "data": {
      "application/json": {
       "data": {
        "__ndarray__": "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",
        "dtype": "float64",
        "shape": "211"
       }
      }
     },
     "metadata": {
      "atol": 1000000000000,
      "format": "oedes.testing.nb_store_array",
      "label": null,
      "rtol": 1e-07
     },
     "output_type": "display_data"
    },
    {
     "data": {
      "application/json": {
       "data": {
        "__ndarray__": "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",
        "dtype": "float64",
        "shape": "211"
       }
      }
     },
     "metadata": {
      "atol": 1000000000000,
      "format": "oedes.testing.nb_store_array",
      "label": null,
      "rtol": 1e-07
     },
     "output_type": "display_data"
    },
    {
     "data": {
      "application/json": {
       "data": {
        "__ndarray__": "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",
        "dtype": "float64",
        "shape": "211"
       }
      }
     },
     "metadata": {
      "atol": 1000000000000,
      "format": "oedes.testing.nb_store_array",
      "label": null,
      "rtol": 1e-07
     },
     "output_type": "display_data"
    },
    {
     "data": {
      "image/png": "[encoded data removed]",
      "text/plain": [
       "<matplotlib.figure.Figure at 0x7f756d4e8310>"
      ]
     },
     "metadata": {},
     "output_type": "display_data"
    }
   ],
   "source": [
    "fig, (ion_plot, potential_plot) = plt.subplots(ncols=2, figsize=(12, 4))\n",
    "for conc in concentrations:\n",
    "    o = by_c[conc].attime(1e-5).output()\n",
    "    store(o)\n",
    "    ion_plot.plot(\n",
    "        electrolyte_mesh.cells['center'] *\n",
    "        1e9,\n",
    "        o['electrolyte.cation.c'] -\n",
    "        o['electrolyte.anion.c'])\n",
    "    ion_plot.plot(\n",
    "        pedot_mesh.cells['center'] *\n",
    "        1e9,\n",
    "        o['pedot.cation.c'] -\n",
    "        o['pedot.anion.c'])\n",
    "    ion_plot.set_xlabel('x [nm]')\n",
    "    ion_plot.set_ylabel('P-N [1/m^3]')\n",
    "    potential_plot.plot(\n",
    "        electrolyte_mesh.cells['center'] * 1e9, -o['electrolyte.potential'])\n",
    "    potential_plot.plot(\n",
    "        pedot_mesh.cells['center'] * 1e9, -o['pedot.potential'])\n",
    "    potential_plot.set_xlabel('x [nm]')\n",
    "    potential_plot.set_ylabel('- electrostatic potential [V]')"
   ]
  },
  {
   "cell_type": "markdown",
   "metadata": {},
   "source": [
    "## Fig. 6"
   ]
  },
  {
   "cell_type": "code",
   "execution_count": 15,
   "metadata": {},
   "outputs": [
    {
     "name": "stdout",
     "output_type": "stream",
     "text": [
      " time=1e-05            "
     ]
    }
   ],
   "source": [
    "x0 = model.X.copy()\n",
    "x0[hole_eqn.idx] = params['pedot.Na']\n",
    "params['pedot.electrode.voltage'] = -1.\n",
    "params['electrolyte.cation.electrode'] = 1e25\n",
    "params['electrolyte.anion.electrode'] = 1e25\n",
    "mu_values = [1e-10, 1e-9, 1e-8]\n",
    "by_mu = {}\n",
    "for mu in mu_values:\n",
    "    params['pedot.cation.mu'] = mu\n",
    "    params['pedot.anion.mu'] = mu\n",
    "    c = context(model, x=x0)\n",
    "    c.transient(params, 1e-5, 1e-9)\n",
    "    by_mu[mu] = c"
   ]
  },
  {
   "cell_type": "code",
   "execution_count": 16,
   "metadata": {
    "scrolled": true
   },
   "outputs": [
    {
     "data": {
      "application/json": {
       "data": {
        "__ndarray__": "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",
        "dtype": "float64",
        "shape": "200"
       }
      }
     },
     "metadata": {
      "atol": 0,
      "format": "oedes.testing.nb_store_array",
      "label": null,
      "rtol": 1e-07
     },
     "output_type": "display_data"
    },
    {
     "data": {
      "application/json": {
       "data": {
        "__ndarray__": "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",
        "dtype": "float64",
        "shape": "200"
       }
      }
     },
     "metadata": {
      "atol": 1000000000000,
      "format": "oedes.testing.nb_store_array",
      "label": null,
      "rtol": 1e-07
     },
     "output_type": "display_data"
    },
    {
     "data": {
      "application/json": {
       "data": {
        "__ndarray__": "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",
        "dtype": "float64",
        "shape": "200"
       }
      }
     },
     "metadata": {
      "atol": 1000000000000,
      "format": "oedes.testing.nb_store_array",
      "label": null,
      "rtol": 1e-07
     },
     "output_type": "display_data"
    },
    {
     "data": {
      "application/json": {
       "data": {
        "__ndarray__": "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",
        "dtype": "float64",
        "shape": "211"
       }
      }
     },
     "metadata": {
      "atol": 1000000000000,
      "format": "oedes.testing.nb_store_array",
      "label": null,
      "rtol": 1e-07
     },
     "output_type": "display_data"
    },
    {
     "data": {
      "application/json": {
       "data": {
        "__ndarray__": "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",
        "dtype": "float64",
        "shape": "211"
       }
      }
     },
     "metadata": {
      "atol": 1000000000000,
      "format": "oedes.testing.nb_store_array",
      "label": null,
      "rtol": 1e-07
     },
     "output_type": "display_data"
    },
    {
     "data": {
      "application/json": {
       "data": {
        "__ndarray__": "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",
        "dtype": "float64",
        "shape": "211"
       }
      }
     },
     "metadata": {
      "atol": 1000000000000,
      "format": "oedes.testing.nb_store_array",
      "label": null,
      "rtol": 1e-07
     },
     "output_type": "display_data"
    },
    {
     "data": {
      "application/json": {
       "data": {
        "__ndarray__": "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",
        "dtype": "float64",
        "shape": "211"
       }
      }
     },
     "metadata": {
      "atol": 1000000000000,
      "format": "oedes.testing.nb_store_array",
      "label": null,
      "rtol": 1e-07
     },
     "output_type": "display_data"
    },
    {
     "data": {
      "application/json": {
       "data": {
        "__ndarray__": "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",
        "dtype": "float64",
        "shape": "200"
       }
      }
     },
     "metadata": {
      "atol": 0,
      "format": "oedes.testing.nb_store_array",
      "label": null,
      "rtol": 1e-07
     },
     "output_type": "display_data"
    },
    {
     "data": {
      "application/json": {
       "data": {
        "__ndarray__": "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",
        "dtype": "float64",
        "shape": "200"
       }
      }
     },
     "metadata": {
      "atol": 1000000000000,
      "format": "oedes.testing.nb_store_array",
      "label": null,
      "rtol": 1e-07
     },
     "output_type": "display_data"
    },
    {
     "data": {
      "application/json": {
       "data": {
        "__ndarray__": "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",
        "dtype": "float64",
        "shape": "200"
       }
      }
     },
     "metadata": {
      "atol": 1000000000000,
      "format": "oedes.testing.nb_store_array",
      "label": null,
      "rtol": 1e-07
     },
     "output_type": "display_data"
    },
    {
     "data": {
      "application/json": {
       "data": {
        "__ndarray__": "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",
        "dtype": "float64",
        "shape": "211"
       }
      }
     },
     "metadata": {
      "atol": 1000000000000,
      "format": "oedes.testing.nb_store_array",
      "label": null,
      "rtol": 1e-07
     },
     "output_type": "display_data"
    },
    {
     "data": {
      "application/json": {
       "data": {
        "__ndarray__": "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",
        "dtype": "float64",
        "shape": "211"
       }
      }
     },
     "metadata": {
      "atol": 1000000000000,
      "format": "oedes.testing.nb_store_array",
      "label": null,
      "rtol": 1e-07
     },
     "output_type": "display_data"
    },
    {
     "data": {
      "application/json": {
       "data": {
        "__ndarray__": "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",
        "dtype": "float64",
        "shape": "211"
       }
      }
     },
     "metadata": {
      "atol": 1000000000000,
      "format": "oedes.testing.nb_store_array",
      "label": null,
      "rtol": 1e-07
     },
     "output_type": "display_data"
    },
    {
     "data": {
      "application/json": {
       "data": {
        "__ndarray__": "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",
        "dtype": "float64",
        "shape": "211"
       }
      }
     },
     "metadata": {
      "atol": 1000000000000,
      "format": "oedes.testing.nb_store_array",
      "label": null,
      "rtol": 1e-07
     },
     "output_type": "display_data"
    },
    {
     "data": {
      "application/json": {
       "data": {
        "__ndarray__": "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",
        "dtype": "float64",
        "shape": "200"
       }
      }
     },
     "metadata": {
      "atol": 0,
      "format": "oedes.testing.nb_store_array",
      "label": null,
      "rtol": 1e-07
     },
     "output_type": "display_data"
    },
    {
     "data": {
      "application/json": {
       "data": {
        "__ndarray__": "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",
        "dtype": "float64",
        "shape": "200"
       }
      }
     },
     "metadata": {
      "atol": 1000000000000,
      "format": "oedes.testing.nb_store_array",
      "label": null,
      "rtol": 1e-07
     },
     "output_type": "display_data"
    },
    {
     "data": {
      "application/json": {
       "data": {
        "__ndarray__": "kQIoLCqLIEVo8JTTLoQgRdd5SbdheyBFgfqLB5JyIEXkui5lwGkgRbxgAUvtYCBFNc3yFhlYIEV40P8QRE8gRVKydnBuRiBFsKT2X5g9IEUvRXkAwjQgRXBvoWvrKyBFolF8tRQjIEWt29btPRogRVdoQSFnESBFr0PVWZAIIEXl7pU/c/8fRehf2fPF7R9FX6ba2xjcH0XzpVUBbMofRWBjwWy/uB9F6v+cJROnH0X1ZKoyZ5UfRdD9Gpq7gx9FTNKxYRByH0Wtid2OZWAfRbBCzCa7Th9F6Ld6LhE9H0VMzr+qZysfRchnVaC+GR9FlB/fExYIH0UCb+8JbvYeRSibC4fG5B5F37Sujx/THkVX40soecEeRfwjUFXTrx5Fd6AjGy6eHkWUsyp+iYweRVWwxoLleh5Fn3lWLUJpHkWa9TaCn1ceRXVlw4X9RR5FzqdVPFw0HkX3akaquyIeRa5S7dMbER5FZRShvXz/HUUhjLdr3u0dRd7LheJA3B1FiSZgJqTKHUXKN5o7CLkdRTDphiZtpx1FhHV469KVHUWPasCOOYQdRcOprxShch1FAGiWgQlhHUW0LMTZck8dRXfQhyHdPR1FO3svXUgsHUUvogiRtBodRXcFYMEhCR1Fm62B8o/3HEXs6Lgo/+UcRclIUGhv1BxFwZ6RteDCHEW7+cUUU7EcRQOjNYrGnxxFXBsoGjuOHEUAGOTIsHwcRaV/r5onaxxFc2fPk59ZHEUFEIi4GEgcRWLiHA2TNhxF+2zQlQ4lHEWZYORWixMcRWuNmVQJAhxF598vk4jwG0XhXeYWCd8bRXIj++OKzRtFAWCr/g28G0VJUzNrkqobRUxKzi0YmRtFYJy2Sp+HG0U5qCXGJ3YbRebQU6SxZBtF5np46TxTG0UyCcqZyUEbRVTafblXMBtFeUXITOceG0WMl9xXeA0bRVsQ7d4K/BpFt98q5p7qGkWrIsZxNNkaRbTg7YXLxxpFBgnQJmS2GkXbb5lY/qQaRd/LdR+akxpFpLOPfzeCGkVHmxB91nAaRRnSIBx3XxpFloDnYBlOGkVnpopPvTwaRdsYL+xiKxpFiIH4OgoaGkVlXQlAswgaRXn8gv9d9xlFHIKFfQrmGUUQ5i++uNQZRa32n8VowxlFS1zylxqyGUVmnkI5zqAZRb0qq62DjxlFCV9F+Tp+GUUUlikg9GwZRcc4byavWxlFe9QsEGxKGUW3N3jhKjkZRR2XZp7rJxlFlbwMS64WGUVKQ3/rcgUZRdbj0oM59BhFrNQcGALjGEXtQ3OszNEYRSbx7USZwBhF+e6m5WevGEX0lruSOJ4YRSi8TVALjRhFbCyFIuB7GEUblJENt2oYRSXdrBWQWRhFXygeP2tIGEXnhz2OSDcYRdOqeAcoJhhFtbZYrwkVGEUcmomK7QMYRVE2453T8hdFQdV07rvhF0X3fZOBptAXRb3d61yTvxdFvqiYhoKuF0XsjD4FdJ0XRfYWL+BnjBdFSD+UH157F0Xqv6bMVmoXRfPY8fFRWRdF/s2nm09IF0XNMwvYTzcXRRUj8rdSJhdFLqBpT1gVF0X7DYG2YAQXRcBlRwps8xZFm0UGbnriFkU3zckMjNEWRTPYRxuhwBZFXpc92rmvFkVbCmCZ1p4WRXipArv3jRZFa/qfuB19FkU3M3ooSWwWRdPslsR6WxZFLM9oc7NKFkUmyY1S9DkWRY2zIMQ+KRZF5UU7f5QYFkVRY2qk9wcWRXmrBNdq9xVFgwCMXPHmFUVM9YhDj9YVRZYbppNJxhVFgA49iSa2FUWtCg3fLaYVRQuEeSlplhVFWd9+R+SGFUV7Io/urXcVRfIyzlfYaBVFKbW/FnpaFUWrZoAjr0wVRYlMOyWaPxVFRErdDGYzFUUVhVYUSCgVRT6rVzyCHhVFUGrmaWYWFUU/BRNPWhAVRbBzjlfcDBVF8UVf5IkMFUU2br87JxAVRS/ltrapGBVFcCCd6kQnFUVi+ZnZez0VRf+Otqc3XRVFOFFi/+WIFUW6Q59bosMVRUD/YxJvERZF9oHRnIV3FkWRqB3wyfwWRRP9swd0qhdFuKwMaw+NGEV83m4mB7YZRTFwQcgePhtF2t7AdYpJHUU5EIZ+6msfRQ==",
        "dtype": "float64",
        "shape": "200"
       }
      }
     },
     "metadata": {
      "atol": 1000000000000,
      "format": "oedes.testing.nb_store_array",
      "label": null,
      "rtol": 1e-07
     },
     "output_type": "display_data"
    },
    {
     "data": {
      "application/json": {
       "data": {
        "__ndarray__": "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",
        "dtype": "float64",
        "shape": "211"
       }
      }
     },
     "metadata": {
      "atol": 1000000000000,
      "format": "oedes.testing.nb_store_array",
      "label": null,
      "rtol": 1e-07
     },
     "output_type": "display_data"
    },
    {
     "data": {
      "application/json": {
       "data": {
        "__ndarray__": "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",
        "dtype": "float64",
        "shape": "211"
       }
      }
     },
     "metadata": {
      "atol": 1000000000000,
      "format": "oedes.testing.nb_store_array",
      "label": null,
      "rtol": 1e-07
     },
     "output_type": "display_data"
    },
    {
     "data": {
      "application/json": {
       "data": {
        "__ndarray__": "hiewGTn/CEWy/2heJzAHRTrXQvU1VAVF54Wmfip6A0VVbW8xUK4BRS0vNRQV7f9EFIUW5eCe/EQA3C7tu1j5RC3Sovz39/VE65GgtrFh8kRAMvaPxCvtRALUWfCM5+ZE8NTrGP3S4USVJ5UDvIPbRCvwuaBeFdVEcuIhuQYO0ERwKOMMHVLIRBy0/ZOAVsJEktZ11yGMu0QQuafLjZ+0RArrylfPyq5EgmnnN3jupkSeD6JncQqhRIDNZHwmR5lETkwSSze3kkRQTHSYa6uLRBt/C3BMbIREuLWYUSobfkQSY7UHByl2RPVBfnBdSnBEwWhFDMzrZ0SZTvQ6qYphRPjqjb5SsllEs0WKZ6zMUkTHNi4V2nlLRMIsJzdVDkRED3EHq1E/PUTvlbWpZU01REHi7ll5/y5ECwuEU4eHJkSUyrMqfVsgRGvOjWRbuhdEfdx/5z0xEUQKoV8NiOMIRBFdgzpa/wFEDoPQ+sMA+kPXd5DJPMTyQ5jIllHgD+tD1vo1IGZ+40NvQS5f0Q7cQ/XUCWdyLNRDjwPkFrb7zEN5Z4pEHs3EQ4pTmGHe1L1DR+sl6UpftUMYBOk/0JiuQ2zKcUUB4qVDvnN5vUtGn0O0e05qdFSWQ0uGhbZN3I9DMKA2FQO2hkPKTZy6CC2AQzpnWG44BndDPkulmIhfcEPxJrcBzERnQ1PKusCChWBDmHkJAKFxV0OicX3p8Z5QQ3pxFdfEjEdDFDOv/+2rQEOs58ozbZY3QxYky42qrDBDqNA4gvWOJ0NYpwzPdKEgQ125sADcdhdDhWg8fbGKEENF0/97vk4HQ4wizGjaaABDLCajylYX90JSLJjqezzwQtixVRx30eZCMs0cPjIG4EJrQWAyBn7WQjdQOqRNjc9C8PnCk/sdxkJm52Y5G/2+Qkqxwc5bsrVCCdsx/URdrkLgX6nXNDylQv49d4BNr51Cnffrkpq8lEKI+gxkvfSMQip5EZejNIRCE+lc8B4vfEJG3p4xZqVzQopIAxP6X2tCeSUjufUPY0LSVYPQ0IhaQm5aUjZgdVJCKblaOByrSUJY0MJurNZBQh6zketJyDhCnJ3qXdg0MUJA7AdKuuEnQlJl9CzYkCBClaQfYr/4FkJaxGuBK9cPQoytXsqcDgZCVMA3/+GL/kEb6fyeiCT1Qb3fhwKCQe1Bjeej+K075EHyZo3hrPnbQXJeJVkxVdNB4GoIGP+1ykFqEbvCN3LCQaKXWrEceLlBCCv4evGTsUHGgrLMw0GoQZTBp9+pu6BBbiTRiucUl0FIRQxjvNWPQQgSsHTW84VBFNv8jLtGfkFoTu0ycOF0QXz3BDXtzmxBiiLyDm/hY0GUABkPY3RbQQ9TlOrJ+FJBhCdNukI/SkFGRv/8Mi5CQaJZ82KPOjlBLCx0QreKMUG837jyJHUoQW7CokaEGiFBvgRX1vACGEE+zta+4e0QQb5t7wWG/gdBm9XIPn4aAUGcFYPWSov4QP0pfy9KvfFA5yGG3qrY6UCmXcwaPP3iQCuWbaLiJtxA5I+XLHUP1UDwHIvtHM7PQCyqq7pRPchAzK6hm1qkwkBmlAKXBu28QNCX/9PLoLZA8opdF8jWsUB2uorq/1OsQPpRmER/o6ZAZSmJApYyokCQXHocTmidQJ4Gns6v3pdA1XvQbsJzk0Ar7r/6LNCPQDxJGG9QF4pAg+wBtppzhUBjqX5UkKyBQKB+hS6lLH1AkRw9JRAdeEAH52W/LvRzQB7JQA3zhnBAg9m3SNxla0DUVy0B3LhmQFnPurEd2mJARdEtbH5KX0Dygqa/JflZQNC4BGqaj1VAjchX3vLlUUANRtpusbZNQJF52IxTqUhAwTkoTfh2RECCFU8XiPpAQCZyd298KjxAmPIMFCNbN0AudSyRmVwzQDQmi2GtCzBAFHkdxR+WKkCCDz41sgQmQJoZtX6oOiJAyuS8boQsHkDbPZTz7fYYQLAV7SztpRRAQdfYnMcSEUDBr1jtHDoMQM7E1QZDVAdAJQq1qn9HA0CWty7qvN3/PwAjvuRpV/o/NB3lTK/I9T8RNgNpGwjyP9CY3FEo5e0/N0JGRY3W6D/WziumCLTkP7wB2K5fWOE/uAf9/SBF3T8xIiWUfvHYP3LswBiai9U/TLbddR/10j/2AbqPIWbRP8tiY2bLcNA/aZCZEgavzz+eaot68OzOP1YYj3tncM4/OE/nt2wfzj/+otgLC+rNP4uPndZZxs0/g0C54SGuzT8=",
        "dtype": "float64",
        "shape": "211"
       }
      }
     },
     "metadata": {
      "atol": 1000000000000,
      "format": "oedes.testing.nb_store_array",
      "label": null,
      "rtol": 1e-07
     },
     "output_type": "display_data"
    },
    {
     "data": {
      "application/json": {
       "data": {
        "__ndarray__": "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",
        "dtype": "float64",
        "shape": "211"
       }
      }
     },
     "metadata": {
      "atol": 1000000000000,
      "format": "oedes.testing.nb_store_array",
      "label": null,
      "rtol": 1e-07
     },
     "output_type": "display_data"
    },
    {
     "data": {
      "image/png": "[encoded data removed]",
      "text/plain": [
       "<matplotlib.figure.Figure at 0x7f756f0cebd0>"
      ]
     },
     "metadata": {},
     "output_type": "display_data"
    }
   ],
   "source": [
    "fig, (ion_plot, potential_plot) = plt.subplots(ncols=2, figsize=(12, 4))\n",
    "time = {1e-10: 6e-6, 1e-9: 6e-6, 1e-8: 1e-6}\n",
    "for mu in mu_values:\n",
    "    o = by_mu[mu].attime(time[mu]).output()\n",
    "    store(o)\n",
    "    ion_plot.plot(\n",
    "        electrolyte_mesh.cells['center'] *\n",
    "        1e9,\n",
    "        o['electrolyte.cation.c'] -\n",
    "        o['electrolyte.anion.c'])\n",
    "    ion_plot.plot(\n",
    "        pedot_mesh.cells['center'] *\n",
    "        1e9,\n",
    "        o['pedot.cation.c'] -\n",
    "        o['pedot.anion.c'])\n",
    "    ion_plot.set_xlabel('x [nm]')\n",
    "    ion_plot.set_ylabel('P-N [1/m^3]')\n",
    "    potential_plot.plot(\n",
    "        electrolyte_mesh.cells['center'] * 1e9, -o['electrolyte.potential'] / v)\n",
    "    potential_plot.plot(\n",
    "        pedot_mesh.cells['center'] * 1e9, -o['pedot.potential'] / v)\n",
    "    potential_plot.set_xlabel('x [nm]')\n",
    "    potential_plot.set_ylabel('- electrostatic potential [V]')"
   ]
  },
  {
   "cell_type": "markdown",
   "metadata": {},
   "source": [
    "\n",
    "---\n",
    "This file is a part of __oedes__, an open source organic electronic device \n",
    "simulator. For more information, see <https://www.github.com/mzszym/oedes>.\n"
   ]
  }
 ],
 "metadata": {
  "hide_input": false,
  "kernelspec": {
   "display_name": "Python 2",
   "language": "python2",
   "name": "python2"
  },
  "language_info": {
   "codemirror_mode": {
    "name": "ipython",
    "version": 2
   },
   "file_extension": ".py",
   "mimetype": "text/x-python",
   "name": "python",
   "nbconvert_exporter": "python",
   "pygments_lexer": "ipython2",
   "version": "2.7.14"
  },
  "varInspector": {
   "cols": {
    "lenName": 16,
    "lenType": 16,
    "lenVar": 40
   },
   "kernels_config": {
    "python": {
     "delete_cmd_postfix": "",
     "delete_cmd_prefix": "del ",
     "library": "var_list.py",
     "varRefreshCmd": "print(var_dic_list())"
    },
    "r": {
     "delete_cmd_postfix": ") ",
     "delete_cmd_prefix": "rm(",
     "library": "var_list.r",
     "varRefreshCmd": "cat(var_dic_list()) "
    }
   },
   "types_to_exclude": [
    "module",
    "function",
    "builtin_function_or_method",
    "instance",
    "_Feature"
   ],
   "window_display": false
  }
 },
 "nbformat": 4,
 "nbformat_minor": 2
}